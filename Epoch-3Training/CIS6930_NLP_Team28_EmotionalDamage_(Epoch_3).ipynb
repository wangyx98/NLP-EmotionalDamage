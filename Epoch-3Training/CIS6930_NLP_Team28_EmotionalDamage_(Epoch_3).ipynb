{
  "cells": [
    {
      "cell_type": "markdown",
      "metadata": {
        "id": "ORgmwobm4_g2"
      },
      "source": [
        "# Load dataset."
      ]
    },
    {
      "cell_type": "markdown",
      "metadata": {
        "id": "SrMTeAyDlOBQ"
      },
      "source": [
        "## Go to the dataset directory."
      ]
    },
    {
      "cell_type": "code",
      "execution_count": 1,
      "metadata": {
        "colab": {
          "base_uri": "https://localhost:8080/"
        },
        "id": "64uskL5n_Vzk",
        "outputId": "8e84bae5-ea8f-4072-92e6-fdf57fe85443"
      },
      "outputs": [
        {
          "output_type": "stream",
          "name": "stdout",
          "text": [
            "[Errno 2] No such file or directory: 'dataset/'\n",
            "/content\n",
            "sample_data  test.csv  train.csv\n"
          ]
        }
      ],
      "source": [
        "%cd dataset/\n",
        "!ls"
      ]
    },
    {
      "cell_type": "markdown",
      "metadata": {
        "id": "mSYmlicmmRKy"
      },
      "source": [
        "## Import the pandas library and perform data reading for analysis."
      ]
    },
    {
      "cell_type": "code",
      "execution_count": 2,
      "metadata": {
        "id": "UZm7nLTKmfdz"
      },
      "outputs": [],
      "source": [
        "import pandas as pd\n",
        "train = pd.read_csv('train.csv', sep='\\t', header=None)\n",
        "test = pd.read_csv('test.csv', sep='\\t', header=None)"
      ]
    },
    {
      "cell_type": "markdown",
      "metadata": {
        "id": "pIn3DaU_mm7s"
      },
      "source": [
        "## Adding column names to data."
      ]
    },
    {
      "cell_type": "code",
      "execution_count": 3,
      "metadata": {
        "id": "oUnLTl9Nmxd1"
      },
      "outputs": [],
      "source": [
        "train.columns = [\"text\",'labels']\n",
        "test.columns = [\"text\",'labels']"
      ]
    },
    {
      "cell_type": "markdown",
      "metadata": {
        "id": "NWslftXjm08j"
      },
      "source": [
        "## The first 10 texts of the training set are read in the format \"text, labels\". The labels may contain multiple sentiment categories, each sentiment is separated by ','."
      ]
    },
    {
      "cell_type": "code",
      "execution_count": 4,
      "metadata": {
        "colab": {
          "base_uri": "https://localhost:8080/",
          "height": 363
        },
        "id": "eZwM1noTnqph",
        "outputId": "3bf5eae8-6017-440c-be82-7cf01d36bdae"
      },
      "outputs": [
        {
          "output_type": "execute_result",
          "data": {
            "text/plain": [
              "                                                text labels\n",
              "0  My favourite food is anything I didn't have to...     27\n",
              "1  Now if he does off himself, everyone will thin...     27\n",
              "2                     WHY THE FUCK IS BAYLESS ISOING      2\n",
              "3                        To make her feel threatened     14\n",
              "4                             Dirty Southern Wankers      3\n",
              "5  OmG pEyToN iSn'T gOoD eNoUgH tO hElP uS iN tHe...     26\n",
              "6  Yes I heard abt the f bombs! That has to be wh...     15\n",
              "7  We need more boards and to create a bit more s...   8,20\n",
              "8  Damn youtube and outrage drama is super lucrat...      0\n",
              "9  It might be linked to the trust factor of your...     27"
            ],
            "text/html": [
              "\n",
              "  <div id=\"df-0f3dda9e-e12d-4a76-ac79-62972aa334f0\">\n",
              "    <div class=\"colab-df-container\">\n",
              "      <div>\n",
              "<style scoped>\n",
              "    .dataframe tbody tr th:only-of-type {\n",
              "        vertical-align: middle;\n",
              "    }\n",
              "\n",
              "    .dataframe tbody tr th {\n",
              "        vertical-align: top;\n",
              "    }\n",
              "\n",
              "    .dataframe thead th {\n",
              "        text-align: right;\n",
              "    }\n",
              "</style>\n",
              "<table border=\"1\" class=\"dataframe\">\n",
              "  <thead>\n",
              "    <tr style=\"text-align: right;\">\n",
              "      <th></th>\n",
              "      <th>text</th>\n",
              "      <th>labels</th>\n",
              "    </tr>\n",
              "  </thead>\n",
              "  <tbody>\n",
              "    <tr>\n",
              "      <th>0</th>\n",
              "      <td>My favourite food is anything I didn't have to...</td>\n",
              "      <td>27</td>\n",
              "    </tr>\n",
              "    <tr>\n",
              "      <th>1</th>\n",
              "      <td>Now if he does off himself, everyone will thin...</td>\n",
              "      <td>27</td>\n",
              "    </tr>\n",
              "    <tr>\n",
              "      <th>2</th>\n",
              "      <td>WHY THE FUCK IS BAYLESS ISOING</td>\n",
              "      <td>2</td>\n",
              "    </tr>\n",
              "    <tr>\n",
              "      <th>3</th>\n",
              "      <td>To make her feel threatened</td>\n",
              "      <td>14</td>\n",
              "    </tr>\n",
              "    <tr>\n",
              "      <th>4</th>\n",
              "      <td>Dirty Southern Wankers</td>\n",
              "      <td>3</td>\n",
              "    </tr>\n",
              "    <tr>\n",
              "      <th>5</th>\n",
              "      <td>OmG pEyToN iSn'T gOoD eNoUgH tO hElP uS iN tHe...</td>\n",
              "      <td>26</td>\n",
              "    </tr>\n",
              "    <tr>\n",
              "      <th>6</th>\n",
              "      <td>Yes I heard abt the f bombs! That has to be wh...</td>\n",
              "      <td>15</td>\n",
              "    </tr>\n",
              "    <tr>\n",
              "      <th>7</th>\n",
              "      <td>We need more boards and to create a bit more s...</td>\n",
              "      <td>8,20</td>\n",
              "    </tr>\n",
              "    <tr>\n",
              "      <th>8</th>\n",
              "      <td>Damn youtube and outrage drama is super lucrat...</td>\n",
              "      <td>0</td>\n",
              "    </tr>\n",
              "    <tr>\n",
              "      <th>9</th>\n",
              "      <td>It might be linked to the trust factor of your...</td>\n",
              "      <td>27</td>\n",
              "    </tr>\n",
              "  </tbody>\n",
              "</table>\n",
              "</div>\n",
              "      <button class=\"colab-df-convert\" onclick=\"convertToInteractive('df-0f3dda9e-e12d-4a76-ac79-62972aa334f0')\"\n",
              "              title=\"Convert this dataframe to an interactive table.\"\n",
              "              style=\"display:none;\">\n",
              "        \n",
              "  <svg xmlns=\"http://www.w3.org/2000/svg\" height=\"24px\"viewBox=\"0 0 24 24\"\n",
              "       width=\"24px\">\n",
              "    <path d=\"M0 0h24v24H0V0z\" fill=\"none\"/>\n",
              "    <path d=\"M18.56 5.44l.94 2.06.94-2.06 2.06-.94-2.06-.94-.94-2.06-.94 2.06-2.06.94zm-11 1L8.5 8.5l.94-2.06 2.06-.94-2.06-.94L8.5 2.5l-.94 2.06-2.06.94zm10 10l.94 2.06.94-2.06 2.06-.94-2.06-.94-.94-2.06-.94 2.06-2.06.94z\"/><path d=\"M17.41 7.96l-1.37-1.37c-.4-.4-.92-.59-1.43-.59-.52 0-1.04.2-1.43.59L10.3 9.45l-7.72 7.72c-.78.78-.78 2.05 0 2.83L4 21.41c.39.39.9.59 1.41.59.51 0 1.02-.2 1.41-.59l7.78-7.78 2.81-2.81c.8-.78.8-2.07 0-2.86zM5.41 20L4 18.59l7.72-7.72 1.47 1.35L5.41 20z\"/>\n",
              "  </svg>\n",
              "      </button>\n",
              "      \n",
              "  <style>\n",
              "    .colab-df-container {\n",
              "      display:flex;\n",
              "      flex-wrap:wrap;\n",
              "      gap: 12px;\n",
              "    }\n",
              "\n",
              "    .colab-df-convert {\n",
              "      background-color: #E8F0FE;\n",
              "      border: none;\n",
              "      border-radius: 50%;\n",
              "      cursor: pointer;\n",
              "      display: none;\n",
              "      fill: #1967D2;\n",
              "      height: 32px;\n",
              "      padding: 0 0 0 0;\n",
              "      width: 32px;\n",
              "    }\n",
              "\n",
              "    .colab-df-convert:hover {\n",
              "      background-color: #E2EBFA;\n",
              "      box-shadow: 0px 1px 2px rgba(60, 64, 67, 0.3), 0px 1px 3px 1px rgba(60, 64, 67, 0.15);\n",
              "      fill: #174EA6;\n",
              "    }\n",
              "\n",
              "    [theme=dark] .colab-df-convert {\n",
              "      background-color: #3B4455;\n",
              "      fill: #D2E3FC;\n",
              "    }\n",
              "\n",
              "    [theme=dark] .colab-df-convert:hover {\n",
              "      background-color: #434B5C;\n",
              "      box-shadow: 0px 1px 3px 1px rgba(0, 0, 0, 0.15);\n",
              "      filter: drop-shadow(0px 1px 2px rgba(0, 0, 0, 0.3));\n",
              "      fill: #FFFFFF;\n",
              "    }\n",
              "  </style>\n",
              "\n",
              "      <script>\n",
              "        const buttonEl =\n",
              "          document.querySelector('#df-0f3dda9e-e12d-4a76-ac79-62972aa334f0 button.colab-df-convert');\n",
              "        buttonEl.style.display =\n",
              "          google.colab.kernel.accessAllowed ? 'block' : 'none';\n",
              "\n",
              "        async function convertToInteractive(key) {\n",
              "          const element = document.querySelector('#df-0f3dda9e-e12d-4a76-ac79-62972aa334f0');\n",
              "          const dataTable =\n",
              "            await google.colab.kernel.invokeFunction('convertToInteractive',\n",
              "                                                     [key], {});\n",
              "          if (!dataTable) return;\n",
              "\n",
              "          const docLinkHtml = 'Like what you see? Visit the ' +\n",
              "            '<a target=\"_blank\" href=https://colab.research.google.com/notebooks/data_table.ipynb>data table notebook</a>'\n",
              "            + ' to learn more about interactive tables.';\n",
              "          element.innerHTML = '';\n",
              "          dataTable['output_type'] = 'display_data';\n",
              "          await google.colab.output.renderOutput(dataTable, element);\n",
              "          const docLink = document.createElement('div');\n",
              "          docLink.innerHTML = docLinkHtml;\n",
              "          element.appendChild(docLink);\n",
              "        }\n",
              "      </script>\n",
              "    </div>\n",
              "  </div>\n",
              "  "
            ]
          },
          "metadata": {},
          "execution_count": 4
        }
      ],
      "source": [
        "train.head(10)"
      ]
    },
    {
      "cell_type": "code",
      "execution_count": 5,
      "metadata": {
        "colab": {
          "base_uri": "https://localhost:8080/",
          "height": 363
        },
        "id": "foY1dbLhn3nG",
        "outputId": "7d2c704e-bf21-49eb-a5ae-550e12729205"
      },
      "outputs": [
        {
          "output_type": "execute_result",
          "data": {
            "text/plain": [
              "                                                text labels\n",
              "0  I’m really sorry about your situation :( Altho...     25\n",
              "1    It's wonderful because it's awful. At not with.      0\n",
              "2  Kings fan here, good luck to you guys! Will be...     13\n",
              "3  I didn't know that, thank you for teaching me ...     15\n",
              "4  They got bored from haunting earth for thousan...     27\n",
              "5  Thank you for asking questions and recognizing...     15\n",
              "6                                     You’re welcome     15\n",
              "7                    100%! Congrats on your job too!     15\n",
              "8  I’m sorry to hear that friend :(. It’s for the...     24\n",
              "9   Girlfriend weak as well, that jump was pathetic.     25"
            ],
            "text/html": [
              "\n",
              "  <div id=\"df-5fdf853e-d7d6-4348-a28b-3ae0576ad741\">\n",
              "    <div class=\"colab-df-container\">\n",
              "      <div>\n",
              "<style scoped>\n",
              "    .dataframe tbody tr th:only-of-type {\n",
              "        vertical-align: middle;\n",
              "    }\n",
              "\n",
              "    .dataframe tbody tr th {\n",
              "        vertical-align: top;\n",
              "    }\n",
              "\n",
              "    .dataframe thead th {\n",
              "        text-align: right;\n",
              "    }\n",
              "</style>\n",
              "<table border=\"1\" class=\"dataframe\">\n",
              "  <thead>\n",
              "    <tr style=\"text-align: right;\">\n",
              "      <th></th>\n",
              "      <th>text</th>\n",
              "      <th>labels</th>\n",
              "    </tr>\n",
              "  </thead>\n",
              "  <tbody>\n",
              "    <tr>\n",
              "      <th>0</th>\n",
              "      <td>I’m really sorry about your situation :( Altho...</td>\n",
              "      <td>25</td>\n",
              "    </tr>\n",
              "    <tr>\n",
              "      <th>1</th>\n",
              "      <td>It's wonderful because it's awful. At not with.</td>\n",
              "      <td>0</td>\n",
              "    </tr>\n",
              "    <tr>\n",
              "      <th>2</th>\n",
              "      <td>Kings fan here, good luck to you guys! Will be...</td>\n",
              "      <td>13</td>\n",
              "    </tr>\n",
              "    <tr>\n",
              "      <th>3</th>\n",
              "      <td>I didn't know that, thank you for teaching me ...</td>\n",
              "      <td>15</td>\n",
              "    </tr>\n",
              "    <tr>\n",
              "      <th>4</th>\n",
              "      <td>They got bored from haunting earth for thousan...</td>\n",
              "      <td>27</td>\n",
              "    </tr>\n",
              "    <tr>\n",
              "      <th>5</th>\n",
              "      <td>Thank you for asking questions and recognizing...</td>\n",
              "      <td>15</td>\n",
              "    </tr>\n",
              "    <tr>\n",
              "      <th>6</th>\n",
              "      <td>You’re welcome</td>\n",
              "      <td>15</td>\n",
              "    </tr>\n",
              "    <tr>\n",
              "      <th>7</th>\n",
              "      <td>100%! Congrats on your job too!</td>\n",
              "      <td>15</td>\n",
              "    </tr>\n",
              "    <tr>\n",
              "      <th>8</th>\n",
              "      <td>I’m sorry to hear that friend :(. It’s for the...</td>\n",
              "      <td>24</td>\n",
              "    </tr>\n",
              "    <tr>\n",
              "      <th>9</th>\n",
              "      <td>Girlfriend weak as well, that jump was pathetic.</td>\n",
              "      <td>25</td>\n",
              "    </tr>\n",
              "  </tbody>\n",
              "</table>\n",
              "</div>\n",
              "      <button class=\"colab-df-convert\" onclick=\"convertToInteractive('df-5fdf853e-d7d6-4348-a28b-3ae0576ad741')\"\n",
              "              title=\"Convert this dataframe to an interactive table.\"\n",
              "              style=\"display:none;\">\n",
              "        \n",
              "  <svg xmlns=\"http://www.w3.org/2000/svg\" height=\"24px\"viewBox=\"0 0 24 24\"\n",
              "       width=\"24px\">\n",
              "    <path d=\"M0 0h24v24H0V0z\" fill=\"none\"/>\n",
              "    <path d=\"M18.56 5.44l.94 2.06.94-2.06 2.06-.94-2.06-.94-.94-2.06-.94 2.06-2.06.94zm-11 1L8.5 8.5l.94-2.06 2.06-.94-2.06-.94L8.5 2.5l-.94 2.06-2.06.94zm10 10l.94 2.06.94-2.06 2.06-.94-2.06-.94-.94-2.06-.94 2.06-2.06.94z\"/><path d=\"M17.41 7.96l-1.37-1.37c-.4-.4-.92-.59-1.43-.59-.52 0-1.04.2-1.43.59L10.3 9.45l-7.72 7.72c-.78.78-.78 2.05 0 2.83L4 21.41c.39.39.9.59 1.41.59.51 0 1.02-.2 1.41-.59l7.78-7.78 2.81-2.81c.8-.78.8-2.07 0-2.86zM5.41 20L4 18.59l7.72-7.72 1.47 1.35L5.41 20z\"/>\n",
              "  </svg>\n",
              "      </button>\n",
              "      \n",
              "  <style>\n",
              "    .colab-df-container {\n",
              "      display:flex;\n",
              "      flex-wrap:wrap;\n",
              "      gap: 12px;\n",
              "    }\n",
              "\n",
              "    .colab-df-convert {\n",
              "      background-color: #E8F0FE;\n",
              "      border: none;\n",
              "      border-radius: 50%;\n",
              "      cursor: pointer;\n",
              "      display: none;\n",
              "      fill: #1967D2;\n",
              "      height: 32px;\n",
              "      padding: 0 0 0 0;\n",
              "      width: 32px;\n",
              "    }\n",
              "\n",
              "    .colab-df-convert:hover {\n",
              "      background-color: #E2EBFA;\n",
              "      box-shadow: 0px 1px 2px rgba(60, 64, 67, 0.3), 0px 1px 3px 1px rgba(60, 64, 67, 0.15);\n",
              "      fill: #174EA6;\n",
              "    }\n",
              "\n",
              "    [theme=dark] .colab-df-convert {\n",
              "      background-color: #3B4455;\n",
              "      fill: #D2E3FC;\n",
              "    }\n",
              "\n",
              "    [theme=dark] .colab-df-convert:hover {\n",
              "      background-color: #434B5C;\n",
              "      box-shadow: 0px 1px 3px 1px rgba(0, 0, 0, 0.15);\n",
              "      filter: drop-shadow(0px 1px 2px rgba(0, 0, 0, 0.3));\n",
              "      fill: #FFFFFF;\n",
              "    }\n",
              "  </style>\n",
              "\n",
              "      <script>\n",
              "        const buttonEl =\n",
              "          document.querySelector('#df-5fdf853e-d7d6-4348-a28b-3ae0576ad741 button.colab-df-convert');\n",
              "        buttonEl.style.display =\n",
              "          google.colab.kernel.accessAllowed ? 'block' : 'none';\n",
              "\n",
              "        async function convertToInteractive(key) {\n",
              "          const element = document.querySelector('#df-5fdf853e-d7d6-4348-a28b-3ae0576ad741');\n",
              "          const dataTable =\n",
              "            await google.colab.kernel.invokeFunction('convertToInteractive',\n",
              "                                                     [key], {});\n",
              "          if (!dataTable) return;\n",
              "\n",
              "          const docLinkHtml = 'Like what you see? Visit the ' +\n",
              "            '<a target=\"_blank\" href=https://colab.research.google.com/notebooks/data_table.ipynb>data table notebook</a>'\n",
              "            + ' to learn more about interactive tables.';\n",
              "          element.innerHTML = '';\n",
              "          dataTable['output_type'] = 'display_data';\n",
              "          await google.colab.output.renderOutput(dataTable, element);\n",
              "          const docLink = document.createElement('div');\n",
              "          docLink.innerHTML = docLinkHtml;\n",
              "          element.appendChild(docLink);\n",
              "        }\n",
              "      </script>\n",
              "    </div>\n",
              "  </div>\n",
              "  "
            ]
          },
          "metadata": {},
          "execution_count": 5
        }
      ],
      "source": [
        "test.head(10)"
      ]
    },
    {
      "cell_type": "markdown",
      "metadata": {
        "id": "dHfWI95Tq3d7"
      },
      "source": [
        "# Install and import related libraries."
      ]
    },
    {
      "cell_type": "code",
      "execution_count": 6,
      "metadata": {
        "colab": {
          "base_uri": "https://localhost:8080/"
        },
        "id": "OWpIE-2jq8f-",
        "outputId": "837a3779-ea37-4c7a-b3d8-1406b92d7863"
      },
      "outputs": [
        {
          "output_type": "stream",
          "name": "stdout",
          "text": [
            "Looking in indexes: https://pypi.org/simple, https://us-python.pkg.dev/colab-wheels/public/simple/\n",
            "Collecting paddlenlp\n",
            "  Downloading paddlenlp-2.5.2-py3-none-any.whl (2.3 MB)\n",
            "\u001b[2K     \u001b[90m━━━━━━━━━━━━━━━━━━━━━━━━━━━━━━━━━━━━━━━━\u001b[0m \u001b[32m2.3/2.3 MB\u001b[0m \u001b[31m24.8 MB/s\u001b[0m eta \u001b[36m0:00:00\u001b[0m\n",
            "\u001b[?25hCollecting colorlog\n",
            "  Downloading colorlog-6.7.0-py2.py3-none-any.whl (11 kB)\n",
            "Collecting huggingface-hub>=0.11.1\n",
            "  Downloading huggingface_hub-0.13.3-py3-none-any.whl (199 kB)\n",
            "\u001b[2K     \u001b[90m━━━━━━━━━━━━━━━━━━━━━━━━━━━━━━━━━━━━━━\u001b[0m \u001b[32m199.8/199.8 KB\u001b[0m \u001b[31m17.5 MB/s\u001b[0m eta \u001b[36m0:00:00\u001b[0m\n",
            "\u001b[?25hCollecting paddle2onnx\n",
            "  Downloading paddle2onnx-1.0.6-cp39-cp39-manylinux_2_12_x86_64.manylinux2010_x86_64.whl (3.1 MB)\n",
            "\u001b[2K     \u001b[90m━━━━━━━━━━━━━━━━━━━━━━━━━━━━━━━━━━━━━━━━\u001b[0m \u001b[32m3.1/3.1 MB\u001b[0m \u001b[31m78.3 MB/s\u001b[0m eta \u001b[36m0:00:00\u001b[0m\n",
            "\u001b[?25hCollecting fastapi\n",
            "  Downloading fastapi-0.95.0-py3-none-any.whl (57 kB)\n",
            "\u001b[2K     \u001b[90m━━━━━━━━━━━━━━━━━━━━━━━━━━━━━━━━━━━━━━━━\u001b[0m \u001b[32m57.1/57.1 KB\u001b[0m \u001b[31m6.3 MB/s\u001b[0m eta \u001b[36m0:00:00\u001b[0m\n",
            "\u001b[?25hCollecting datasets>=2.0.0\n",
            "  Downloading datasets-2.11.0-py3-none-any.whl (468 kB)\n",
            "\u001b[2K     \u001b[90m━━━━━━━━━━━━━━━━━━━━━━━━━━━━━━━━━━━━━━\u001b[0m \u001b[32m468.7/468.7 KB\u001b[0m \u001b[31m39.4 MB/s\u001b[0m eta \u001b[36m0:00:00\u001b[0m\n",
            "\u001b[?25hCollecting Flask-Babel<3.0.0\n",
            "  Downloading Flask_Babel-2.0.0-py3-none-any.whl (9.3 kB)\n",
            "Requirement already satisfied: jieba in /usr/local/lib/python3.9/dist-packages (from paddlenlp) (0.42.1)\n",
            "Collecting uvicorn\n",
            "  Downloading uvicorn-0.21.1-py3-none-any.whl (57 kB)\n",
            "\u001b[2K     \u001b[90m━━━━━━━━━━━━━━━━━━━━━━━━━━━━━━━━━━━━━━━━\u001b[0m \u001b[32m57.8/57.8 KB\u001b[0m \u001b[31m6.8 MB/s\u001b[0m eta \u001b[36m0:00:00\u001b[0m\n",
            "\u001b[?25hRequirement already satisfied: tqdm in /usr/local/lib/python3.9/dist-packages (from paddlenlp) (4.65.0)\n",
            "Requirement already satisfied: rich in /usr/local/lib/python3.9/dist-packages (from paddlenlp) (13.3.3)\n",
            "Collecting seqeval\n",
            "  Downloading seqeval-1.2.2.tar.gz (43 kB)\n",
            "\u001b[2K     \u001b[90m━━━━━━━━━━━━━━━━━━━━━━━━━━━━━━━━━━━━━━━━\u001b[0m \u001b[32m43.6/43.6 KB\u001b[0m \u001b[31m4.6 MB/s\u001b[0m eta \u001b[36m0:00:00\u001b[0m\n",
            "\u001b[?25h  Preparing metadata (setup.py) ... \u001b[?25l\u001b[?25hdone\n",
            "Requirement already satisfied: typer in /usr/local/lib/python3.9/dist-packages (from paddlenlp) (0.7.0)\n",
            "Collecting paddlefsl\n",
            "  Downloading paddlefsl-1.1.0-py3-none-any.whl (101 kB)\n",
            "\u001b[2K     \u001b[90m━━━━━━━━━━━━━━━━━━━━━━━━━━━━━━━━━━━━━━\u001b[0m \u001b[32m101.0/101.0 KB\u001b[0m \u001b[31m11.0 MB/s\u001b[0m eta \u001b[36m0:00:00\u001b[0m\n",
            "\u001b[?25hCollecting colorama\n",
            "  Downloading colorama-0.4.6-py2.py3-none-any.whl (25 kB)\n",
            "Collecting visualdl\n",
            "  Downloading visualdl-2.5.1-py3-none-any.whl (6.3 MB)\n",
            "\u001b[2K     \u001b[90m━━━━━━━━━━━━━━━━━━━━━━━━━━━━━━━━━━━━━━━━\u001b[0m \u001b[32m6.3/6.3 MB\u001b[0m \u001b[31m81.3 MB/s\u001b[0m eta \u001b[36m0:00:00\u001b[0m\n",
            "\u001b[?25hCollecting dill<0.3.5\n",
            "  Downloading dill-0.3.4-py2.py3-none-any.whl (86 kB)\n",
            "\u001b[2K     \u001b[90m━━━━━━━━━━━━━━━━━━━━━━━━━━━━━━━━━━━━━━━━\u001b[0m \u001b[32m86.9/86.9 KB\u001b[0m \u001b[31m9.5 MB/s\u001b[0m eta \u001b[36m0:00:00\u001b[0m\n",
            "\u001b[?25hCollecting sentencepiece\n",
            "  Downloading sentencepiece-0.1.97-cp39-cp39-manylinux_2_17_x86_64.manylinux2014_x86_64.whl (1.3 MB)\n",
            "\u001b[2K     \u001b[90m━━━━━━━━━━━━━━━━━━━━━━━━━━━━━━━━━━━━━━━━\u001b[0m \u001b[32m1.3/1.3 MB\u001b[0m \u001b[31m64.6 MB/s\u001b[0m eta \u001b[36m0:00:00\u001b[0m\n",
            "\u001b[?25hCollecting multiprocess<=0.70.12.2\n",
            "  Downloading multiprocess-0.70.12.2-py39-none-any.whl (128 kB)\n",
            "\u001b[2K     \u001b[90m━━━━━━━━━━━━━━━━━━━━━━━━━━━━━━━━━━━━━━\u001b[0m \u001b[32m128.7/128.7 KB\u001b[0m \u001b[31m14.3 MB/s\u001b[0m eta \u001b[36m0:00:00\u001b[0m\n",
            "\u001b[?25hCollecting responses<0.19\n",
            "  Downloading responses-0.18.0-py3-none-any.whl (38 kB)\n",
            "Requirement already satisfied: packaging in /usr/local/lib/python3.9/dist-packages (from datasets>=2.0.0->paddlenlp) (23.0)\n",
            "Requirement already satisfied: pyyaml>=5.1 in /usr/local/lib/python3.9/dist-packages (from datasets>=2.0.0->paddlenlp) (6.0)\n",
            "Collecting xxhash\n",
            "  Downloading xxhash-3.2.0-cp39-cp39-manylinux_2_17_x86_64.manylinux2014_x86_64.whl (212 kB)\n",
            "\u001b[2K     \u001b[90m━━━━━━━━━━━━━━━━━━━━━━━━━━━━━━━━━━━━━━\u001b[0m \u001b[32m212.2/212.2 KB\u001b[0m \u001b[31m22.8 MB/s\u001b[0m eta \u001b[36m0:00:00\u001b[0m\n",
            "\u001b[?25hRequirement already satisfied: pyarrow>=8.0.0 in /usr/local/lib/python3.9/dist-packages (from datasets>=2.0.0->paddlenlp) (9.0.0)\n",
            "Requirement already satisfied: pandas in /usr/local/lib/python3.9/dist-packages (from datasets>=2.0.0->paddlenlp) (1.4.4)\n",
            "Requirement already satisfied: requests>=2.19.0 in /usr/local/lib/python3.9/dist-packages (from datasets>=2.0.0->paddlenlp) (2.27.1)\n",
            "Requirement already satisfied: numpy>=1.17 in /usr/local/lib/python3.9/dist-packages (from datasets>=2.0.0->paddlenlp) (1.22.4)\n",
            "Collecting aiohttp\n",
            "  Downloading aiohttp-3.8.4-cp39-cp39-manylinux_2_17_x86_64.manylinux2014_x86_64.whl (1.0 MB)\n",
            "\u001b[2K     \u001b[90m━━━━━━━━━━━━━━━━━━━━━━━━━━━━━━━━━━━━━━━━\u001b[0m \u001b[32m1.0/1.0 MB\u001b[0m \u001b[31m67.0 MB/s\u001b[0m eta \u001b[36m0:00:00\u001b[0m\n",
            "\u001b[?25hRequirement already satisfied: fsspec[http]>=2021.11.1 in /usr/local/lib/python3.9/dist-packages (from datasets>=2.0.0->paddlenlp) (2023.3.0)\n",
            "Requirement already satisfied: Flask in /usr/local/lib/python3.9/dist-packages (from Flask-Babel<3.0.0->paddlenlp) (2.2.3)\n",
            "Requirement already satisfied: Babel>=2.3 in /usr/local/lib/python3.9/dist-packages (from Flask-Babel<3.0.0->paddlenlp) (2.12.1)\n",
            "Requirement already satisfied: pytz in /usr/local/lib/python3.9/dist-packages (from Flask-Babel<3.0.0->paddlenlp) (2022.7.1)\n",
            "Requirement already satisfied: Jinja2>=2.5 in /usr/local/lib/python3.9/dist-packages (from Flask-Babel<3.0.0->paddlenlp) (3.1.2)\n",
            "Requirement already satisfied: typing-extensions>=3.7.4.3 in /usr/local/lib/python3.9/dist-packages (from huggingface-hub>=0.11.1->paddlenlp) (4.5.0)\n",
            "Requirement already satisfied: filelock in /usr/local/lib/python3.9/dist-packages (from huggingface-hub>=0.11.1->paddlenlp) (3.10.7)\n",
            "Requirement already satisfied: pydantic!=1.7,!=1.7.1,!=1.7.2,!=1.7.3,!=1.8,!=1.8.1,<2.0.0,>=1.6.2 in /usr/local/lib/python3.9/dist-packages (from fastapi->paddlenlp) (1.10.7)\n",
            "Collecting starlette<0.27.0,>=0.26.1\n",
            "  Downloading starlette-0.26.1-py3-none-any.whl (66 kB)\n",
            "\u001b[2K     \u001b[90m━━━━━━━━━━━━━━━━━━━━━━━━━━━━━━━━━━━━━━━━\u001b[0m \u001b[32m66.9/66.9 KB\u001b[0m \u001b[31m8.1 MB/s\u001b[0m eta \u001b[36m0:00:00\u001b[0m\n",
            "\u001b[?25hRequirement already satisfied: markdown-it-py<3.0.0,>=2.2.0 in /usr/local/lib/python3.9/dist-packages (from rich->paddlenlp) (2.2.0)\n",
            "Requirement already satisfied: pygments<3.0.0,>=2.13.0 in /usr/local/lib/python3.9/dist-packages (from rich->paddlenlp) (2.14.0)\n",
            "Requirement already satisfied: scikit-learn>=0.21.3 in /usr/local/lib/python3.9/dist-packages (from seqeval->paddlenlp) (1.2.2)\n",
            "Requirement already satisfied: click<9.0.0,>=7.1.1 in /usr/local/lib/python3.9/dist-packages (from typer->paddlenlp) (8.1.3)\n",
            "Collecting h11>=0.8\n",
            "  Downloading h11-0.14.0-py3-none-any.whl (58 kB)\n",
            "\u001b[2K     \u001b[90m━━━━━━━━━━━━━━━━━━━━━━━━━━━━━━━━━━━━━━━━\u001b[0m \u001b[32m58.3/58.3 KB\u001b[0m \u001b[31m6.9 MB/s\u001b[0m eta \u001b[36m0:00:00\u001b[0m\n",
            "\u001b[?25hRequirement already satisfied: psutil in /usr/local/lib/python3.9/dist-packages (from visualdl->paddlenlp) (5.9.4)\n",
            "Collecting x2paddle\n",
            "  Downloading x2paddle-1.4.1-py3-none-any.whl (316 kB)\n",
            "\u001b[2K     \u001b[90m━━━━━━━━━━━━━━━━━━━━━━━━━━━━━━━━━━━━━━\u001b[0m \u001b[32m316.2/316.2 KB\u001b[0m \u001b[31m32.7 MB/s\u001b[0m eta \u001b[36m0:00:00\u001b[0m\n",
            "\u001b[?25hCollecting rarfile\n",
            "  Downloading rarfile-4.0-py3-none-any.whl (28 kB)\n",
            "Collecting gradio\n",
            "  Downloading gradio-3.24.1-py3-none-any.whl (15.7 MB)\n",
            "\u001b[2K     \u001b[90m━━━━━━━━━━━━━━━━━━━━━━━━━━━━━━━━━━━━━━━━\u001b[0m \u001b[32m15.7/15.7 MB\u001b[0m \u001b[31m77.9 MB/s\u001b[0m eta \u001b[36m0:00:00\u001b[0m\n",
            "\u001b[?25hRequirement already satisfied: six>=1.14.0 in /usr/local/lib/python3.9/dist-packages (from visualdl->paddlenlp) (1.16.0)\n",
            "Collecting onnx>=1.6.0\n",
            "  Downloading onnx-1.13.1-cp39-cp39-manylinux_2_17_x86_64.manylinux2014_x86_64.whl (13.5 MB)\n",
            "\u001b[2K     \u001b[90m━━━━━━━━━━━━━━━━━━━━━━━━━━━━━━━━━━━━━━━━\u001b[0m \u001b[32m13.5/13.5 MB\u001b[0m \u001b[31m83.7 MB/s\u001b[0m eta \u001b[36m0:00:00\u001b[0m\n",
            "\u001b[?25hCollecting visualdl\n",
            "  Downloading visualdl-2.5.0-py3-none-any.whl (6.3 MB)\n",
            "\u001b[2K     \u001b[90m━━━━━━━━━━━━━━━━━━━━━━━━━━━━━━━━━━━━━━━━\u001b[0m \u001b[32m6.3/6.3 MB\u001b[0m \u001b[31m83.4 MB/s\u001b[0m eta \u001b[36m0:00:00\u001b[0m\n",
            "\u001b[?25h  Downloading visualdl-2.4.2-py3-none-any.whl (4.9 MB)\n",
            "\u001b[2K     \u001b[90m━━━━━━━━━━━━━━━━━━━━━━━━━━━━━━━━━━━━━━━━\u001b[0m \u001b[32m4.9/4.9 MB\u001b[0m \u001b[31m102.1 MB/s\u001b[0m eta \u001b[36m0:00:00\u001b[0m\n",
            "\u001b[?25hRequirement already satisfied: Pillow>=7.0.0 in /usr/local/lib/python3.9/dist-packages (from visualdl->paddlenlp) (8.4.0)\n",
            "Requirement already satisfied: matplotlib in /usr/local/lib/python3.9/dist-packages (from visualdl->paddlenlp) (3.7.1)\n",
            "Collecting bce-python-sdk\n",
            "  Downloading bce_python_sdk-0.8.83-py3-none-any.whl (210 kB)\n",
            "\u001b[2K     \u001b[90m━━━━━━━━━━━━━━━━━━━━━━━━━━━━━━━━━━━━━━\u001b[0m \u001b[32m210.5/210.5 KB\u001b[0m \u001b[31m21.7 MB/s\u001b[0m eta \u001b[36m0:00:00\u001b[0m\n",
            "\u001b[?25hRequirement already satisfied: protobuf>=3.11.0 in /usr/local/lib/python3.9/dist-packages (from visualdl->paddlenlp) (3.20.3)\n",
            "Requirement already satisfied: importlib-metadata>=3.6.0 in /usr/local/lib/python3.9/dist-packages (from Flask->Flask-Babel<3.0.0->paddlenlp) (6.1.0)\n",
            "Requirement already satisfied: itsdangerous>=2.0 in /usr/local/lib/python3.9/dist-packages (from Flask->Flask-Babel<3.0.0->paddlenlp) (2.1.2)\n",
            "Requirement already satisfied: Werkzeug>=2.2.2 in /usr/local/lib/python3.9/dist-packages (from Flask->Flask-Babel<3.0.0->paddlenlp) (2.2.3)\n",
            "Collecting yarl<2.0,>=1.0\n",
            "  Downloading yarl-1.8.2-cp39-cp39-manylinux_2_17_x86_64.manylinux2014_x86_64.whl (264 kB)\n",
            "\u001b[2K     \u001b[90m━━━━━━━━━━━━━━━━━━━━━━━━━━━━━━━━━━━━━━\u001b[0m \u001b[32m264.6/264.6 KB\u001b[0m \u001b[31m26.6 MB/s\u001b[0m eta \u001b[36m0:00:00\u001b[0m\n",
            "\u001b[?25hCollecting async-timeout<5.0,>=4.0.0a3\n",
            "  Downloading async_timeout-4.0.2-py3-none-any.whl (5.8 kB)\n",
            "Requirement already satisfied: attrs>=17.3.0 in /usr/local/lib/python3.9/dist-packages (from aiohttp->datasets>=2.0.0->paddlenlp) (22.2.0)\n",
            "Collecting aiosignal>=1.1.2\n",
            "  Downloading aiosignal-1.3.1-py3-none-any.whl (7.6 kB)\n",
            "Collecting frozenlist>=1.1.1\n",
            "  Downloading frozenlist-1.3.3-cp39-cp39-manylinux_2_5_x86_64.manylinux1_x86_64.manylinux_2_17_x86_64.manylinux2014_x86_64.whl (158 kB)\n",
            "\u001b[2K     \u001b[90m━━━━━━━━━━━━━━━━━━━━━━━━━━━━━━━━━━━━━━\u001b[0m \u001b[32m158.8/158.8 KB\u001b[0m \u001b[31m16.4 MB/s\u001b[0m eta \u001b[36m0:00:00\u001b[0m\n",
            "\u001b[?25hCollecting multidict<7.0,>=4.5\n",
            "  Downloading multidict-6.0.4-cp39-cp39-manylinux_2_17_x86_64.manylinux2014_x86_64.whl (114 kB)\n",
            "\u001b[2K     \u001b[90m━━━━━━━━━━━━━━━━━━━━━━━━━━━━━━━━━━━━━━\u001b[0m \u001b[32m114.2/114.2 KB\u001b[0m \u001b[31m13.7 MB/s\u001b[0m eta \u001b[36m0:00:00\u001b[0m\n",
            "\u001b[?25hRequirement already satisfied: charset-normalizer<4.0,>=2.0 in /usr/local/lib/python3.9/dist-packages (from aiohttp->datasets>=2.0.0->paddlenlp) (2.0.12)\n",
            "Requirement already satisfied: MarkupSafe>=2.0 in /usr/local/lib/python3.9/dist-packages (from Jinja2>=2.5->Flask-Babel<3.0.0->paddlenlp) (2.1.2)\n",
            "Requirement already satisfied: mdurl~=0.1 in /usr/local/lib/python3.9/dist-packages (from markdown-it-py<3.0.0,>=2.2.0->rich->paddlenlp) (0.1.2)\n",
            "Requirement already satisfied: urllib3<1.27,>=1.21.1 in /usr/local/lib/python3.9/dist-packages (from requests>=2.19.0->datasets>=2.0.0->paddlenlp) (1.26.15)\n",
            "Requirement already satisfied: idna<4,>=2.5 in /usr/local/lib/python3.9/dist-packages (from requests>=2.19.0->datasets>=2.0.0->paddlenlp) (3.4)\n",
            "Requirement already satisfied: certifi>=2017.4.17 in /usr/local/lib/python3.9/dist-packages (from requests>=2.19.0->datasets>=2.0.0->paddlenlp) (2022.12.7)\n",
            "Requirement already satisfied: scipy>=1.3.2 in /usr/local/lib/python3.9/dist-packages (from scikit-learn>=0.21.3->seqeval->paddlenlp) (1.10.1)\n",
            "Requirement already satisfied: joblib>=1.1.1 in /usr/local/lib/python3.9/dist-packages (from scikit-learn>=0.21.3->seqeval->paddlenlp) (1.1.1)\n",
            "Requirement already satisfied: threadpoolctl>=2.0.0 in /usr/local/lib/python3.9/dist-packages (from scikit-learn>=0.21.3->seqeval->paddlenlp) (3.1.0)\n",
            "Requirement already satisfied: anyio<5,>=3.4.0 in /usr/local/lib/python3.9/dist-packages (from starlette<0.27.0,>=0.26.1->fastapi->paddlenlp) (3.6.2)\n",
            "Requirement already satisfied: future>=0.6.0 in /usr/local/lib/python3.9/dist-packages (from bce-python-sdk->visualdl->paddlenlp) (0.18.3)\n",
            "Collecting pycryptodome>=3.8.0\n",
            "  Downloading pycryptodome-3.17-cp35-abi3-manylinux_2_17_x86_64.manylinux2014_x86_64.whl (2.1 MB)\n",
            "\u001b[2K     \u001b[90m━━━━━━━━━━━━━━━━━━━━━━━━━━━━━━━━━━━━━━━━\u001b[0m \u001b[32m2.1/2.1 MB\u001b[0m \u001b[31m85.3 MB/s\u001b[0m eta \u001b[36m0:00:00\u001b[0m\n",
            "\u001b[?25hRequirement already satisfied: kiwisolver>=1.0.1 in /usr/local/lib/python3.9/dist-packages (from matplotlib->visualdl->paddlenlp) (1.4.4)\n",
            "Requirement already satisfied: importlib-resources>=3.2.0 in /usr/local/lib/python3.9/dist-packages (from matplotlib->visualdl->paddlenlp) (5.12.0)\n",
            "Requirement already satisfied: python-dateutil>=2.7 in /usr/local/lib/python3.9/dist-packages (from matplotlib->visualdl->paddlenlp) (2.8.2)\n",
            "Requirement already satisfied: cycler>=0.10 in /usr/local/lib/python3.9/dist-packages (from matplotlib->visualdl->paddlenlp) (0.11.0)\n",
            "Requirement already satisfied: pyparsing>=2.3.1 in /usr/local/lib/python3.9/dist-packages (from matplotlib->visualdl->paddlenlp) (3.0.9)\n",
            "Requirement already satisfied: contourpy>=1.0.1 in /usr/local/lib/python3.9/dist-packages (from matplotlib->visualdl->paddlenlp) (1.0.7)\n",
            "Requirement already satisfied: fonttools>=4.22.0 in /usr/local/lib/python3.9/dist-packages (from matplotlib->visualdl->paddlenlp) (4.39.3)\n",
            "Requirement already satisfied: sniffio>=1.1 in /usr/local/lib/python3.9/dist-packages (from anyio<5,>=3.4.0->starlette<0.27.0,>=0.26.1->fastapi->paddlenlp) (1.3.0)\n",
            "Requirement already satisfied: zipp>=0.5 in /usr/local/lib/python3.9/dist-packages (from importlib-metadata>=3.6.0->Flask->Flask-Babel<3.0.0->paddlenlp) (3.15.0)\n",
            "Building wheels for collected packages: seqeval\n",
            "  Building wheel for seqeval (setup.py) ... \u001b[?25l\u001b[?25hdone\n",
            "  Created wheel for seqeval: filename=seqeval-1.2.2-py3-none-any.whl size=16180 sha256=f3bc1fca75be6167c226449678534836398b2bae8dd74236502f2f91dae7ccd1\n",
            "  Stored in directory: /root/.cache/pip/wheels/e2/a5/92/2c80d1928733611c2747a9820e1324a6835524d9411510c142\n",
            "Successfully built seqeval\n",
            "Installing collected packages: sentencepiece, paddle2onnx, xxhash, pycryptodome, multidict, h11, frozenlist, dill, colorlog, colorama, async-timeout, yarl, uvicorn, starlette, responses, paddlefsl, multiprocess, huggingface-hub, bce-python-sdk, aiosignal, seqeval, Flask-Babel, fastapi, aiohttp, visualdl, datasets, paddlenlp\n",
            "Successfully installed Flask-Babel-2.0.0 aiohttp-3.8.4 aiosignal-1.3.1 async-timeout-4.0.2 bce-python-sdk-0.8.83 colorama-0.4.6 colorlog-6.7.0 datasets-2.11.0 dill-0.3.4 fastapi-0.95.0 frozenlist-1.3.3 h11-0.14.0 huggingface-hub-0.13.3 multidict-6.0.4 multiprocess-0.70.12.2 paddle2onnx-1.0.6 paddlefsl-1.1.0 paddlenlp-2.5.2 pycryptodome-3.17 responses-0.18.0 sentencepiece-0.1.97 seqeval-1.2.2 starlette-0.26.1 uvicorn-0.21.1 visualdl-2.4.2 xxhash-3.2.0 yarl-1.8.2\n"
          ]
        }
      ],
      "source": [
        "!pip install --upgrade paddlenlp"
      ]
    },
    {
      "cell_type": "code",
      "execution_count": 7,
      "metadata": {
        "colab": {
          "base_uri": "https://localhost:8080/"
        },
        "id": "herF3Q2qrfVf",
        "outputId": "50572db5-8073-462c-be28-26d4e2cbfe87"
      },
      "outputs": [
        {
          "output_type": "stream",
          "name": "stdout",
          "text": [
            "Looking in indexes: https://pypi.org/simple, https://us-python.pkg.dev/colab-wheels/public/simple/\n",
            "Collecting paddlepaddle\n",
            "  Downloading paddlepaddle-2.4.2-cp39-cp39-manylinux1_x86_64.whl (121.7 MB)\n",
            "\u001b[2K     \u001b[90m━━━━━━━━━━━━━━━━━━━━━━━━━━━━━━━━━━━━━━━\u001b[0m \u001b[32m121.7/121.7 MB\u001b[0m \u001b[31m6.6 MB/s\u001b[0m eta \u001b[36m0:00:00\u001b[0m\n",
            "\u001b[?25hCollecting protobuf<=3.20.0,>=3.1.0\n",
            "  Downloading protobuf-3.20.0-cp39-cp39-manylinux_2_5_x86_64.manylinux1_x86_64.whl (1.0 MB)\n",
            "\u001b[2K     \u001b[90m━━━━━━━━━━━━━━━━━━━━━━━━━━━━━━━━━━━━━━━━\u001b[0m \u001b[32m1.0/1.0 MB\u001b[0m \u001b[31m60.2 MB/s\u001b[0m eta \u001b[36m0:00:00\u001b[0m\n",
            "\u001b[?25hRequirement already satisfied: opt-einsum==3.3.0 in /usr/local/lib/python3.9/dist-packages (from paddlepaddle) (3.3.0)\n",
            "Requirement already satisfied: decorator in /usr/local/lib/python3.9/dist-packages (from paddlepaddle) (4.4.2)\n",
            "Requirement already satisfied: Pillow in /usr/local/lib/python3.9/dist-packages (from paddlepaddle) (8.4.0)\n",
            "Collecting astor\n",
            "  Downloading astor-0.8.1-py2.py3-none-any.whl (27 kB)\n",
            "Requirement already satisfied: numpy>=1.13 in /usr/local/lib/python3.9/dist-packages (from paddlepaddle) (1.22.4)\n",
            "Collecting paddle-bfloat==0.1.7\n",
            "  Downloading paddle_bfloat-0.1.7-cp39-cp39-manylinux_2_17_x86_64.manylinux2014_x86_64.whl (383 kB)\n",
            "\u001b[2K     \u001b[90m━━━━━━━━━━━━━━━━━━━━━━━━━━━━━━━━━━━━━━\u001b[0m \u001b[32m383.1/383.1 KB\u001b[0m \u001b[31m30.1 MB/s\u001b[0m eta \u001b[36m0:00:00\u001b[0m\n",
            "\u001b[?25hRequirement already satisfied: requests>=2.20.0 in /usr/local/lib/python3.9/dist-packages (from paddlepaddle) (2.27.1)\n",
            "Requirement already satisfied: six in /usr/local/lib/python3.9/dist-packages (from paddlepaddle) (1.16.0)\n",
            "Requirement already satisfied: urllib3<1.27,>=1.21.1 in /usr/local/lib/python3.9/dist-packages (from requests>=2.20.0->paddlepaddle) (1.26.15)\n",
            "Requirement already satisfied: charset-normalizer~=2.0.0 in /usr/local/lib/python3.9/dist-packages (from requests>=2.20.0->paddlepaddle) (2.0.12)\n",
            "Requirement already satisfied: certifi>=2017.4.17 in /usr/local/lib/python3.9/dist-packages (from requests>=2.20.0->paddlepaddle) (2022.12.7)\n",
            "Requirement already satisfied: idna<4,>=2.5 in /usr/local/lib/python3.9/dist-packages (from requests>=2.20.0->paddlepaddle) (3.4)\n",
            "Installing collected packages: paddle-bfloat, protobuf, astor, paddlepaddle\n",
            "  Attempting uninstall: protobuf\n",
            "    Found existing installation: protobuf 3.20.3\n",
            "    Uninstalling protobuf-3.20.3:\n",
            "      Successfully uninstalled protobuf-3.20.3\n",
            "\u001b[31mERROR: pip's dependency resolver does not currently take into account all the packages that are installed. This behaviour is the source of the following dependency conflicts.\n",
            "tensorflow 2.12.0 requires protobuf!=4.21.0,!=4.21.1,!=4.21.2,!=4.21.3,!=4.21.4,!=4.21.5,<5.0.0dev,>=3.20.3, but you have protobuf 3.20.0 which is incompatible.\n",
            "googleapis-common-protos 1.59.0 requires protobuf!=3.20.0,!=3.20.1,!=4.21.1,!=4.21.2,!=4.21.3,!=4.21.4,!=4.21.5,<5.0.0dev,>=3.19.5, but you have protobuf 3.20.0 which is incompatible.\n",
            "google-cloud-translate 3.8.4 requires protobuf!=3.20.0,!=3.20.1,!=4.21.0,!=4.21.1,!=4.21.2,!=4.21.3,!=4.21.4,!=4.21.5,<5.0.0dev,>=3.19.5, but you have protobuf 3.20.0 which is incompatible.\n",
            "google-cloud-language 2.6.1 requires protobuf!=3.20.0,!=3.20.1,!=4.21.0,!=4.21.1,!=4.21.2,!=4.21.3,!=4.21.4,!=4.21.5,<5.0.0dev,>=3.19.5, but you have protobuf 3.20.0 which is incompatible.\n",
            "google-cloud-firestore 2.7.3 requires protobuf!=3.20.0,!=3.20.1,!=4.21.0,!=4.21.1,!=4.21.2,!=4.21.3,!=4.21.4,!=4.21.5,<5.0.0dev,>=3.19.5, but you have protobuf 3.20.0 which is incompatible.\n",
            "google-cloud-datastore 2.11.1 requires protobuf!=3.20.0,!=3.20.1,!=4.21.0,!=4.21.1,!=4.21.2,!=4.21.3,!=4.21.4,!=4.21.5,<5.0.0dev,>=3.19.5, but you have protobuf 3.20.0 which is incompatible.\n",
            "google-cloud-bigquery 3.4.2 requires protobuf!=3.20.0,!=3.20.1,!=4.21.0,!=4.21.1,!=4.21.2,!=4.21.3,!=4.21.4,!=4.21.5,<5.0.0dev,>=3.19.5, but you have protobuf 3.20.0 which is incompatible.\n",
            "google-cloud-bigquery-storage 2.19.1 requires protobuf!=3.20.0,!=3.20.1,!=4.21.0,!=4.21.1,!=4.21.2,!=4.21.3,!=4.21.4,!=4.21.5,<5.0.0dev,>=3.19.5, but you have protobuf 3.20.0 which is incompatible.\n",
            "google-api-core 2.11.0 requires protobuf!=3.20.0,!=3.20.1,!=4.21.0,!=4.21.1,!=4.21.2,!=4.21.3,!=4.21.4,!=4.21.5,<5.0.0dev,>=3.19.5, but you have protobuf 3.20.0 which is incompatible.\u001b[0m\u001b[31m\n",
            "\u001b[0mSuccessfully installed astor-0.8.1 paddle-bfloat-0.1.7 paddlepaddle-2.4.2 protobuf-3.20.0\n"
          ]
        }
      ],
      "source": [
        "!pip install paddlepaddle"
      ]
    },
    {
      "cell_type": "code",
      "execution_count": 8,
      "metadata": {
        "id": "X7YvSrZprIz3"
      },
      "outputs": [],
      "source": [
        "import os\n",
        "import paddle\n",
        "import paddlenlp"
      ]
    },
    {
      "cell_type": "markdown",
      "metadata": {
        "id": "Fafm1FtVsfGY"
      },
      "source": [
        "# Data pre-processing"
      ]
    },
    {
      "cell_type": "markdown",
      "metadata": {
        "id": "t0jIHcPbsiIz"
      },
      "source": [
        "## For the 28 micro-sentiment multi-label classification scenario, where a sentence may correspond to multiple sentiment category labels, the sentiment labels of the dataset need to be transformed using One-Hot coding first, with \"0\" indicating absence and \"1\" indicating presence for each sentiment."
      ]
    },
    {
      "cell_type": "markdown",
      "metadata": {
        "id": "XTPiTK0pstvz"
      },
      "source": [
        "### Create sentiment label mapping relationships."
      ]
    },
    {
      "cell_type": "code",
      "execution_count": 9,
      "metadata": {
        "id": "XQmitCV3tNrx"
      },
      "outputs": [],
      "source": [
        "label_vocab = {\n",
        "    0: \"admiration\",\n",
        "    1: \"amusement\",\n",
        "    2: \"anger\",\n",
        "    3: \"annoyance\",\n",
        "    4: \"approval\",\n",
        "    5: \"caring\",\n",
        "    6: \"confusion\",\n",
        "    7: \"curiosity\",\n",
        "    8: \"desire\",\n",
        "    9: \"disappointment\",\n",
        "    10: \"disapproval\",\n",
        "    11: \"disgust\",\n",
        "    12: \"embarrassment\",\n",
        "    13: \"excitement\",\n",
        "    14: \"fear\",\n",
        "    15: \"gratitude\",\n",
        "    16: \"grief\",\n",
        "    17: \"joy\",\n",
        "    18: \"love\",\n",
        "    19: \"nervousness\",\n",
        "    20: \"optimism\",\n",
        "    21: \"pride\",\n",
        "    22: \"realization\",\n",
        "    23: \"relief\",\n",
        "    24: \"remorse\",\n",
        "    25: \"sadness\",\n",
        "    26: \"surprise\",\n",
        "    27: \"neutral\"\n",
        "}"
      ]
    },
    {
      "cell_type": "markdown",
      "metadata": {
        "id": "g-EcFAvotT5Q"
      },
      "source": [
        "### Customize the dataset, read the data file, create the dataset and define the data type as MapDataset."
      ]
    },
    {
      "cell_type": "code",
      "execution_count": 10,
      "metadata": {
        "id": "FhHKTcR7t3Xq"
      },
      "outputs": [],
      "source": [
        "import re\n",
        "\n",
        "from paddlenlp.datasets import load_dataset\n",
        "\n",
        "# Clear invalid characters\n",
        "def clean_text(text):\n",
        "    text = text.replace(\"\\r\", \"\").replace(\"\\n\", \"\")\n",
        "    text = re.sub(r\"\\\\n\\n\", \".\", text)\n",
        "    return text\n",
        "\n",
        "# Define the read data set function\n",
        "def read_custom_data(filepath, is_one_hot=True):\n",
        "    f = open(filepath)\n",
        "    while True:\n",
        "        line = f.readline()\n",
        "        if not line:\n",
        "            break\n",
        "        data = line.strip().split('\\t')\n",
        "        # One-hot processing for 28 types of micro sentiment tags\n",
        "        if is_one_hot:\n",
        "            labels = [float(1) if str(i) in data[1].split(',') else float(0) for i in range(28)]  # 28 types\n",
        "        else:\n",
        "            labels = [int(d) for d in data[1].split(',')]\n",
        "        yield {\"text\": clean_text(data[0]), \"labels\": labels}\n",
        "    f.close()"
      ]
    },
    {
      "cell_type": "code",
      "execution_count": 11,
      "metadata": {
        "id": "M_SQ3JwruQSe"
      },
      "outputs": [],
      "source": [
        "# load_dataset() to Create dataset.\n",
        "# lazy=False，The dataset is returned as a MapDataset type.\n",
        "# Pre-processing of training and validation sets.\n",
        "train_ds = load_dataset(read_custom_data, filepath='train.csv', lazy=False) \n",
        "test_ds = load_dataset(read_custom_data, filepath='test.csv', lazy=False)"
      ]
    },
    {
      "cell_type": "markdown",
      "metadata": {
        "id": "I9nrlxqJwCQq"
      },
      "source": [
        "### Print dataset."
      ]
    },
    {
      "cell_type": "code",
      "execution_count": 12,
      "metadata": {
        "colab": {
          "base_uri": "https://localhost:8080/"
        },
        "id": "bExeME40wGuv",
        "outputId": "8291a9e5-fb01-466d-9a5d-e524f02880de"
      },
      "outputs": [
        {
          "output_type": "stream",
          "name": "stdout",
          "text": [
            "datatype: <class 'paddlenlp.datasets.dataset.MapDataset'>\n",
            "training dataset example: {'text': \"My favourite food is anything I didn't have to cook myself.\", 'labels': [0.0, 0.0, 0.0, 0.0, 0.0, 0.0, 0.0, 0.0, 0.0, 0.0, 0.0, 0.0, 0.0, 0.0, 0.0, 0.0, 0.0, 0.0, 0.0, 0.0, 0.0, 0.0, 0.0, 0.0, 0.0, 0.0, 0.0, 1.0]}\n",
            "testing dataset example: {'text': 'I’m really sorry about your situation :( Although I love the names Sapphira, Cirilla, and Scarlett!', 'labels': [0.0, 0.0, 0.0, 0.0, 0.0, 0.0, 0.0, 0.0, 0.0, 0.0, 0.0, 0.0, 0.0, 0.0, 0.0, 0.0, 0.0, 0.0, 0.0, 0.0, 0.0, 0.0, 0.0, 0.0, 0.0, 1.0, 0.0, 0.0]}\n"
          ]
        }
      ],
      "source": [
        "print(\"datatype:\", type(train_ds))\n",
        "print(\"training dataset example:\", train_ds[0])\n",
        "print(\"testing dataset example:\", test_ds[0])"
      ]
    },
    {
      "cell_type": "markdown",
      "metadata": {
        "id": "jEqnn-WG4Pa2"
      },
      "source": [
        "## Load Chinese ERNIE 3.0 pre-training model and word splitter"
      ]
    },
    {
      "cell_type": "code",
      "execution_count": 13,
      "metadata": {
        "colab": {
          "base_uri": "https://localhost:8080/",
          "height": 1000,
          "referenced_widgets": [
            "23846e6a134a4016804504c80c9eebc1",
            "b417d170d675440d961b697334042145",
            "87a9a0cd39344826aa7bc24e6c960b45",
            "2d6660ad5f674a609e1519d885e3400f",
            "56fdeb5d82224847bdd8912409d93c30",
            "e5d54fb410d74716ad5942e805dd5783",
            "8c0a6fbefd64470697ffdcc6501eacf4",
            "e7f60de1f46b425d9ab2b5fd5361a473",
            "197abaed064b467f917434457a4d854b",
            "308b6f5f7d834f5db2ae1dbbee6a24df",
            "d2310f6139504f72a9d7b60fc3f47b21",
            "3fd07345df3345428967c916ba8cef02",
            "5129e77ac93a443cb3fd7f105a785aad",
            "73c4a0fc7e684059a49d807a9f36c081",
            "8907b3f08e534e52b0f1de2ffd2b2f07",
            "288ef732f3b94a1ab32f7bfbbc94b610",
            "200b934a78ec4ced93bbcdc73e3fa470",
            "cd65652dced44c0e8f331bb622ed7d47",
            "3bc234e69ae145749486ddf66f7cb4f3",
            "5d80f4d0286f4db6a9ab9aaa34b41ddc",
            "cf280987c6f64c7fbcea435f9ef09dc8",
            "20455b6d7ea94151a8be668b6f57e701"
          ]
        },
        "id": "4dJq6b6D4L-w",
        "outputId": "e124f290-a506-4ec7-f311-c6711b2bf108"
      },
      "outputs": [
        {
          "output_type": "stream",
          "name": "stderr",
          "text": [
            "\u001b[32m[2023-04-05 17:15:05,317] [    INFO]\u001b[0m - We are using <class 'paddlenlp.transformers.ernie.modeling.ErnieForSequenceClassification'> to load 'ernie-3.0-medium-zh'.\u001b[0m\n",
            "\u001b[32m[2023-04-05 17:15:05,320] [    INFO]\u001b[0m - Model config ErnieConfig {\n",
            "  \"attention_probs_dropout_prob\": 0.1,\n",
            "  \"enable_recompute\": false,\n",
            "  \"fuse\": false,\n",
            "  \"hidden_act\": \"gelu\",\n",
            "  \"hidden_dropout_prob\": 0.1,\n",
            "  \"hidden_size\": 768,\n",
            "  \"id2label\": {\n",
            "    \"0\": \"LABEL_0\",\n",
            "    \"1\": \"LABEL_1\",\n",
            "    \"2\": \"LABEL_2\",\n",
            "    \"3\": \"LABEL_3\",\n",
            "    \"4\": \"LABEL_4\",\n",
            "    \"5\": \"LABEL_5\",\n",
            "    \"6\": \"LABEL_6\",\n",
            "    \"7\": \"LABEL_7\",\n",
            "    \"8\": \"LABEL_8\",\n",
            "    \"9\": \"LABEL_9\",\n",
            "    \"10\": \"LABEL_10\",\n",
            "    \"11\": \"LABEL_11\",\n",
            "    \"12\": \"LABEL_12\",\n",
            "    \"13\": \"LABEL_13\",\n",
            "    \"14\": \"LABEL_14\",\n",
            "    \"15\": \"LABEL_15\",\n",
            "    \"16\": \"LABEL_16\",\n",
            "    \"17\": \"LABEL_17\",\n",
            "    \"18\": \"LABEL_18\",\n",
            "    \"19\": \"LABEL_19\",\n",
            "    \"20\": \"LABEL_20\",\n",
            "    \"21\": \"LABEL_21\",\n",
            "    \"22\": \"LABEL_22\",\n",
            "    \"23\": \"LABEL_23\",\n",
            "    \"24\": \"LABEL_24\",\n",
            "    \"25\": \"LABEL_25\",\n",
            "    \"26\": \"LABEL_26\",\n",
            "    \"27\": \"LABEL_27\"\n",
            "  },\n",
            "  \"initializer_range\": 0.02,\n",
            "  \"intermediate_size\": 3072,\n",
            "  \"label2id\": {\n",
            "    \"LABEL_0\": 0,\n",
            "    \"LABEL_1\": 1,\n",
            "    \"LABEL_10\": 10,\n",
            "    \"LABEL_11\": 11,\n",
            "    \"LABEL_12\": 12,\n",
            "    \"LABEL_13\": 13,\n",
            "    \"LABEL_14\": 14,\n",
            "    \"LABEL_15\": 15,\n",
            "    \"LABEL_16\": 16,\n",
            "    \"LABEL_17\": 17,\n",
            "    \"LABEL_18\": 18,\n",
            "    \"LABEL_19\": 19,\n",
            "    \"LABEL_2\": 2,\n",
            "    \"LABEL_20\": 20,\n",
            "    \"LABEL_21\": 21,\n",
            "    \"LABEL_22\": 22,\n",
            "    \"LABEL_23\": 23,\n",
            "    \"LABEL_24\": 24,\n",
            "    \"LABEL_25\": 25,\n",
            "    \"LABEL_26\": 26,\n",
            "    \"LABEL_27\": 27,\n",
            "    \"LABEL_3\": 3,\n",
            "    \"LABEL_4\": 4,\n",
            "    \"LABEL_5\": 5,\n",
            "    \"LABEL_6\": 6,\n",
            "    \"LABEL_7\": 7,\n",
            "    \"LABEL_8\": 8,\n",
            "    \"LABEL_9\": 9\n",
            "  },\n",
            "  \"layer_norm_eps\": 1e-12,\n",
            "  \"max_position_embeddings\": 2048,\n",
            "  \"model_type\": \"ernie\",\n",
            "  \"num_attention_heads\": 12,\n",
            "  \"num_hidden_layers\": 6,\n",
            "  \"pad_token_id\": 0,\n",
            "  \"paddlenlp_version\": null,\n",
            "  \"pool_act\": \"tanh\",\n",
            "  \"task_id\": 0,\n",
            "  \"task_type_vocab_size\": 16,\n",
            "  \"type_vocab_size\": 4,\n",
            "  \"use_task_id\": true,\n",
            "  \"vocab_size\": 40000\n",
            "}\n",
            "\u001b[0m\n",
            "\u001b[32m[2023-04-05 17:15:05,323] [    INFO]\u001b[0m - Configuration saved in /root/.paddlenlp/models/ernie-3.0-medium-zh/config.json\u001b[0m\n",
            "\u001b[32m[2023-04-05 17:15:05,326] [    INFO]\u001b[0m - Downloading ernie_3.0_medium_zh.pdparams from https://bj.bcebos.com/paddlenlp/models/transformers/ernie_3.0/ernie_3.0_medium_zh.pdparams\u001b[0m\n"
          ]
        },
        {
          "output_type": "display_data",
          "data": {
            "text/plain": [
              "  0%|          | 0.00/313M [00:00<?, ?B/s]"
            ],
            "application/vnd.jupyter.widget-view+json": {
              "version_major": 2,
              "version_minor": 0,
              "model_id": "23846e6a134a4016804504c80c9eebc1"
            }
          },
          "metadata": {}
        },
        {
          "output_type": "stream",
          "name": "stderr",
          "text": [
            "\u001b[33m[2023-04-05 17:15:57,398] [ WARNING]\u001b[0m - Some weights of the model checkpoint at ernie-3.0-medium-zh were not used when initializing ErnieForSequenceClassification: ['ernie.encoder.layers.6.norm1.bias', 'ernie.encoder.layers.6.norm2.weight', 'ernie.encoder.layers.6.self_attn.v_proj.bias', 'ernie.encoder.layers.6.self_attn.v_proj.weight', 'ernie.encoder.layers.6.self_attn.q_proj.bias', 'ernie.encoder.layers.6.linear2.bias', 'ernie.encoder.layers.6.self_attn.out_proj.bias', 'ernie.encoder.layers.6.self_attn.k_proj.weight', 'ernie.encoder.layers.6.norm1.weight', 'ernie.encoder.layers.6.linear1.bias', 'ernie.encoder.layers.6.linear2.weight', 'ernie.encoder.layers.6.self_attn.q_proj.weight', 'ernie.encoder.layers.6.linear1.weight', 'ernie.encoder.layers.6.norm2.bias', 'ernie.encoder.layers.6.self_attn.out_proj.weight', 'ernie.encoder.layers.6.self_attn.k_proj.bias']\n",
            "- This IS expected if you are initializing ErnieForSequenceClassification from the checkpoint of a model trained on another task or with another architecture (e.g. initializing a BertForSequenceClassification model from a BertForPreTraining model).\n",
            "- This IS NOT expected if you are initializing ErnieForSequenceClassification from the checkpoint of a model that you expect to be exactly identical (initializing a BertForSequenceClassification model from a BertForSequenceClassification model).\u001b[0m\n",
            "\u001b[33m[2023-04-05 17:15:57,402] [ WARNING]\u001b[0m - Some weights of ErnieForSequenceClassification were not initialized from the model checkpoint at ernie-3.0-medium-zh and are newly initialized: ['classifier.weight', 'classifier.bias', 'ernie.pooler.dense.bias', 'ernie.pooler.dense.weight']\n",
            "You should probably TRAIN this model on a down-stream task to be able to use it for predictions and inference.\u001b[0m\n",
            "\u001b[32m[2023-04-05 17:15:57,404] [    INFO]\u001b[0m - We are using <class 'paddlenlp.transformers.ernie.tokenizer.ErnieTokenizer'> to load 'ernie-3.0-medium-zh'.\u001b[0m\n",
            "\u001b[32m[2023-04-05 17:15:57,408] [    INFO]\u001b[0m - Downloading https://bj.bcebos.com/paddlenlp/models/transformers/ernie_3.0/ernie_3.0_medium_zh_vocab.txt and saved to /root/.paddlenlp/models/ernie-3.0-medium-zh\u001b[0m\n",
            "\u001b[32m[2023-04-05 17:15:58,857] [    INFO]\u001b[0m - Downloading ernie_3.0_medium_zh_vocab.txt from https://bj.bcebos.com/paddlenlp/models/transformers/ernie_3.0/ernie_3.0_medium_zh_vocab.txt\u001b[0m\n"
          ]
        },
        {
          "output_type": "display_data",
          "data": {
            "text/plain": [
              "  0%|          | 0.00/182k [00:00<?, ?B/s]"
            ],
            "application/vnd.jupyter.widget-view+json": {
              "version_major": 2,
              "version_minor": 0,
              "model_id": "3fd07345df3345428967c916ba8cef02"
            }
          },
          "metadata": {}
        },
        {
          "output_type": "stream",
          "name": "stderr",
          "text": [
            "\u001b[32m[2023-04-05 17:16:00,659] [    INFO]\u001b[0m - tokenizer config file saved in /root/.paddlenlp/models/ernie-3.0-medium-zh/tokenizer_config.json\u001b[0m\n",
            "\u001b[32m[2023-04-05 17:16:00,661] [    INFO]\u001b[0m - Special tokens file saved in /root/.paddlenlp/models/ernie-3.0-medium-zh/special_tokens_map.json\u001b[0m\n"
          ]
        }
      ],
      "source": [
        "from paddlenlp.transformers import AutoModelForSequenceClassification, AutoTokenizer\n",
        "\n",
        "model_name = \"ernie-3.0-medium-zh\"   # ERNIE3.0 model\n",
        "num_classes = 28  # 28 classification mission\n",
        "model = AutoModelForSequenceClassification.from_pretrained(model_name, num_classes=num_classes)\n",
        "tokenizer = AutoTokenizer.from_pretrained(model_name)"
      ]
    },
    {
      "cell_type": "markdown",
      "metadata": {
        "id": "xNHyEHEH5h7_"
      },
      "source": [
        "## Process the raw data into a model-acceptable format."
      ]
    },
    {
      "cell_type": "code",
      "execution_count": 14,
      "metadata": {
        "id": "gHk1B5Wc5tav"
      },
      "outputs": [],
      "source": [
        "import functools\n",
        "import numpy as np\n",
        "\n",
        "from paddle.io import DataLoader, BatchSampler\n",
        "from paddlenlp.data import DataCollatorWithPadding\n",
        "\n",
        "# Data pre-processing function to convert text into integer sequences using a word splitter.\n",
        "def preprocess_function(examples, tokenizer, max_seq_length):\n",
        "    result = tokenizer(text=examples[\"text\"], max_seq_len=max_seq_length)\n",
        "    result[\"labels\"] = examples[\"labels\"]\n",
        "    return result\n",
        "\n",
        "trans_func = functools.partial(preprocess_function, tokenizer=tokenizer, max_seq_length=64)\n",
        "train_ds = train_ds.map(trans_func)\n",
        "test_ds = test_ds.map(trans_func)\n",
        "\n",
        "# function is constructed to extend the different length sequences to the maximum length of the data in the batch, and then stack the data.\n",
        "collate_fn = DataCollatorWithPadding(tokenizer)\n",
        "\n",
        "# Define the BatchSampler, select the batch size and whether to randomly jumble the DataLoader.\n",
        "train_batch_sampler = BatchSampler(train_ds, batch_size=32, shuffle=True)\n",
        "test_batch_sampler = BatchSampler(test_ds, batch_size=16, shuffle=False)\n",
        "train_data_loader = DataLoader(dataset=train_ds, batch_sampler=train_batch_sampler, collate_fn=collate_fn)\n",
        "test_data_loader = DataLoader(dataset=test_ds, batch_sampler=test_batch_sampler, collate_fn=collate_fn)"
      ]
    },
    {
      "cell_type": "markdown",
      "metadata": {
        "id": "-EPA9Lq97O_3"
      },
      "source": [
        "## Define model validation metrics."
      ]
    },
    {
      "cell_type": "code",
      "execution_count": 15,
      "metadata": {
        "id": "7HLrZrzK7RdI"
      },
      "outputs": [],
      "source": [
        "import numpy as np\n",
        "import sklearn\n",
        "from sklearn.metrics import roc_auc_score, f1_score, precision_score, recall_score\n",
        "from paddle.metric import Metric\n",
        "\n",
        "# Customize MultiLabelReport evaluation metrics.\n",
        "class MultiLabelReport(Metric):\n",
        "    \"\"\"\n",
        "    AUC and F1 Score for multi-label text classification task.\n",
        "    \"\"\"\n",
        "\n",
        "    def __init__(self, name='MultiLabelReport', average='micro'):\n",
        "        super(MultiLabelReport, self).__init__()\n",
        "        self.average = average\n",
        "        self._name = name\n",
        "        self.reset()\n",
        "\n",
        "    def f1_score(self, y_prob):\n",
        "        '''\n",
        "        Returns the f1 score by searching the best threshhold\n",
        "        '''\n",
        "        best_score = 0\n",
        "        for threshold in [i * 0.01 for i in range(100)]:\n",
        "            self.y_pred = y_prob > threshold\n",
        "            score = sklearn.metrics.f1_score(y_pred=self.y_pred, y_true=self.y_true, average=self.average)\n",
        "            if score > best_score:\n",
        "                best_score = score\n",
        "                precison = precision_score(y_pred=self.y_pred, y_true=self.y_true, average=self.average)\n",
        "                recall = recall_score(y_pred=self.y_pred, y_true=self.y_true, average=self.average)\n",
        "        return best_score, precison, recall\n",
        "\n",
        "    def reset(self):\n",
        "        \"\"\"\n",
        "        Resets all of the metric state.\n",
        "        \"\"\"\n",
        "        self.y_prob = None\n",
        "        self.y_true = None\n",
        "\n",
        "    def update(self, probs, labels):\n",
        "        if self.y_prob is not None:\n",
        "            self.y_prob = np.append(self.y_prob, probs.numpy(), axis=0)\n",
        "        else:\n",
        "            self.y_prob = probs.numpy()\n",
        "        if self.y_true is not None:\n",
        "            self.y_true = np.append(self.y_true, labels.numpy(), axis=0)\n",
        "        else:\n",
        "            self.y_true = labels.numpy()\n",
        "\n",
        "    def accumulate(self):\n",
        "        auc = roc_auc_score(\n",
        "            y_score=self.y_prob, y_true=self.y_true, average=self.average)\n",
        "        f1_score, precison, recall = self.f1_score(y_prob=self.y_prob)\n",
        "        return auc, f1_score, precison, recall\n",
        "\n",
        "    def name(self):\n",
        "        \"\"\"\n",
        "        Returns metric name\n",
        "        \"\"\"\n",
        "        return self._name"
      ]
    },
    {
      "cell_type": "markdown",
      "metadata": {
        "id": "H04sxVsF7lwJ"
      },
      "source": [
        "# Building the training model."
      ]
    },
    {
      "cell_type": "markdown",
      "metadata": {
        "id": "OLbmmDC38F1l"
      },
      "source": [
        "## Select an optimization strategy and run configuration."
      ]
    },
    {
      "cell_type": "code",
      "execution_count": 16,
      "metadata": {
        "id": "9yvG7sEc8QZj"
      },
      "outputs": [],
      "source": [
        "import time\n",
        "import paddle.nn.functional as F\n",
        "\n",
        "# AdamW optimizer, cross-entropy loss function, custom MultiLabelReport evaluation metrics.\n",
        "optimizer = paddle.optimizer.AdamW(learning_rate=4e-5, parameters=model.parameters(), weight_decay=0.01)\n",
        "criterion = paddle.nn.BCEWithLogitsLoss()\n",
        "metric = MultiLabelReport()"
      ]
    },
    {
      "cell_type": "markdown",
      "metadata": {
        "id": "evJ-MG798fyJ"
      },
      "source": [
        "## Model training and validation."
      ]
    },
    {
      "cell_type": "code",
      "execution_count": 17,
      "metadata": {
        "id": "D_97el-H8hc7"
      },
      "outputs": [],
      "source": [
        "import paddle\n",
        "import numpy as np\n",
        "import paddle.nn.functional as F\n",
        "\n",
        "# Build the validation set evaluate function.\n",
        "@paddle.no_grad()\n",
        "def evaluate(model, criterion, metric, data_loader, label_vocab, if_return_results=True):\n",
        "    model.eval()\n",
        "    metric.reset()\n",
        "    losses = []\n",
        "    results = []\n",
        "    for batch in data_loader:\n",
        "        input_ids, token_type_ids, labels = batch['input_ids'], batch['token_type_ids'], batch['labels']\n",
        "        logits = model(input_ids, token_type_ids)\n",
        "        loss = criterion(logits, labels)\n",
        "        probs = F.sigmoid(logits)\n",
        "        losses.append(loss.numpy())\n",
        "        metric.update(probs, labels)\n",
        "        if if_return_results:\n",
        "            probs = probs.tolist()\n",
        "            for prob in probs:\n",
        "                result = []\n",
        "                for c, pred in enumerate(prob):\n",
        "                    if pred > 0.5:\n",
        "                        result.append(label_vocab[c])\n",
        "                results.append(','.join(result))\n",
        "\n",
        "    auc, f1_score, precison, recall = metric.accumulate()\n",
        "    print(\"eval loss: %.5f, auc: %.5f, f1 score: %.5f, precison: %.5f, recall: %.5f\" %\n",
        "          (np.mean(losses), auc, f1_score, precison, recall))\n",
        "    model.train()\n",
        "    metric.reset()\n",
        "    if if_return_results:\n",
        "        return results\n",
        "    else:\n",
        "        return f1_score"
      ]
    },
    {
      "cell_type": "code",
      "execution_count": 20,
      "metadata": {
        "colab": {
          "base_uri": "https://localhost:8080/"
        },
        "id": "8I8ToDtX87QQ",
        "outputId": "572709c3-dd4a-4bbc-9509-0b81da1b37ec"
      },
      "outputs": [
        {
          "metadata": {
            "tags": null
          },
          "name": "stdout",
          "output_type": "stream",
          "text": [
            "global step 10, epoch: 1, batch: 10, loss: 0.16269, auc: 0.63828, f1 score: 0.15428, speed: 0.10 step/s\n",
            "global step 20, epoch: 1, batch: 20, loss: 0.16536, auc: 0.63945, f1 score: 0.16464, speed: 0.09 step/s\n",
            "global step 30, epoch: 1, batch: 30, loss: 0.15918, auc: 0.63927, f1 score: 0.16544, speed: 0.08 step/s\n",
            "global step 40, epoch: 1, batch: 40, loss: 0.15622, auc: 0.64407, f1 score: 0.16736, speed: 0.08 step/s\n"
          ]
        },
        {
          "metadata": {
            "tags": null
          },
          "name": "stderr",
          "output_type": "stream",
          "text": [
            "\u001b[32m[2023-04-05 17:34:56,366] [    INFO]\u001b[0m - Configuration saved in ernie_ckpt/config.json\u001b[0m\n"
          ]
        },
        {
          "metadata": {
            "tags": null
          },
          "name": "stdout",
          "output_type": "stream",
          "text": [
            "eval loss: 0.15531, auc: 0.76921, f1 score: 0.30401, precison: 0.32928, recall: 0.28235\n"
          ]
        },
        {
          "metadata": {
            "tags": null
          },
          "name": "stderr",
          "output_type": "stream",
          "text": [
            "\u001b[32m[2023-04-05 17:34:56,997] [    INFO]\u001b[0m - tokenizer config file saved in ernie_ckpt/tokenizer_config.json\u001b[0m\n",
            "\u001b[32m[2023-04-05 17:34:57,005] [    INFO]\u001b[0m - Special tokens file saved in ernie_ckpt/special_tokens_map.json\u001b[0m\n"
          ]
        },
        {
          "metadata": {
            "tags": null
          },
          "name": "stdout",
          "output_type": "stream",
          "text": [
            "global step 50, epoch: 1, batch: 50, loss: 0.14515, auc: 0.74742, f1 score: 0.28190, speed: 0.02 step/s\n",
            "global step 60, epoch: 1, batch: 60, loss: 0.15394, auc: 0.74624, f1 score: 0.26369, speed: 0.09 step/s\n",
            "global step 70, epoch: 1, batch: 70, loss: 0.15717, auc: 0.75393, f1 score: 0.29191, speed: 0.09 step/s\n",
            "global step 80, epoch: 1, batch: 80, loss: 0.16494, auc: 0.75514, f1 score: 0.28736, speed: 0.09 step/s\n"
          ]
        },
        {
          "metadata": {
            "tags": null
          },
          "name": "stderr",
          "output_type": "stream",
          "text": [
            "\u001b[32m[2023-04-05 17:47:04,355] [    INFO]\u001b[0m - Configuration saved in ernie_ckpt/config.json\u001b[0m\n"
          ]
        },
        {
          "metadata": {
            "tags": null
          },
          "name": "stdout",
          "output_type": "stream",
          "text": [
            "eval loss: 0.15037, auc: 0.77291, f1 score: 0.30744, precison: 0.34204, recall: 0.27919\n"
          ]
        },
        {
          "metadata": {
            "tags": null
          },
          "name": "stderr",
          "output_type": "stream",
          "text": [
            "\u001b[32m[2023-04-05 17:47:05,050] [    INFO]\u001b[0m - tokenizer config file saved in ernie_ckpt/tokenizer_config.json\u001b[0m\n",
            "\u001b[32m[2023-04-05 17:47:05,053] [    INFO]\u001b[0m - Special tokens file saved in ernie_ckpt/special_tokens_map.json\u001b[0m\n"
          ]
        },
        {
          "metadata": {
            "tags": null
          },
          "name": "stdout",
          "output_type": "stream",
          "text": [
            "global step 90, epoch: 1, batch: 90, loss: 0.15320, auc: 0.75668, f1 score: 0.30748, speed: 0.02 step/s\n",
            "global step 100, epoch: 1, batch: 100, loss: 0.14447, auc: 0.75684, f1 score: 0.29268, speed: 0.10 step/s\n",
            "global step 110, epoch: 1, batch: 110, loss: 0.14628, auc: 0.76209, f1 score: 0.30484, speed: 0.10 step/s\n",
            "global step 120, epoch: 1, batch: 120, loss: 0.13683, auc: 0.76535, f1 score: 0.31234, speed: 0.10 step/s\n"
          ]
        },
        {
          "metadata": {
            "tags": null
          },
          "name": "stderr",
          "output_type": "stream",
          "text": [
            "\u001b[32m[2023-04-05 17:58:58,710] [    INFO]\u001b[0m - Configuration saved in ernie_ckpt/config.json\u001b[0m\n"
          ]
        },
        {
          "metadata": {
            "tags": null
          },
          "name": "stdout",
          "output_type": "stream",
          "text": [
            "eval loss: 0.14874, auc: 0.77986, f1 score: 0.31336, precison: 0.36682, recall: 0.27350\n"
          ]
        },
        {
          "metadata": {
            "tags": null
          },
          "name": "stderr",
          "output_type": "stream",
          "text": [
            "\u001b[32m[2023-04-05 17:58:59,340] [    INFO]\u001b[0m - tokenizer config file saved in ernie_ckpt/tokenizer_config.json\u001b[0m\n",
            "\u001b[32m[2023-04-05 17:58:59,343] [    INFO]\u001b[0m - Special tokens file saved in ernie_ckpt/special_tokens_map.json\u001b[0m\n"
          ]
        },
        {
          "metadata": {
            "tags": null
          },
          "name": "stdout",
          "output_type": "stream",
          "text": [
            "global step 130, epoch: 1, batch: 130, loss: 0.16805, auc: 0.75909, f1 score: 0.29872, speed: 0.03 step/s\n",
            "global step 140, epoch: 1, batch: 140, loss: 0.15685, auc: 0.76839, f1 score: 0.29286, speed: 0.11 step/s\n",
            "global step 150, epoch: 1, batch: 150, loss: 0.14854, auc: 0.77073, f1 score: 0.31121, speed: 0.10 step/s\n",
            "global step 160, epoch: 1, batch: 160, loss: 0.13962, auc: 0.76389, f1 score: 0.30233, speed: 0.11 step/s\n"
          ]
        },
        {
          "metadata": {
            "tags": null
          },
          "name": "stderr",
          "output_type": "stream",
          "text": [
            "\u001b[32m[2023-04-05 18:09:58,840] [    INFO]\u001b[0m - Configuration saved in ernie_ckpt/config.json\u001b[0m\n"
          ]
        },
        {
          "metadata": {
            "tags": null
          },
          "name": "stdout",
          "output_type": "stream",
          "text": [
            "eval loss: 0.14341, auc: 0.78621, f1 score: 0.36192, precison: 0.40830, recall: 0.32501\n"
          ]
        },
        {
          "metadata": {
            "tags": null
          },
          "name": "stderr",
          "output_type": "stream",
          "text": [
            "\u001b[32m[2023-04-05 18:09:59,472] [    INFO]\u001b[0m - tokenizer config file saved in ernie_ckpt/tokenizer_config.json\u001b[0m\n",
            "\u001b[32m[2023-04-05 18:09:59,474] [    INFO]\u001b[0m - Special tokens file saved in ernie_ckpt/special_tokens_map.json\u001b[0m\n"
          ]
        },
        {
          "metadata": {
            "tags": null
          },
          "name": "stdout",
          "output_type": "stream",
          "text": [
            "global step 170, epoch: 1, batch: 170, loss: 0.13857, auc: 0.78333, f1 score: 0.33235, speed: 0.03 step/s\n",
            "global step 180, epoch: 1, batch: 180, loss: 0.15728, auc: 0.78904, f1 score: 0.35189, speed: 0.11 step/s\n",
            "global step 190, epoch: 1, batch: 190, loss: 0.15100, auc: 0.78966, f1 score: 0.35099, speed: 0.12 step/s\n",
            "global step 200, epoch: 1, batch: 200, loss: 0.15745, auc: 0.78965, f1 score: 0.34308, speed: 0.11 step/s\n"
          ]
        },
        {
          "metadata": {
            "tags": null
          },
          "name": "stderr",
          "output_type": "stream",
          "text": [
            "\u001b[32m[2023-04-05 18:20:38,441] [    INFO]\u001b[0m - Configuration saved in ernie_ckpt/config.json\u001b[0m\n"
          ]
        },
        {
          "metadata": {
            "tags": null
          },
          "name": "stdout",
          "output_type": "stream",
          "text": [
            "eval loss: 0.13840, auc: 0.80757, f1 score: 0.37454, precison: 0.36018, recall: 0.39011\n"
          ]
        },
        {
          "metadata": {
            "tags": null
          },
          "name": "stderr",
          "output_type": "stream",
          "text": [
            "\u001b[32m[2023-04-05 18:20:39,083] [    INFO]\u001b[0m - tokenizer config file saved in ernie_ckpt/tokenizer_config.json\u001b[0m\n",
            "\u001b[32m[2023-04-05 18:20:39,086] [    INFO]\u001b[0m - Special tokens file saved in ernie_ckpt/special_tokens_map.json\u001b[0m\n"
          ]
        },
        {
          "metadata": {
            "tags": null
          },
          "name": "stdout",
          "output_type": "stream",
          "text": [
            "global step 210, epoch: 1, batch: 210, loss: 0.14314, auc: 0.79198, f1 score: 0.35093, speed: 0.03 step/s\n",
            "global step 220, epoch: 1, batch: 220, loss: 0.14247, auc: 0.78918, f1 score: 0.34645, speed: 0.13 step/s\n",
            "global step 230, epoch: 1, batch: 230, loss: 0.13536, auc: 0.80830, f1 score: 0.37249, speed: 0.12 step/s\n",
            "global step 240, epoch: 1, batch: 240, loss: 0.15689, auc: 0.80554, f1 score: 0.37008, speed: 0.12 step/s\n"
          ]
        },
        {
          "metadata": {
            "tags": null
          },
          "name": "stderr",
          "output_type": "stream",
          "text": [
            "\u001b[32m[2023-04-05 18:30:51,719] [    INFO]\u001b[0m - Configuration saved in ernie_ckpt/config.json\u001b[0m\n"
          ]
        },
        {
          "metadata": {
            "tags": null
          },
          "name": "stdout",
          "output_type": "stream",
          "text": [
            "eval loss: 0.13506, auc: 0.83764, f1 score: 0.41052, precison: 0.43048, recall: 0.39232\n"
          ]
        },
        {
          "metadata": {
            "tags": null
          },
          "name": "stderr",
          "output_type": "stream",
          "text": [
            "\u001b[32m[2023-04-05 18:30:52,349] [    INFO]\u001b[0m - tokenizer config file saved in ernie_ckpt/tokenizer_config.json\u001b[0m\n",
            "\u001b[32m[2023-04-05 18:30:52,350] [    INFO]\u001b[0m - Special tokens file saved in ernie_ckpt/special_tokens_map.json\u001b[0m\n"
          ]
        },
        {
          "metadata": {
            "tags": null
          },
          "name": "stdout",
          "output_type": "stream",
          "text": [
            "global step 250, epoch: 1, batch: 250, loss: 0.15771, auc: 0.82754, f1 score: 0.40410, speed: 0.03 step/s\n",
            "global step 260, epoch: 1, batch: 260, loss: 0.14903, auc: 0.82357, f1 score: 0.39306, speed: 0.12 step/s\n",
            "global step 270, epoch: 1, batch: 270, loss: 0.15062, auc: 0.81829, f1 score: 0.37980, speed: 0.12 step/s\n",
            "global step 280, epoch: 1, batch: 280, loss: 0.11616, auc: 0.82063, f1 score: 0.38484, speed: 0.12 step/s\n"
          ]
        },
        {
          "metadata": {
            "tags": null
          },
          "name": "stderr",
          "output_type": "stream",
          "text": [
            "\u001b[32m[2023-04-05 18:41:05,685] [    INFO]\u001b[0m - Configuration saved in ernie_ckpt/config.json\u001b[0m\n"
          ]
        },
        {
          "metadata": {
            "tags": null
          },
          "name": "stdout",
          "output_type": "stream",
          "text": [
            "eval loss: 0.13110, auc: 0.83910, f1 score: 0.41735, precison: 0.48613, recall: 0.36562\n"
          ]
        },
        {
          "metadata": {
            "tags": null
          },
          "name": "stderr",
          "output_type": "stream",
          "text": [
            "\u001b[32m[2023-04-05 18:41:06,320] [    INFO]\u001b[0m - tokenizer config file saved in ernie_ckpt/tokenizer_config.json\u001b[0m\n",
            "\u001b[32m[2023-04-05 18:41:06,322] [    INFO]\u001b[0m - Special tokens file saved in ernie_ckpt/special_tokens_map.json\u001b[0m\n"
          ]
        },
        {
          "metadata": {
            "tags": null
          },
          "name": "stdout",
          "output_type": "stream",
          "text": [
            "global step 290, epoch: 1, batch: 290, loss: 0.12715, auc: 0.83719, f1 score: 0.41312, speed: 0.03 step/s\n",
            "global step 300, epoch: 1, batch: 300, loss: 0.12230, auc: 0.84416, f1 score: 0.43732, speed: 0.12 step/s\n",
            "global step 310, epoch: 1, batch: 310, loss: 0.14583, auc: 0.84008, f1 score: 0.43567, speed: 0.12 step/s\n",
            "global step 320, epoch: 1, batch: 320, loss: 0.13521, auc: 0.84829, f1 score: 0.45517, speed: 0.13 step/s\n"
          ]
        },
        {
          "metadata": {
            "tags": null
          },
          "name": "stderr",
          "output_type": "stream",
          "text": [
            "\u001b[32m[2023-04-05 18:51:06,791] [    INFO]\u001b[0m - Configuration saved in ernie_ckpt/config.json\u001b[0m\n"
          ]
        },
        {
          "metadata": {
            "tags": null
          },
          "name": "stdout",
          "output_type": "stream",
          "text": [
            "eval loss: 0.12428, auc: 0.85680, f1 score: 0.46730, precison: 0.46771, recall: 0.46690\n"
          ]
        },
        {
          "metadata": {
            "tags": null
          },
          "name": "stderr",
          "output_type": "stream",
          "text": [
            "\u001b[32m[2023-04-05 18:51:07,421] [    INFO]\u001b[0m - tokenizer config file saved in ernie_ckpt/tokenizer_config.json\u001b[0m\n",
            "\u001b[32m[2023-04-05 18:51:07,423] [    INFO]\u001b[0m - Special tokens file saved in ernie_ckpt/special_tokens_map.json\u001b[0m\n"
          ]
        },
        {
          "metadata": {
            "tags": null
          },
          "name": "stdout",
          "output_type": "stream",
          "text": [
            "global step 330, epoch: 1, batch: 330, loss: 0.15065, auc: 0.83669, f1 score: 0.45134, speed: 0.03 step/s\n",
            "global step 340, epoch: 1, batch: 340, loss: 0.11225, auc: 0.84774, f1 score: 0.46089, speed: 0.13 step/s\n",
            "global step 350, epoch: 1, batch: 350, loss: 0.13232, auc: 0.84635, f1 score: 0.45517, speed: 0.12 step/s\n",
            "global step 360, epoch: 1, batch: 360, loss: 0.13258, auc: 0.85094, f1 score: 0.45725, speed: 0.12 step/s\n"
          ]
        },
        {
          "metadata": {
            "tags": null
          },
          "name": "stderr",
          "output_type": "stream",
          "text": [
            "\u001b[32m[2023-04-05 19:01:09,852] [    INFO]\u001b[0m - Configuration saved in ernie_ckpt/config.json\u001b[0m\n"
          ]
        },
        {
          "metadata": {
            "tags": null
          },
          "name": "stdout",
          "output_type": "stream",
          "text": [
            "eval loss: 0.12121, auc: 0.86587, f1 score: 0.47824, precison: 0.51294, recall: 0.44794\n"
          ]
        },
        {
          "metadata": {
            "tags": null
          },
          "name": "stderr",
          "output_type": "stream",
          "text": [
            "\u001b[32m[2023-04-05 19:01:10,533] [    INFO]\u001b[0m - tokenizer config file saved in ernie_ckpt/tokenizer_config.json\u001b[0m\n",
            "\u001b[32m[2023-04-05 19:01:10,536] [    INFO]\u001b[0m - Special tokens file saved in ernie_ckpt/special_tokens_map.json\u001b[0m\n"
          ]
        },
        {
          "metadata": {
            "tags": null
          },
          "name": "stdout",
          "output_type": "stream",
          "text": [
            "global step 370, epoch: 1, batch: 370, loss: 0.12311, auc: 0.84849, f1 score: 0.42899, speed: 0.03 step/s\n",
            "global step 380, epoch: 1, batch: 380, loss: 0.12593, auc: 0.85403, f1 score: 0.45442, speed: 0.13 step/s\n",
            "global step 390, epoch: 1, batch: 390, loss: 0.12852, auc: 0.85386, f1 score: 0.45970, speed: 0.13 step/s\n",
            "global step 400, epoch: 1, batch: 400, loss: 0.10994, auc: 0.86146, f1 score: 0.46807, speed: 0.12 step/s\n"
          ]
        },
        {
          "metadata": {
            "tags": null
          },
          "name": "stderr",
          "output_type": "stream",
          "text": [
            "\u001b[32m[2023-04-05 19:11:11,177] [    INFO]\u001b[0m - Configuration saved in ernie_ckpt/config.json\u001b[0m\n"
          ]
        },
        {
          "metadata": {
            "tags": null
          },
          "name": "stdout",
          "output_type": "stream",
          "text": [
            "eval loss: 0.11910, auc: 0.87526, f1 score: 0.49105, precison: 0.48776, recall: 0.49439\n"
          ]
        },
        {
          "metadata": {
            "tags": null
          },
          "name": "stderr",
          "output_type": "stream",
          "text": [
            "\u001b[32m[2023-04-05 19:11:11,855] [    INFO]\u001b[0m - tokenizer config file saved in ernie_ckpt/tokenizer_config.json\u001b[0m\n",
            "\u001b[32m[2023-04-05 19:11:11,858] [    INFO]\u001b[0m - Special tokens file saved in ernie_ckpt/special_tokens_map.json\u001b[0m\n"
          ]
        },
        {
          "metadata": {
            "tags": null
          },
          "name": "stdout",
          "output_type": "stream",
          "text": [
            "global step 410, epoch: 1, batch: 410, loss: 0.13127, auc: 0.86656, f1 score: 0.48915, speed: 0.03 step/s\n",
            "global step 420, epoch: 1, batch: 420, loss: 0.13062, auc: 0.86328, f1 score: 0.49255, speed: 0.13 step/s\n",
            "global step 430, epoch: 1, batch: 430, loss: 0.12451, auc: 0.87275, f1 score: 0.49856, speed: 0.13 step/s\n",
            "global step 440, epoch: 1, batch: 440, loss: 0.12517, auc: 0.87929, f1 score: 0.50278, speed: 0.13 step/s\n"
          ]
        },
        {
          "metadata": {
            "tags": null
          },
          "name": "stderr",
          "output_type": "stream",
          "text": [
            "\u001b[32m[2023-04-05 19:21:02,543] [    INFO]\u001b[0m - Configuration saved in ernie_ckpt/config.json\u001b[0m\n"
          ]
        },
        {
          "metadata": {
            "tags": null
          },
          "name": "stdout",
          "output_type": "stream",
          "text": [
            "eval loss: 0.11575, auc: 0.88461, f1 score: 0.50578, precison: 0.52537, recall: 0.48760\n"
          ]
        },
        {
          "metadata": {
            "tags": null
          },
          "name": "stderr",
          "output_type": "stream",
          "text": [
            "\u001b[32m[2023-04-05 19:21:03,176] [    INFO]\u001b[0m - tokenizer config file saved in ernie_ckpt/tokenizer_config.json\u001b[0m\n",
            "\u001b[32m[2023-04-05 19:21:03,182] [    INFO]\u001b[0m - Special tokens file saved in ernie_ckpt/special_tokens_map.json\u001b[0m\n"
          ]
        },
        {
          "metadata": {
            "tags": null
          },
          "name": "stdout",
          "output_type": "stream",
          "text": [
            "global step 450, epoch: 1, batch: 450, loss: 0.11165, auc: 0.87143, f1 score: 0.51143, speed: 0.03 step/s\n",
            "global step 460, epoch: 1, batch: 460, loss: 0.11119, auc: 0.88328, f1 score: 0.50436, speed: 0.13 step/s\n",
            "global step 470, epoch: 1, batch: 470, loss: 0.11527, auc: 0.88048, f1 score: 0.49493, speed: 0.13 step/s\n",
            "global step 480, epoch: 1, batch: 480, loss: 0.11262, auc: 0.87736, f1 score: 0.49604, speed: 0.13 step/s\n",
            "eval loss: 0.11450, auc: 0.88591, f1 score: 0.50401, precison: 0.50605, recall: 0.50198\n",
            "global step 490, epoch: 1, batch: 490, loss: 0.13238, auc: 0.88756, f1 score: 0.48519, speed: 0.03 step/s\n",
            "global step 500, epoch: 1, batch: 500, loss: 0.09775, auc: 0.89645, f1 score: 0.49753, speed: 0.13 step/s\n",
            "global step 510, epoch: 1, batch: 510, loss: 0.11321, auc: 0.89009, f1 score: 0.49136, speed: 0.12 step/s\n",
            "global step 520, epoch: 1, batch: 520, loss: 0.08442, auc: 0.89036, f1 score: 0.49771, speed: 0.13 step/s\n"
          ]
        },
        {
          "metadata": {
            "tags": null
          },
          "name": "stderr",
          "output_type": "stream",
          "text": [
            "\u001b[32m[2023-04-05 19:40:54,487] [    INFO]\u001b[0m - Configuration saved in ernie_ckpt/config.json\u001b[0m\n"
          ]
        },
        {
          "metadata": {
            "tags": null
          },
          "name": "stdout",
          "output_type": "stream",
          "text": [
            "eval loss: 0.11206, auc: 0.89476, f1 score: 0.51560, precison: 0.54602, recall: 0.48839\n"
          ]
        },
        {
          "metadata": {
            "tags": null
          },
          "name": "stderr",
          "output_type": "stream",
          "text": [
            "\u001b[32m[2023-04-05 19:40:55,158] [    INFO]\u001b[0m - tokenizer config file saved in ernie_ckpt/tokenizer_config.json\u001b[0m\n",
            "\u001b[32m[2023-04-05 19:40:55,163] [    INFO]\u001b[0m - Special tokens file saved in ernie_ckpt/special_tokens_map.json\u001b[0m\n"
          ]
        },
        {
          "metadata": {
            "tags": null
          },
          "name": "stdout",
          "output_type": "stream",
          "text": [
            "global step 530, epoch: 1, batch: 530, loss: 0.09631, auc: 0.89001, f1 score: 0.52374, speed: 0.03 step/s\n",
            "global step 540, epoch: 1, batch: 540, loss: 0.10425, auc: 0.88913, f1 score: 0.52589, speed: 0.13 step/s\n",
            "global step 550, epoch: 1, batch: 550, loss: 0.12717, auc: 0.89146, f1 score: 0.52469, speed: 0.13 step/s\n",
            "global step 560, epoch: 1, batch: 560, loss: 0.09802, auc: 0.89567, f1 score: 0.52507, speed: 0.13 step/s\n",
            "eval loss: 0.11094, auc: 0.90018, f1 score: 0.50561, precison: 0.50250, recall: 0.50877\n",
            "global step 570, epoch: 1, batch: 570, loss: 0.14123, auc: 0.89028, f1 score: 0.50450, speed: 0.03 step/s\n",
            "global step 580, epoch: 1, batch: 580, loss: 0.12231, auc: 0.88831, f1 score: 0.49578, speed: 0.12 step/s\n",
            "global step 590, epoch: 1, batch: 590, loss: 0.10111, auc: 0.88500, f1 score: 0.48985, speed: 0.13 step/s\n",
            "global step 600, epoch: 1, batch: 600, loss: 0.12025, auc: 0.88663, f1 score: 0.49033, speed: 0.12 step/s\n",
            "eval loss: 0.11036, auc: 0.90552, f1 score: 0.51129, precison: 0.55025, recall: 0.47748\n",
            "global step 610, epoch: 1, batch: 610, loss: 0.11130, auc: 0.90567, f1 score: 0.52019, speed: 0.03 step/s\n",
            "global step 620, epoch: 1, batch: 620, loss: 0.10623, auc: 0.89326, f1 score: 0.50704, speed: 0.13 step/s\n",
            "global step 630, epoch: 1, batch: 630, loss: 0.11243, auc: 0.89488, f1 score: 0.51719, speed: 0.12 step/s\n",
            "global step 640, epoch: 1, batch: 640, loss: 0.10171, auc: 0.89099, f1 score: 0.51613, speed: 0.11 step/s\n",
            "eval loss: 0.10982, auc: 0.90515, f1 score: 0.51289, precison: 0.54710, recall: 0.48270\n",
            "global step 650, epoch: 1, batch: 650, loss: 0.10651, auc: 0.90348, f1 score: 0.49351, speed: 0.03 step/s\n",
            "global step 660, epoch: 1, batch: 660, loss: 0.10592, auc: 0.89378, f1 score: 0.49062, speed: 0.13 step/s\n",
            "global step 670, epoch: 1, batch: 670, loss: 0.11001, auc: 0.90102, f1 score: 0.50644, speed: 0.12 step/s\n",
            "global step 680, epoch: 1, batch: 680, loss: 0.10405, auc: 0.90014, f1 score: 0.51178, speed: 0.12 step/s\n"
          ]
        },
        {
          "metadata": {
            "tags": null
          },
          "name": "stderr",
          "output_type": "stream",
          "text": [
            "\u001b[32m[2023-04-05 20:21:35,653] [    INFO]\u001b[0m - Configuration saved in ernie_ckpt/config.json\u001b[0m\n"
          ]
        },
        {
          "metadata": {
            "tags": null
          },
          "name": "stdout",
          "output_type": "stream",
          "text": [
            "eval loss: 0.10584, auc: 0.91173, f1 score: 0.53197, precison: 0.55272, recall: 0.51272\n"
          ]
        },
        {
          "metadata": {
            "tags": null
          },
          "name": "stderr",
          "output_type": "stream",
          "text": [
            "\u001b[32m[2023-04-05 20:21:36,337] [    INFO]\u001b[0m - tokenizer config file saved in ernie_ckpt/tokenizer_config.json\u001b[0m\n",
            "\u001b[32m[2023-04-05 20:21:36,339] [    INFO]\u001b[0m - Special tokens file saved in ernie_ckpt/special_tokens_map.json\u001b[0m\n"
          ]
        },
        {
          "metadata": {
            "tags": null
          },
          "name": "stdout",
          "output_type": "stream",
          "text": [
            "global step 690, epoch: 1, batch: 690, loss: 0.11610, auc: 0.91666, f1 score: 0.54440, speed: 0.03 step/s\n",
            "global step 700, epoch: 1, batch: 700, loss: 0.10890, auc: 0.91499, f1 score: 0.52316, speed: 0.12 step/s\n",
            "global step 710, epoch: 1, batch: 710, loss: 0.10734, auc: 0.91137, f1 score: 0.51742, speed: 0.12 step/s\n",
            "global step 720, epoch: 1, batch: 720, loss: 0.08249, auc: 0.90973, f1 score: 0.51902, speed: 0.12 step/s\n",
            "eval loss: 0.10501, auc: 0.91604, f1 score: 0.53084, precison: 0.56185, recall: 0.50308\n",
            "global step 730, epoch: 1, batch: 730, loss: 0.10014, auc: 0.90961, f1 score: 0.54290, speed: 0.03 step/s\n",
            "global step 740, epoch: 1, batch: 740, loss: 0.11571, auc: 0.89801, f1 score: 0.50251, speed: 0.13 step/s\n",
            "global step 750, epoch: 1, batch: 750, loss: 0.12271, auc: 0.90218, f1 score: 0.50903, speed: 0.12 step/s\n",
            "global step 760, epoch: 1, batch: 760, loss: 0.10504, auc: 0.89816, f1 score: 0.49449, speed: 0.12 step/s\n",
            "eval loss: 0.10692, auc: 0.90819, f1 score: 0.52309, precison: 0.53770, recall: 0.50924\n",
            "global step 770, epoch: 1, batch: 770, loss: 0.10304, auc: 0.90243, f1 score: 0.51429, speed: 0.03 step/s\n",
            "global step 780, epoch: 1, batch: 780, loss: 0.11678, auc: 0.90800, f1 score: 0.52920, speed: 0.13 step/s\n",
            "global step 790, epoch: 1, batch: 790, loss: 0.10104, auc: 0.90730, f1 score: 0.51947, speed: 0.12 step/s\n",
            "global step 800, epoch: 1, batch: 800, loss: 0.11371, auc: 0.90936, f1 score: 0.51608, speed: 0.12 step/s\n",
            "eval loss: 0.10440, auc: 0.91606, f1 score: 0.52936, precison: 0.53773, recall: 0.52125\n",
            "global step 810, epoch: 1, batch: 810, loss: 0.10358, auc: 0.91539, f1 score: 0.53514, speed: 0.03 step/s\n",
            "global step 820, epoch: 1, batch: 820, loss: 0.08612, auc: 0.91339, f1 score: 0.52989, speed: 0.12 step/s\n",
            "global step 830, epoch: 1, batch: 830, loss: 0.10657, auc: 0.91253, f1 score: 0.52740, speed: 0.13 step/s\n",
            "global step 840, epoch: 1, batch: 840, loss: 0.09676, auc: 0.91341, f1 score: 0.53529, speed: 0.13 step/s\n"
          ]
        },
        {
          "metadata": {
            "tags": null
          },
          "name": "stderr",
          "output_type": "stream",
          "text": [
            "\u001b[32m[2023-04-05 21:02:18,310] [    INFO]\u001b[0m - Configuration saved in ernie_ckpt/config.json\u001b[0m\n"
          ]
        },
        {
          "metadata": {
            "tags": null
          },
          "name": "stdout",
          "output_type": "stream",
          "text": [
            "eval loss: 0.10292, auc: 0.91703, f1 score: 0.53838, precison: 0.53061, recall: 0.54637\n"
          ]
        },
        {
          "metadata": {
            "tags": null
          },
          "name": "stderr",
          "output_type": "stream",
          "text": [
            "\u001b[32m[2023-04-05 21:02:18,932] [    INFO]\u001b[0m - tokenizer config file saved in ernie_ckpt/tokenizer_config.json\u001b[0m\n",
            "\u001b[32m[2023-04-05 21:02:18,935] [    INFO]\u001b[0m - Special tokens file saved in ernie_ckpt/special_tokens_map.json\u001b[0m\n"
          ]
        },
        {
          "metadata": {
            "tags": null
          },
          "name": "stdout",
          "output_type": "stream",
          "text": [
            "global step 850, epoch: 1, batch: 850, loss: 0.10729, auc: 0.91267, f1 score: 0.51872, speed: 0.03 step/s\n",
            "global step 860, epoch: 1, batch: 860, loss: 0.10678, auc: 0.90842, f1 score: 0.50754, speed: 0.12 step/s\n",
            "global step 870, epoch: 1, batch: 870, loss: 0.11193, auc: 0.90792, f1 score: 0.51678, speed: 0.13 step/s\n",
            "global step 880, epoch: 1, batch: 880, loss: 0.11379, auc: 0.90871, f1 score: 0.51822, speed: 0.13 step/s\n"
          ]
        },
        {
          "metadata": {
            "tags": null
          },
          "name": "stderr",
          "output_type": "stream",
          "text": [
            "\u001b[32m[2023-04-05 21:12:05,709] [    INFO]\u001b[0m - Configuration saved in ernie_ckpt/config.json\u001b[0m\n"
          ]
        },
        {
          "metadata": {
            "tags": null
          },
          "name": "stdout",
          "output_type": "stream",
          "text": [
            "eval loss: 0.10184, auc: 0.92255, f1 score: 0.54461, precison: 0.54379, recall: 0.54543\n"
          ]
        },
        {
          "metadata": {
            "tags": null
          },
          "name": "stderr",
          "output_type": "stream",
          "text": [
            "\u001b[32m[2023-04-05 21:12:06,335] [    INFO]\u001b[0m - tokenizer config file saved in ernie_ckpt/tokenizer_config.json\u001b[0m\n",
            "\u001b[32m[2023-04-05 21:12:06,338] [    INFO]\u001b[0m - Special tokens file saved in ernie_ckpt/special_tokens_map.json\u001b[0m\n"
          ]
        },
        {
          "metadata": {
            "tags": null
          },
          "name": "stdout",
          "output_type": "stream",
          "text": [
            "global step 890, epoch: 1, batch: 890, loss: 0.11476, auc: 0.92206, f1 score: 0.55882, speed: 0.03 step/s\n",
            "global step 900, epoch: 1, batch: 900, loss: 0.10363, auc: 0.92718, f1 score: 0.56522, speed: 0.13 step/s\n",
            "global step 910, epoch: 1, batch: 910, loss: 0.08432, auc: 0.92939, f1 score: 0.56314, speed: 0.13 step/s\n",
            "global step 920, epoch: 1, batch: 920, loss: 0.10381, auc: 0.92728, f1 score: 0.55075, speed: 0.13 step/s\n",
            "eval loss: 0.10064, auc: 0.92667, f1 score: 0.54187, precison: 0.56162, recall: 0.52346\n",
            "global step 930, epoch: 1, batch: 930, loss: 0.09616, auc: 0.92390, f1 score: 0.54867, speed: 0.03 step/s\n",
            "global step 940, epoch: 1, batch: 940, loss: 0.08424, auc: 0.92047, f1 score: 0.56121, speed: 0.13 step/s\n",
            "global step 950, epoch: 1, batch: 950, loss: 0.10573, auc: 0.91474, f1 score: 0.54146, speed: 0.13 step/s\n",
            "global step 960, epoch: 1, batch: 960, loss: 0.09465, auc: 0.91386, f1 score: 0.54235, speed: 0.13 step/s\n"
          ]
        },
        {
          "metadata": {
            "tags": null
          },
          "name": "stderr",
          "output_type": "stream",
          "text": [
            "\u001b[32m[2023-04-05 21:31:34,299] [    INFO]\u001b[0m - Configuration saved in ernie_ckpt/config.json\u001b[0m\n"
          ]
        },
        {
          "metadata": {
            "tags": null
          },
          "name": "stdout",
          "output_type": "stream",
          "text": [
            "eval loss: 0.10040, auc: 0.92380, f1 score: 0.55016, precison: 0.59370, recall: 0.51256\n"
          ]
        },
        {
          "metadata": {
            "tags": null
          },
          "name": "stderr",
          "output_type": "stream",
          "text": [
            "\u001b[32m[2023-04-05 21:31:34,931] [    INFO]\u001b[0m - tokenizer config file saved in ernie_ckpt/tokenizer_config.json\u001b[0m\n",
            "\u001b[32m[2023-04-05 21:31:34,933] [    INFO]\u001b[0m - Special tokens file saved in ernie_ckpt/special_tokens_map.json\u001b[0m\n"
          ]
        },
        {
          "metadata": {
            "tags": null
          },
          "name": "stdout",
          "output_type": "stream",
          "text": [
            "global step 970, epoch: 1, batch: 970, loss: 0.10429, auc: 0.90572, f1 score: 0.51816, speed: 0.03 step/s\n",
            "global step 980, epoch: 1, batch: 980, loss: 0.09090, auc: 0.92132, f1 score: 0.53597, speed: 0.13 step/s\n",
            "global step 990, epoch: 1, batch: 990, loss: 0.11741, auc: 0.92431, f1 score: 0.53643, speed: 0.12 step/s\n",
            "global step 1000, epoch: 1, batch: 1000, loss: 0.10296, auc: 0.92426, f1 score: 0.54841, speed: 0.12 step/s\n"
          ]
        },
        {
          "metadata": {
            "tags": null
          },
          "name": "stderr",
          "output_type": "stream",
          "text": [
            "\u001b[32m[2023-04-05 21:41:35,137] [    INFO]\u001b[0m - Configuration saved in ernie_ckpt/config.json\u001b[0m\n"
          ]
        },
        {
          "metadata": {
            "tags": null
          },
          "name": "stdout",
          "output_type": "stream",
          "text": [
            "eval loss: 0.09948, auc: 0.92547, f1 score: 0.55165, precison: 0.51909, recall: 0.58856\n"
          ]
        },
        {
          "metadata": {
            "tags": null
          },
          "name": "stderr",
          "output_type": "stream",
          "text": [
            "\u001b[32m[2023-04-05 21:41:35,820] [    INFO]\u001b[0m - tokenizer config file saved in ernie_ckpt/tokenizer_config.json\u001b[0m\n",
            "\u001b[32m[2023-04-05 21:41:35,822] [    INFO]\u001b[0m - Special tokens file saved in ernie_ckpt/special_tokens_map.json\u001b[0m\n"
          ]
        },
        {
          "metadata": {
            "tags": null
          },
          "name": "stdout",
          "output_type": "stream",
          "text": [
            "global step 1010, epoch: 1, batch: 1010, loss: 0.10062, auc: 0.92094, f1 score: 0.56553, speed: 0.03 step/s\n",
            "global step 1020, epoch: 1, batch: 1020, loss: 0.09290, auc: 0.92248, f1 score: 0.56669, speed: 0.12 step/s\n",
            "global step 1030, epoch: 1, batch: 1030, loss: 0.11001, auc: 0.91667, f1 score: 0.55914, speed: 0.12 step/s\n",
            "global step 1040, epoch: 1, batch: 1040, loss: 0.09795, auc: 0.91784, f1 score: 0.54876, speed: 0.13 step/s\n",
            "eval loss: 0.09985, auc: 0.92673, f1 score: 0.55132, precison: 0.56958, recall: 0.53421\n",
            "global step 1050, epoch: 1, batch: 1050, loss: 0.08764, auc: 0.93678, f1 score: 0.58486, speed: 0.03 step/s\n",
            "global step 1060, epoch: 1, batch: 1060, loss: 0.11226, auc: 0.93311, f1 score: 0.57570, speed: 0.13 step/s\n",
            "global step 1070, epoch: 1, batch: 1070, loss: 0.09768, auc: 0.92722, f1 score: 0.56676, speed: 0.13 step/s\n",
            "global step 1080, epoch: 1, batch: 1080, loss: 0.09588, auc: 0.92371, f1 score: 0.55517, speed: 0.12 step/s\n",
            "eval loss: 0.09959, auc: 0.92625, f1 score: 0.54316, precison: 0.52361, recall: 0.56423\n",
            "global step 1090, epoch: 1, batch: 1090, loss: 0.07759, auc: 0.92152, f1 score: 0.57104, speed: 0.03 step/s\n",
            "global step 1100, epoch: 1, batch: 1100, loss: 0.08597, auc: 0.92435, f1 score: 0.56000, speed: 0.13 step/s\n",
            "global step 1110, epoch: 1, batch: 1110, loss: 0.12829, auc: 0.92267, f1 score: 0.54699, speed: 0.13 step/s\n",
            "global step 1120, epoch: 1, batch: 1120, loss: 0.10757, auc: 0.92247, f1 score: 0.54689, speed: 0.13 step/s\n",
            "eval loss: 0.09819, auc: 0.92909, f1 score: 0.54783, precison: 0.52236, recall: 0.57592\n",
            "global step 1130, epoch: 1, batch: 1130, loss: 0.10947, auc: 0.92840, f1 score: 0.54048, speed: 0.03 step/s\n",
            "global step 1140, epoch: 1, batch: 1140, loss: 0.11057, auc: 0.92970, f1 score: 0.53879, speed: 0.13 step/s\n",
            "global step 1150, epoch: 1, batch: 1150, loss: 0.09711, auc: 0.92690, f1 score: 0.53780, speed: 0.13 step/s\n",
            "global step 1160, epoch: 1, batch: 1160, loss: 0.09460, auc: 0.92589, f1 score: 0.54140, speed: 0.13 step/s\n",
            "eval loss: 0.09917, auc: 0.92515, f1 score: 0.55083, precison: 0.54362, recall: 0.55822\n",
            "global step 1170, epoch: 1, batch: 1170, loss: 0.09465, auc: 0.91911, f1 score: 0.56328, speed: 0.03 step/s\n",
            "global step 1180, epoch: 1, batch: 1180, loss: 0.09738, auc: 0.92228, f1 score: 0.54439, speed: 0.13 step/s\n",
            "global step 1190, epoch: 1, batch: 1190, loss: 0.12207, auc: 0.92450, f1 score: 0.54300, speed: 0.13 step/s\n",
            "global step 1200, epoch: 1, batch: 1200, loss: 0.09530, auc: 0.92197, f1 score: 0.54634, speed: 0.12 step/s\n"
          ]
        },
        {
          "metadata": {
            "tags": null
          },
          "name": "stderr",
          "output_type": "stream",
          "text": [
            "\u001b[32m[2023-04-05 22:30:13,821] [    INFO]\u001b[0m - Configuration saved in ernie_ckpt/config.json\u001b[0m\n"
          ]
        },
        {
          "metadata": {
            "tags": null
          },
          "name": "stdout",
          "output_type": "stream",
          "text": [
            "eval loss: 0.09759, auc: 0.92913, f1 score: 0.55860, precison: 0.56612, recall: 0.55127\n"
          ]
        },
        {
          "metadata": {
            "tags": null
          },
          "name": "stderr",
          "output_type": "stream",
          "text": [
            "\u001b[32m[2023-04-05 22:30:14,449] [    INFO]\u001b[0m - tokenizer config file saved in ernie_ckpt/tokenizer_config.json\u001b[0m\n",
            "\u001b[32m[2023-04-05 22:30:14,452] [    INFO]\u001b[0m - Special tokens file saved in ernie_ckpt/special_tokens_map.json\u001b[0m\n"
          ]
        },
        {
          "metadata": {
            "tags": null
          },
          "name": "stdout",
          "output_type": "stream",
          "text": [
            "global step 1210, epoch: 1, batch: 1210, loss: 0.08783, auc: 0.92220, f1 score: 0.52644, speed: 0.03 step/s\n",
            "global step 1220, epoch: 1, batch: 1220, loss: 0.09368, auc: 0.92804, f1 score: 0.54581, speed: 0.13 step/s\n",
            "global step 1230, epoch: 1, batch: 1230, loss: 0.10516, auc: 0.92759, f1 score: 0.54553, speed: 0.13 step/s\n",
            "global step 1240, epoch: 1, batch: 1240, loss: 0.08652, auc: 0.92824, f1 score: 0.54742, speed: 0.12 step/s\n"
          ]
        },
        {
          "metadata": {
            "tags": null
          },
          "name": "stderr",
          "output_type": "stream",
          "text": [
            "\u001b[32m[2023-04-05 22:39:58,429] [    INFO]\u001b[0m - Configuration saved in ernie_ckpt/config.json\u001b[0m\n"
          ]
        },
        {
          "metadata": {
            "tags": null
          },
          "name": "stdout",
          "output_type": "stream",
          "text": [
            "eval loss: 0.09674, auc: 0.93231, f1 score: 0.56126, precison: 0.54079, recall: 0.58335\n"
          ]
        },
        {
          "metadata": {
            "tags": null
          },
          "name": "stderr",
          "output_type": "stream",
          "text": [
            "\u001b[32m[2023-04-05 22:39:59,059] [    INFO]\u001b[0m - tokenizer config file saved in ernie_ckpt/tokenizer_config.json\u001b[0m\n",
            "\u001b[32m[2023-04-05 22:39:59,060] [    INFO]\u001b[0m - Special tokens file saved in ernie_ckpt/special_tokens_map.json\u001b[0m\n"
          ]
        },
        {
          "metadata": {
            "tags": null
          },
          "name": "stdout",
          "output_type": "stream",
          "text": [
            "global step 1250, epoch: 1, batch: 1250, loss: 0.08755, auc: 0.93149, f1 score: 0.55224, speed: 0.03 step/s\n",
            "global step 1260, epoch: 1, batch: 1260, loss: 0.09520, auc: 0.92735, f1 score: 0.55361, speed: 0.12 step/s\n",
            "global step 1270, epoch: 1, batch: 1270, loss: 0.10328, auc: 0.92299, f1 score: 0.55035, speed: 0.12 step/s\n",
            "global step 1280, epoch: 1, batch: 1280, loss: 0.10332, auc: 0.92385, f1 score: 0.54757, speed: 0.12 step/s\n",
            "eval loss: 0.09791, auc: 0.92584, f1 score: 0.55446, precison: 0.52586, recall: 0.58635\n",
            "global step 1290, epoch: 1, batch: 1290, loss: 0.09075, auc: 0.91504, f1 score: 0.53151, speed: 0.03 step/s\n",
            "global step 1300, epoch: 1, batch: 1300, loss: 0.10267, auc: 0.92770, f1 score: 0.56493, speed: 0.13 step/s\n",
            "global step 1310, epoch: 1, batch: 1310, loss: 0.07953, auc: 0.92859, f1 score: 0.56448, speed: 0.13 step/s\n",
            "global step 1320, epoch: 1, batch: 1320, loss: 0.10281, auc: 0.92749, f1 score: 0.56220, speed: 0.12 step/s\n"
          ]
        },
        {
          "metadata": {
            "tags": null
          },
          "name": "stderr",
          "output_type": "stream",
          "text": [
            "\u001b[32m[2023-04-05 23:00:00,774] [    INFO]\u001b[0m - Configuration saved in ernie_ckpt/config.json\u001b[0m\n"
          ]
        },
        {
          "metadata": {
            "tags": null
          },
          "name": "stdout",
          "output_type": "stream",
          "text": [
            "eval loss: 0.09711, auc: 0.92652, f1 score: 0.56242, precison: 0.58727, recall: 0.53958\n"
          ]
        },
        {
          "metadata": {
            "tags": null
          },
          "name": "stderr",
          "output_type": "stream",
          "text": [
            "\u001b[32m[2023-04-05 23:00:01,402] [    INFO]\u001b[0m - tokenizer config file saved in ernie_ckpt/tokenizer_config.json\u001b[0m\n",
            "\u001b[32m[2023-04-05 23:00:01,404] [    INFO]\u001b[0m - Special tokens file saved in ernie_ckpt/special_tokens_map.json\u001b[0m\n"
          ]
        },
        {
          "metadata": {
            "tags": null
          },
          "name": "stdout",
          "output_type": "stream",
          "text": [
            "global step 1330, epoch: 1, batch: 1330, loss: 0.10044, auc: 0.91718, f1 score: 0.54047, speed: 0.03 step/s\n",
            "global step 1340, epoch: 1, batch: 1340, loss: 0.10307, auc: 0.92313, f1 score: 0.55874, speed: 0.13 step/s\n",
            "global step 1350, epoch: 1, batch: 1350, loss: 0.09290, auc: 0.92707, f1 score: 0.55371, speed: 0.12 step/s\n",
            "global step 1360, epoch: 1, batch: 1360, loss: 0.08228, auc: 0.92946, f1 score: 0.56119, speed: 0.11 step/s\n"
          ]
        },
        {
          "metadata": {
            "tags": null
          },
          "name": "stderr",
          "output_type": "stream",
          "text": [
            "\u001b[32m[2023-04-05 23:10:06,752] [    INFO]\u001b[0m - Configuration saved in ernie_ckpt/config.json\u001b[0m\n"
          ]
        },
        {
          "metadata": {
            "tags": null
          },
          "name": "stdout",
          "output_type": "stream",
          "text": [
            "eval loss: 0.09506, auc: 0.93467, f1 score: 0.57107, precison: 0.56077, recall: 0.58177\n"
          ]
        },
        {
          "metadata": {
            "tags": null
          },
          "name": "stderr",
          "output_type": "stream",
          "text": [
            "\u001b[32m[2023-04-05 23:10:07,381] [    INFO]\u001b[0m - tokenizer config file saved in ernie_ckpt/tokenizer_config.json\u001b[0m\n",
            "\u001b[32m[2023-04-05 23:10:07,386] [    INFO]\u001b[0m - Special tokens file saved in ernie_ckpt/special_tokens_map.json\u001b[0m\n"
          ]
        },
        {
          "metadata": {
            "tags": null
          },
          "name": "stdout",
          "output_type": "stream",
          "text": [
            "global step 1370, epoch: 1, batch: 1370, loss: 0.09238, auc: 0.93163, f1 score: 0.52105, speed: 0.03 step/s\n",
            "global step 1380, epoch: 1, batch: 1380, loss: 0.08747, auc: 0.93072, f1 score: 0.54800, speed: 0.13 step/s\n",
            "global step 1390, epoch: 1, batch: 1390, loss: 0.11173, auc: 0.92603, f1 score: 0.54135, speed: 0.12 step/s\n",
            "global step 1400, epoch: 1, batch: 1400, loss: 0.09836, auc: 0.92721, f1 score: 0.55056, speed: 0.12 step/s\n",
            "eval loss: 0.09560, auc: 0.93180, f1 score: 0.57053, precison: 0.55219, recall: 0.59014\n",
            "global step 1410, epoch: 1, batch: 1410, loss: 0.12100, auc: 0.93116, f1 score: 0.53485, speed: 0.03 step/s\n",
            "global step 1420, epoch: 1, batch: 1420, loss: 0.09579, auc: 0.93552, f1 score: 0.55608, speed: 0.13 step/s\n",
            "global step 1430, epoch: 1, batch: 1430, loss: 0.09293, auc: 0.93145, f1 score: 0.55422, speed: 0.13 step/s\n",
            "global step 1440, epoch: 1, batch: 1440, loss: 0.09421, auc: 0.93370, f1 score: 0.55322, speed: 0.13 step/s\n",
            "eval loss: 0.09568, auc: 0.93293, f1 score: 0.56407, precison: 0.55699, recall: 0.57134\n",
            "global step 1450, epoch: 1, batch: 1450, loss: 0.11902, auc: 0.93621, f1 score: 0.60209, speed: 0.03 step/s\n",
            "global step 1460, epoch: 1, batch: 1460, loss: 0.11010, auc: 0.93418, f1 score: 0.58027, speed: 0.12 step/s\n",
            "global step 1470, epoch: 1, batch: 1470, loss: 0.10951, auc: 0.93314, f1 score: 0.56621, speed: 0.12 step/s\n",
            "global step 1480, epoch: 1, batch: 1480, loss: 0.09332, auc: 0.92677, f1 score: 0.56036, speed: 0.12 step/s\n"
          ]
        },
        {
          "metadata": {
            "tags": null
          },
          "name": "stderr",
          "output_type": "stream",
          "text": [
            "\u001b[32m[2023-04-05 23:40:05,056] [    INFO]\u001b[0m - Configuration saved in ernie_ckpt/config.json\u001b[0m\n"
          ]
        },
        {
          "metadata": {
            "tags": null
          },
          "name": "stdout",
          "output_type": "stream",
          "text": [
            "eval loss: 0.09484, auc: 0.93476, f1 score: 0.57168, precison: 0.53578, recall: 0.61274\n"
          ]
        },
        {
          "metadata": {
            "tags": null
          },
          "name": "stderr",
          "output_type": "stream",
          "text": [
            "\u001b[32m[2023-04-05 23:40:05,666] [    INFO]\u001b[0m - tokenizer config file saved in ernie_ckpt/tokenizer_config.json\u001b[0m\n",
            "\u001b[32m[2023-04-05 23:40:05,668] [    INFO]\u001b[0m - Special tokens file saved in ernie_ckpt/special_tokens_map.json\u001b[0m\n"
          ]
        },
        {
          "metadata": {
            "tags": null
          },
          "name": "stdout",
          "output_type": "stream",
          "text": [
            "global step 1490, epoch: 1, batch: 1490, loss: 0.08347, auc: 0.93268, f1 score: 0.57215, speed: 0.03 step/s\n",
            "global step 1500, epoch: 1, batch: 1500, loss: 0.11094, auc: 0.93057, f1 score: 0.55670, speed: 0.14 step/s\n",
            "global step 1510, epoch: 1, batch: 1510, loss: 0.08278, auc: 0.93143, f1 score: 0.55332, speed: 0.13 step/s\n",
            "global step 1520, epoch: 1, batch: 1520, loss: 0.11678, auc: 0.92739, f1 score: 0.54837, speed: 0.13 step/s\n"
          ]
        },
        {
          "metadata": {
            "tags": null
          },
          "name": "stderr",
          "output_type": "stream",
          "text": [
            "\u001b[32m[2023-04-05 23:49:28,974] [    INFO]\u001b[0m - Configuration saved in ernie_ckpt/config.json\u001b[0m\n"
          ]
        },
        {
          "metadata": {
            "tags": null
          },
          "name": "stdout",
          "output_type": "stream",
          "text": [
            "eval loss: 0.09431, auc: 0.93748, f1 score: 0.57345, precison: 0.56583, recall: 0.58129\n"
          ]
        },
        {
          "metadata": {
            "tags": null
          },
          "name": "stderr",
          "output_type": "stream",
          "text": [
            "\u001b[32m[2023-04-05 23:49:29,585] [    INFO]\u001b[0m - tokenizer config file saved in ernie_ckpt/tokenizer_config.json\u001b[0m\n",
            "\u001b[32m[2023-04-05 23:49:29,587] [    INFO]\u001b[0m - Special tokens file saved in ernie_ckpt/special_tokens_map.json\u001b[0m\n"
          ]
        },
        {
          "metadata": {
            "tags": null
          },
          "name": "stdout",
          "output_type": "stream",
          "text": [
            "global step 1530, epoch: 2, batch: 3, loss: 0.09737, auc: 0.93623, f1 score: 0.59163, speed: 0.03 step/s\n",
            "global step 1540, epoch: 2, batch: 13, loss: 0.10491, auc: 0.92587, f1 score: 0.58368, speed: 0.13 step/s\n",
            "global step 1550, epoch: 2, batch: 23, loss: 0.08716, auc: 0.93091, f1 score: 0.58743, speed: 0.13 step/s\n",
            "global step 1560, epoch: 2, batch: 33, loss: 0.11057, auc: 0.93384, f1 score: 0.58639, speed: 0.13 step/s\n",
            "eval loss: 0.09421, auc: 0.93568, f1 score: 0.56958, precison: 0.58365, recall: 0.55617\n",
            "global step 1570, epoch: 2, batch: 43, loss: 0.09298, auc: 0.94324, f1 score: 0.60285, speed: 0.03 step/s\n",
            "global step 1580, epoch: 2, batch: 53, loss: 0.09530, auc: 0.93980, f1 score: 0.59215, speed: 0.12 step/s\n",
            "global step 1590, epoch: 2, batch: 63, loss: 0.08025, auc: 0.93815, f1 score: 0.59426, speed: 0.12 step/s\n",
            "global step 1600, epoch: 2, batch: 73, loss: 0.11863, auc: 0.93619, f1 score: 0.58435, speed: 0.13 step/s\n",
            "eval loss: 0.09418, auc: 0.93767, f1 score: 0.56164, precison: 0.56111, recall: 0.56217\n",
            "global step 1610, epoch: 2, batch: 83, loss: 0.10227, auc: 0.94292, f1 score: 0.61804, speed: 0.03 step/s\n",
            "global step 1620, epoch: 2, batch: 93, loss: 0.09427, auc: 0.94065, f1 score: 0.58030, speed: 0.13 step/s\n",
            "global step 1630, epoch: 2, batch: 103, loss: 0.09400, auc: 0.93962, f1 score: 0.57710, speed: 0.13 step/s\n",
            "global step 1640, epoch: 2, batch: 113, loss: 0.11538, auc: 0.94128, f1 score: 0.58038, speed: 0.12 step/s\n",
            "eval loss: 0.09575, auc: 0.93291, f1 score: 0.55938, precison: 0.54140, recall: 0.57861\n",
            "global step 1650, epoch: 2, batch: 123, loss: 0.08496, auc: 0.93016, f1 score: 0.56378, speed: 0.03 step/s\n",
            "global step 1660, epoch: 2, batch: 133, loss: 0.08475, auc: 0.93477, f1 score: 0.56066, speed: 0.12 step/s\n",
            "global step 1670, epoch: 2, batch: 143, loss: 0.08426, auc: 0.93442, f1 score: 0.55908, speed: 0.12 step/s\n",
            "global step 1680, epoch: 2, batch: 153, loss: 0.10022, auc: 0.93540, f1 score: 0.56022, speed: 0.12 step/s\n",
            "eval loss: 0.09448, auc: 0.93549, f1 score: 0.56941, precison: 0.57145, recall: 0.56739\n",
            "global step 1690, epoch: 2, batch: 163, loss: 0.11133, auc: 0.91797, f1 score: 0.52342, speed: 0.03 step/s\n",
            "global step 1700, epoch: 2, batch: 173, loss: 0.08936, auc: 0.92850, f1 score: 0.53532, speed: 0.13 step/s\n",
            "global step 1710, epoch: 2, batch: 183, loss: 0.09460, auc: 0.93079, f1 score: 0.54892, speed: 0.13 step/s\n",
            "global step 1720, epoch: 2, batch: 193, loss: 0.08990, auc: 0.93483, f1 score: 0.54746, speed: 0.12 step/s\n",
            "eval loss: 0.09382, auc: 0.93679, f1 score: 0.56677, precison: 0.56258, recall: 0.57102\n",
            "global step 1730, epoch: 2, batch: 203, loss: 0.09910, auc: 0.92738, f1 score: 0.56589, speed: 0.03 step/s\n",
            "global step 1740, epoch: 2, batch: 213, loss: 0.08992, auc: 0.93526, f1 score: 0.57403, speed: 0.13 step/s\n",
            "global step 1750, epoch: 2, batch: 223, loss: 0.09981, auc: 0.93479, f1 score: 0.57923, speed: 0.13 step/s\n",
            "global step 1760, epoch: 2, batch: 233, loss: 0.11271, auc: 0.93661, f1 score: 0.57965, speed: 0.12 step/s\n"
          ]
        },
        {
          "metadata": {
            "tags": null
          },
          "name": "stderr",
          "output_type": "stream",
          "text": [
            "\u001b[32m[2023-04-06 00:48:44,065] [    INFO]\u001b[0m - Configuration saved in ernie_ckpt/config.json\u001b[0m\n"
          ]
        },
        {
          "metadata": {
            "tags": null
          },
          "name": "stdout",
          "output_type": "stream",
          "text": [
            "eval loss: 0.09391, auc: 0.93632, f1 score: 0.57694, precison: 0.54762, recall: 0.60957\n"
          ]
        },
        {
          "metadata": {
            "tags": null
          },
          "name": "stderr",
          "output_type": "stream",
          "text": [
            "\u001b[32m[2023-04-06 00:48:44,742] [    INFO]\u001b[0m - tokenizer config file saved in ernie_ckpt/tokenizer_config.json\u001b[0m\n",
            "\u001b[32m[2023-04-06 00:48:44,745] [    INFO]\u001b[0m - Special tokens file saved in ernie_ckpt/special_tokens_map.json\u001b[0m\n"
          ]
        },
        {
          "metadata": {
            "tags": null
          },
          "name": "stdout",
          "output_type": "stream",
          "text": [
            "global step 1770, epoch: 2, batch: 243, loss: 0.09221, auc: 0.93233, f1 score: 0.59544, speed: 0.03 step/s\n",
            "global step 1780, epoch: 2, batch: 253, loss: 0.10820, auc: 0.93707, f1 score: 0.59630, speed: 0.13 step/s\n",
            "global step 1790, epoch: 2, batch: 263, loss: 0.08505, auc: 0.93932, f1 score: 0.58598, speed: 0.13 step/s\n",
            "global step 1800, epoch: 2, batch: 273, loss: 0.10437, auc: 0.93942, f1 score: 0.58417, speed: 0.13 step/s\n",
            "eval loss: 0.09453, auc: 0.93868, f1 score: 0.57422, precison: 0.56331, recall: 0.58556\n",
            "global step 1810, epoch: 2, batch: 283, loss: 0.09660, auc: 0.94090, f1 score: 0.59918, speed: 0.03 step/s\n",
            "global step 1820, epoch: 2, batch: 293, loss: 0.08450, auc: 0.94469, f1 score: 0.59521, speed: 0.14 step/s\n",
            "global step 1830, epoch: 2, batch: 303, loss: 0.09057, auc: 0.94476, f1 score: 0.59358, speed: 0.13 step/s\n",
            "global step 1840, epoch: 2, batch: 313, loss: 0.07990, auc: 0.94310, f1 score: 0.59115, speed: 0.13 step/s\n",
            "eval loss: 0.09478, auc: 0.93876, f1 score: 0.56185, precison: 0.54817, recall: 0.57624\n",
            "global step 1850, epoch: 2, batch: 323, loss: 0.09878, auc: 0.95005, f1 score: 0.61080, speed: 0.03 step/s\n",
            "global step 1860, epoch: 2, batch: 333, loss: 0.09326, auc: 0.94248, f1 score: 0.60119, speed: 0.11 step/s\n",
            "global step 1870, epoch: 2, batch: 343, loss: 0.08413, auc: 0.93838, f1 score: 0.59426, speed: 0.11 step/s\n",
            "global step 1880, epoch: 2, batch: 353, loss: 0.10914, auc: 0.93761, f1 score: 0.58655, speed: 0.12 step/s\n",
            "eval loss: 0.09373, auc: 0.93541, f1 score: 0.57519, precison: 0.58506, recall: 0.56565\n",
            "global step 1890, epoch: 2, batch: 363, loss: 0.09350, auc: 0.94509, f1 score: 0.58961, speed: 0.03 step/s\n",
            "global step 1900, epoch: 2, batch: 373, loss: 0.09827, auc: 0.93549, f1 score: 0.57480, speed: 0.12 step/s\n",
            "global step 1910, epoch: 2, batch: 383, loss: 0.07516, auc: 0.93826, f1 score: 0.57010, speed: 0.11 step/s\n",
            "global step 1920, epoch: 2, batch: 393, loss: 0.11023, auc: 0.94038, f1 score: 0.57180, speed: 0.12 step/s\n",
            "eval loss: 0.09218, auc: 0.94048, f1 score: 0.57558, precison: 0.56087, recall: 0.59109\n",
            "global step 1930, epoch: 2, batch: 403, loss: 0.08457, auc: 0.94687, f1 score: 0.58696, speed: 0.03 step/s\n",
            "global step 1940, epoch: 2, batch: 413, loss: 0.08626, auc: 0.94352, f1 score: 0.57731, speed: 0.13 step/s\n",
            "global step 1950, epoch: 2, batch: 423, loss: 0.08431, auc: 0.94610, f1 score: 0.57763, speed: 0.13 step/s\n",
            "global step 1960, epoch: 2, batch: 433, loss: 0.08567, auc: 0.94343, f1 score: 0.57108, speed: 0.12 step/s\n"
          ]
        },
        {
          "metadata": {
            "tags": null
          },
          "name": "stderr",
          "output_type": "stream",
          "text": [
            "\u001b[32m[2023-04-06 01:39:31,974] [    INFO]\u001b[0m - Configuration saved in ernie_ckpt/config.json\u001b[0m\n"
          ]
        },
        {
          "metadata": {
            "tags": null
          },
          "name": "stdout",
          "output_type": "stream",
          "text": [
            "eval loss: 0.09150, auc: 0.94158, f1 score: 0.58412, precison: 0.56603, recall: 0.60341\n"
          ]
        },
        {
          "metadata": {
            "tags": null
          },
          "name": "stderr",
          "output_type": "stream",
          "text": [
            "\u001b[32m[2023-04-06 01:39:32,600] [    INFO]\u001b[0m - tokenizer config file saved in ernie_ckpt/tokenizer_config.json\u001b[0m\n",
            "\u001b[32m[2023-04-06 01:39:32,603] [    INFO]\u001b[0m - Special tokens file saved in ernie_ckpt/special_tokens_map.json\u001b[0m\n"
          ]
        },
        {
          "metadata": {
            "tags": null
          },
          "name": "stdout",
          "output_type": "stream",
          "text": [
            "global step 1970, epoch: 2, batch: 443, loss: 0.08783, auc: 0.94658, f1 score: 0.58663, speed: 0.03 step/s\n",
            "global step 1980, epoch: 2, batch: 453, loss: 0.09535, auc: 0.93221, f1 score: 0.56519, speed: 0.13 step/s\n",
            "global step 1990, epoch: 2, batch: 463, loss: 0.08798, auc: 0.93303, f1 score: 0.56955, speed: 0.13 step/s\n",
            "global step 2000, epoch: 2, batch: 473, loss: 0.08215, auc: 0.93563, f1 score: 0.57254, speed: 0.13 step/s\n",
            "eval loss: 0.09182, auc: 0.93978, f1 score: 0.58340, precison: 0.57443, recall: 0.59267\n",
            "global step 2010, epoch: 2, batch: 483, loss: 0.10038, auc: 0.93734, f1 score: 0.58945, speed: 0.03 step/s\n",
            "global step 2020, epoch: 2, batch: 493, loss: 0.07014, auc: 0.93745, f1 score: 0.58896, speed: 0.13 step/s\n",
            "global step 2030, epoch: 2, batch: 503, loss: 0.09612, auc: 0.93765, f1 score: 0.58006, speed: 0.12 step/s\n",
            "global step 2040, epoch: 2, batch: 513, loss: 0.08083, auc: 0.94102, f1 score: 0.58651, speed: 0.11 step/s\n",
            "eval loss: 0.09128, auc: 0.94313, f1 score: 0.57974, precison: 0.57679, recall: 0.58271\n",
            "global step 2050, epoch: 2, batch: 523, loss: 0.12003, auc: 0.94594, f1 score: 0.58741, speed: 0.03 step/s\n",
            "global step 2060, epoch: 2, batch: 533, loss: 0.09377, auc: 0.94694, f1 score: 0.58082, speed: 0.12 step/s\n",
            "global step 2070, epoch: 2, batch: 543, loss: 0.09938, auc: 0.94467, f1 score: 0.58846, speed: 0.11 step/s\n",
            "global step 2080, epoch: 2, batch: 553, loss: 0.12404, auc: 0.94200, f1 score: 0.57712, speed: 0.11 step/s\n",
            "eval loss: 0.09154, auc: 0.94117, f1 score: 0.58091, precison: 0.56802, recall: 0.59441\n",
            "global step 2090, epoch: 2, batch: 563, loss: 0.11947, auc: 0.93580, f1 score: 0.55676, speed: 0.03 step/s\n",
            "global step 2100, epoch: 2, batch: 573, loss: 0.07000, auc: 0.94641, f1 score: 0.60537, speed: 0.13 step/s\n",
            "global step 2110, epoch: 2, batch: 583, loss: 0.08611, auc: 0.94245, f1 score: 0.59117, speed: 0.12 step/s\n",
            "global step 2120, epoch: 2, batch: 593, loss: 0.07454, auc: 0.94267, f1 score: 0.58870, speed: 0.12 step/s\n"
          ]
        },
        {
          "metadata": {
            "tags": null
          },
          "name": "stderr",
          "output_type": "stream",
          "text": [
            "\u001b[32m[2023-04-06 02:20:38,962] [    INFO]\u001b[0m - Configuration saved in ernie_ckpt/config.json\u001b[0m\n"
          ]
        },
        {
          "metadata": {
            "tags": null
          },
          "name": "stdout",
          "output_type": "stream",
          "text": [
            "eval loss: 0.09143, auc: 0.94036, f1 score: 0.58461, precison: 0.59190, recall: 0.57750\n"
          ]
        },
        {
          "metadata": {
            "tags": null
          },
          "name": "stderr",
          "output_type": "stream",
          "text": [
            "\u001b[32m[2023-04-06 02:20:39,559] [    INFO]\u001b[0m - tokenizer config file saved in ernie_ckpt/tokenizer_config.json\u001b[0m\n",
            "\u001b[32m[2023-04-06 02:20:39,561] [    INFO]\u001b[0m - Special tokens file saved in ernie_ckpt/special_tokens_map.json\u001b[0m\n"
          ]
        },
        {
          "metadata": {
            "tags": null
          },
          "name": "stdout",
          "output_type": "stream",
          "text": [
            "global step 2130, epoch: 2, batch: 603, loss: 0.09273, auc: 0.93317, f1 score: 0.53229, speed: 0.03 step/s\n",
            "global step 2140, epoch: 2, batch: 613, loss: 0.08025, auc: 0.94315, f1 score: 0.56718, speed: 0.13 step/s\n",
            "global step 2150, epoch: 2, batch: 623, loss: 0.08585, auc: 0.94378, f1 score: 0.58621, speed: 0.12 step/s\n",
            "global step 2160, epoch: 2, batch: 633, loss: 0.09913, auc: 0.93896, f1 score: 0.57568, speed: 0.12 step/s\n"
          ]
        },
        {
          "metadata": {
            "tags": null
          },
          "name": "stderr",
          "output_type": "stream",
          "text": [
            "\u001b[32m[2023-04-06 02:30:35,166] [    INFO]\u001b[0m - Configuration saved in ernie_ckpt/config.json\u001b[0m\n"
          ]
        },
        {
          "metadata": {
            "tags": null
          },
          "name": "stdout",
          "output_type": "stream",
          "text": [
            "eval loss: 0.09101, auc: 0.94273, f1 score: 0.58615, precison: 0.59473, recall: 0.57782\n"
          ]
        },
        {
          "metadata": {
            "tags": null
          },
          "name": "stderr",
          "output_type": "stream",
          "text": [
            "\u001b[32m[2023-04-06 02:30:35,791] [    INFO]\u001b[0m - tokenizer config file saved in ernie_ckpt/tokenizer_config.json\u001b[0m\n",
            "\u001b[32m[2023-04-06 02:30:35,793] [    INFO]\u001b[0m - Special tokens file saved in ernie_ckpt/special_tokens_map.json\u001b[0m\n"
          ]
        },
        {
          "output_type": "stream",
          "name": "stdout",
          "text": [
            "global step 2170, epoch: 2, batch: 643, loss: 0.11201, auc: 0.94474, f1 score: 0.59621, speed: 0.03 step/s\n",
            "global step 2180, epoch: 2, batch: 653, loss: 0.08003, auc: 0.94399, f1 score: 0.59358, speed: 0.13 step/s\n",
            "global step 2190, epoch: 2, batch: 663, loss: 0.06538, auc: 0.94637, f1 score: 0.60171, speed: 0.12 step/s\n",
            "global step 2200, epoch: 2, batch: 673, loss: 0.08817, auc: 0.94222, f1 score: 0.58883, speed: 0.12 step/s\n",
            "eval loss: 0.09125, auc: 0.94170, f1 score: 0.58255, precison: 0.56158, recall: 0.60515\n",
            "global step 2210, epoch: 2, batch: 683, loss: 0.11633, auc: 0.94379, f1 score: 0.61095, speed: 0.03 step/s\n",
            "global step 2220, epoch: 2, batch: 693, loss: 0.13488, auc: 0.93962, f1 score: 0.61268, speed: 0.13 step/s\n",
            "global step 2230, epoch: 2, batch: 703, loss: 0.08248, auc: 0.93860, f1 score: 0.59455, speed: 0.13 step/s\n",
            "global step 2240, epoch: 2, batch: 713, loss: 0.08292, auc: 0.93979, f1 score: 0.59201, speed: 0.12 step/s\n"
          ]
        },
        {
          "output_type": "stream",
          "name": "stderr",
          "text": [
            "\u001b[32m[2023-04-06 02:50:16,802] [    INFO]\u001b[0m - Configuration saved in ernie_ckpt/config.json\u001b[0m\n"
          ]
        },
        {
          "output_type": "stream",
          "name": "stdout",
          "text": [
            "eval loss: 0.09051, auc: 0.94200, f1 score: 0.58866, precison: 0.58517, recall: 0.59219\n"
          ]
        },
        {
          "output_type": "stream",
          "name": "stderr",
          "text": [
            "\u001b[32m[2023-04-06 02:50:17,442] [    INFO]\u001b[0m - tokenizer config file saved in ernie_ckpt/tokenizer_config.json\u001b[0m\n",
            "\u001b[32m[2023-04-06 02:50:17,444] [    INFO]\u001b[0m - Special tokens file saved in ernie_ckpt/special_tokens_map.json\u001b[0m\n"
          ]
        },
        {
          "output_type": "stream",
          "name": "stdout",
          "text": [
            "global step 2250, epoch: 2, batch: 723, loss: 0.08313, auc: 0.94006, f1 score: 0.58591, speed: 0.03 step/s\n",
            "global step 2260, epoch: 2, batch: 733, loss: 0.08845, auc: 0.94100, f1 score: 0.57125, speed: 0.13 step/s\n",
            "global step 2270, epoch: 2, batch: 743, loss: 0.07235, auc: 0.94280, f1 score: 0.56049, speed: 0.13 step/s\n",
            "global step 2280, epoch: 2, batch: 753, loss: 0.10549, auc: 0.94568, f1 score: 0.57409, speed: 0.12 step/s\n",
            "eval loss: 0.09089, auc: 0.94296, f1 score: 0.57660, precison: 0.58146, recall: 0.57181\n",
            "global step 2290, epoch: 2, batch: 763, loss: 0.10271, auc: 0.94924, f1 score: 0.59975, speed: 0.03 step/s\n",
            "global step 2300, epoch: 2, batch: 773, loss: 0.08330, auc: 0.94406, f1 score: 0.58984, speed: 0.12 step/s\n",
            "global step 2310, epoch: 2, batch: 783, loss: 0.09128, auc: 0.94311, f1 score: 0.58764, speed: 0.13 step/s\n",
            "global step 2320, epoch: 2, batch: 793, loss: 0.10246, auc: 0.94206, f1 score: 0.58140, speed: 0.12 step/s\n",
            "eval loss: 0.09058, auc: 0.94408, f1 score: 0.57580, precison: 0.56874, recall: 0.58303\n",
            "global step 2330, epoch: 2, batch: 803, loss: 0.07667, auc: 0.94946, f1 score: 0.60921, speed: 0.03 step/s\n",
            "global step 2340, epoch: 2, batch: 813, loss: 0.08211, auc: 0.94838, f1 score: 0.60758, speed: 0.12 step/s\n",
            "global step 2350, epoch: 2, batch: 823, loss: 0.08116, auc: 0.94987, f1 score: 0.61024, speed: 0.12 step/s\n",
            "global step 2360, epoch: 2, batch: 833, loss: 0.08975, auc: 0.94766, f1 score: 0.60802, speed: 0.12 step/s\n",
            "eval loss: 0.09068, auc: 0.94230, f1 score: 0.58188, precison: 0.56292, recall: 0.60215\n",
            "global step 2370, epoch: 2, batch: 843, loss: 0.10822, auc: 0.94327, f1 score: 0.57851, speed: 0.03 step/s\n",
            "global step 2380, epoch: 2, batch: 853, loss: 0.09764, auc: 0.94364, f1 score: 0.56133, speed: 0.13 step/s\n",
            "global step 2390, epoch: 2, batch: 863, loss: 0.07098, auc: 0.94511, f1 score: 0.58227, speed: 0.13 step/s\n",
            "global step 2400, epoch: 2, batch: 873, loss: 0.08798, auc: 0.94543, f1 score: 0.58568, speed: 0.14 step/s\n",
            "eval loss: 0.09091, auc: 0.94298, f1 score: 0.57707, precison: 0.53886, recall: 0.62111\n",
            "global step 2410, epoch: 2, batch: 883, loss: 0.07468, auc: 0.94545, f1 score: 0.60987, speed: 0.03 step/s\n",
            "global step 2420, epoch: 2, batch: 893, loss: 0.08134, auc: 0.94400, f1 score: 0.58915, speed: 0.13 step/s\n",
            "global step 2430, epoch: 2, batch: 903, loss: 0.08883, auc: 0.94255, f1 score: 0.57492, speed: 0.13 step/s\n",
            "global step 2440, epoch: 2, batch: 913, loss: 0.08152, auc: 0.94368, f1 score: 0.58175, speed: 0.14 step/s\n",
            "eval loss: 0.09058, auc: 0.94248, f1 score: 0.58343, precison: 0.56952, recall: 0.59804\n",
            "global step 2450, epoch: 2, batch: 923, loss: 0.11440, auc: 0.93388, f1 score: 0.58250, speed: 0.03 step/s\n",
            "global step 2460, epoch: 2, batch: 933, loss: 0.08816, auc: 0.93908, f1 score: 0.57885, speed: 0.13 step/s\n",
            "global step 2470, epoch: 2, batch: 943, loss: 0.09054, auc: 0.94259, f1 score: 0.58113, speed: 0.13 step/s\n",
            "global step 2480, epoch: 2, batch: 953, loss: 0.07928, auc: 0.94413, f1 score: 0.58774, speed: 0.13 step/s\n",
            "eval loss: 0.09049, auc: 0.94401, f1 score: 0.57725, precison: 0.55813, recall: 0.59772\n",
            "global step 2490, epoch: 2, batch: 963, loss: 0.07357, auc: 0.94710, f1 score: 0.60944, speed: 0.03 step/s\n",
            "global step 2500, epoch: 2, batch: 973, loss: 0.09332, auc: 0.94588, f1 score: 0.59823, speed: 0.12 step/s\n",
            "global step 2510, epoch: 2, batch: 983, loss: 0.10556, auc: 0.94711, f1 score: 0.60448, speed: 0.13 step/s\n",
            "global step 2520, epoch: 2, batch: 993, loss: 0.09728, auc: 0.94353, f1 score: 0.59589, speed: 0.12 step/s\n",
            "eval loss: 0.08969, auc: 0.94612, f1 score: 0.58359, precison: 0.56026, recall: 0.60894\n",
            "global step 2530, epoch: 2, batch: 1003, loss: 0.09269, auc: 0.95095, f1 score: 0.59925, speed: 0.03 step/s\n",
            "global step 2540, epoch: 2, batch: 1013, loss: 0.09416, auc: 0.94917, f1 score: 0.60262, speed: 0.13 step/s\n",
            "global step 2550, epoch: 2, batch: 1023, loss: 0.07272, auc: 0.94718, f1 score: 0.59125, speed: 0.13 step/s\n",
            "global step 2560, epoch: 2, batch: 1033, loss: 0.08233, auc: 0.95076, f1 score: 0.60056, speed: 0.13 step/s\n"
          ]
        },
        {
          "output_type": "stream",
          "name": "stderr",
          "text": [
            "\u001b[32m[2023-04-06 04:07:40,366] [    INFO]\u001b[0m - Configuration saved in ernie_ckpt/config.json\u001b[0m\n"
          ]
        },
        {
          "output_type": "stream",
          "name": "stdout",
          "text": [
            "eval loss: 0.08993, auc: 0.94347, f1 score: 0.58974, precison: 0.57395, recall: 0.60641\n"
          ]
        },
        {
          "output_type": "stream",
          "name": "stderr",
          "text": [
            "\u001b[32m[2023-04-06 04:07:41,031] [    INFO]\u001b[0m - tokenizer config file saved in ernie_ckpt/tokenizer_config.json\u001b[0m\n",
            "\u001b[32m[2023-04-06 04:07:41,033] [    INFO]\u001b[0m - Special tokens file saved in ernie_ckpt/special_tokens_map.json\u001b[0m\n"
          ]
        },
        {
          "output_type": "stream",
          "name": "stdout",
          "text": [
            "global step 2570, epoch: 2, batch: 1043, loss: 0.09869, auc: 0.95483, f1 score: 0.65110, speed: 0.03 step/s\n",
            "global step 2580, epoch: 2, batch: 1053, loss: 0.10353, auc: 0.94573, f1 score: 0.60232, speed: 0.14 step/s\n",
            "global step 2590, epoch: 2, batch: 1063, loss: 0.10387, auc: 0.94439, f1 score: 0.59740, speed: 0.13 step/s\n",
            "global step 2600, epoch: 2, batch: 1073, loss: 0.08485, auc: 0.94297, f1 score: 0.58854, speed: 0.12 step/s\n",
            "eval loss: 0.08994, auc: 0.94496, f1 score: 0.58629, precison: 0.59220, recall: 0.58050\n",
            "global step 2610, epoch: 2, batch: 1083, loss: 0.08862, auc: 0.94585, f1 score: 0.59701, speed: 0.03 step/s\n",
            "global step 2620, epoch: 2, batch: 1093, loss: 0.09098, auc: 0.94666, f1 score: 0.59149, speed: 0.12 step/s\n",
            "global step 2630, epoch: 2, batch: 1103, loss: 0.07837, auc: 0.94602, f1 score: 0.59195, speed: 0.13 step/s\n",
            "global step 2640, epoch: 2, batch: 1113, loss: 0.07906, auc: 0.94414, f1 score: 0.59622, speed: 0.12 step/s\n"
          ]
        },
        {
          "output_type": "stream",
          "name": "stderr",
          "text": [
            "\u001b[32m[2023-04-06 04:27:08,278] [    INFO]\u001b[0m - Configuration saved in ernie_ckpt/config.json\u001b[0m\n"
          ]
        },
        {
          "output_type": "stream",
          "name": "stdout",
          "text": [
            "eval loss: 0.08898, auc: 0.94550, f1 score: 0.59161, precison: 0.59929, recall: 0.58414\n"
          ]
        },
        {
          "output_type": "stream",
          "name": "stderr",
          "text": [
            "\u001b[32m[2023-04-06 04:27:08,915] [    INFO]\u001b[0m - tokenizer config file saved in ernie_ckpt/tokenizer_config.json\u001b[0m\n",
            "\u001b[32m[2023-04-06 04:27:08,918] [    INFO]\u001b[0m - Special tokens file saved in ernie_ckpt/special_tokens_map.json\u001b[0m\n"
          ]
        },
        {
          "output_type": "stream",
          "name": "stdout",
          "text": [
            "global step 2650, epoch: 2, batch: 1123, loss: 0.10222, auc: 0.93837, f1 score: 0.57682, speed: 0.03 step/s\n",
            "global step 2660, epoch: 2, batch: 1133, loss: 0.08309, auc: 0.94129, f1 score: 0.58121, speed: 0.13 step/s\n",
            "global step 2670, epoch: 2, batch: 1143, loss: 0.07423, auc: 0.94304, f1 score: 0.58744, speed: 0.12 step/s\n",
            "global step 2680, epoch: 2, batch: 1153, loss: 0.09974, auc: 0.94201, f1 score: 0.58090, speed: 0.12 step/s\n",
            "eval loss: 0.08942, auc: 0.94584, f1 score: 0.58058, precison: 0.55137, recall: 0.61305\n",
            "global step 2690, epoch: 2, batch: 1163, loss: 0.08971, auc: 0.95051, f1 score: 0.60220, speed: 0.03 step/s\n",
            "global step 2700, epoch: 2, batch: 1173, loss: 0.08231, auc: 0.94289, f1 score: 0.58523, speed: 0.13 step/s\n",
            "global step 2710, epoch: 2, batch: 1183, loss: 0.08592, auc: 0.94481, f1 score: 0.58497, speed: 0.13 step/s\n",
            "global step 2720, epoch: 2, batch: 1193, loss: 0.06345, auc: 0.94591, f1 score: 0.58466, speed: 0.12 step/s\n",
            "eval loss: 0.08894, auc: 0.94598, f1 score: 0.58970, precison: 0.57417, recall: 0.60610\n",
            "global step 2730, epoch: 2, batch: 1203, loss: 0.10063, auc: 0.94005, f1 score: 0.57687, speed: 0.03 step/s\n",
            "global step 2740, epoch: 2, batch: 1213, loss: 0.08511, auc: 0.94197, f1 score: 0.59169, speed: 0.13 step/s\n",
            "global step 2750, epoch: 2, batch: 1223, loss: 0.08311, auc: 0.94117, f1 score: 0.59914, speed: 0.13 step/s\n",
            "global step 2760, epoch: 2, batch: 1233, loss: 0.09527, auc: 0.94060, f1 score: 0.59309, speed: 0.13 step/s\n",
            "eval loss: 0.08904, auc: 0.94522, f1 score: 0.58901, precison: 0.55184, recall: 0.63154\n",
            "global step 2770, epoch: 2, batch: 1243, loss: 0.10385, auc: 0.94116, f1 score: 0.61853, speed: 0.03 step/s\n",
            "global step 2780, epoch: 2, batch: 1253, loss: 0.07182, auc: 0.94568, f1 score: 0.60389, speed: 0.13 step/s\n",
            "global step 2790, epoch: 2, batch: 1263, loss: 0.08184, auc: 0.94697, f1 score: 0.59612, speed: 0.12 step/s\n",
            "global step 2800, epoch: 2, batch: 1273, loss: 0.11609, auc: 0.94526, f1 score: 0.58816, speed: 0.12 step/s\n",
            "eval loss: 0.08898, auc: 0.94548, f1 score: 0.58793, precison: 0.57728, recall: 0.59899\n",
            "global step 2810, epoch: 2, batch: 1283, loss: 0.09420, auc: 0.94328, f1 score: 0.59527, speed: 0.03 step/s\n",
            "global step 2820, epoch: 2, batch: 1293, loss: 0.09515, auc: 0.94713, f1 score: 0.59574, speed: 0.13 step/s\n",
            "global step 2830, epoch: 2, batch: 1303, loss: 0.10688, auc: 0.94194, f1 score: 0.59518, speed: 0.13 step/s\n",
            "global step 2840, epoch: 2, batch: 1313, loss: 0.08434, auc: 0.94014, f1 score: 0.58519, speed: 0.13 step/s\n",
            "eval loss: 0.08895, auc: 0.94657, f1 score: 0.58286, precison: 0.59163, recall: 0.57434\n",
            "global step 2850, epoch: 2, batch: 1323, loss: 0.09683, auc: 0.94874, f1 score: 0.56793, speed: 0.03 step/s\n",
            "global step 2860, epoch: 2, batch: 1333, loss: 0.08598, auc: 0.94911, f1 score: 0.57613, speed: 0.12 step/s\n",
            "global step 2870, epoch: 2, batch: 1343, loss: 0.08897, auc: 0.94857, f1 score: 0.57492, speed: 0.13 step/s\n",
            "global step 2880, epoch: 2, batch: 1353, loss: 0.08716, auc: 0.95071, f1 score: 0.58054, speed: 0.13 step/s\n"
          ]
        },
        {
          "output_type": "stream",
          "name": "stderr",
          "text": [
            "\u001b[32m[2023-04-06 05:26:28,690] [    INFO]\u001b[0m - Configuration saved in ernie_ckpt/config.json\u001b[0m\n"
          ]
        },
        {
          "output_type": "stream",
          "name": "stdout",
          "text": [
            "eval loss: 0.08834, auc: 0.94707, f1 score: 0.59169, precison: 0.59877, recall: 0.58477\n"
          ]
        },
        {
          "output_type": "stream",
          "name": "stderr",
          "text": [
            "\u001b[32m[2023-04-06 05:26:29,405] [    INFO]\u001b[0m - tokenizer config file saved in ernie_ckpt/tokenizer_config.json\u001b[0m\n",
            "\u001b[32m[2023-04-06 05:26:29,407] [    INFO]\u001b[0m - Special tokens file saved in ernie_ckpt/special_tokens_map.json\u001b[0m\n"
          ]
        },
        {
          "output_type": "stream",
          "name": "stdout",
          "text": [
            "global step 2890, epoch: 2, batch: 1363, loss: 0.08224, auc: 0.94139, f1 score: 0.56044, speed: 0.03 step/s\n",
            "global step 2900, epoch: 2, batch: 1373, loss: 0.07199, auc: 0.94813, f1 score: 0.58985, speed: 0.12 step/s\n",
            "global step 2910, epoch: 2, batch: 1383, loss: 0.08370, auc: 0.94985, f1 score: 0.58856, speed: 0.11 step/s\n",
            "global step 2920, epoch: 2, batch: 1393, loss: 0.10025, auc: 0.94929, f1 score: 0.59569, speed: 0.12 step/s\n",
            "eval loss: 0.08891, auc: 0.94641, f1 score: 0.58854, precison: 0.57113, recall: 0.60705\n",
            "global step 2930, epoch: 2, batch: 1403, loss: 0.12742, auc: 0.94216, f1 score: 0.57471, speed: 0.03 step/s\n",
            "global step 2940, epoch: 2, batch: 1413, loss: 0.08522, auc: 0.94688, f1 score: 0.60988, speed: 0.12 step/s\n",
            "global step 2950, epoch: 2, batch: 1423, loss: 0.07648, auc: 0.94826, f1 score: 0.60268, speed: 0.12 step/s\n",
            "global step 2960, epoch: 2, batch: 1433, loss: 0.10856, auc: 0.94733, f1 score: 0.60091, speed: 0.12 step/s\n"
          ]
        },
        {
          "output_type": "stream",
          "name": "stderr",
          "text": [
            "\u001b[32m[2023-04-06 05:47:02,524] [    INFO]\u001b[0m - Configuration saved in ernie_ckpt/config.json\u001b[0m\n"
          ]
        },
        {
          "output_type": "stream",
          "name": "stdout",
          "text": [
            "eval loss: 0.08792, auc: 0.94827, f1 score: 0.59255, precison: 0.56970, recall: 0.61732\n"
          ]
        },
        {
          "output_type": "stream",
          "name": "stderr",
          "text": [
            "\u001b[32m[2023-04-06 05:47:03,194] [    INFO]\u001b[0m - tokenizer config file saved in ernie_ckpt/tokenizer_config.json\u001b[0m\n",
            "\u001b[32m[2023-04-06 05:47:03,197] [    INFO]\u001b[0m - Special tokens file saved in ernie_ckpt/special_tokens_map.json\u001b[0m\n"
          ]
        },
        {
          "output_type": "stream",
          "name": "stdout",
          "text": [
            "global step 2970, epoch: 2, batch: 1443, loss: 0.07649, auc: 0.93922, f1 score: 0.56294, speed: 0.03 step/s\n",
            "global step 2980, epoch: 2, batch: 1453, loss: 0.09660, auc: 0.94272, f1 score: 0.58279, speed: 0.12 step/s\n",
            "global step 2990, epoch: 2, batch: 1463, loss: 0.09651, auc: 0.94374, f1 score: 0.57687, speed: 0.12 step/s\n",
            "global step 3000, epoch: 2, batch: 1473, loss: 0.09866, auc: 0.94373, f1 score: 0.58677, speed: 0.12 step/s\n"
          ]
        },
        {
          "output_type": "stream",
          "name": "stderr",
          "text": [
            "\u001b[32m[2023-04-06 05:57:11,788] [    INFO]\u001b[0m - Configuration saved in ernie_ckpt/config.json\u001b[0m\n"
          ]
        },
        {
          "output_type": "stream",
          "name": "stdout",
          "text": [
            "eval loss: 0.08841, auc: 0.94771, f1 score: 0.59283, precison: 0.61508, recall: 0.57213\n"
          ]
        },
        {
          "output_type": "stream",
          "name": "stderr",
          "text": [
            "\u001b[32m[2023-04-06 05:57:12,487] [    INFO]\u001b[0m - tokenizer config file saved in ernie_ckpt/tokenizer_config.json\u001b[0m\n",
            "\u001b[32m[2023-04-06 05:57:12,494] [    INFO]\u001b[0m - Special tokens file saved in ernie_ckpt/special_tokens_map.json\u001b[0m\n"
          ]
        },
        {
          "output_type": "stream",
          "name": "stdout",
          "text": [
            "global step 3010, epoch: 2, batch: 1483, loss: 0.08225, auc: 0.95434, f1 score: 0.60465, speed: 0.03 step/s\n",
            "global step 3020, epoch: 2, batch: 1493, loss: 0.09004, auc: 0.95577, f1 score: 0.61385, speed: 0.12 step/s\n",
            "global step 3030, epoch: 2, batch: 1503, loss: 0.07979, auc: 0.95304, f1 score: 0.60103, speed: 0.12 step/s\n",
            "global step 3040, epoch: 2, batch: 1513, loss: 0.08594, auc: 0.95088, f1 score: 0.59576, speed: 0.12 step/s\n",
            "eval loss: 0.08929, auc: 0.94648, f1 score: 0.58467, precison: 0.58021, recall: 0.58919\n",
            "global step 3050, epoch: 2, batch: 1523, loss: 0.06457, auc: 0.93532, f1 score: 0.59925, speed: 0.03 step/s\n",
            "global step 3060, epoch: 3, batch: 6, loss: 0.10004, auc: 0.94017, f1 score: 0.60499, speed: 0.14 step/s\n",
            "global step 3070, epoch: 3, batch: 16, loss: 0.08924, auc: 0.94476, f1 score: 0.60418, speed: 0.13 step/s\n",
            "global step 3080, epoch: 3, batch: 26, loss: 0.07110, auc: 0.94855, f1 score: 0.61183, speed: 0.12 step/s\n"
          ]
        },
        {
          "output_type": "stream",
          "name": "stderr",
          "text": [
            "\u001b[32m[2023-04-06 06:17:20,064] [    INFO]\u001b[0m - Configuration saved in ernie_ckpt/config.json\u001b[0m\n"
          ]
        },
        {
          "output_type": "stream",
          "name": "stdout",
          "text": [
            "eval loss: 0.08786, auc: 0.94806, f1 score: 0.59481, precison: 0.57499, recall: 0.61605\n"
          ]
        },
        {
          "output_type": "stream",
          "name": "stderr",
          "text": [
            "\u001b[32m[2023-04-06 06:17:20,697] [    INFO]\u001b[0m - tokenizer config file saved in ernie_ckpt/tokenizer_config.json\u001b[0m\n",
            "\u001b[32m[2023-04-06 06:17:20,700] [    INFO]\u001b[0m - Special tokens file saved in ernie_ckpt/special_tokens_map.json\u001b[0m\n"
          ]
        },
        {
          "output_type": "stream",
          "name": "stdout",
          "text": [
            "global step 3090, epoch: 3, batch: 36, loss: 0.06986, auc: 0.96037, f1 score: 0.64980, speed: 0.03 step/s\n",
            "global step 3100, epoch: 3, batch: 46, loss: 0.10836, auc: 0.95783, f1 score: 0.62933, speed: 0.13 step/s\n",
            "global step 3110, epoch: 3, batch: 56, loss: 0.06844, auc: 0.95928, f1 score: 0.63181, speed: 0.12 step/s\n",
            "global step 3120, epoch: 3, batch: 66, loss: 0.06955, auc: 0.96025, f1 score: 0.62857, speed: 0.12 step/s\n",
            "eval loss: 0.08939, auc: 0.94574, f1 score: 0.58834, precison: 0.57588, recall: 0.60136\n",
            "global step 3130, epoch: 3, batch: 76, loss: 0.07372, auc: 0.95305, f1 score: 0.63874, speed: 0.03 step/s\n",
            "global step 3140, epoch: 3, batch: 86, loss: 0.09146, auc: 0.95345, f1 score: 0.62159, speed: 0.12 step/s\n",
            "global step 3150, epoch: 3, batch: 96, loss: 0.09010, auc: 0.95428, f1 score: 0.61532, speed: 0.12 step/s\n",
            "global step 3160, epoch: 3, batch: 106, loss: 0.11026, auc: 0.95396, f1 score: 0.61634, speed: 0.12 step/s\n"
          ]
        },
        {
          "output_type": "stream",
          "name": "stderr",
          "text": [
            "\u001b[32m[2023-04-06 06:37:36,405] [    INFO]\u001b[0m - Configuration saved in ernie_ckpt/config.json\u001b[0m\n"
          ]
        },
        {
          "output_type": "stream",
          "name": "stdout",
          "text": [
            "eval loss: 0.08751, auc: 0.94777, f1 score: 0.59958, precison: 0.61905, recall: 0.58129\n"
          ]
        },
        {
          "output_type": "stream",
          "name": "stderr",
          "text": [
            "\u001b[32m[2023-04-06 06:37:37,044] [    INFO]\u001b[0m - tokenizer config file saved in ernie_ckpt/tokenizer_config.json\u001b[0m\n",
            "\u001b[32m[2023-04-06 06:37:37,046] [    INFO]\u001b[0m - Special tokens file saved in ernie_ckpt/special_tokens_map.json\u001b[0m\n"
          ]
        },
        {
          "output_type": "stream",
          "name": "stdout",
          "text": [
            "global step 3170, epoch: 3, batch: 116, loss: 0.08951, auc: 0.95927, f1 score: 0.63116, speed: 0.03 step/s\n",
            "global step 3180, epoch: 3, batch: 126, loss: 0.09228, auc: 0.96300, f1 score: 0.63075, speed: 0.12 step/s\n",
            "global step 3190, epoch: 3, batch: 136, loss: 0.07931, auc: 0.95925, f1 score: 0.62091, speed: 0.12 step/s\n",
            "global step 3200, epoch: 3, batch: 146, loss: 0.07847, auc: 0.96012, f1 score: 0.62458, speed: 0.12 step/s\n",
            "eval loss: 0.08896, auc: 0.94607, f1 score: 0.59079, precison: 0.58192, recall: 0.59994\n",
            "global step 3210, epoch: 3, batch: 156, loss: 0.08279, auc: 0.95176, f1 score: 0.62647, speed: 0.03 step/s\n",
            "global step 3220, epoch: 3, batch: 166, loss: 0.10215, auc: 0.95251, f1 score: 0.63525, speed: 0.12 step/s\n",
            "global step 3230, epoch: 3, batch: 176, loss: 0.06173, auc: 0.95622, f1 score: 0.64502, speed: 0.12 step/s\n",
            "global step 3240, epoch: 3, batch: 186, loss: 0.07566, auc: 0.95728, f1 score: 0.64531, speed: 0.12 step/s\n",
            "eval loss: 0.08804, auc: 0.94822, f1 score: 0.59220, precison: 0.57706, recall: 0.60815\n",
            "global step 3250, epoch: 3, batch: 196, loss: 0.08804, auc: 0.95632, f1 score: 0.61501, speed: 0.03 step/s\n",
            "global step 3260, epoch: 3, batch: 206, loss: 0.08312, auc: 0.95304, f1 score: 0.61298, speed: 0.12 step/s\n",
            "global step 3270, epoch: 3, batch: 216, loss: 0.08441, auc: 0.95760, f1 score: 0.63136, speed: 0.12 step/s\n",
            "global step 3280, epoch: 3, batch: 226, loss: 0.07664, auc: 0.95676, f1 score: 0.62286, speed: 0.11 step/s\n",
            "eval loss: 0.08850, auc: 0.94613, f1 score: 0.59953, precison: 0.59849, recall: 0.60057\n",
            "global step 3290, epoch: 3, batch: 236, loss: 0.10340, auc: 0.94341, f1 score: 0.61597, speed: 0.03 step/s\n",
            "global step 3300, epoch: 3, batch: 246, loss: 0.09246, auc: 0.94582, f1 score: 0.59128, speed: 0.13 step/s\n",
            "global step 3310, epoch: 3, batch: 256, loss: 0.08856, auc: 0.95213, f1 score: 0.60829, speed: 0.12 step/s\n",
            "global step 3320, epoch: 3, batch: 266, loss: 0.09697, auc: 0.95360, f1 score: 0.61185, speed: 0.12 step/s\n",
            "eval loss: 0.08880, auc: 0.94713, f1 score: 0.58396, precison: 0.58521, recall: 0.58271\n",
            "global step 3330, epoch: 3, batch: 276, loss: 0.08693, auc: 0.94764, f1 score: 0.61891, speed: 0.03 step/s\n",
            "global step 3340, epoch: 3, batch: 286, loss: 0.08446, auc: 0.95238, f1 score: 0.63097, speed: 0.12 step/s\n",
            "global step 3350, epoch: 3, batch: 296, loss: 0.08318, auc: 0.95279, f1 score: 0.62212, speed: 0.12 step/s\n",
            "global step 3360, epoch: 3, batch: 306, loss: 0.09258, auc: 0.95170, f1 score: 0.61617, speed: 0.12 step/s\n",
            "eval loss: 0.08944, auc: 0.94695, f1 score: 0.57253, precison: 0.58362, recall: 0.56186\n",
            "global step 3370, epoch: 3, batch: 316, loss: 0.09397, auc: 0.95075, f1 score: 0.62755, speed: 0.03 step/s\n",
            "global step 3380, epoch: 3, batch: 326, loss: 0.08729, auc: 0.95185, f1 score: 0.62088, speed: 0.12 step/s\n",
            "global step 3390, epoch: 3, batch: 336, loss: 0.08541, auc: 0.95556, f1 score: 0.62347, speed: 0.11 step/s\n",
            "global step 3400, epoch: 3, batch: 346, loss: 0.07789, auc: 0.95555, f1 score: 0.61840, speed: 0.11 step/s\n",
            "eval loss: 0.09140, auc: 0.94414, f1 score: 0.57051, precison: 0.53277, recall: 0.61400\n",
            "global step 3410, epoch: 3, batch: 356, loss: 0.08783, auc: 0.95507, f1 score: 0.58543, speed: 0.03 step/s\n",
            "global step 3420, epoch: 3, batch: 366, loss: 0.07724, auc: 0.95788, f1 score: 0.59532, speed: 0.13 step/s\n",
            "global step 3430, epoch: 3, batch: 376, loss: 0.09719, auc: 0.95409, f1 score: 0.59279, speed: 0.12 step/s\n",
            "global step 3440, epoch: 3, batch: 386, loss: 0.07197, auc: 0.95453, f1 score: 0.60091, speed: 0.12 step/s\n",
            "eval loss: 0.08827, auc: 0.94763, f1 score: 0.58677, precison: 0.58484, recall: 0.58872\n",
            "global step 3450, epoch: 3, batch: 396, loss: 0.08337, auc: 0.95332, f1 score: 0.61438, speed: 0.03 step/s\n",
            "global step 3460, epoch: 3, batch: 406, loss: 0.07942, auc: 0.95333, f1 score: 0.62737, speed: 0.13 step/s\n",
            "global step 3470, epoch: 3, batch: 416, loss: 0.08337, auc: 0.95330, f1 score: 0.62445, speed: 0.12 step/s\n",
            "global step 3480, epoch: 3, batch: 426, loss: 0.06264, auc: 0.95422, f1 score: 0.61948, speed: 0.12 step/s\n",
            "eval loss: 0.08810, auc: 0.94743, f1 score: 0.59534, precison: 0.61414, recall: 0.57766\n",
            "global step 3490, epoch: 3, batch: 436, loss: 0.09232, auc: 0.95378, f1 score: 0.59977, speed: 0.03 step/s\n",
            "global step 3500, epoch: 3, batch: 446, loss: 0.07317, auc: 0.95513, f1 score: 0.60115, speed: 0.12 step/s\n",
            "global step 3510, epoch: 3, batch: 456, loss: 0.06576, auc: 0.95731, f1 score: 0.61135, speed: 0.12 step/s\n",
            "global step 3520, epoch: 3, batch: 466, loss: 0.09712, auc: 0.95767, f1 score: 0.61030, speed: 0.12 step/s\n",
            "eval loss: 0.08829, auc: 0.94801, f1 score: 0.58624, precison: 0.56327, recall: 0.61116\n",
            "global step 3530, epoch: 3, batch: 476, loss: 0.06604, auc: 0.95436, f1 score: 0.61333, speed: 0.03 step/s\n",
            "global step 3540, epoch: 3, batch: 486, loss: 0.08147, auc: 0.95520, f1 score: 0.61963, speed: 0.12 step/s\n",
            "global step 3550, epoch: 3, batch: 496, loss: 0.07906, auc: 0.95666, f1 score: 0.62158, speed: 0.11 step/s\n",
            "global step 3560, epoch: 3, batch: 506, loss: 0.08235, auc: 0.95602, f1 score: 0.61579, speed: 0.12 step/s\n",
            "eval loss: 0.08811, auc: 0.94736, f1 score: 0.59690, precison: 0.58258, recall: 0.61195\n",
            "global step 3570, epoch: 3, batch: 516, loss: 0.08095, auc: 0.95954, f1 score: 0.61935, speed: 0.03 step/s\n",
            "global step 3580, epoch: 3, batch: 526, loss: 0.08471, auc: 0.95922, f1 score: 0.62381, speed: 0.13 step/s\n",
            "global step 3590, epoch: 3, batch: 536, loss: 0.06938, auc: 0.96175, f1 score: 0.63702, speed: 0.12 step/s\n",
            "global step 3600, epoch: 3, batch: 546, loss: 0.09890, auc: 0.96040, f1 score: 0.63354, speed: 0.13 step/s\n",
            "eval loss: 0.08865, auc: 0.94708, f1 score: 0.59216, precison: 0.55927, recall: 0.62917\n",
            "global step 3610, epoch: 3, batch: 556, loss: 0.06949, auc: 0.95588, f1 score: 0.66309, speed: 0.03 step/s\n",
            "global step 3620, epoch: 3, batch: 566, loss: 0.08444, auc: 0.95528, f1 score: 0.64834, speed: 0.12 step/s\n",
            "global step 3630, epoch: 3, batch: 576, loss: 0.07551, auc: 0.95624, f1 score: 0.63900, speed: 0.13 step/s\n",
            "global step 3640, epoch: 3, batch: 586, loss: 0.07666, auc: 0.95467, f1 score: 0.63297, speed: 0.12 step/s\n",
            "eval loss: 0.08802, auc: 0.94775, f1 score: 0.59675, precison: 0.58783, recall: 0.60594\n",
            "global step 3650, epoch: 3, batch: 596, loss: 0.07085, auc: 0.96066, f1 score: 0.64942, speed: 0.03 step/s\n",
            "global step 3660, epoch: 3, batch: 606, loss: 0.08598, auc: 0.95733, f1 score: 0.65672, speed: 0.12 step/s\n",
            "global step 3670, epoch: 3, batch: 616, loss: 0.07296, auc: 0.95847, f1 score: 0.64046, speed: 0.13 step/s\n",
            "global step 3680, epoch: 3, batch: 626, loss: 0.08190, auc: 0.95740, f1 score: 0.63570, speed: 0.13 step/s\n",
            "eval loss: 0.08903, auc: 0.94545, f1 score: 0.59167, precison: 0.60023, recall: 0.58335\n",
            "global step 3690, epoch: 3, batch: 636, loss: 0.08100, auc: 0.95232, f1 score: 0.63907, speed: 0.03 step/s\n",
            "global step 3700, epoch: 3, batch: 646, loss: 0.06646, auc: 0.95410, f1 score: 0.62367, speed: 0.12 step/s\n",
            "global step 3710, epoch: 3, batch: 656, loss: 0.06694, auc: 0.95620, f1 score: 0.63144, speed: 0.12 step/s\n",
            "global step 3720, epoch: 3, batch: 666, loss: 0.09610, auc: 0.95342, f1 score: 0.61646, speed: 0.12 step/s\n",
            "eval loss: 0.08749, auc: 0.94854, f1 score: 0.59868, precison: 0.58744, recall: 0.61036\n",
            "global step 3730, epoch: 3, batch: 676, loss: 0.08220, auc: 0.96079, f1 score: 0.62050, speed: 0.03 step/s\n",
            "global step 3740, epoch: 3, batch: 686, loss: 0.08785, auc: 0.95736, f1 score: 0.61058, speed: 0.12 step/s\n",
            "global step 3750, epoch: 3, batch: 696, loss: 0.08333, auc: 0.95513, f1 score: 0.61159, speed: 0.12 step/s\n",
            "global step 3760, epoch: 3, batch: 706, loss: 0.10459, auc: 0.95259, f1 score: 0.60742, speed: 0.12 step/s\n",
            "eval loss: 0.08802, auc: 0.94850, f1 score: 0.58912, precison: 0.57194, recall: 0.60736\n",
            "global step 3770, epoch: 3, batch: 716, loss: 0.10257, auc: 0.95139, f1 score: 0.61500, speed: 0.03 step/s\n",
            "global step 3780, epoch: 3, batch: 726, loss: 0.10055, auc: 0.95558, f1 score: 0.61121, speed: 0.12 step/s\n",
            "global step 3790, epoch: 3, batch: 736, loss: 0.08829, auc: 0.95338, f1 score: 0.60467, speed: 0.13 step/s\n",
            "global step 3800, epoch: 3, batch: 746, loss: 0.08324, auc: 0.95455, f1 score: 0.61349, speed: 0.12 step/s\n"
          ]
        },
        {
          "output_type": "stream",
          "name": "stderr",
          "text": [
            "\u001b[32m[2023-04-06 09:19:50,897] [    INFO]\u001b[0m - Configuration saved in ernie_ckpt/config.json\u001b[0m\n"
          ]
        },
        {
          "output_type": "stream",
          "name": "stdout",
          "text": [
            "eval loss: 0.08721, auc: 0.94835, f1 score: 0.60277, precison: 0.59947, recall: 0.60610\n"
          ]
        },
        {
          "output_type": "stream",
          "name": "stderr",
          "text": [
            "\u001b[32m[2023-04-06 09:19:51,537] [    INFO]\u001b[0m - tokenizer config file saved in ernie_ckpt/tokenizer_config.json\u001b[0m\n",
            "\u001b[32m[2023-04-06 09:19:51,539] [    INFO]\u001b[0m - Special tokens file saved in ernie_ckpt/special_tokens_map.json\u001b[0m\n"
          ]
        },
        {
          "output_type": "stream",
          "name": "stdout",
          "text": [
            "global step 3810, epoch: 3, batch: 756, loss: 0.08355, auc: 0.95433, f1 score: 0.60834, speed: 0.03 step/s\n",
            "global step 3820, epoch: 3, batch: 766, loss: 0.09035, auc: 0.95188, f1 score: 0.59772, speed: 0.12 step/s\n",
            "global step 3830, epoch: 3, batch: 776, loss: 0.08565, auc: 0.95200, f1 score: 0.60510, speed: 0.12 step/s\n",
            "global step 3840, epoch: 3, batch: 786, loss: 0.09148, auc: 0.95218, f1 score: 0.60858, speed: 0.12 step/s\n",
            "eval loss: 0.08834, auc: 0.94693, f1 score: 0.59827, precison: 0.58405, recall: 0.61321\n",
            "global step 3850, epoch: 3, batch: 796, loss: 0.07217, auc: 0.96295, f1 score: 0.68690, speed: 0.03 step/s\n",
            "global step 3860, epoch: 3, batch: 806, loss: 0.10577, auc: 0.96105, f1 score: 0.64374, speed: 0.11 step/s\n",
            "global step 3870, epoch: 3, batch: 816, loss: 0.10175, auc: 0.95944, f1 score: 0.63491, speed: 0.12 step/s\n",
            "global step 3880, epoch: 3, batch: 826, loss: 0.09435, auc: 0.95919, f1 score: 0.63033, speed: 0.11 step/s\n",
            "eval loss: 0.08774, auc: 0.94787, f1 score: 0.59097, precison: 0.56414, recall: 0.62048\n",
            "global step 3890, epoch: 3, batch: 836, loss: 0.08311, auc: 0.95517, f1 score: 0.62467, speed: 0.03 step/s\n",
            "global step 3900, epoch: 3, batch: 846, loss: 0.07794, auc: 0.95219, f1 score: 0.63186, speed: 0.12 step/s\n",
            "global step 3910, epoch: 3, batch: 856, loss: 0.06627, auc: 0.95406, f1 score: 0.63738, speed: 0.11 step/s\n",
            "global step 3920, epoch: 3, batch: 866, loss: 0.08066, auc: 0.95474, f1 score: 0.62668, speed: 0.11 step/s\n",
            "eval loss: 0.08771, auc: 0.94869, f1 score: 0.59261, precison: 0.55383, recall: 0.63723\n",
            "global step 3930, epoch: 3, batch: 876, loss: 0.07882, auc: 0.95425, f1 score: 0.58882, speed: 0.03 step/s\n",
            "global step 3940, epoch: 3, batch: 886, loss: 0.10106, auc: 0.95906, f1 score: 0.61849, speed: 0.11 step/s\n",
            "global step 3950, epoch: 3, batch: 896, loss: 0.08569, auc: 0.95771, f1 score: 0.62434, speed: 0.12 step/s\n",
            "global step 3960, epoch: 3, batch: 906, loss: 0.09875, auc: 0.95641, f1 score: 0.62829, speed: 0.11 step/s\n",
            "eval loss: 0.08723, auc: 0.94933, f1 score: 0.59429, precison: 0.58889, recall: 0.59978\n",
            "global step 3970, epoch: 3, batch: 916, loss: 0.07119, auc: 0.94887, f1 score: 0.59894, speed: 0.03 step/s\n",
            "global step 3980, epoch: 3, batch: 926, loss: 0.10248, auc: 0.94674, f1 score: 0.59517, speed: 0.12 step/s\n",
            "global step 3990, epoch: 3, batch: 936, loss: 0.08824, auc: 0.95051, f1 score: 0.59684, speed: 0.11 step/s\n",
            "global step 4000, epoch: 3, batch: 946, loss: 0.11613, auc: 0.94994, f1 score: 0.58890, speed: 0.12 step/s\n",
            "eval loss: 0.08884, auc: 0.94746, f1 score: 0.58695, precison: 0.56459, recall: 0.61116\n",
            "global step 4010, epoch: 3, batch: 956, loss: 0.09510, auc: 0.95887, f1 score: 0.60437, speed: 0.03 step/s\n",
            "global step 4020, epoch: 3, batch: 966, loss: 0.08168, auc: 0.95546, f1 score: 0.60534, speed: 0.13 step/s\n",
            "global step 4030, epoch: 3, batch: 976, loss: 0.08376, auc: 0.95722, f1 score: 0.61351, speed: 0.12 step/s\n",
            "global step 4040, epoch: 3, batch: 986, loss: 0.08256, auc: 0.95876, f1 score: 0.61842, speed: 0.12 step/s\n",
            "eval loss: 0.08817, auc: 0.94772, f1 score: 0.59236, precison: 0.57908, recall: 0.60626\n",
            "global step 4050, epoch: 3, batch: 996, loss: 0.08347, auc: 0.95714, f1 score: 0.62402, speed: 0.03 step/s\n",
            "global step 4060, epoch: 3, batch: 1006, loss: 0.08143, auc: 0.95889, f1 score: 0.63165, speed: 0.12 step/s\n",
            "global step 4070, epoch: 3, batch: 1016, loss: 0.06741, auc: 0.95630, f1 score: 0.62845, speed: 0.12 step/s\n",
            "global step 4080, epoch: 3, batch: 1026, loss: 0.08995, auc: 0.95680, f1 score: 0.62529, speed: 0.12 step/s\n",
            "eval loss: 0.08759, auc: 0.94851, f1 score: 0.59194, precison: 0.56292, recall: 0.62411\n",
            "global step 4090, epoch: 3, batch: 1036, loss: 0.07217, auc: 0.96357, f1 score: 0.65385, speed: 0.03 step/s\n",
            "global step 4100, epoch: 3, batch: 1046, loss: 0.08335, auc: 0.96208, f1 score: 0.63854, speed: 0.12 step/s\n",
            "global step 4110, epoch: 3, batch: 1056, loss: 0.07061, auc: 0.95838, f1 score: 0.62303, speed: 0.12 step/s\n",
            "global step 4120, epoch: 3, batch: 1066, loss: 0.07010, auc: 0.95842, f1 score: 0.62298, speed: 0.11 step/s\n",
            "eval loss: 0.08686, auc: 0.94890, f1 score: 0.59911, precison: 0.58014, recall: 0.61937\n",
            "global step 4130, epoch: 3, batch: 1076, loss: 0.07402, auc: 0.94591, f1 score: 0.61560, speed: 0.03 step/s\n",
            "global step 4140, epoch: 3, batch: 1086, loss: 0.09872, auc: 0.94651, f1 score: 0.60391, speed: 0.12 step/s\n",
            "global step 4150, epoch: 3, batch: 1096, loss: 0.09180, auc: 0.95108, f1 score: 0.61682, speed: 0.11 step/s\n",
            "global step 4160, epoch: 3, batch: 1106, loss: 0.10176, auc: 0.95291, f1 score: 0.61864, speed: 0.11 step/s\n",
            "eval loss: 0.08744, auc: 0.94814, f1 score: 0.59873, precison: 0.60926, recall: 0.58856\n",
            "global step 4170, epoch: 3, batch: 1116, loss: 0.11348, auc: 0.95237, f1 score: 0.62952, speed: 0.03 step/s\n",
            "global step 4180, epoch: 3, batch: 1126, loss: 0.08287, auc: 0.95296, f1 score: 0.60732, speed: 0.12 step/s\n",
            "global step 4190, epoch: 3, batch: 1136, loss: 0.08759, auc: 0.95294, f1 score: 0.60200, speed: 0.12 step/s\n",
            "global step 4200, epoch: 3, batch: 1146, loss: 0.09549, auc: 0.95285, f1 score: 0.60126, speed: 0.13 step/s\n",
            "eval loss: 0.08791, auc: 0.94806, f1 score: 0.58924, precison: 0.55618, recall: 0.62648\n",
            "global step 4210, epoch: 3, batch: 1156, loss: 0.07002, auc: 0.96317, f1 score: 0.65531, speed: 0.03 step/s\n",
            "global step 4220, epoch: 3, batch: 1166, loss: 0.09675, auc: 0.95470, f1 score: 0.61929, speed: 0.12 step/s\n",
            "global step 4230, epoch: 3, batch: 1176, loss: 0.07828, auc: 0.95392, f1 score: 0.61972, speed: 0.12 step/s\n",
            "global step 4240, epoch: 3, batch: 1186, loss: 0.07363, auc: 0.95336, f1 score: 0.61378, speed: 0.11 step/s\n",
            "eval loss: 0.08729, auc: 0.94917, f1 score: 0.59254, precison: 0.57530, recall: 0.61084\n",
            "global step 4250, epoch: 3, batch: 1196, loss: 0.07858, auc: 0.96475, f1 score: 0.63361, speed: 0.03 step/s\n",
            "global step 4260, epoch: 3, batch: 1206, loss: 0.09692, auc: 0.95898, f1 score: 0.62845, speed: 0.12 step/s\n",
            "global step 4270, epoch: 3, batch: 1216, loss: 0.08134, auc: 0.95834, f1 score: 0.61759, speed: 0.12 step/s\n",
            "global step 4280, epoch: 3, batch: 1226, loss: 0.10905, auc: 0.95543, f1 score: 0.60562, speed: 0.12 step/s\n",
            "eval loss: 0.08718, auc: 0.94967, f1 score: 0.59111, precison: 0.55739, recall: 0.62917\n",
            "global step 4290, epoch: 3, batch: 1236, loss: 0.10243, auc: 0.96046, f1 score: 0.61401, speed: 0.03 step/s\n",
            "global step 4300, epoch: 3, batch: 1246, loss: 0.05654, auc: 0.96058, f1 score: 0.62259, speed: 0.13 step/s\n",
            "global step 4310, epoch: 3, batch: 1256, loss: 0.08142, auc: 0.95571, f1 score: 0.59878, speed: 0.12 step/s\n",
            "global step 4320, epoch: 3, batch: 1266, loss: 0.08867, auc: 0.95676, f1 score: 0.60786, speed: 0.12 step/s\n",
            "eval loss: 0.08696, auc: 0.94862, f1 score: 0.59918, precison: 0.58942, recall: 0.60926\n",
            "global step 4330, epoch: 3, batch: 1276, loss: 0.08483, auc: 0.96202, f1 score: 0.64041, speed: 0.03 step/s\n",
            "global step 4340, epoch: 3, batch: 1286, loss: 0.09098, auc: 0.96013, f1 score: 0.63313, speed: 0.12 step/s\n",
            "global step 4350, epoch: 3, batch: 1296, loss: 0.09068, auc: 0.96049, f1 score: 0.62954, speed: 0.12 step/s\n",
            "global step 4360, epoch: 3, batch: 1306, loss: 0.07774, auc: 0.95951, f1 score: 0.62442, speed: 0.12 step/s\n",
            "eval loss: 0.08723, auc: 0.94983, f1 score: 0.59113, precison: 0.57377, recall: 0.60957\n",
            "global step 4370, epoch: 3, batch: 1316, loss: 0.08146, auc: 0.95138, f1 score: 0.61697, speed: 0.03 step/s\n",
            "global step 4380, epoch: 3, batch: 1326, loss: 0.07155, auc: 0.95316, f1 score: 0.61359, speed: 0.12 step/s\n",
            "global step 4390, epoch: 3, batch: 1336, loss: 0.08231, auc: 0.95590, f1 score: 0.60419, speed: 0.12 step/s\n",
            "global step 4400, epoch: 3, batch: 1346, loss: 0.07931, auc: 0.95761, f1 score: 0.61124, speed: 0.12 step/s\n",
            "eval loss: 0.08681, auc: 0.94940, f1 score: 0.59951, precison: 0.58312, recall: 0.61684\n",
            "global step 4410, epoch: 3, batch: 1356, loss: 0.10119, auc: 0.95355, f1 score: 0.61004, speed: 0.03 step/s\n",
            "global step 4420, epoch: 3, batch: 1366, loss: 0.06899, auc: 0.95490, f1 score: 0.60958, speed: 0.13 step/s\n",
            "global step 4430, epoch: 3, batch: 1376, loss: 0.08269, auc: 0.95512, f1 score: 0.60273, speed: 0.13 step/s\n",
            "global step 4440, epoch: 3, batch: 1386, loss: 0.08432, auc: 0.95600, f1 score: 0.60656, speed: 0.13 step/s\n",
            "eval loss: 0.08800, auc: 0.94915, f1 score: 0.58639, precison: 0.57934, recall: 0.59362\n",
            "global step 4450, epoch: 3, batch: 1396, loss: 0.08346, auc: 0.95723, f1 score: 0.63087, speed: 0.03 step/s\n",
            "global step 4460, epoch: 3, batch: 1406, loss: 0.08382, auc: 0.95381, f1 score: 0.60424, speed: 0.12 step/s\n",
            "global step 4470, epoch: 3, batch: 1416, loss: 0.08801, auc: 0.95318, f1 score: 0.60476, speed: 0.12 step/s\n",
            "global step 4480, epoch: 3, batch: 1426, loss: 0.07990, auc: 0.95063, f1 score: 0.60470, speed: 0.11 step/s\n",
            "eval loss: 0.08834, auc: 0.94944, f1 score: 0.57687, precison: 0.54738, recall: 0.60973\n",
            "global step 4490, epoch: 3, batch: 1436, loss: 0.08637, auc: 0.96184, f1 score: 0.61429, speed: 0.03 step/s\n",
            "global step 4500, epoch: 3, batch: 1446, loss: 0.06247, auc: 0.95971, f1 score: 0.63251, speed: 0.13 step/s\n",
            "global step 4510, epoch: 3, batch: 1456, loss: 0.09906, auc: 0.95395, f1 score: 0.61023, speed: 0.12 step/s\n",
            "global step 4520, epoch: 3, batch: 1466, loss: 0.08648, auc: 0.95439, f1 score: 0.60545, speed: 0.12 step/s\n",
            "eval loss: 0.08697, auc: 0.95012, f1 score: 0.59458, precison: 0.59318, recall: 0.59599\n",
            "global step 4530, epoch: 3, batch: 1476, loss: 0.06936, auc: 0.96172, f1 score: 0.63366, speed: 0.03 step/s\n",
            "global step 4540, epoch: 3, batch: 1486, loss: 0.09149, auc: 0.95590, f1 score: 0.59986, speed: 0.12 step/s\n",
            "global step 4550, epoch: 3, batch: 1496, loss: 0.10510, auc: 0.95599, f1 score: 0.60674, speed: 0.12 step/s\n",
            "global step 4560, epoch: 3, batch: 1506, loss: 0.06960, auc: 0.95769, f1 score: 0.61219, speed: 0.12 step/s\n",
            "eval loss: 0.08759, auc: 0.94823, f1 score: 0.59792, precison: 0.57874, recall: 0.61842\n",
            "global step 4570, epoch: 3, batch: 1516, loss: 0.08954, auc: 0.94992, f1 score: 0.63421, speed: 0.03 step/s\n",
            "global step 4580, epoch: 3, batch: 1526, loss: 0.08670, auc: 0.95425, f1 score: 0.61559, speed: 0.13 step/s\n"
          ]
        }
      ],
      "source": [
        "epochs = 3 # training times\n",
        "ckpt_dir = \"ernie_ckpt\" # Folder for saving model parameters during training\n",
        "\n",
        "global_step = 0  # Number of iterations\n",
        "tic_train = time.time()\n",
        "best_f1_score = 0\n",
        "\n",
        "# Model Training\n",
        "for epoch in range(1, epochs + 1):\n",
        "    for step, batch in enumerate(train_data_loader, start=1):\n",
        "        input_ids, token_type_ids, labels = batch['input_ids'], batch['token_type_ids'], batch['labels']\n",
        "\n",
        "        # Calculate model output, loss function value, classification probability value, accuracy, f1 score.\n",
        "        logits = model(input_ids, token_type_ids)\n",
        "        loss = criterion(logits, labels)\n",
        "        probs = F.sigmoid(logits)\n",
        "        metric.update(probs, labels)\n",
        "        auc, f1_score, _, _ = metric.accumulate()\n",
        "\n",
        "        # Print the loss function value, accuracy, f1 score, and computation speed for each 10 iterations.\n",
        "        global_step += 1\n",
        "        if global_step % 10 == 0:\n",
        "            print(\n",
        "                \"global step %d, epoch: %d, batch: %d, loss: %.5f, auc: %.5f, f1 score: %.5f, speed: %.2f step/s\"\n",
        "                % (global_step, epoch, step, loss, auc, f1_score,\n",
        "                    10 / (time.time() - tic_train)))\n",
        "            tic_train = time.time()\n",
        "        \n",
        "        # Reverse gradient passback with updated parameters.\n",
        "        loss.backward()\n",
        "        optimizer.step()\n",
        "        optimizer.clear_grad()\n",
        "        \n",
        "        # Every 40 iterations, evaluate the current trained model, save the current best model parameters and word list of the word splitter, etc.\n",
        "        if global_step % 40 == 0:\n",
        "            save_dir = ckpt_dir\n",
        "            if not os.path.exists(save_dir):\n",
        "                os.makedirs(save_dir)\n",
        "            eval_f1_score = evaluate(model, criterion, metric, test_data_loader, label_vocab, if_return_results=False)\n",
        "            if eval_f1_score > best_f1_score:\n",
        "                best_f1_score = eval_f1_score\n",
        "                model.save_pretrained(save_dir)\n",
        "                tokenizer.save_pretrained(save_dir)"
      ]
    },
    {
      "cell_type": "markdown",
      "source": [
        "##Model Validation Performance Results"
      ],
      "metadata": {
        "id": "ceTkFuyvZdq3"
      }
    },
    {
      "cell_type": "code",
      "execution_count": 21,
      "metadata": {
        "colab": {
          "base_uri": "https://localhost:8080/"
        },
        "id": "MLbem2Gk6270",
        "outputId": "49958282-11c6-439c-f9ca-9a1cdafd856c"
      },
      "outputs": [
        {
          "output_type": "stream",
          "name": "stdout",
          "text": [
            "ERNIE 3.0 performance on GoEmotions micro-emotion 28 classification test set： eval loss: 0.08721, auc: 0.94835, f1 score: 0.60277, precison: 0.59947, recall: 0.60610\n"
          ]
        }
      ],
      "source": [
        "# Load the optimal parameters of the trained model.\n",
        "model.set_dict(paddle.load('ernie_ckpt/model_state.pdparams'))\n",
        "\n",
        "# Load the parameters of the previously trained model.\n",
        "# model.set_dict(paddle.load('/home/aistudio/work/model_state.pdparams'))\n",
        "\n",
        "# Model Validation.\n",
        "print(\"ERNIE 3.0 performance on GoEmotions micro-emotion 28 classification test set：\", end= \" \")\n",
        "results = evaluate(model, criterion, metric, test_data_loader, label_vocab)"
      ]
    },
    {
      "cell_type": "markdown",
      "source": [
        "## 28 Multi-Label Groups of \"Micro\" Emotions Predicting Demo"
      ],
      "metadata": {
        "id": "mQa2C8i9Z8q9"
      }
    },
    {
      "cell_type": "code",
      "execution_count": 4,
      "metadata": {
        "id": "KlKCxQYjPS3C",
        "colab": {
          "base_uri": "https://localhost:8080/",
          "height": 373
        },
        "outputId": "b49b0a81-97c5-4c45-e4da-9d9397173ded"
      },
      "outputs": [
        {
          "output_type": "error",
          "ename": "ModuleNotFoundError",
          "evalue": "ignored",
          "traceback": [
            "\u001b[0;31m---------------------------------------------------------------------------\u001b[0m",
            "\u001b[0;31mModuleNotFoundError\u001b[0m                       Traceback (most recent call last)",
            "\u001b[0;32m<ipython-input-4-7be3de35bf3f>\u001b[0m in \u001b[0;36m<cell line: 2>\u001b[0;34m()\u001b[0m\n\u001b[1;32m      1\u001b[0m \u001b[0;31m# Define data loading and processing functions\u001b[0m\u001b[0;34m\u001b[0m\u001b[0;34m\u001b[0m\u001b[0m\n\u001b[0;32m----> 2\u001b[0;31m \u001b[0;32mfrom\u001b[0m \u001b[0mpaddlenlp\u001b[0m\u001b[0;34m.\u001b[0m\u001b[0mdata\u001b[0m \u001b[0;32mimport\u001b[0m \u001b[0mJiebaTokenizer\u001b[0m\u001b[0;34m,\u001b[0m \u001b[0mPad\u001b[0m\u001b[0;34m,\u001b[0m \u001b[0mStack\u001b[0m\u001b[0;34m,\u001b[0m \u001b[0mTuple\u001b[0m\u001b[0;34m,\u001b[0m \u001b[0mVocab\u001b[0m\u001b[0;34m\u001b[0m\u001b[0;34m\u001b[0m\u001b[0m\n\u001b[0m\u001b[1;32m      3\u001b[0m \u001b[0;32mdef\u001b[0m \u001b[0mconvert_example\u001b[0m\u001b[0;34m(\u001b[0m\u001b[0mexample\u001b[0m\u001b[0;34m,\u001b[0m \u001b[0mtokenizer\u001b[0m\u001b[0;34m,\u001b[0m \u001b[0mmax_seq_length\u001b[0m\u001b[0;34m=\u001b[0m\u001b[0;36m64\u001b[0m\u001b[0;34m,\u001b[0m \u001b[0mis_test\u001b[0m\u001b[0;34m=\u001b[0m\u001b[0;32mFalse\u001b[0m\u001b[0;34m)\u001b[0m\u001b[0;34m:\u001b[0m\u001b[0;34m\u001b[0m\u001b[0;34m\u001b[0m\u001b[0m\n\u001b[1;32m      4\u001b[0m     \u001b[0mqtconcat\u001b[0m \u001b[0;34m=\u001b[0m \u001b[0mexample\u001b[0m\u001b[0;34m[\u001b[0m\u001b[0;34m\"text\"\u001b[0m\u001b[0;34m]\u001b[0m\u001b[0;34m\u001b[0m\u001b[0;34m\u001b[0m\u001b[0m\n\u001b[1;32m      5\u001b[0m     \u001b[0mencoded_inputs\u001b[0m \u001b[0;34m=\u001b[0m \u001b[0mtokenizer\u001b[0m\u001b[0;34m(\u001b[0m\u001b[0mtext\u001b[0m\u001b[0;34m=\u001b[0m\u001b[0mqtconcat\u001b[0m\u001b[0;34m,\u001b[0m \u001b[0mmax_seq_len\u001b[0m\u001b[0;34m=\u001b[0m\u001b[0mmax_seq_length\u001b[0m\u001b[0;34m)\u001b[0m\u001b[0;34m\u001b[0m\u001b[0;34m\u001b[0m\u001b[0m\n",
            "\u001b[0;31mModuleNotFoundError\u001b[0m: No module named 'paddlenlp'",
            "",
            "\u001b[0;31m---------------------------------------------------------------------------\u001b[0;32m\nNOTE: If your import is failing due to a missing package, you can\nmanually install dependencies using either !pip or !apt.\n\nTo view examples of installing some common dependencies, click the\n\"Open Examples\" button below.\n\u001b[0;31m---------------------------------------------------------------------------\u001b[0m\n"
          ],
          "errorDetails": {
            "actions": [
              {
                "action": "open_url",
                "actionText": "Open Examples",
                "url": "/notebooks/snippets/importing_libraries.ipynb"
              }
            ]
          }
        }
      ],
      "source": [
        "# Define data loading and processing functions\n",
        "from paddlenlp.data import JiebaTokenizer, Pad, Stack, Tuple, Vocab\n",
        "def convert_example(example, tokenizer, max_seq_length=64, is_test=False):\n",
        "    qtconcat = example[\"text\"]\n",
        "    encoded_inputs = tokenizer(text=qtconcat, max_seq_len=max_seq_length)\n",
        "    input_ids = encoded_inputs[\"input_ids\"]\n",
        "    token_type_ids = encoded_inputs[\"token_type_ids\"]\n",
        "    if not is_test:\n",
        "        label = np.array([example[\"label\"]], dtype=\"int64\")\n",
        "        return input_ids, token_type_ids, label\n",
        "    else:\n",
        "        return input_ids, token_type_ids\n",
        "\n",
        "# Define the model prediction function\n",
        "def predict(model, data, tokenizer, label_vocab, batch_size=1, max_seq=64):\n",
        "    examples = []\n",
        "    # Process input data (the list form) into a format acceptable to the model\n",
        "    for text in data:\n",
        "        input_ids, segment_ids = convert_example(\n",
        "            text,\n",
        "            tokenizer,\n",
        "            max_seq_length=max_seq,\n",
        "            is_test=True)\n",
        "        examples.append((input_ids, segment_ids))\n",
        "\n",
        "    batchify_fn = lambda samples, fn=Tuple(\n",
        "        Pad(axis=0, pad_val=tokenizer.pad_token_id),  # input id\n",
        "        Pad(axis=0, pad_val=tokenizer.pad_token_id),  # segment id\n",
        "    ): fn(samples)\n",
        "\n",
        "    # Seperates data into some batches.\n",
        "    batches = []\n",
        "    one_batch = []\n",
        "    for example in examples:\n",
        "        one_batch.append(example)\n",
        "        if len(one_batch) == batch_size:\n",
        "            batches.append(one_batch)\n",
        "            one_batch = []\n",
        "    if one_batch:\n",
        "        # The last batch whose size is less than the config batch_size setting.\n",
        "        batches.append(one_batch)\n",
        "\n",
        "    results = []\n",
        "    model.eval()\n",
        "    for batch in batches:\n",
        "        input_ids, segment_ids = batchify_fn(batch)\n",
        "        input_ids = paddle.to_tensor(input_ids)\n",
        "        segment_ids = paddle.to_tensor(segment_ids)\n",
        "        logits = model(input_ids, segment_ids)\n",
        "        probs = F.sigmoid(logits)\n",
        "        probs = probs.tolist()\n",
        "        # The results were processed by selecting the sentiment categories with probability greater than 0.5\n",
        "        for prob in probs:\n",
        "            result = []\n",
        "            for c, pred in enumerate(prob):\n",
        "                if pred > 0.5:\n",
        "                    result.append(label_vocab[c])\n",
        "            results.append(','.join(result))\n",
        "    return results  # Return the predeicted results"
      ]
    },
    {
      "cell_type": "markdown",
      "source": [
        "## Prediction Results"
      ],
      "metadata": {
        "id": "v95xnBu3aVUx"
      }
    },
    {
      "cell_type": "code",
      "execution_count": 5,
      "metadata": {
        "id": "3W2OfqsBRfB1",
        "colab": {
          "base_uri": "https://localhost:8080/",
          "height": 235
        },
        "outputId": "9590a752-249f-4efe-e929-50adbb711596"
      },
      "outputs": [
        {
          "output_type": "error",
          "ename": "NameError",
          "evalue": "ignored",
          "traceback": [
            "\u001b[0;31m---------------------------------------------------------------------------\u001b[0m",
            "\u001b[0;31mNameError\u001b[0m                                 Traceback (most recent call last)",
            "\u001b[0;32m<ipython-input-5-06a62fed003f>\u001b[0m in \u001b[0;36m<cell line: 14>\u001b[0;34m()\u001b[0m\n\u001b[1;32m     12\u001b[0m \u001b[0;34m\u001b[0m\u001b[0m\n\u001b[1;32m     13\u001b[0m \u001b[0;31m# Model Prediction\u001b[0m\u001b[0;34m\u001b[0m\u001b[0;34m\u001b[0m\u001b[0m\n\u001b[0;32m---> 14\u001b[0;31m \u001b[0mlabels\u001b[0m \u001b[0;34m=\u001b[0m  \u001b[0mpredict\u001b[0m\u001b[0;34m(\u001b[0m\u001b[0mmodel\u001b[0m\u001b[0;34m,\u001b[0m \u001b[0mdata\u001b[0m\u001b[0;34m,\u001b[0m \u001b[0mtokenizer\u001b[0m\u001b[0;34m,\u001b[0m \u001b[0mlabel_vocab\u001b[0m\u001b[0;34m,\u001b[0m \u001b[0mbatch_size\u001b[0m\u001b[0;34m=\u001b[0m\u001b[0;36m1\u001b[0m\u001b[0;34m)\u001b[0m\u001b[0;34m\u001b[0m\u001b[0;34m\u001b[0m\u001b[0m\n\u001b[0m\u001b[1;32m     15\u001b[0m \u001b[0;34m\u001b[0m\u001b[0m\n\u001b[1;32m     16\u001b[0m \u001b[0;31m# Output of predicted results\u001b[0m\u001b[0;34m\u001b[0m\u001b[0;34m\u001b[0m\u001b[0m\n",
            "\u001b[0;31mNameError\u001b[0m: name 'predict' is not defined"
          ]
        }
      ],
      "source": [
        "# Define the text data to be subjected to micro-sentiment analysis\n",
        "data = [\n",
        "    # 11 disgust\n",
        "    {\"text\": 'Thats absolutely disgusting.'},\n",
        "    # 7 curiosity\n",
        "    {\"text\":'Why would I do that?'},\n",
        "    # 2 anger\n",
        "    {\"text\":\"You shut your mouth\"},\n",
        "    # 15 gratitude\n",
        "    {\"text\":\"Thank you.\"}\n",
        "]\n",
        "\n",
        "# Model Prediction\n",
        "labels =  predict(model, data, tokenizer, label_vocab, batch_size=1)\n",
        "\n",
        "# Output of predicted results\n",
        "for idx, text in enumerate(data):\n",
        "    print('Text: {} \\t Lables: {}'.format(text['text'], labels[idx]))"
      ]
    },
    {
      "cell_type": "code",
      "source": [
        "from google.colab import drive\n",
        "drive.mount('/content/drive')"
      ],
      "metadata": {
        "colab": {
          "base_uri": "https://localhost:8080/"
        },
        "id": "-JkChJBzqHuK",
        "outputId": "90b2c6c8-0ae7-43bb-e826-520df10c5ae2"
      },
      "execution_count": 1,
      "outputs": [
        {
          "output_type": "stream",
          "name": "stdout",
          "text": [
            "Mounted at /content/drive\n"
          ]
        }
      ]
    },
    {
      "cell_type": "code",
      "source": [
        "!cp /content/ernie_ckpt/model_state.pdparams /content/model_state.pdparams"
      ],
      "metadata": {
        "id": "9DDfiSCsA2ur"
      },
      "execution_count": 24,
      "outputs": []
    },
    {
      "cell_type": "code",
      "source": [],
      "metadata": {
        "id": "_tqmz6c6oS9Y"
      },
      "execution_count": null,
      "outputs": []
    }
  ],
  "metadata": {
    "accelerator": "GPU",
    "colab": {
      "provenance": [],
      "machine_shape": "hm"
    },
    "gpuClass": "standard",
    "kernelspec": {
      "display_name": "Python 3",
      "name": "python3"
    },
    "language_info": {
      "name": "python"
    },
    "widgets": {
      "application/vnd.jupyter.widget-state+json": {
        "23846e6a134a4016804504c80c9eebc1": {
          "model_module": "@jupyter-widgets/controls",
          "model_name": "HBoxModel",
          "model_module_version": "1.5.0",
          "state": {
            "_dom_classes": [],
            "_model_module": "@jupyter-widgets/controls",
            "_model_module_version": "1.5.0",
            "_model_name": "HBoxModel",
            "_view_count": null,
            "_view_module": "@jupyter-widgets/controls",
            "_view_module_version": "1.5.0",
            "_view_name": "HBoxView",
            "box_style": "",
            "children": [
              "IPY_MODEL_b417d170d675440d961b697334042145",
              "IPY_MODEL_87a9a0cd39344826aa7bc24e6c960b45",
              "IPY_MODEL_2d6660ad5f674a609e1519d885e3400f"
            ],
            "layout": "IPY_MODEL_56fdeb5d82224847bdd8912409d93c30"
          }
        },
        "b417d170d675440d961b697334042145": {
          "model_module": "@jupyter-widgets/controls",
          "model_name": "HTMLModel",
          "model_module_version": "1.5.0",
          "state": {
            "_dom_classes": [],
            "_model_module": "@jupyter-widgets/controls",
            "_model_module_version": "1.5.0",
            "_model_name": "HTMLModel",
            "_view_count": null,
            "_view_module": "@jupyter-widgets/controls",
            "_view_module_version": "1.5.0",
            "_view_name": "HTMLView",
            "description": "",
            "description_tooltip": null,
            "layout": "IPY_MODEL_e5d54fb410d74716ad5942e805dd5783",
            "placeholder": "​",
            "style": "IPY_MODEL_8c0a6fbefd64470697ffdcc6501eacf4",
            "value": "100%"
          }
        },
        "87a9a0cd39344826aa7bc24e6c960b45": {
          "model_module": "@jupyter-widgets/controls",
          "model_name": "FloatProgressModel",
          "model_module_version": "1.5.0",
          "state": {
            "_dom_classes": [],
            "_model_module": "@jupyter-widgets/controls",
            "_model_module_version": "1.5.0",
            "_model_name": "FloatProgressModel",
            "_view_count": null,
            "_view_module": "@jupyter-widgets/controls",
            "_view_module_version": "1.5.0",
            "_view_name": "ProgressView",
            "bar_style": "success",
            "description": "",
            "description_tooltip": null,
            "layout": "IPY_MODEL_e7f60de1f46b425d9ab2b5fd5361a473",
            "max": 327709220,
            "min": 0,
            "orientation": "horizontal",
            "style": "IPY_MODEL_197abaed064b467f917434457a4d854b",
            "value": 327709220
          }
        },
        "2d6660ad5f674a609e1519d885e3400f": {
          "model_module": "@jupyter-widgets/controls",
          "model_name": "HTMLModel",
          "model_module_version": "1.5.0",
          "state": {
            "_dom_classes": [],
            "_model_module": "@jupyter-widgets/controls",
            "_model_module_version": "1.5.0",
            "_model_name": "HTMLModel",
            "_view_count": null,
            "_view_module": "@jupyter-widgets/controls",
            "_view_module_version": "1.5.0",
            "_view_name": "HTMLView",
            "description": "",
            "description_tooltip": null,
            "layout": "IPY_MODEL_308b6f5f7d834f5db2ae1dbbee6a24df",
            "placeholder": "​",
            "style": "IPY_MODEL_d2310f6139504f72a9d7b60fc3f47b21",
            "value": " 313M/313M [00:39&lt;00:00, 11.7MB/s]"
          }
        },
        "56fdeb5d82224847bdd8912409d93c30": {
          "model_module": "@jupyter-widgets/base",
          "model_name": "LayoutModel",
          "model_module_version": "1.2.0",
          "state": {
            "_model_module": "@jupyter-widgets/base",
            "_model_module_version": "1.2.0",
            "_model_name": "LayoutModel",
            "_view_count": null,
            "_view_module": "@jupyter-widgets/base",
            "_view_module_version": "1.2.0",
            "_view_name": "LayoutView",
            "align_content": null,
            "align_items": null,
            "align_self": null,
            "border": null,
            "bottom": null,
            "display": null,
            "flex": null,
            "flex_flow": null,
            "grid_area": null,
            "grid_auto_columns": null,
            "grid_auto_flow": null,
            "grid_auto_rows": null,
            "grid_column": null,
            "grid_gap": null,
            "grid_row": null,
            "grid_template_areas": null,
            "grid_template_columns": null,
            "grid_template_rows": null,
            "height": null,
            "justify_content": null,
            "justify_items": null,
            "left": null,
            "margin": null,
            "max_height": null,
            "max_width": null,
            "min_height": null,
            "min_width": null,
            "object_fit": null,
            "object_position": null,
            "order": null,
            "overflow": null,
            "overflow_x": null,
            "overflow_y": null,
            "padding": null,
            "right": null,
            "top": null,
            "visibility": null,
            "width": null
          }
        },
        "e5d54fb410d74716ad5942e805dd5783": {
          "model_module": "@jupyter-widgets/base",
          "model_name": "LayoutModel",
          "model_module_version": "1.2.0",
          "state": {
            "_model_module": "@jupyter-widgets/base",
            "_model_module_version": "1.2.0",
            "_model_name": "LayoutModel",
            "_view_count": null,
            "_view_module": "@jupyter-widgets/base",
            "_view_module_version": "1.2.0",
            "_view_name": "LayoutView",
            "align_content": null,
            "align_items": null,
            "align_self": null,
            "border": null,
            "bottom": null,
            "display": null,
            "flex": null,
            "flex_flow": null,
            "grid_area": null,
            "grid_auto_columns": null,
            "grid_auto_flow": null,
            "grid_auto_rows": null,
            "grid_column": null,
            "grid_gap": null,
            "grid_row": null,
            "grid_template_areas": null,
            "grid_template_columns": null,
            "grid_template_rows": null,
            "height": null,
            "justify_content": null,
            "justify_items": null,
            "left": null,
            "margin": null,
            "max_height": null,
            "max_width": null,
            "min_height": null,
            "min_width": null,
            "object_fit": null,
            "object_position": null,
            "order": null,
            "overflow": null,
            "overflow_x": null,
            "overflow_y": null,
            "padding": null,
            "right": null,
            "top": null,
            "visibility": null,
            "width": null
          }
        },
        "8c0a6fbefd64470697ffdcc6501eacf4": {
          "model_module": "@jupyter-widgets/controls",
          "model_name": "DescriptionStyleModel",
          "model_module_version": "1.5.0",
          "state": {
            "_model_module": "@jupyter-widgets/controls",
            "_model_module_version": "1.5.0",
            "_model_name": "DescriptionStyleModel",
            "_view_count": null,
            "_view_module": "@jupyter-widgets/base",
            "_view_module_version": "1.2.0",
            "_view_name": "StyleView",
            "description_width": ""
          }
        },
        "e7f60de1f46b425d9ab2b5fd5361a473": {
          "model_module": "@jupyter-widgets/base",
          "model_name": "LayoutModel",
          "model_module_version": "1.2.0",
          "state": {
            "_model_module": "@jupyter-widgets/base",
            "_model_module_version": "1.2.0",
            "_model_name": "LayoutModel",
            "_view_count": null,
            "_view_module": "@jupyter-widgets/base",
            "_view_module_version": "1.2.0",
            "_view_name": "LayoutView",
            "align_content": null,
            "align_items": null,
            "align_self": null,
            "border": null,
            "bottom": null,
            "display": null,
            "flex": null,
            "flex_flow": null,
            "grid_area": null,
            "grid_auto_columns": null,
            "grid_auto_flow": null,
            "grid_auto_rows": null,
            "grid_column": null,
            "grid_gap": null,
            "grid_row": null,
            "grid_template_areas": null,
            "grid_template_columns": null,
            "grid_template_rows": null,
            "height": null,
            "justify_content": null,
            "justify_items": null,
            "left": null,
            "margin": null,
            "max_height": null,
            "max_width": null,
            "min_height": null,
            "min_width": null,
            "object_fit": null,
            "object_position": null,
            "order": null,
            "overflow": null,
            "overflow_x": null,
            "overflow_y": null,
            "padding": null,
            "right": null,
            "top": null,
            "visibility": null,
            "width": null
          }
        },
        "197abaed064b467f917434457a4d854b": {
          "model_module": "@jupyter-widgets/controls",
          "model_name": "ProgressStyleModel",
          "model_module_version": "1.5.0",
          "state": {
            "_model_module": "@jupyter-widgets/controls",
            "_model_module_version": "1.5.0",
            "_model_name": "ProgressStyleModel",
            "_view_count": null,
            "_view_module": "@jupyter-widgets/base",
            "_view_module_version": "1.2.0",
            "_view_name": "StyleView",
            "bar_color": null,
            "description_width": ""
          }
        },
        "308b6f5f7d834f5db2ae1dbbee6a24df": {
          "model_module": "@jupyter-widgets/base",
          "model_name": "LayoutModel",
          "model_module_version": "1.2.0",
          "state": {
            "_model_module": "@jupyter-widgets/base",
            "_model_module_version": "1.2.0",
            "_model_name": "LayoutModel",
            "_view_count": null,
            "_view_module": "@jupyter-widgets/base",
            "_view_module_version": "1.2.0",
            "_view_name": "LayoutView",
            "align_content": null,
            "align_items": null,
            "align_self": null,
            "border": null,
            "bottom": null,
            "display": null,
            "flex": null,
            "flex_flow": null,
            "grid_area": null,
            "grid_auto_columns": null,
            "grid_auto_flow": null,
            "grid_auto_rows": null,
            "grid_column": null,
            "grid_gap": null,
            "grid_row": null,
            "grid_template_areas": null,
            "grid_template_columns": null,
            "grid_template_rows": null,
            "height": null,
            "justify_content": null,
            "justify_items": null,
            "left": null,
            "margin": null,
            "max_height": null,
            "max_width": null,
            "min_height": null,
            "min_width": null,
            "object_fit": null,
            "object_position": null,
            "order": null,
            "overflow": null,
            "overflow_x": null,
            "overflow_y": null,
            "padding": null,
            "right": null,
            "top": null,
            "visibility": null,
            "width": null
          }
        },
        "d2310f6139504f72a9d7b60fc3f47b21": {
          "model_module": "@jupyter-widgets/controls",
          "model_name": "DescriptionStyleModel",
          "model_module_version": "1.5.0",
          "state": {
            "_model_module": "@jupyter-widgets/controls",
            "_model_module_version": "1.5.0",
            "_model_name": "DescriptionStyleModel",
            "_view_count": null,
            "_view_module": "@jupyter-widgets/base",
            "_view_module_version": "1.2.0",
            "_view_name": "StyleView",
            "description_width": ""
          }
        },
        "3fd07345df3345428967c916ba8cef02": {
          "model_module": "@jupyter-widgets/controls",
          "model_name": "HBoxModel",
          "model_module_version": "1.5.0",
          "state": {
            "_dom_classes": [],
            "_model_module": "@jupyter-widgets/controls",
            "_model_module_version": "1.5.0",
            "_model_name": "HBoxModel",
            "_view_count": null,
            "_view_module": "@jupyter-widgets/controls",
            "_view_module_version": "1.5.0",
            "_view_name": "HBoxView",
            "box_style": "",
            "children": [
              "IPY_MODEL_5129e77ac93a443cb3fd7f105a785aad",
              "IPY_MODEL_73c4a0fc7e684059a49d807a9f36c081",
              "IPY_MODEL_8907b3f08e534e52b0f1de2ffd2b2f07"
            ],
            "layout": "IPY_MODEL_288ef732f3b94a1ab32f7bfbbc94b610"
          }
        },
        "5129e77ac93a443cb3fd7f105a785aad": {
          "model_module": "@jupyter-widgets/controls",
          "model_name": "HTMLModel",
          "model_module_version": "1.5.0",
          "state": {
            "_dom_classes": [],
            "_model_module": "@jupyter-widgets/controls",
            "_model_module_version": "1.5.0",
            "_model_name": "HTMLModel",
            "_view_count": null,
            "_view_module": "@jupyter-widgets/controls",
            "_view_module_version": "1.5.0",
            "_view_name": "HTMLView",
            "description": "",
            "description_tooltip": null,
            "layout": "IPY_MODEL_200b934a78ec4ced93bbcdc73e3fa470",
            "placeholder": "​",
            "style": "IPY_MODEL_cd65652dced44c0e8f331bb622ed7d47",
            "value": "100%"
          }
        },
        "73c4a0fc7e684059a49d807a9f36c081": {
          "model_module": "@jupyter-widgets/controls",
          "model_name": "FloatProgressModel",
          "model_module_version": "1.5.0",
          "state": {
            "_dom_classes": [],
            "_model_module": "@jupyter-widgets/controls",
            "_model_module_version": "1.5.0",
            "_model_name": "FloatProgressModel",
            "_view_count": null,
            "_view_module": "@jupyter-widgets/controls",
            "_view_module_version": "1.5.0",
            "_view_name": "ProgressView",
            "bar_style": "success",
            "description": "",
            "description_tooltip": null,
            "layout": "IPY_MODEL_3bc234e69ae145749486ddf66f7cb4f3",
            "max": 186807,
            "min": 0,
            "orientation": "horizontal",
            "style": "IPY_MODEL_5d80f4d0286f4db6a9ab9aaa34b41ddc",
            "value": 186807
          }
        },
        "8907b3f08e534e52b0f1de2ffd2b2f07": {
          "model_module": "@jupyter-widgets/controls",
          "model_name": "HTMLModel",
          "model_module_version": "1.5.0",
          "state": {
            "_dom_classes": [],
            "_model_module": "@jupyter-widgets/controls",
            "_model_module_version": "1.5.0",
            "_model_name": "HTMLModel",
            "_view_count": null,
            "_view_module": "@jupyter-widgets/controls",
            "_view_module_version": "1.5.0",
            "_view_name": "HTMLView",
            "description": "",
            "description_tooltip": null,
            "layout": "IPY_MODEL_cf280987c6f64c7fbcea435f9ef09dc8",
            "placeholder": "​",
            "style": "IPY_MODEL_20455b6d7ea94151a8be668b6f57e701",
            "value": " 182k/182k [00:00&lt;00:00, 165kB/s]"
          }
        },
        "288ef732f3b94a1ab32f7bfbbc94b610": {
          "model_module": "@jupyter-widgets/base",
          "model_name": "LayoutModel",
          "model_module_version": "1.2.0",
          "state": {
            "_model_module": "@jupyter-widgets/base",
            "_model_module_version": "1.2.0",
            "_model_name": "LayoutModel",
            "_view_count": null,
            "_view_module": "@jupyter-widgets/base",
            "_view_module_version": "1.2.0",
            "_view_name": "LayoutView",
            "align_content": null,
            "align_items": null,
            "align_self": null,
            "border": null,
            "bottom": null,
            "display": null,
            "flex": null,
            "flex_flow": null,
            "grid_area": null,
            "grid_auto_columns": null,
            "grid_auto_flow": null,
            "grid_auto_rows": null,
            "grid_column": null,
            "grid_gap": null,
            "grid_row": null,
            "grid_template_areas": null,
            "grid_template_columns": null,
            "grid_template_rows": null,
            "height": null,
            "justify_content": null,
            "justify_items": null,
            "left": null,
            "margin": null,
            "max_height": null,
            "max_width": null,
            "min_height": null,
            "min_width": null,
            "object_fit": null,
            "object_position": null,
            "order": null,
            "overflow": null,
            "overflow_x": null,
            "overflow_y": null,
            "padding": null,
            "right": null,
            "top": null,
            "visibility": null,
            "width": null
          }
        },
        "200b934a78ec4ced93bbcdc73e3fa470": {
          "model_module": "@jupyter-widgets/base",
          "model_name": "LayoutModel",
          "model_module_version": "1.2.0",
          "state": {
            "_model_module": "@jupyter-widgets/base",
            "_model_module_version": "1.2.0",
            "_model_name": "LayoutModel",
            "_view_count": null,
            "_view_module": "@jupyter-widgets/base",
            "_view_module_version": "1.2.0",
            "_view_name": "LayoutView",
            "align_content": null,
            "align_items": null,
            "align_self": null,
            "border": null,
            "bottom": null,
            "display": null,
            "flex": null,
            "flex_flow": null,
            "grid_area": null,
            "grid_auto_columns": null,
            "grid_auto_flow": null,
            "grid_auto_rows": null,
            "grid_column": null,
            "grid_gap": null,
            "grid_row": null,
            "grid_template_areas": null,
            "grid_template_columns": null,
            "grid_template_rows": null,
            "height": null,
            "justify_content": null,
            "justify_items": null,
            "left": null,
            "margin": null,
            "max_height": null,
            "max_width": null,
            "min_height": null,
            "min_width": null,
            "object_fit": null,
            "object_position": null,
            "order": null,
            "overflow": null,
            "overflow_x": null,
            "overflow_y": null,
            "padding": null,
            "right": null,
            "top": null,
            "visibility": null,
            "width": null
          }
        },
        "cd65652dced44c0e8f331bb622ed7d47": {
          "model_module": "@jupyter-widgets/controls",
          "model_name": "DescriptionStyleModel",
          "model_module_version": "1.5.0",
          "state": {
            "_model_module": "@jupyter-widgets/controls",
            "_model_module_version": "1.5.0",
            "_model_name": "DescriptionStyleModel",
            "_view_count": null,
            "_view_module": "@jupyter-widgets/base",
            "_view_module_version": "1.2.0",
            "_view_name": "StyleView",
            "description_width": ""
          }
        },
        "3bc234e69ae145749486ddf66f7cb4f3": {
          "model_module": "@jupyter-widgets/base",
          "model_name": "LayoutModel",
          "model_module_version": "1.2.0",
          "state": {
            "_model_module": "@jupyter-widgets/base",
            "_model_module_version": "1.2.0",
            "_model_name": "LayoutModel",
            "_view_count": null,
            "_view_module": "@jupyter-widgets/base",
            "_view_module_version": "1.2.0",
            "_view_name": "LayoutView",
            "align_content": null,
            "align_items": null,
            "align_self": null,
            "border": null,
            "bottom": null,
            "display": null,
            "flex": null,
            "flex_flow": null,
            "grid_area": null,
            "grid_auto_columns": null,
            "grid_auto_flow": null,
            "grid_auto_rows": null,
            "grid_column": null,
            "grid_gap": null,
            "grid_row": null,
            "grid_template_areas": null,
            "grid_template_columns": null,
            "grid_template_rows": null,
            "height": null,
            "justify_content": null,
            "justify_items": null,
            "left": null,
            "margin": null,
            "max_height": null,
            "max_width": null,
            "min_height": null,
            "min_width": null,
            "object_fit": null,
            "object_position": null,
            "order": null,
            "overflow": null,
            "overflow_x": null,
            "overflow_y": null,
            "padding": null,
            "right": null,
            "top": null,
            "visibility": null,
            "width": null
          }
        },
        "5d80f4d0286f4db6a9ab9aaa34b41ddc": {
          "model_module": "@jupyter-widgets/controls",
          "model_name": "ProgressStyleModel",
          "model_module_version": "1.5.0",
          "state": {
            "_model_module": "@jupyter-widgets/controls",
            "_model_module_version": "1.5.0",
            "_model_name": "ProgressStyleModel",
            "_view_count": null,
            "_view_module": "@jupyter-widgets/base",
            "_view_module_version": "1.2.0",
            "_view_name": "StyleView",
            "bar_color": null,
            "description_width": ""
          }
        },
        "cf280987c6f64c7fbcea435f9ef09dc8": {
          "model_module": "@jupyter-widgets/base",
          "model_name": "LayoutModel",
          "model_module_version": "1.2.0",
          "state": {
            "_model_module": "@jupyter-widgets/base",
            "_model_module_version": "1.2.0",
            "_model_name": "LayoutModel",
            "_view_count": null,
            "_view_module": "@jupyter-widgets/base",
            "_view_module_version": "1.2.0",
            "_view_name": "LayoutView",
            "align_content": null,
            "align_items": null,
            "align_self": null,
            "border": null,
            "bottom": null,
            "display": null,
            "flex": null,
            "flex_flow": null,
            "grid_area": null,
            "grid_auto_columns": null,
            "grid_auto_flow": null,
            "grid_auto_rows": null,
            "grid_column": null,
            "grid_gap": null,
            "grid_row": null,
            "grid_template_areas": null,
            "grid_template_columns": null,
            "grid_template_rows": null,
            "height": null,
            "justify_content": null,
            "justify_items": null,
            "left": null,
            "margin": null,
            "max_height": null,
            "max_width": null,
            "min_height": null,
            "min_width": null,
            "object_fit": null,
            "object_position": null,
            "order": null,
            "overflow": null,
            "overflow_x": null,
            "overflow_y": null,
            "padding": null,
            "right": null,
            "top": null,
            "visibility": null,
            "width": null
          }
        },
        "20455b6d7ea94151a8be668b6f57e701": {
          "model_module": "@jupyter-widgets/controls",
          "model_name": "DescriptionStyleModel",
          "model_module_version": "1.5.0",
          "state": {
            "_model_module": "@jupyter-widgets/controls",
            "_model_module_version": "1.5.0",
            "_model_name": "DescriptionStyleModel",
            "_view_count": null,
            "_view_module": "@jupyter-widgets/base",
            "_view_module_version": "1.2.0",
            "_view_name": "StyleView",
            "description_width": ""
          }
        }
      }
    }
  },
  "nbformat": 4,
  "nbformat_minor": 0
}