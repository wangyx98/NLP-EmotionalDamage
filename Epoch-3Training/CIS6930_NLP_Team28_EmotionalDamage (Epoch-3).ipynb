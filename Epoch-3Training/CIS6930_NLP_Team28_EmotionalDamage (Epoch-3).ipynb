{
 "cells": [
  {
   "cell_type": "markdown",
   "metadata": {
    "id": "ORgmwobm4_g2"
   },
   "source": [
    "# Load dataset."
   ]
  },
  {
   "cell_type": "markdown",
   "metadata": {
    "id": "SrMTeAyDlOBQ"
   },
   "source": [
    "## Go to the dataset directory."
   ]
  },
  {
   "cell_type": "code",
   "execution_count": 4,
   "metadata": {
    "colab": {
     "base_uri": "https://localhost:8080/"
    },
    "id": "64uskL5n_Vzk",
    "outputId": "36e9e97e-de23-4b52-f7b8-0fd46b9361fe"
   },
   "outputs": [
    {
     "name": "stdout",
     "output_type": "stream",
     "text": [
      "[WinError 2] 系统找不到指定的文件。: 'dataset/'\n",
      "C:\\Users\\wangy\\NaturalLanguageProcessing\\Epoch-3\n"
     ]
    },
    {
     "name": "stderr",
     "output_type": "stream",
     "text": [
      "'ls' is not recognized as an internal or external command,\n",
      "operable program or batch file.\n"
     ]
    }
   ],
   "source": [
    "%cd dataset/\n",
    "!ls"
   ]
  },
  {
   "cell_type": "markdown",
   "metadata": {
    "id": "mSYmlicmmRKy"
   },
   "source": [
    "## Import the pandas library and perform data reading for analysis."
   ]
  },
  {
   "cell_type": "code",
   "execution_count": 5,
   "metadata": {
    "id": "UZm7nLTKmfdz"
   },
   "outputs": [],
   "source": [
    "import pandas as pd\n",
    "train = pd.read_csv('train.csv', sep='\\t', header=None)\n",
    "test = pd.read_csv('test.csv', sep='\\t', header=None)"
   ]
  },
  {
   "cell_type": "markdown",
   "metadata": {
    "id": "pIn3DaU_mm7s"
   },
   "source": [
    "## Adding column names to data."
   ]
  },
  {
   "cell_type": "code",
   "execution_count": 6,
   "metadata": {
    "id": "oUnLTl9Nmxd1"
   },
   "outputs": [],
   "source": [
    "train.columns = [\"text\",'labels']\n",
    "test.columns = [\"text\",'labels']"
   ]
  },
  {
   "cell_type": "markdown",
   "metadata": {
    "id": "NWslftXjm08j"
   },
   "source": [
    "## The first 10 texts of the training set are read in the format \"text, labels\". The labels may contain multiple sentiment categories, each sentiment is separated by ','."
   ]
  },
  {
   "cell_type": "code",
   "execution_count": 7,
   "metadata": {
    "colab": {
     "base_uri": "https://localhost:8080/",
     "height": 363
    },
    "id": "eZwM1noTnqph",
    "outputId": "9f63e31e-67f2-47f2-ab85-906053e9c0df"
   },
   "outputs": [
    {
     "data": {
      "text/html": [
       "<div>\n",
       "<style scoped>\n",
       "    .dataframe tbody tr th:only-of-type {\n",
       "        vertical-align: middle;\n",
       "    }\n",
       "\n",
       "    .dataframe tbody tr th {\n",
       "        vertical-align: top;\n",
       "    }\n",
       "\n",
       "    .dataframe thead th {\n",
       "        text-align: right;\n",
       "    }\n",
       "</style>\n",
       "<table border=\"1\" class=\"dataframe\">\n",
       "  <thead>\n",
       "    <tr style=\"text-align: right;\">\n",
       "      <th></th>\n",
       "      <th>text</th>\n",
       "      <th>labels</th>\n",
       "    </tr>\n",
       "  </thead>\n",
       "  <tbody>\n",
       "    <tr>\n",
       "      <th>0</th>\n",
       "      <td>My favourite food is anything I didn't have to...</td>\n",
       "      <td>27</td>\n",
       "    </tr>\n",
       "    <tr>\n",
       "      <th>1</th>\n",
       "      <td>Now if he does off himself, everyone will thin...</td>\n",
       "      <td>27</td>\n",
       "    </tr>\n",
       "    <tr>\n",
       "      <th>2</th>\n",
       "      <td>WHY THE FUCK IS BAYLESS ISOING</td>\n",
       "      <td>2</td>\n",
       "    </tr>\n",
       "    <tr>\n",
       "      <th>3</th>\n",
       "      <td>To make her feel threatened</td>\n",
       "      <td>14</td>\n",
       "    </tr>\n",
       "    <tr>\n",
       "      <th>4</th>\n",
       "      <td>Dirty Southern Wankers</td>\n",
       "      <td>3</td>\n",
       "    </tr>\n",
       "    <tr>\n",
       "      <th>5</th>\n",
       "      <td>OmG pEyToN iSn'T gOoD eNoUgH tO hElP uS iN tHe...</td>\n",
       "      <td>26</td>\n",
       "    </tr>\n",
       "    <tr>\n",
       "      <th>6</th>\n",
       "      <td>Yes I heard abt the f bombs! That has to be wh...</td>\n",
       "      <td>15</td>\n",
       "    </tr>\n",
       "    <tr>\n",
       "      <th>7</th>\n",
       "      <td>We need more boards and to create a bit more s...</td>\n",
       "      <td>8,20</td>\n",
       "    </tr>\n",
       "    <tr>\n",
       "      <th>8</th>\n",
       "      <td>Damn youtube and outrage drama is super lucrat...</td>\n",
       "      <td>0</td>\n",
       "    </tr>\n",
       "    <tr>\n",
       "      <th>9</th>\n",
       "      <td>It might be linked to the trust factor of your...</td>\n",
       "      <td>27</td>\n",
       "    </tr>\n",
       "  </tbody>\n",
       "</table>\n",
       "</div>"
      ],
      "text/plain": [
       "                                                text labels\n",
       "0  My favourite food is anything I didn't have to...     27\n",
       "1  Now if he does off himself, everyone will thin...     27\n",
       "2                     WHY THE FUCK IS BAYLESS ISOING      2\n",
       "3                        To make her feel threatened     14\n",
       "4                             Dirty Southern Wankers      3\n",
       "5  OmG pEyToN iSn'T gOoD eNoUgH tO hElP uS iN tHe...     26\n",
       "6  Yes I heard abt the f bombs! That has to be wh...     15\n",
       "7  We need more boards and to create a bit more s...   8,20\n",
       "8  Damn youtube and outrage drama is super lucrat...      0\n",
       "9  It might be linked to the trust factor of your...     27"
      ]
     },
     "execution_count": 7,
     "metadata": {},
     "output_type": "execute_result"
    }
   ],
   "source": [
    "train.head(10)"
   ]
  },
  {
   "cell_type": "code",
   "execution_count": 8,
   "metadata": {
    "colab": {
     "base_uri": "https://localhost:8080/",
     "height": 363
    },
    "id": "foY1dbLhn3nG",
    "outputId": "aded24be-5d4e-4e5f-9485-34d655a6c09a"
   },
   "outputs": [
    {
     "data": {
      "text/html": [
       "<div>\n",
       "<style scoped>\n",
       "    .dataframe tbody tr th:only-of-type {\n",
       "        vertical-align: middle;\n",
       "    }\n",
       "\n",
       "    .dataframe tbody tr th {\n",
       "        vertical-align: top;\n",
       "    }\n",
       "\n",
       "    .dataframe thead th {\n",
       "        text-align: right;\n",
       "    }\n",
       "</style>\n",
       "<table border=\"1\" class=\"dataframe\">\n",
       "  <thead>\n",
       "    <tr style=\"text-align: right;\">\n",
       "      <th></th>\n",
       "      <th>text</th>\n",
       "      <th>labels</th>\n",
       "    </tr>\n",
       "  </thead>\n",
       "  <tbody>\n",
       "    <tr>\n",
       "      <th>0</th>\n",
       "      <td>I’m really sorry about your situation :( Altho...</td>\n",
       "      <td>25</td>\n",
       "    </tr>\n",
       "    <tr>\n",
       "      <th>1</th>\n",
       "      <td>It's wonderful because it's awful. At not with.</td>\n",
       "      <td>0</td>\n",
       "    </tr>\n",
       "    <tr>\n",
       "      <th>2</th>\n",
       "      <td>Kings fan here, good luck to you guys! Will be...</td>\n",
       "      <td>13</td>\n",
       "    </tr>\n",
       "    <tr>\n",
       "      <th>3</th>\n",
       "      <td>I didn't know that, thank you for teaching me ...</td>\n",
       "      <td>15</td>\n",
       "    </tr>\n",
       "    <tr>\n",
       "      <th>4</th>\n",
       "      <td>They got bored from haunting earth for thousan...</td>\n",
       "      <td>27</td>\n",
       "    </tr>\n",
       "    <tr>\n",
       "      <th>5</th>\n",
       "      <td>Thank you for asking questions and recognizing...</td>\n",
       "      <td>15</td>\n",
       "    </tr>\n",
       "    <tr>\n",
       "      <th>6</th>\n",
       "      <td>You’re welcome</td>\n",
       "      <td>15</td>\n",
       "    </tr>\n",
       "    <tr>\n",
       "      <th>7</th>\n",
       "      <td>100%! Congrats on your job too!</td>\n",
       "      <td>15</td>\n",
       "    </tr>\n",
       "    <tr>\n",
       "      <th>8</th>\n",
       "      <td>I’m sorry to hear that friend :(. It’s for the...</td>\n",
       "      <td>24</td>\n",
       "    </tr>\n",
       "    <tr>\n",
       "      <th>9</th>\n",
       "      <td>Girlfriend weak as well, that jump was pathetic.</td>\n",
       "      <td>25</td>\n",
       "    </tr>\n",
       "  </tbody>\n",
       "</table>\n",
       "</div>"
      ],
      "text/plain": [
       "                                                text labels\n",
       "0  I’m really sorry about your situation :( Altho...     25\n",
       "1    It's wonderful because it's awful. At not with.      0\n",
       "2  Kings fan here, good luck to you guys! Will be...     13\n",
       "3  I didn't know that, thank you for teaching me ...     15\n",
       "4  They got bored from haunting earth for thousan...     27\n",
       "5  Thank you for asking questions and recognizing...     15\n",
       "6                                     You’re welcome     15\n",
       "7                    100%! Congrats on your job too!     15\n",
       "8  I’m sorry to hear that friend :(. It’s for the...     24\n",
       "9   Girlfriend weak as well, that jump was pathetic.     25"
      ]
     },
     "execution_count": 8,
     "metadata": {},
     "output_type": "execute_result"
    }
   ],
   "source": [
    "test.head(10)"
   ]
  },
  {
   "cell_type": "markdown",
   "metadata": {
    "id": "dHfWI95Tq3d7"
   },
   "source": [
    "# Install and import related libraries."
   ]
  },
  {
   "cell_type": "code",
   "execution_count": 9,
   "metadata": {
    "colab": {
     "base_uri": "https://localhost:8080/"
    },
    "id": "OWpIE-2jq8f-",
    "outputId": "086d358e-0c80-4cb4-8283-2862ed86ae85"
   },
   "outputs": [
    {
     "name": "stdout",
     "output_type": "stream",
     "text": [
      "Requirement already satisfied: paddlenlp in d:\\anaconda3\\envs\\tensorflow\\lib\\site-packages (2.5.2)\n",
      "Requirement already satisfied: typer in d:\\anaconda3\\envs\\tensorflow\\lib\\site-packages (from paddlenlp) (0.7.0)\n",
      "Requirement already satisfied: tqdm in d:\\anaconda3\\envs\\tensorflow\\lib\\site-packages (from paddlenlp) (4.65.0)\n",
      "Requirement already satisfied: datasets>=2.0.0 in d:\\anaconda3\\envs\\tensorflow\\lib\\site-packages (from paddlenlp) (2.11.0)\n",
      "Requirement already satisfied: jieba in d:\\anaconda3\\envs\\tensorflow\\lib\\site-packages (from paddlenlp) (0.42.1)\n",
      "Requirement already satisfied: sentencepiece in d:\\anaconda3\\envs\\tensorflow\\lib\\site-packages (from paddlenlp) (0.1.97)\n",
      "Requirement already satisfied: huggingface-hub>=0.11.1 in d:\\anaconda3\\envs\\tensorflow\\lib\\site-packages (from paddlenlp) (0.13.3)\n",
      "Requirement already satisfied: visualdl in d:\\anaconda3\\envs\\tensorflow\\lib\\site-packages (from paddlenlp) (2.4.2)\n",
      "Requirement already satisfied: seqeval in d:\\anaconda3\\envs\\tensorflow\\lib\\site-packages (from paddlenlp) (1.2.2)\n",
      "Requirement already satisfied: fastapi in d:\\anaconda3\\envs\\tensorflow\\lib\\site-packages (from paddlenlp) (0.95.0)\n",
      "Requirement already satisfied: multiprocess<=0.70.12.2 in d:\\anaconda3\\envs\\tensorflow\\lib\\site-packages (from paddlenlp) (0.70.12.2)\n",
      "Requirement already satisfied: paddle2onnx in d:\\anaconda3\\envs\\tensorflow\\lib\\site-packages (from paddlenlp) (1.0.6)\n",
      "Requirement already satisfied: dill<0.3.5 in d:\\anaconda3\\envs\\tensorflow\\lib\\site-packages (from paddlenlp) (0.3.4)\n",
      "Requirement already satisfied: uvicorn in d:\\anaconda3\\envs\\tensorflow\\lib\\site-packages (from paddlenlp) (0.21.1)\n",
      "Requirement already satisfied: Flask-Babel<3.0.0 in d:\\anaconda3\\envs\\tensorflow\\lib\\site-packages (from paddlenlp) (2.0.0)\n",
      "Requirement already satisfied: rich in d:\\anaconda3\\envs\\tensorflow\\lib\\site-packages (from paddlenlp) (13.3.3)\n",
      "Requirement already satisfied: colorlog in d:\\anaconda3\\envs\\tensorflow\\lib\\site-packages (from paddlenlp) (6.7.0)\n",
      "Requirement already satisfied: paddlefsl in d:\\anaconda3\\envs\\tensorflow\\lib\\site-packages (from paddlenlp) (1.1.0)\n",
      "Requirement already satisfied: colorama in d:\\anaconda3\\envs\\tensorflow\\lib\\site-packages (from paddlenlp) (0.4.6)\n",
      "Requirement already satisfied: requests>=2.19.0 in d:\\anaconda3\\envs\\tensorflow\\lib\\site-packages (from datasets>=2.0.0->paddlenlp) (2.28.1)\n",
      "Requirement already satisfied: numpy>=1.17 in d:\\anaconda3\\envs\\tensorflow\\lib\\site-packages (from datasets>=2.0.0->paddlenlp) (1.21.5)\n",
      "Requirement already satisfied: responses<0.19 in d:\\anaconda3\\envs\\tensorflow\\lib\\site-packages (from datasets>=2.0.0->paddlenlp) (0.18.0)\n",
      "Requirement already satisfied: fsspec[http]>=2021.11.1 in d:\\anaconda3\\envs\\tensorflow\\lib\\site-packages (from datasets>=2.0.0->paddlenlp) (2023.1.0)\n",
      "Requirement already satisfied: packaging in d:\\anaconda3\\envs\\tensorflow\\lib\\site-packages (from datasets>=2.0.0->paddlenlp) (22.0)\n",
      "Requirement already satisfied: pyyaml>=5.1 in d:\\anaconda3\\envs\\tensorflow\\lib\\site-packages (from datasets>=2.0.0->paddlenlp) (6.0)\n",
      "Requirement already satisfied: pandas in d:\\anaconda3\\envs\\tensorflow\\lib\\site-packages (from datasets>=2.0.0->paddlenlp) (1.3.5)\n",
      "Requirement already satisfied: xxhash in d:\\anaconda3\\envs\\tensorflow\\lib\\site-packages (from datasets>=2.0.0->paddlenlp) (3.2.0)\n",
      "Requirement already satisfied: aiohttp in d:\\anaconda3\\envs\\tensorflow\\lib\\site-packages (from datasets>=2.0.0->paddlenlp) (3.8.3)\n",
      "Requirement already satisfied: importlib-metadata in d:\\anaconda3\\envs\\tensorflow\\lib\\site-packages (from datasets>=2.0.0->paddlenlp) (4.11.3)\n",
      "Requirement already satisfied: pyarrow>=8.0.0 in d:\\anaconda3\\envs\\tensorflow\\lib\\site-packages (from datasets>=2.0.0->paddlenlp) (11.0.0)\n",
      "Requirement already satisfied: Jinja2>=2.5 in d:\\anaconda3\\envs\\tensorflow\\lib\\site-packages (from Flask-Babel<3.0.0->paddlenlp) (3.1.2)\n",
      "Requirement already satisfied: pytz in d:\\anaconda3\\envs\\tensorflow\\lib\\site-packages (from Flask-Babel<3.0.0->paddlenlp) (2022.7)\n",
      "Requirement already satisfied: Babel>=2.3 in d:\\anaconda3\\envs\\tensorflow\\lib\\site-packages (from Flask-Babel<3.0.0->paddlenlp) (2.12.1)\n",
      "Requirement already satisfied: Flask in d:\\anaconda3\\envs\\tensorflow\\lib\\site-packages (from Flask-Babel<3.0.0->paddlenlp) (2.2.3)\n",
      "Requirement already satisfied: filelock in d:\\anaconda3\\envs\\tensorflow\\lib\\site-packages (from huggingface-hub>=0.11.1->paddlenlp) (3.10.7)\n",
      "Requirement already satisfied: typing-extensions>=3.7.4.3 in d:\\anaconda3\\envs\\tensorflow\\lib\\site-packages (from huggingface-hub>=0.11.1->paddlenlp) (4.4.0)\n",
      "Requirement already satisfied: pydantic!=1.7,!=1.7.1,!=1.7.2,!=1.7.3,!=1.8,!=1.8.1,<2.0.0,>=1.6.2 in d:\\anaconda3\\envs\\tensorflow\\lib\\site-packages (from fastapi->paddlenlp) (1.10.7)\n",
      "Requirement already satisfied: starlette<0.27.0,>=0.26.1 in d:\\anaconda3\\envs\\tensorflow\\lib\\site-packages (from fastapi->paddlenlp) (0.26.1)\n",
      "Requirement already satisfied: six in d:\\anaconda3\\envs\\tensorflow\\lib\\site-packages (from paddle2onnx->paddlenlp) (1.16.0)\n",
      "Requirement already satisfied: pygments<3.0.0,>=2.13.0 in d:\\anaconda3\\envs\\tensorflow\\lib\\site-packages (from rich->paddlenlp) (2.14.0)\n",
      "Requirement already satisfied: markdown-it-py<3.0.0,>=2.2.0 in d:\\anaconda3\\envs\\tensorflow\\lib\\site-packages (from rich->paddlenlp) (2.2.0)\n",
      "Requirement already satisfied: scikit-learn>=0.21.3 in d:\\anaconda3\\envs\\tensorflow\\lib\\site-packages (from seqeval->paddlenlp) (1.0.2)\n",
      "Requirement already satisfied: click<9.0.0,>=7.1.1 in d:\\anaconda3\\envs\\tensorflow\\lib\\site-packages (from typer->paddlenlp) (8.0.4)\n",
      "Requirement already satisfied: h11>=0.8 in d:\\anaconda3\\envs\\tensorflow\\lib\\site-packages (from uvicorn->paddlenlp) (0.14.0)\n",
      "Requirement already satisfied: matplotlib in d:\\anaconda3\\envs\\tensorflow\\lib\\site-packages (from visualdl->paddlenlp) (3.5.3)\n",
      "Requirement already satisfied: bce-python-sdk in d:\\anaconda3\\envs\\tensorflow\\lib\\site-packages (from visualdl->paddlenlp) (0.8.83)\n",
      "Requirement already satisfied: protobuf>=3.11.0 in d:\\anaconda3\\envs\\tensorflow\\lib\\site-packages (from visualdl->paddlenlp) (3.20.0)\n",
      "Requirement already satisfied: Pillow>=7.0.0 in d:\\anaconda3\\envs\\tensorflow\\lib\\site-packages (from visualdl->paddlenlp) (9.5.0)\n",
      "Requirement already satisfied: itsdangerous>=2.0 in d:\\anaconda3\\envs\\tensorflow\\lib\\site-packages (from Flask->Flask-Babel<3.0.0->paddlenlp) (2.1.2)\n",
      "Requirement already satisfied: Werkzeug>=2.2.2 in d:\\anaconda3\\envs\\tensorflow\\lib\\site-packages (from Flask->Flask-Babel<3.0.0->paddlenlp) (2.2.2)\n",
      "Requirement already satisfied: async-timeout<5.0,>=4.0.0a3 in d:\\anaconda3\\envs\\tensorflow\\lib\\site-packages (from aiohttp->datasets>=2.0.0->paddlenlp) (4.0.2)\n",
      "Requirement already satisfied: aiosignal>=1.1.2 in d:\\anaconda3\\envs\\tensorflow\\lib\\site-packages (from aiohttp->datasets>=2.0.0->paddlenlp) (1.2.0)\n",
      "Requirement already satisfied: attrs>=17.3.0 in d:\\anaconda3\\envs\\tensorflow\\lib\\site-packages (from aiohttp->datasets>=2.0.0->paddlenlp) (22.1.0)\n",
      "Requirement already satisfied: frozenlist>=1.1.1 in d:\\anaconda3\\envs\\tensorflow\\lib\\site-packages (from aiohttp->datasets>=2.0.0->paddlenlp) (1.3.3)\n",
      "Requirement already satisfied: asynctest==0.13.0 in d:\\anaconda3\\envs\\tensorflow\\lib\\site-packages (from aiohttp->datasets>=2.0.0->paddlenlp) (0.13.0)\n",
      "Requirement already satisfied: yarl<2.0,>=1.0 in d:\\anaconda3\\envs\\tensorflow\\lib\\site-packages (from aiohttp->datasets>=2.0.0->paddlenlp) (1.8.1)\n",
      "Requirement already satisfied: charset-normalizer<3.0,>=2.0 in d:\\anaconda3\\envs\\tensorflow\\lib\\site-packages (from aiohttp->datasets>=2.0.0->paddlenlp) (2.0.4)\n",
      "Requirement already satisfied: multidict<7.0,>=4.5 in d:\\anaconda3\\envs\\tensorflow\\lib\\site-packages (from aiohttp->datasets>=2.0.0->paddlenlp) (6.0.2)\n",
      "Requirement already satisfied: zipp>=0.5 in d:\\anaconda3\\envs\\tensorflow\\lib\\site-packages (from importlib-metadata->datasets>=2.0.0->paddlenlp) (3.11.0)\n",
      "Requirement already satisfied: MarkupSafe>=2.0 in d:\\anaconda3\\envs\\tensorflow\\lib\\site-packages (from Jinja2>=2.5->Flask-Babel<3.0.0->paddlenlp) (2.1.1)\n",
      "Requirement already satisfied: mdurl~=0.1 in d:\\anaconda3\\envs\\tensorflow\\lib\\site-packages (from markdown-it-py<3.0.0,>=2.2.0->rich->paddlenlp) (0.1.2)\n",
      "Requirement already satisfied: urllib3<1.27,>=1.21.1 in d:\\anaconda3\\envs\\tensorflow\\lib\\site-packages (from requests>=2.19.0->datasets>=2.0.0->paddlenlp) (1.26.14)\n",
      "Requirement already satisfied: certifi>=2017.4.17 in d:\\anaconda3\\envs\\tensorflow\\lib\\site-packages (from requests>=2.19.0->datasets>=2.0.0->paddlenlp) (2022.12.7)\n",
      "Requirement already satisfied: idna<4,>=2.5 in d:\\anaconda3\\envs\\tensorflow\\lib\\site-packages (from requests>=2.19.0->datasets>=2.0.0->paddlenlp) (3.4)\n",
      "Requirement already satisfied: scipy>=1.1.0 in d:\\anaconda3\\envs\\tensorflow\\lib\\site-packages (from scikit-learn>=0.21.3->seqeval->paddlenlp) (1.7.3)\n",
      "Requirement already satisfied: joblib>=0.11 in d:\\anaconda3\\envs\\tensorflow\\lib\\site-packages (from scikit-learn>=0.21.3->seqeval->paddlenlp) (1.2.0)\n",
      "Requirement already satisfied: threadpoolctl>=2.0.0 in d:\\anaconda3\\envs\\tensorflow\\lib\\site-packages (from scikit-learn>=0.21.3->seqeval->paddlenlp) (3.1.0)\n",
      "Requirement already satisfied: anyio<5,>=3.4.0 in d:\\anaconda3\\envs\\tensorflow\\lib\\site-packages (from starlette<0.27.0,>=0.26.1->fastapi->paddlenlp) (3.6.2)\n",
      "Requirement already satisfied: pycryptodome>=3.8.0 in d:\\anaconda3\\envs\\tensorflow\\lib\\site-packages (from bce-python-sdk->visualdl->paddlenlp) (3.17)\n",
      "Requirement already satisfied: future>=0.6.0 in d:\\anaconda3\\envs\\tensorflow\\lib\\site-packages (from bce-python-sdk->visualdl->paddlenlp) (0.18.3)\n",
      "Requirement already satisfied: pyparsing>=2.2.1 in d:\\anaconda3\\envs\\tensorflow\\lib\\site-packages (from matplotlib->visualdl->paddlenlp) (3.0.9)\n",
      "Requirement already satisfied: fonttools>=4.22.0 in d:\\anaconda3\\envs\\tensorflow\\lib\\site-packages (from matplotlib->visualdl->paddlenlp) (4.38.0)\n",
      "Requirement already satisfied: python-dateutil>=2.7 in d:\\anaconda3\\envs\\tensorflow\\lib\\site-packages (from matplotlib->visualdl->paddlenlp) (2.8.2)\n",
      "Requirement already satisfied: kiwisolver>=1.0.1 in d:\\anaconda3\\envs\\tensorflow\\lib\\site-packages (from matplotlib->visualdl->paddlenlp) (1.4.4)\n",
      "Requirement already satisfied: cycler>=0.10 in d:\\anaconda3\\envs\\tensorflow\\lib\\site-packages (from matplotlib->visualdl->paddlenlp) (0.11.0)\n",
      "Requirement already satisfied: sniffio>=1.1 in d:\\anaconda3\\envs\\tensorflow\\lib\\site-packages (from anyio<5,>=3.4.0->starlette<0.27.0,>=0.26.1->fastapi->paddlenlp) (1.3.0)\n"
     ]
    }
   ],
   "source": [
    "!pip install --upgrade paddlenlp"
   ]
  },
  {
   "cell_type": "code",
   "execution_count": 10,
   "metadata": {
    "colab": {
     "base_uri": "https://localhost:8080/"
    },
    "id": "herF3Q2qrfVf",
    "outputId": "ff5701b0-f4ec-49fa-fb34-6fbc0c05da1a"
   },
   "outputs": [
    {
     "name": "stdout",
     "output_type": "stream",
     "text": [
      "Requirement already satisfied: paddlepaddle in d:\\anaconda3\\envs\\tensorflow\\lib\\site-packages (2.4.2)\n",
      "Requirement already satisfied: requests>=2.20.0 in d:\\anaconda3\\envs\\tensorflow\\lib\\site-packages (from paddlepaddle) (2.28.1)\n",
      "Requirement already satisfied: opt-einsum==3.3.0 in d:\\anaconda3\\envs\\tensorflow\\lib\\site-packages (from paddlepaddle) (3.3.0)\n",
      "Requirement already satisfied: protobuf<=3.20.0,>=3.1.0 in d:\\anaconda3\\envs\\tensorflow\\lib\\site-packages (from paddlepaddle) (3.20.0)\n",
      "Requirement already satisfied: paddle-bfloat==0.1.7 in d:\\anaconda3\\envs\\tensorflow\\lib\\site-packages (from paddlepaddle) (0.1.7)\n",
      "Requirement already satisfied: astor in d:\\anaconda3\\envs\\tensorflow\\lib\\site-packages (from paddlepaddle) (0.8.1)\n",
      "Requirement already satisfied: numpy>=1.13 in d:\\anaconda3\\envs\\tensorflow\\lib\\site-packages (from paddlepaddle) (1.21.5)\n",
      "Requirement already satisfied: six in d:\\anaconda3\\envs\\tensorflow\\lib\\site-packages (from paddlepaddle) (1.16.0)\n",
      "Requirement already satisfied: Pillow in d:\\anaconda3\\envs\\tensorflow\\lib\\site-packages (from paddlepaddle) (9.5.0)\n",
      "Requirement already satisfied: decorator in d:\\anaconda3\\envs\\tensorflow\\lib\\site-packages (from paddlepaddle) (5.1.1)\n",
      "Requirement already satisfied: charset-normalizer<3,>=2 in d:\\anaconda3\\envs\\tensorflow\\lib\\site-packages (from requests>=2.20.0->paddlepaddle) (2.0.4)\n",
      "Requirement already satisfied: certifi>=2017.4.17 in d:\\anaconda3\\envs\\tensorflow\\lib\\site-packages (from requests>=2.20.0->paddlepaddle) (2022.12.7)\n",
      "Requirement already satisfied: urllib3<1.27,>=1.21.1 in d:\\anaconda3\\envs\\tensorflow\\lib\\site-packages (from requests>=2.20.0->paddlepaddle) (1.26.14)\n",
      "Requirement already satisfied: idna<4,>=2.5 in d:\\anaconda3\\envs\\tensorflow\\lib\\site-packages (from requests>=2.20.0->paddlepaddle) (3.4)\n"
     ]
    }
   ],
   "source": [
    "!pip install paddlepaddle"
   ]
  },
  {
   "cell_type": "code",
   "execution_count": 11,
   "metadata": {
    "id": "X7YvSrZprIz3"
   },
   "outputs": [],
   "source": [
    "import os\n",
    "import paddle\n",
    "import paddlenlp"
   ]
  },
  {
   "cell_type": "markdown",
   "metadata": {
    "id": "Fafm1FtVsfGY"
   },
   "source": [
    "# Data pre-processing"
   ]
  },
  {
   "cell_type": "markdown",
   "metadata": {
    "id": "t0jIHcPbsiIz"
   },
   "source": [
    "## For the 28 micro-sentiment multi-label classification scenario, where a sentence may correspond to multiple sentiment category labels, the sentiment labels of the dataset need to be transformed using One-Hot coding first, with \"0\" indicating absence and \"1\" indicating presence for each sentiment."
   ]
  },
  {
   "cell_type": "markdown",
   "metadata": {
    "id": "XTPiTK0pstvz"
   },
   "source": [
    "### Create sentiment label mapping relationships."
   ]
  },
  {
   "cell_type": "code",
   "execution_count": 12,
   "metadata": {
    "id": "XQmitCV3tNrx"
   },
   "outputs": [],
   "source": [
    "label_vocab = {\n",
    "    0: \"admiration\",\n",
    "    1: \"amusement\",\n",
    "    2: \"anger\",\n",
    "    3: \"annoyance\",\n",
    "    4: \"approval\",\n",
    "    5: \"caring\",\n",
    "    6: \"confusion\",\n",
    "    7: \"curiosity\",\n",
    "    8: \"desire\",\n",
    "    9: \"disappointment\",\n",
    "    10: \"disapproval\",\n",
    "    11: \"disgust\",\n",
    "    12: \"embarrassment\",\n",
    "    13: \"excitement\",\n",
    "    14: \"fear\",\n",
    "    15: \"gratitude\",\n",
    "    16: \"grief\",\n",
    "    17: \"joy\",\n",
    "    18: \"love\",\n",
    "    19: \"nervousness\",\n",
    "    20: \"optimism\",\n",
    "    21: \"pride\",\n",
    "    22: \"realization\",\n",
    "    23: \"relief\",\n",
    "    24: \"remorse\",\n",
    "    25: \"sadness\",\n",
    "    26: \"surprise\",\n",
    "    27: \"neutral\"\n",
    "}"
   ]
  },
  {
   "cell_type": "markdown",
   "metadata": {
    "id": "g-EcFAvotT5Q"
   },
   "source": [
    "### Customize the dataset, read the data file, create the dataset and define the data type as MapDataset."
   ]
  },
  {
   "cell_type": "code",
   "execution_count": 13,
   "metadata": {
    "id": "FhHKTcR7t3Xq"
   },
   "outputs": [],
   "source": [
    "import re\n",
    "\n",
    "from paddlenlp.datasets import load_dataset\n",
    "\n",
    "# Clear invalid characters\n",
    "def clean_text(text):\n",
    "    text = text.replace(\"\\r\", \"\").replace(\"\\n\", \"\")\n",
    "    text = re.sub(r\"\\\\n\\n\", \".\", text)\n",
    "    return text\n",
    "\n",
    "# Define the read data set function\n",
    "def read_custom_data(filepath, is_one_hot=True):\n",
    "    f = open(filepath)\n",
    "    while True:\n",
    "        line = f.readline()\n",
    "        if not line:\n",
    "            break\n",
    "        data = line.strip().split('\\t')\n",
    "        # One-hot processing for 28 types of micro sentiment tags\n",
    "        if is_one_hot:\n",
    "            labels = [float(1) if str(i) in data[1].split(',') else float(0) for i in range(28)]  # 28 types\n",
    "        else:\n",
    "            labels = [int(d) for d in data[1].split(',')]\n",
    "        yield {\"text\": clean_text(data[0]), \"labels\": labels}\n",
    "    f.close()"
   ]
  },
  {
   "cell_type": "code",
   "execution_count": 14,
   "metadata": {
    "id": "M_SQ3JwruQSe"
   },
   "outputs": [],
   "source": [
    "# load_dataset() to Create dataset.\n",
    "# lazy=False，The dataset is returned as a MapDataset type.\n",
    "# Pre-processing of training and validation sets.\n",
    "train_ds = load_dataset(read_custom_data, filepath='train.csv', lazy=False) \n",
    "test_ds = load_dataset(read_custom_data, filepath='test.csv', lazy=False)"
   ]
  },
  {
   "cell_type": "markdown",
   "metadata": {
    "id": "I9nrlxqJwCQq"
   },
   "source": [
    "### Print dataset."
   ]
  },
  {
   "cell_type": "code",
   "execution_count": 15,
   "metadata": {
    "colab": {
     "base_uri": "https://localhost:8080/"
    },
    "id": "bExeME40wGuv",
    "outputId": "b8ebe161-e02a-4306-e60f-df00b2b99b44"
   },
   "outputs": [
    {
     "name": "stdout",
     "output_type": "stream",
     "text": [
      "datatype: <class 'paddlenlp.datasets.dataset.MapDataset'>\n",
      "training dataset example: {'text': \"My favourite food is anything I didn't have to cook myself.\", 'labels': [0.0, 0.0, 0.0, 0.0, 0.0, 0.0, 0.0, 0.0, 0.0, 0.0, 0.0, 0.0, 0.0, 0.0, 0.0, 0.0, 0.0, 0.0, 0.0, 0.0, 0.0, 0.0, 0.0, 0.0, 0.0, 0.0, 0.0, 1.0]}\n",
      "testing dataset example: {'text': 'I’m really sorry about your situation :( Although I love the names Sapphira, Cirilla, and Scarlett!', 'labels': [0.0, 0.0, 0.0, 0.0, 0.0, 0.0, 0.0, 0.0, 0.0, 0.0, 0.0, 0.0, 0.0, 0.0, 0.0, 0.0, 0.0, 0.0, 0.0, 0.0, 0.0, 0.0, 0.0, 0.0, 0.0, 1.0, 0.0, 0.0]}\n"
     ]
    }
   ],
   "source": [
    "print(\"datatype:\", type(train_ds))\n",
    "print(\"training dataset example:\", train_ds[0])\n",
    "print(\"testing dataset example:\", test_ds[0])"
   ]
  },
  {
   "cell_type": "markdown",
   "metadata": {
    "id": "jEqnn-WG4Pa2"
   },
   "source": [
    "## Load Chinese ERNIE 3.0 pre-training model and word splitter"
   ]
  },
  {
   "cell_type": "code",
   "execution_count": 16,
   "metadata": {
    "colab": {
     "base_uri": "https://localhost:8080/",
     "height": 1000,
     "referenced_widgets": [
      "8f0bb537306940a192c374f5458f3c99",
      "9d6f5d91a6c34eb2be6c43b9d77316c2",
      "5a0a3265f4fc40acac71a85fc3a29c97",
      "5f302f73d14d4aa68d48a8d06c4d8717",
      "3f2a18e109734e53bd330eceb3d79712",
      "d0b878e93f3b4a2a9b3de57d15ab55e1",
      "6d0f814a0b03493abe1044ef14bf15dc",
      "23288bf360984ed182be7d6d84841716",
      "ce8f3f6b29f74c94aedc579412a4aa5e",
      "5269406c713340ceb8f6bd40782769d7",
      "74a0ab1a08ee49cba9f797176a92b2f2",
      "6bcd679979a14b92ad7bd28b58ed883f",
      "ac8d5f80a0324c538908ab32974f9b6a",
      "751c62037368473dac02b36dd1c0b05f",
      "6e257f83475345ddbed64f81dccfb309",
      "290bc213ab9e48898ebbc8c4e31fe36e",
      "94803e83cafa4a50bb2d8a3fbaf73274",
      "faa019ca3caa4a4e809a1612319ac503",
      "36f1a68b633d45c08eb1fc80d282838d",
      "62335350a40e41d1b1fe80e221baa984",
      "ef7240d1bccd40ebbd05455bb4c994bf",
      "d79c404107ff4d16a3945df9b74ec5d3"
     ]
    },
    "id": "4dJq6b6D4L-w",
    "outputId": "f5de5d1e-4388-4282-dbf6-c671a9320125"
   },
   "outputs": [
    {
     "name": "stderr",
     "output_type": "stream",
     "text": [
      "\u001b[32m[2023-04-16 03:34:18,236] [    INFO]\u001b[0m - We are using <class 'paddlenlp.transformers.ernie.modeling.ErnieForSequenceClassification'> to load 'ernie-3.0-medium-zh'.\u001b[0m\n",
      "\u001b[32m[2023-04-16 03:34:18,238] [    INFO]\u001b[0m - Model config ErnieConfig {\n",
      "  \"attention_probs_dropout_prob\": 0.1,\n",
      "  \"enable_recompute\": false,\n",
      "  \"fuse\": false,\n",
      "  \"hidden_act\": \"gelu\",\n",
      "  \"hidden_dropout_prob\": 0.1,\n",
      "  \"hidden_size\": 768,\n",
      "  \"id2label\": {\n",
      "    \"0\": \"LABEL_0\",\n",
      "    \"1\": \"LABEL_1\",\n",
      "    \"2\": \"LABEL_2\",\n",
      "    \"3\": \"LABEL_3\",\n",
      "    \"4\": \"LABEL_4\",\n",
      "    \"5\": \"LABEL_5\",\n",
      "    \"6\": \"LABEL_6\",\n",
      "    \"7\": \"LABEL_7\",\n",
      "    \"8\": \"LABEL_8\",\n",
      "    \"9\": \"LABEL_9\",\n",
      "    \"10\": \"LABEL_10\",\n",
      "    \"11\": \"LABEL_11\",\n",
      "    \"12\": \"LABEL_12\",\n",
      "    \"13\": \"LABEL_13\",\n",
      "    \"14\": \"LABEL_14\",\n",
      "    \"15\": \"LABEL_15\",\n",
      "    \"16\": \"LABEL_16\",\n",
      "    \"17\": \"LABEL_17\",\n",
      "    \"18\": \"LABEL_18\",\n",
      "    \"19\": \"LABEL_19\",\n",
      "    \"20\": \"LABEL_20\",\n",
      "    \"21\": \"LABEL_21\",\n",
      "    \"22\": \"LABEL_22\",\n",
      "    \"23\": \"LABEL_23\",\n",
      "    \"24\": \"LABEL_24\",\n",
      "    \"25\": \"LABEL_25\",\n",
      "    \"26\": \"LABEL_26\",\n",
      "    \"27\": \"LABEL_27\"\n",
      "  },\n",
      "  \"initializer_range\": 0.02,\n",
      "  \"intermediate_size\": 3072,\n",
      "  \"label2id\": {\n",
      "    \"LABEL_0\": 0,\n",
      "    \"LABEL_1\": 1,\n",
      "    \"LABEL_10\": 10,\n",
      "    \"LABEL_11\": 11,\n",
      "    \"LABEL_12\": 12,\n",
      "    \"LABEL_13\": 13,\n",
      "    \"LABEL_14\": 14,\n",
      "    \"LABEL_15\": 15,\n",
      "    \"LABEL_16\": 16,\n",
      "    \"LABEL_17\": 17,\n",
      "    \"LABEL_18\": 18,\n",
      "    \"LABEL_19\": 19,\n",
      "    \"LABEL_2\": 2,\n",
      "    \"LABEL_20\": 20,\n",
      "    \"LABEL_21\": 21,\n",
      "    \"LABEL_22\": 22,\n",
      "    \"LABEL_23\": 23,\n",
      "    \"LABEL_24\": 24,\n",
      "    \"LABEL_25\": 25,\n",
      "    \"LABEL_26\": 26,\n",
      "    \"LABEL_27\": 27,\n",
      "    \"LABEL_3\": 3,\n",
      "    \"LABEL_4\": 4,\n",
      "    \"LABEL_5\": 5,\n",
      "    \"LABEL_6\": 6,\n",
      "    \"LABEL_7\": 7,\n",
      "    \"LABEL_8\": 8,\n",
      "    \"LABEL_9\": 9\n",
      "  },\n",
      "  \"layer_norm_eps\": 1e-12,\n",
      "  \"max_position_embeddings\": 2048,\n",
      "  \"model_type\": \"ernie\",\n",
      "  \"num_attention_heads\": 12,\n",
      "  \"num_hidden_layers\": 6,\n",
      "  \"pad_token_id\": 0,\n",
      "  \"paddlenlp_version\": null,\n",
      "  \"pool_act\": \"tanh\",\n",
      "  \"task_id\": 0,\n",
      "  \"task_type_vocab_size\": 16,\n",
      "  \"type_vocab_size\": 4,\n",
      "  \"use_task_id\": true,\n",
      "  \"vocab_size\": 40000\n",
      "}\n",
      "\u001b[0m\n",
      "\u001b[33m[2023-04-16 03:34:28,395] [ WARNING]\u001b[0m - Some weights of the model checkpoint at ernie-3.0-medium-zh were not used when initializing ErnieForSequenceClassification: ['ernie.encoder.layers.6.norm2.weight', 'ernie.encoder.layers.6.linear2.bias', 'ernie.encoder.layers.6.linear1.bias', 'ernie.encoder.layers.6.norm1.bias', 'ernie.encoder.layers.6.self_attn.q_proj.bias', 'ernie.encoder.layers.6.self_attn.v_proj.bias', 'ernie.encoder.layers.6.linear1.weight', 'ernie.encoder.layers.6.norm2.bias', 'ernie.encoder.layers.6.linear2.weight', 'ernie.encoder.layers.6.norm1.weight', 'ernie.encoder.layers.6.self_attn.k_proj.bias', 'ernie.encoder.layers.6.self_attn.q_proj.weight', 'ernie.encoder.layers.6.self_attn.out_proj.weight', 'ernie.encoder.layers.6.self_attn.v_proj.weight', 'ernie.encoder.layers.6.self_attn.out_proj.bias', 'ernie.encoder.layers.6.self_attn.k_proj.weight']\n",
      "- This IS expected if you are initializing ErnieForSequenceClassification from the checkpoint of a model trained on another task or with another architecture (e.g. initializing a BertForSequenceClassification model from a BertForPreTraining model).\n",
      "- This IS NOT expected if you are initializing ErnieForSequenceClassification from the checkpoint of a model that you expect to be exactly identical (initializing a BertForSequenceClassification model from a BertForSequenceClassification model).\u001b[0m\n",
      "\u001b[33m[2023-04-16 03:34:28,396] [ WARNING]\u001b[0m - Some weights of ErnieForSequenceClassification were not initialized from the model checkpoint at ernie-3.0-medium-zh and are newly initialized: ['ernie.pooler.dense.weight', 'classifier.weight', 'classifier.bias', 'ernie.pooler.dense.bias']\n",
      "You should probably TRAIN this model on a down-stream task to be able to use it for predictions and inference.\u001b[0m\n",
      "\u001b[32m[2023-04-16 03:34:28,398] [    INFO]\u001b[0m - We are using <class 'paddlenlp.transformers.ernie.tokenizer.ErnieTokenizer'> to load 'ernie-3.0-medium-zh'.\u001b[0m\n",
      "\u001b[32m[2023-04-16 03:34:28,399] [    INFO]\u001b[0m - Already cached C:\\Users\\wangy\\.paddlenlp\\models\\ernie-3.0-medium-zh\\ernie_3.0_medium_zh_vocab.txt\u001b[0m\n",
      "\u001b[32m[2023-04-16 03:34:28,426] [    INFO]\u001b[0m - tokenizer config file saved in C:\\Users\\wangy\\.paddlenlp\\models\\ernie-3.0-medium-zh\\tokenizer_config.json\u001b[0m\n",
      "\u001b[32m[2023-04-16 03:34:28,427] [    INFO]\u001b[0m - Special tokens file saved in C:\\Users\\wangy\\.paddlenlp\\models\\ernie-3.0-medium-zh\\special_tokens_map.json\u001b[0m\n"
     ]
    }
   ],
   "source": [
    "from paddlenlp.transformers import AutoModelForSequenceClassification, AutoTokenizer\n",
    "\n",
    "model_name = \"ernie-3.0-medium-zh\"   # ERNIE3.0 model\n",
    "num_classes = 28  # 28 classification mission\n",
    "model = AutoModelForSequenceClassification.from_pretrained(model_name, num_classes=num_classes)\n",
    "tokenizer = AutoTokenizer.from_pretrained(model_name)"
   ]
  },
  {
   "cell_type": "markdown",
   "metadata": {
    "id": "xNHyEHEH5h7_"
   },
   "source": [
    "## Process the raw data into a model-acceptable format."
   ]
  },
  {
   "cell_type": "code",
   "execution_count": 17,
   "metadata": {
    "id": "gHk1B5Wc5tav"
   },
   "outputs": [],
   "source": [
    "import functools\n",
    "import numpy as np\n",
    "\n",
    "from paddle.io import DataLoader, BatchSampler\n",
    "from paddlenlp.data import DataCollatorWithPadding\n",
    "\n",
    "# Data pre-processing function to convert text into integer sequences using a word splitter.\n",
    "def preprocess_function(examples, tokenizer, max_seq_length):\n",
    "    result = tokenizer(text=examples[\"text\"], max_seq_len=max_seq_length)\n",
    "    result[\"labels\"] = examples[\"labels\"]\n",
    "    return result\n",
    "\n",
    "trans_func = functools.partial(preprocess_function, tokenizer=tokenizer, max_seq_length=64)\n",
    "train_ds = train_ds.map(trans_func)\n",
    "test_ds = test_ds.map(trans_func)\n",
    "\n",
    "# function is constructed to extend the different length sequences to the maximum length of the data in the batch, and then stack the data.\n",
    "collate_fn = DataCollatorWithPadding(tokenizer)\n",
    "\n",
    "# Define the BatchSampler, select the batch size and whether to randomly jumble the DataLoader.\n",
    "train_batch_sampler = BatchSampler(train_ds, batch_size=32, shuffle=True)\n",
    "test_batch_sampler = BatchSampler(test_ds, batch_size=16, shuffle=False)\n",
    "train_data_loader = DataLoader(dataset=train_ds, batch_sampler=train_batch_sampler, collate_fn=collate_fn)\n",
    "test_data_loader = DataLoader(dataset=test_ds, batch_sampler=test_batch_sampler, collate_fn=collate_fn)"
   ]
  },
  {
   "cell_type": "markdown",
   "metadata": {
    "id": "-EPA9Lq97O_3"
   },
   "source": [
    "## Define model validation metrics."
   ]
  },
  {
   "cell_type": "code",
   "execution_count": 18,
   "metadata": {
    "id": "7HLrZrzK7RdI"
   },
   "outputs": [],
   "source": [
    "import numpy as np\n",
    "import sklearn\n",
    "from sklearn.metrics import roc_auc_score, f1_score, precision_score, recall_score\n",
    "from paddle.metric import Metric\n",
    "\n",
    "# Customize MultiLabelReport evaluation metrics.\n",
    "class MultiLabelReport(Metric):\n",
    "    \"\"\"\n",
    "    AUC and F1 Score for multi-label text classification task.\n",
    "    \"\"\"\n",
    "\n",
    "    def __init__(self, name='MultiLabelReport', average='micro'):\n",
    "        super(MultiLabelReport, self).__init__()\n",
    "        self.average = average\n",
    "        self._name = name\n",
    "        self.reset()\n",
    "\n",
    "    def f1_score(self, y_prob):\n",
    "        '''\n",
    "        Returns the f1 score by searching the best threshhold\n",
    "        '''\n",
    "        best_score = 0\n",
    "        for threshold in [i * 0.01 for i in range(100)]:\n",
    "            self.y_pred = y_prob > threshold\n",
    "            score = sklearn.metrics.f1_score(y_pred=self.y_pred, y_true=self.y_true, average=self.average)\n",
    "            if score > best_score:\n",
    "                best_score = score\n",
    "                precison = precision_score(y_pred=self.y_pred, y_true=self.y_true, average=self.average)\n",
    "                recall = recall_score(y_pred=self.y_pred, y_true=self.y_true, average=self.average)\n",
    "        return best_score, precison, recall\n",
    "\n",
    "    def reset(self):\n",
    "        \"\"\"\n",
    "        Resets all of the metric state.\n",
    "        \"\"\"\n",
    "        self.y_prob = None\n",
    "        self.y_true = None\n",
    "\n",
    "    def update(self, probs, labels):\n",
    "        if self.y_prob is not None:\n",
    "            self.y_prob = np.append(self.y_prob, probs.numpy(), axis=0)\n",
    "        else:\n",
    "            self.y_prob = probs.numpy()\n",
    "        if self.y_true is not None:\n",
    "            self.y_true = np.append(self.y_true, labels.numpy(), axis=0)\n",
    "        else:\n",
    "            self.y_true = labels.numpy()\n",
    "\n",
    "    def accumulate(self):\n",
    "        auc = roc_auc_score(\n",
    "            y_score=self.y_prob, y_true=self.y_true, average=self.average)\n",
    "        f1_score, precison, recall = self.f1_score(y_prob=self.y_prob)\n",
    "        return auc, f1_score, precison, recall\n",
    "\n",
    "    def name(self):\n",
    "        \"\"\"\n",
    "        Returns metric name\n",
    "        \"\"\"\n",
    "        return self._name"
   ]
  },
  {
   "cell_type": "markdown",
   "metadata": {
    "id": "H04sxVsF7lwJ"
   },
   "source": [
    "# Building the training model."
   ]
  },
  {
   "cell_type": "markdown",
   "metadata": {
    "id": "OLbmmDC38F1l"
   },
   "source": [
    "## Select an optimization strategy and run configuration."
   ]
  },
  {
   "cell_type": "code",
   "execution_count": 19,
   "metadata": {
    "id": "9yvG7sEc8QZj"
   },
   "outputs": [],
   "source": [
    "import time\n",
    "import paddle.nn.functional as F\n",
    "\n",
    "# AdamW optimizer, cross-entropy loss function, custom MultiLabelReport evaluation metrics.\n",
    "optimizer = paddle.optimizer.AdamW(learning_rate=4e-5, parameters=model.parameters(), weight_decay=0.01)\n",
    "criterion = paddle.nn.BCEWithLogitsLoss()\n",
    "metric = MultiLabelReport()"
   ]
  },
  {
   "cell_type": "markdown",
   "metadata": {
    "id": "evJ-MG798fyJ"
   },
   "source": [
    "## Model training and validation."
   ]
  },
  {
   "cell_type": "code",
   "execution_count": 20,
   "metadata": {
    "id": "D_97el-H8hc7"
   },
   "outputs": [],
   "source": [
    "import paddle\n",
    "import numpy as np\n",
    "import paddle.nn.functional as F\n",
    "\n",
    "# Build the validation set evaluate function.\n",
    "@paddle.no_grad()\n",
    "def evaluate(model, criterion, metric, data_loader, label_vocab, if_return_results=True):\n",
    "    model.eval()\n",
    "    metric.reset()\n",
    "    losses = []\n",
    "    results = []\n",
    "    for batch in data_loader:\n",
    "        input_ids, token_type_ids, labels = batch['input_ids'], batch['token_type_ids'], batch['labels']\n",
    "        logits = model(input_ids, token_type_ids)\n",
    "        loss = criterion(logits, labels)\n",
    "        probs = F.sigmoid(logits)\n",
    "        losses.append(loss.numpy())\n",
    "        metric.update(probs, labels)\n",
    "        if if_return_results:\n",
    "            probs = probs.tolist()\n",
    "            for prob in probs:\n",
    "                result = []\n",
    "                for c, pred in enumerate(prob):\n",
    "                    if pred > 0.5:\n",
    "                        result.append(label_vocab[c])\n",
    "                results.append(','.join(result))\n",
    "\n",
    "    auc, f1_score, precison, recall = metric.accumulate()\n",
    "    print(\"eval loss: %.5f, auc: %.5f, f1 score: %.5f, precison: %.5f, recall: %.5f\" %\n",
    "          (np.mean(losses), auc, f1_score, precison, recall))\n",
    "    model.train()\n",
    "    metric.reset()\n",
    "    if if_return_results:\n",
    "        return results\n",
    "    else:\n",
    "        return f1_score"
   ]
  },
  {
   "cell_type": "code",
   "execution_count": 18,
   "metadata": {
    "colab": {
     "base_uri": "https://localhost:8080/"
    },
    "id": "8I8ToDtX87QQ",
    "outputId": "b05662b8-084b-448e-df2a-df0b705d6542"
   },
   "outputs": [
    {
     "name": "stdout",
     "output_type": "stream",
     "text": [
      "global step 10, epoch: 1, batch: 10, loss: 0.33856, auc: 0.60074, f1 score: 0.11326, speed: 0.23 step/s\n",
      "global step 20, epoch: 1, batch: 20, loss: 0.25269, auc: 0.62805, f1 score: 0.14725, speed: 0.21 step/s\n",
      "global step 30, epoch: 1, batch: 30, loss: 0.20354, auc: 0.62293, f1 score: 0.14055, speed: 0.18 step/s\n",
      "global step 40, epoch: 1, batch: 40, loss: 0.18842, auc: 0.62870, f1 score: 0.14371, speed: 0.19 step/s\n"
     ]
    },
    {
     "name": "stderr",
     "output_type": "stream",
     "text": [
      "\u001b[32m[2023-04-12 03:38:24,732] [    INFO]\u001b[0m - Configuration saved in ernie_ckpt\\config.json\u001b[0m\n"
     ]
    },
    {
     "name": "stdout",
     "output_type": "stream",
     "text": [
      "eval loss: 0.18164, auc: 0.73053, f1 score: 0.30401, precison: 0.32928, recall: 0.28235\n"
     ]
    },
    {
     "name": "stderr",
     "output_type": "stream",
     "text": [
      "\u001b[32m[2023-04-12 03:38:25,163] [    INFO]\u001b[0m - tokenizer config file saved in ernie_ckpt\\tokenizer_config.json\u001b[0m\n",
      "\u001b[32m[2023-04-12 03:38:25,163] [    INFO]\u001b[0m - Special tokens file saved in ernie_ckpt\\special_tokens_map.json\u001b[0m\n"
     ]
    },
    {
     "name": "stdout",
     "output_type": "stream",
     "text": [
      "global step 50, epoch: 1, batch: 50, loss: 0.17483, auc: 0.69465, f1 score: 0.24813, speed: 0.04 step/s\n",
      "global step 60, epoch: 1, batch: 60, loss: 0.16774, auc: 0.71925, f1 score: 0.29480, speed: 0.17 step/s\n",
      "global step 70, epoch: 1, batch: 70, loss: 0.17420, auc: 0.70998, f1 score: 0.29051, speed: 0.17 step/s\n",
      "global step 80, epoch: 1, batch: 80, loss: 0.15070, auc: 0.70552, f1 score: 0.28264, speed: 0.16 step/s\n"
     ]
    },
    {
     "name": "stderr",
     "output_type": "stream",
     "text": [
      "\u001b[32m[2023-04-12 03:45:51,351] [    INFO]\u001b[0m - Configuration saved in ernie_ckpt\\config.json\u001b[0m\n"
     ]
    },
    {
     "name": "stdout",
     "output_type": "stream",
     "text": [
      "eval loss: 0.15548, auc: 0.76670, f1 score: 0.30423, precison: 0.33001, recall: 0.28219\n"
     ]
    },
    {
     "name": "stderr",
     "output_type": "stream",
     "text": [
      "\u001b[32m[2023-04-12 03:45:51,635] [    INFO]\u001b[0m - tokenizer config file saved in ernie_ckpt\\tokenizer_config.json\u001b[0m\n",
      "\u001b[32m[2023-04-12 03:45:51,635] [    INFO]\u001b[0m - Special tokens file saved in ernie_ckpt\\special_tokens_map.json\u001b[0m\n"
     ]
    },
    {
     "name": "stdout",
     "output_type": "stream",
     "text": [
      "global step 90, epoch: 1, batch: 90, loss: 0.17446, auc: 0.74794, f1 score: 0.29112, speed: 0.04 step/s\n",
      "global step 100, epoch: 1, batch: 100, loss: 0.15999, auc: 0.74558, f1 score: 0.26937, speed: 0.17 step/s\n",
      "global step 110, epoch: 1, batch: 110, loss: 0.14344, auc: 0.75921, f1 score: 0.28158, speed: 0.14 step/s\n",
      "global step 120, epoch: 1, batch: 120, loss: 0.14947, auc: 0.75712, f1 score: 0.28520, speed: 0.16 step/s\n",
      "eval loss: 0.15047, auc: 0.77010, f1 score: 0.30401, precison: 0.32928, recall: 0.28235\n",
      "global step 130, epoch: 1, batch: 130, loss: 0.14210, auc: 0.76565, f1 score: 0.32046, speed: 0.04 step/s\n",
      "global step 140, epoch: 1, batch: 140, loss: 0.15852, auc: 0.75668, f1 score: 0.28320, speed: 0.17 step/s\n",
      "global step 150, epoch: 1, batch: 150, loss: 0.14987, auc: 0.75286, f1 score: 0.28558, speed: 0.17 step/s\n",
      "global step 160, epoch: 1, batch: 160, loss: 0.14963, auc: 0.75061, f1 score: 0.28723, speed: 0.17 step/s\n",
      "eval loss: 0.14893, auc: 0.77401, f1 score: 0.30401, precison: 0.32928, recall: 0.28235\n",
      "global step 170, epoch: 1, batch: 170, loss: 0.14789, auc: 0.76758, f1 score: 0.27794, speed: 0.04 step/s\n",
      "global step 180, epoch: 1, batch: 180, loss: 0.14808, auc: 0.77181, f1 score: 0.29230, speed: 0.15 step/s\n",
      "global step 190, epoch: 1, batch: 190, loss: 0.14901, auc: 0.76900, f1 score: 0.28312, speed: 0.16 step/s\n",
      "global step 200, epoch: 1, batch: 200, loss: 0.15213, auc: 0.76162, f1 score: 0.28407, speed: 0.17 step/s\n"
     ]
    },
    {
     "name": "stderr",
     "output_type": "stream",
     "text": [
      "\u001b[32m[2023-04-12 04:08:22,207] [    INFO]\u001b[0m - Configuration saved in ernie_ckpt\\config.json\u001b[0m\n"
     ]
    },
    {
     "name": "stdout",
     "output_type": "stream",
     "text": [
      "eval loss: 0.14793, auc: 0.77675, f1 score: 0.31177, precison: 0.34949, recall: 0.28140\n"
     ]
    },
    {
     "name": "stderr",
     "output_type": "stream",
     "text": [
      "\u001b[32m[2023-04-12 04:08:22,467] [    INFO]\u001b[0m - tokenizer config file saved in ernie_ckpt\\tokenizer_config.json\u001b[0m\n",
      "\u001b[32m[2023-04-12 04:08:22,467] [    INFO]\u001b[0m - Special tokens file saved in ernie_ckpt\\special_tokens_map.json\u001b[0m\n"
     ]
    },
    {
     "name": "stdout",
     "output_type": "stream",
     "text": [
      "global step 210, epoch: 1, batch: 210, loss: 0.14634, auc: 0.74638, f1 score: 0.29226, speed: 0.04 step/s\n",
      "global step 220, epoch: 1, batch: 220, loss: 0.14124, auc: 0.75533, f1 score: 0.31215, speed: 0.19 step/s\n",
      "global step 230, epoch: 1, batch: 230, loss: 0.14655, auc: 0.75730, f1 score: 0.31253, speed: 0.18 step/s\n",
      "global step 240, epoch: 1, batch: 240, loss: 0.13586, auc: 0.75842, f1 score: 0.31007, speed: 0.19 step/s\n"
     ]
    },
    {
     "name": "stderr",
     "output_type": "stream",
     "text": [
      "\u001b[32m[2023-04-12 04:15:15,595] [    INFO]\u001b[0m - Configuration saved in ernie_ckpt\\config.json\u001b[0m\n"
     ]
    },
    {
     "name": "stdout",
     "output_type": "stream",
     "text": [
      "eval loss: 0.14285, auc: 0.79415, f1 score: 0.36652, precison: 0.44825, recall: 0.31000\n"
     ]
    },
    {
     "name": "stderr",
     "output_type": "stream",
     "text": [
      "\u001b[32m[2023-04-12 04:15:15,853] [    INFO]\u001b[0m - tokenizer config file saved in ernie_ckpt\\tokenizer_config.json\u001b[0m\n",
      "\u001b[32m[2023-04-12 04:15:15,854] [    INFO]\u001b[0m - Special tokens file saved in ernie_ckpt\\special_tokens_map.json\u001b[0m\n"
     ]
    },
    {
     "name": "stdout",
     "output_type": "stream",
     "text": [
      "global step 250, epoch: 1, batch: 250, loss: 0.15994, auc: 0.77441, f1 score: 0.35846, speed: 0.04 step/s\n",
      "global step 260, epoch: 1, batch: 260, loss: 0.14120, auc: 0.78694, f1 score: 0.35004, speed: 0.19 step/s\n",
      "global step 270, epoch: 1, batch: 270, loss: 0.14511, auc: 0.79347, f1 score: 0.35988, speed: 0.20 step/s\n",
      "global step 280, epoch: 1, batch: 280, loss: 0.11974, auc: 0.80393, f1 score: 0.37934, speed: 0.19 step/s\n"
     ]
    },
    {
     "name": "stderr",
     "output_type": "stream",
     "text": [
      "\u001b[32m[2023-04-12 04:22:01,921] [    INFO]\u001b[0m - Configuration saved in ernie_ckpt\\config.json\u001b[0m\n"
     ]
    },
    {
     "name": "stdout",
     "output_type": "stream",
     "text": [
      "eval loss: 0.13601, auc: 0.80814, f1 score: 0.41972, precison: 0.48054, recall: 0.37257\n"
     ]
    },
    {
     "name": "stderr",
     "output_type": "stream",
     "text": [
      "\u001b[32m[2023-04-12 04:22:02,176] [    INFO]\u001b[0m - tokenizer config file saved in ernie_ckpt\\tokenizer_config.json\u001b[0m\n",
      "\u001b[32m[2023-04-12 04:22:02,176] [    INFO]\u001b[0m - Special tokens file saved in ernie_ckpt\\special_tokens_map.json\u001b[0m\n"
     ]
    },
    {
     "name": "stdout",
     "output_type": "stream",
     "text": [
      "global step 290, epoch: 1, batch: 290, loss: 0.10346, auc: 0.80067, f1 score: 0.44726, speed: 0.04 step/s\n",
      "global step 300, epoch: 1, batch: 300, loss: 0.14919, auc: 0.81262, f1 score: 0.41202, speed: 0.21 step/s\n",
      "global step 310, epoch: 1, batch: 310, loss: 0.14257, auc: 0.81570, f1 score: 0.41613, speed: 0.21 step/s\n",
      "global step 320, epoch: 1, batch: 320, loss: 0.13613, auc: 0.81686, f1 score: 0.41609, speed: 0.21 step/s\n"
     ]
    },
    {
     "name": "stderr",
     "output_type": "stream",
     "text": [
      "\u001b[32m[2023-04-12 04:28:32,381] [    INFO]\u001b[0m - Configuration saved in ernie_ckpt\\config.json\u001b[0m\n"
     ]
    },
    {
     "name": "stdout",
     "output_type": "stream",
     "text": [
      "eval loss: 0.13078, auc: 0.83913, f1 score: 0.42565, precison: 0.47296, recall: 0.38695\n"
     ]
    },
    {
     "name": "stderr",
     "output_type": "stream",
     "text": [
      "\u001b[32m[2023-04-12 04:28:32,636] [    INFO]\u001b[0m - tokenizer config file saved in ernie_ckpt\\tokenizer_config.json\u001b[0m\n",
      "\u001b[32m[2023-04-12 04:28:32,636] [    INFO]\u001b[0m - Special tokens file saved in ernie_ckpt\\special_tokens_map.json\u001b[0m\n"
     ]
    },
    {
     "name": "stdout",
     "output_type": "stream",
     "text": [
      "global step 330, epoch: 1, batch: 330, loss: 0.13599, auc: 0.82870, f1 score: 0.42238, speed: 0.04 step/s\n",
      "global step 340, epoch: 1, batch: 340, loss: 0.12375, auc: 0.82885, f1 score: 0.41115, speed: 0.20 step/s\n",
      "global step 350, epoch: 1, batch: 350, loss: 0.15123, auc: 0.82525, f1 score: 0.39725, speed: 0.21 step/s\n",
      "global step 360, epoch: 1, batch: 360, loss: 0.13734, auc: 0.82586, f1 score: 0.40732, speed: 0.19 step/s\n"
     ]
    },
    {
     "name": "stderr",
     "output_type": "stream",
     "text": [
      "\u001b[32m[2023-04-12 04:35:08,969] [    INFO]\u001b[0m - Configuration saved in ernie_ckpt\\config.json\u001b[0m\n"
     ]
    },
    {
     "name": "stdout",
     "output_type": "stream",
     "text": [
      "eval loss: 0.12713, auc: 0.84248, f1 score: 0.45054, precison: 0.51666, recall: 0.39943\n"
     ]
    },
    {
     "name": "stderr",
     "output_type": "stream",
     "text": [
      "\u001b[32m[2023-04-12 04:35:09,220] [    INFO]\u001b[0m - tokenizer config file saved in ernie_ckpt\\tokenizer_config.json\u001b[0m\n",
      "\u001b[32m[2023-04-12 04:35:09,220] [    INFO]\u001b[0m - Special tokens file saved in ernie_ckpt\\special_tokens_map.json\u001b[0m\n"
     ]
    },
    {
     "name": "stdout",
     "output_type": "stream",
     "text": [
      "global step 370, epoch: 1, batch: 370, loss: 0.11166, auc: 0.85066, f1 score: 0.46986, speed: 0.04 step/s\n",
      "global step 380, epoch: 1, batch: 380, loss: 0.12717, auc: 0.84820, f1 score: 0.46426, speed: 0.21 step/s\n",
      "global step 390, epoch: 1, batch: 390, loss: 0.12195, auc: 0.84815, f1 score: 0.45922, speed: 0.20 step/s\n",
      "global step 400, epoch: 1, batch: 400, loss: 0.14186, auc: 0.84835, f1 score: 0.46317, speed: 0.20 step/s\n"
     ]
    },
    {
     "name": "stderr",
     "output_type": "stream",
     "text": [
      "\u001b[32m[2023-04-12 04:41:43,548] [    INFO]\u001b[0m - Configuration saved in ernie_ckpt\\config.json\u001b[0m\n"
     ]
    },
    {
     "name": "stdout",
     "output_type": "stream",
     "text": [
      "eval loss: 0.12387, auc: 0.85105, f1 score: 0.46407, precison: 0.51636, recall: 0.42139\n"
     ]
    },
    {
     "name": "stderr",
     "output_type": "stream",
     "text": [
      "\u001b[32m[2023-04-12 04:41:43,808] [    INFO]\u001b[0m - tokenizer config file saved in ernie_ckpt\\tokenizer_config.json\u001b[0m\n",
      "\u001b[32m[2023-04-12 04:41:43,808] [    INFO]\u001b[0m - Special tokens file saved in ernie_ckpt\\special_tokens_map.json\u001b[0m\n"
     ]
    },
    {
     "name": "stdout",
     "output_type": "stream",
     "text": [
      "global step 410, epoch: 1, batch: 410, loss: 0.13896, auc: 0.85328, f1 score: 0.49026, speed: 0.04 step/s\n",
      "global step 420, epoch: 1, batch: 420, loss: 0.11801, auc: 0.84853, f1 score: 0.46362, speed: 0.22 step/s\n",
      "global step 430, epoch: 1, batch: 430, loss: 0.10301, auc: 0.85685, f1 score: 0.46870, speed: 0.21 step/s\n",
      "global step 440, epoch: 1, batch: 440, loss: 0.10761, auc: 0.85583, f1 score: 0.47609, speed: 0.20 step/s\n"
     ]
    },
    {
     "name": "stderr",
     "output_type": "stream",
     "text": [
      "\u001b[32m[2023-04-12 04:48:11,083] [    INFO]\u001b[0m - Configuration saved in ernie_ckpt\\config.json\u001b[0m\n"
     ]
    },
    {
     "name": "stdout",
     "output_type": "stream",
     "text": [
      "eval loss: 0.11938, auc: 0.86700, f1 score: 0.49213, precison: 0.56658, recall: 0.43498\n"
     ]
    },
    {
     "name": "stderr",
     "output_type": "stream",
     "text": [
      "\u001b[32m[2023-04-12 04:48:11,337] [    INFO]\u001b[0m - tokenizer config file saved in ernie_ckpt\\tokenizer_config.json\u001b[0m\n",
      "\u001b[32m[2023-04-12 04:48:11,344] [    INFO]\u001b[0m - Special tokens file saved in ernie_ckpt\\special_tokens_map.json\u001b[0m\n"
     ]
    },
    {
     "name": "stdout",
     "output_type": "stream",
     "text": [
      "global step 450, epoch: 1, batch: 450, loss: 0.11297, auc: 0.86666, f1 score: 0.49062, speed: 0.04 step/s\n",
      "global step 460, epoch: 1, batch: 460, loss: 0.10731, auc: 0.87263, f1 score: 0.50424, speed: 0.21 step/s\n",
      "global step 470, epoch: 1, batch: 470, loss: 0.12072, auc: 0.86901, f1 score: 0.49118, speed: 0.20 step/s\n",
      "global step 480, epoch: 1, batch: 480, loss: 0.11156, auc: 0.87165, f1 score: 0.48769, speed: 0.20 step/s\n"
     ]
    },
    {
     "name": "stderr",
     "output_type": "stream",
     "text": [
      "\u001b[32m[2023-04-12 04:54:43,044] [    INFO]\u001b[0m - Configuration saved in ernie_ckpt\\config.json\u001b[0m\n"
     ]
    },
    {
     "name": "stdout",
     "output_type": "stream",
     "text": [
      "eval loss: 0.11681, auc: 0.88285, f1 score: 0.49733, precison: 0.51742, recall: 0.47875\n"
     ]
    },
    {
     "name": "stderr",
     "output_type": "stream",
     "text": [
      "\u001b[32m[2023-04-12 04:54:43,304] [    INFO]\u001b[0m - tokenizer config file saved in ernie_ckpt\\tokenizer_config.json\u001b[0m\n",
      "\u001b[32m[2023-04-12 04:54:43,304] [    INFO]\u001b[0m - Special tokens file saved in ernie_ckpt\\special_tokens_map.json\u001b[0m\n"
     ]
    },
    {
     "name": "stdout",
     "output_type": "stream",
     "text": [
      "global step 490, epoch: 1, batch: 490, loss: 0.14058, auc: 0.87345, f1 score: 0.50150, speed: 0.04 step/s\n",
      "global step 500, epoch: 1, batch: 500, loss: 0.11419, auc: 0.87268, f1 score: 0.48998, speed: 0.21 step/s\n",
      "global step 510, epoch: 1, batch: 510, loss: 0.10991, auc: 0.87699, f1 score: 0.50174, speed: 0.20 step/s\n",
      "global step 520, epoch: 1, batch: 520, loss: 0.12399, auc: 0.87781, f1 score: 0.49665, speed: 0.20 step/s\n",
      "eval loss: 0.11611, auc: 0.88724, f1 score: 0.48950, precison: 0.49853, recall: 0.48080\n",
      "global step 530, epoch: 1, batch: 530, loss: 0.11538, auc: 0.89380, f1 score: 0.52897, speed: 0.04 step/s\n",
      "global step 540, epoch: 1, batch: 540, loss: 0.11366, auc: 0.89213, f1 score: 0.49401, speed: 0.21 step/s\n",
      "global step 550, epoch: 1, batch: 550, loss: 0.12300, auc: 0.88584, f1 score: 0.49545, speed: 0.20 step/s\n",
      "global step 560, epoch: 1, batch: 560, loss: 0.13487, auc: 0.87907, f1 score: 0.49627, speed: 0.20 step/s\n"
     ]
    },
    {
     "name": "stderr",
     "output_type": "stream",
     "text": [
      "\u001b[32m[2023-04-12 05:07:53,621] [    INFO]\u001b[0m - Configuration saved in ernie_ckpt\\config.json\u001b[0m\n"
     ]
    },
    {
     "name": "stdout",
     "output_type": "stream",
     "text": [
      "eval loss: 0.11359, auc: 0.89394, f1 score: 0.50657, precison: 0.55097, recall: 0.46879\n"
     ]
    },
    {
     "name": "stderr",
     "output_type": "stream",
     "text": [
      "\u001b[32m[2023-04-12 05:07:53,880] [    INFO]\u001b[0m - tokenizer config file saved in ernie_ckpt\\tokenizer_config.json\u001b[0m\n",
      "\u001b[32m[2023-04-12 05:07:53,880] [    INFO]\u001b[0m - Special tokens file saved in ernie_ckpt\\special_tokens_map.json\u001b[0m\n"
     ]
    },
    {
     "name": "stdout",
     "output_type": "stream",
     "text": [
      "global step 570, epoch: 1, batch: 570, loss: 0.11184, auc: 0.89445, f1 score: 0.52493, speed: 0.04 step/s\n",
      "global step 580, epoch: 1, batch: 580, loss: 0.10472, auc: 0.88617, f1 score: 0.51750, speed: 0.21 step/s\n",
      "global step 590, epoch: 1, batch: 590, loss: 0.11332, auc: 0.88695, f1 score: 0.50820, speed: 0.21 step/s\n",
      "global step 600, epoch: 1, batch: 600, loss: 0.11389, auc: 0.88679, f1 score: 0.51337, speed: 0.20 step/s\n"
     ]
    },
    {
     "name": "stderr",
     "output_type": "stream",
     "text": [
      "\u001b[32m[2023-04-12 05:14:26,470] [    INFO]\u001b[0m - Configuration saved in ernie_ckpt\\config.json\u001b[0m\n"
     ]
    },
    {
     "name": "stdout",
     "output_type": "stream",
     "text": [
      "eval loss: 0.11011, auc: 0.90110, f1 score: 0.52204, precison: 0.54545, recall: 0.50055\n"
     ]
    },
    {
     "name": "stderr",
     "output_type": "stream",
     "text": [
      "\u001b[32m[2023-04-12 05:14:26,728] [    INFO]\u001b[0m - tokenizer config file saved in ernie_ckpt\\tokenizer_config.json\u001b[0m\n",
      "\u001b[32m[2023-04-12 05:14:26,730] [    INFO]\u001b[0m - Special tokens file saved in ernie_ckpt\\special_tokens_map.json\u001b[0m\n"
     ]
    },
    {
     "name": "stdout",
     "output_type": "stream",
     "text": [
      "global step 610, epoch: 1, batch: 610, loss: 0.09197, auc: 0.90682, f1 score: 0.53876, speed: 0.04 step/s\n",
      "global step 620, epoch: 1, batch: 620, loss: 0.09538, auc: 0.90913, f1 score: 0.55207, speed: 0.20 step/s\n",
      "global step 630, epoch: 1, batch: 630, loss: 0.11814, auc: 0.90092, f1 score: 0.52501, speed: 0.20 step/s\n",
      "global step 640, epoch: 1, batch: 640, loss: 0.13452, auc: 0.90353, f1 score: 0.52753, speed: 0.21 step/s\n"
     ]
    },
    {
     "name": "stderr",
     "output_type": "stream",
     "text": [
      "\u001b[32m[2023-04-12 05:20:58,352] [    INFO]\u001b[0m - Configuration saved in ernie_ckpt\\config.json\u001b[0m\n"
     ]
    },
    {
     "name": "stdout",
     "output_type": "stream",
     "text": [
      "eval loss: 0.10818, auc: 0.90478, f1 score: 0.52582, precison: 0.53631, recall: 0.51572\n"
     ]
    },
    {
     "name": "stderr",
     "output_type": "stream",
     "text": [
      "\u001b[32m[2023-04-12 05:20:58,605] [    INFO]\u001b[0m - tokenizer config file saved in ernie_ckpt\\tokenizer_config.json\u001b[0m\n",
      "\u001b[32m[2023-04-12 05:20:58,605] [    INFO]\u001b[0m - Special tokens file saved in ernie_ckpt\\special_tokens_map.json\u001b[0m\n"
     ]
    },
    {
     "name": "stdout",
     "output_type": "stream",
     "text": [
      "global step 650, epoch: 1, batch: 650, loss: 0.10602, auc: 0.89099, f1 score: 0.49424, speed: 0.04 step/s\n",
      "global step 660, epoch: 1, batch: 660, loss: 0.09300, auc: 0.89504, f1 score: 0.51910, speed: 0.19 step/s\n",
      "global step 670, epoch: 1, batch: 670, loss: 0.11607, auc: 0.89862, f1 score: 0.52201, speed: 0.20 step/s\n",
      "global step 680, epoch: 1, batch: 680, loss: 0.10201, auc: 0.90515, f1 score: 0.52996, speed: 0.22 step/s\n"
     ]
    },
    {
     "name": "stderr",
     "output_type": "stream",
     "text": [
      "\u001b[32m[2023-04-12 05:27:33,890] [    INFO]\u001b[0m - Configuration saved in ernie_ckpt\\config.json\u001b[0m\n"
     ]
    },
    {
     "name": "stdout",
     "output_type": "stream",
     "text": [
      "eval loss: 0.10565, auc: 0.90736, f1 score: 0.53423, precison: 0.55229, recall: 0.51730\n"
     ]
    },
    {
     "name": "stderr",
     "output_type": "stream",
     "text": [
      "\u001b[32m[2023-04-12 05:27:34,155] [    INFO]\u001b[0m - tokenizer config file saved in ernie_ckpt\\tokenizer_config.json\u001b[0m\n",
      "\u001b[32m[2023-04-12 05:27:34,155] [    INFO]\u001b[0m - Special tokens file saved in ernie_ckpt\\special_tokens_map.json\u001b[0m\n"
     ]
    },
    {
     "name": "stdout",
     "output_type": "stream",
     "text": [
      "global step 690, epoch: 1, batch: 690, loss: 0.10360, auc: 0.90262, f1 score: 0.51169, speed: 0.04 step/s\n",
      "global step 700, epoch: 1, batch: 700, loss: 0.10730, auc: 0.90467, f1 score: 0.52874, speed: 0.21 step/s\n",
      "global step 710, epoch: 1, batch: 710, loss: 0.08896, auc: 0.89891, f1 score: 0.51760, speed: 0.20 step/s\n",
      "global step 720, epoch: 1, batch: 720, loss: 0.10872, auc: 0.90273, f1 score: 0.52613, speed: 0.18 step/s\n",
      "eval loss: 0.10624, auc: 0.91271, f1 score: 0.53157, precison: 0.53926, recall: 0.52410\n",
      "global step 730, epoch: 1, batch: 730, loss: 0.12457, auc: 0.88875, f1 score: 0.50843, speed: 0.04 step/s\n",
      "global step 740, epoch: 1, batch: 740, loss: 0.12006, auc: 0.89386, f1 score: 0.51981, speed: 0.20 step/s\n",
      "global step 750, epoch: 1, batch: 750, loss: 0.11852, auc: 0.90215, f1 score: 0.51514, speed: 0.20 step/s\n",
      "global step 760, epoch: 1, batch: 760, loss: 0.10050, auc: 0.90433, f1 score: 0.52235, speed: 0.22 step/s\n"
     ]
    },
    {
     "name": "stderr",
     "output_type": "stream",
     "text": [
      "\u001b[32m[2023-04-12 05:40:46,611] [    INFO]\u001b[0m - Configuration saved in ernie_ckpt\\config.json\u001b[0m\n"
     ]
    },
    {
     "name": "stdout",
     "output_type": "stream",
     "text": [
      "eval loss: 0.10473, auc: 0.91538, f1 score: 0.53951, precison: 0.57500, recall: 0.50814\n"
     ]
    },
    {
     "name": "stderr",
     "output_type": "stream",
     "text": [
      "\u001b[32m[2023-04-12 05:40:46,871] [    INFO]\u001b[0m - tokenizer config file saved in ernie_ckpt\\tokenizer_config.json\u001b[0m\n",
      "\u001b[32m[2023-04-12 05:40:46,876] [    INFO]\u001b[0m - Special tokens file saved in ernie_ckpt\\special_tokens_map.json\u001b[0m\n"
     ]
    },
    {
     "name": "stdout",
     "output_type": "stream",
     "text": [
      "global step 770, epoch: 1, batch: 770, loss: 0.11806, auc: 0.91110, f1 score: 0.54068, speed: 0.04 step/s\n",
      "global step 780, epoch: 1, batch: 780, loss: 0.11016, auc: 0.91213, f1 score: 0.53892, speed: 0.20 step/s\n",
      "global step 790, epoch: 1, batch: 790, loss: 0.08508, auc: 0.91178, f1 score: 0.53724, speed: 0.18 step/s\n",
      "global step 800, epoch: 1, batch: 800, loss: 0.10606, auc: 0.91479, f1 score: 0.54520, speed: 0.21 step/s\n"
     ]
    },
    {
     "name": "stderr",
     "output_type": "stream",
     "text": [
      "\u001b[32m[2023-04-12 05:47:24,361] [    INFO]\u001b[0m - Configuration saved in ernie_ckpt\\config.json\u001b[0m\n"
     ]
    },
    {
     "name": "stdout",
     "output_type": "stream",
     "text": [
      "eval loss: 0.10245, auc: 0.91939, f1 score: 0.54601, precison: 0.54550, recall: 0.54653\n"
     ]
    },
    {
     "name": "stderr",
     "output_type": "stream",
     "text": [
      "\u001b[32m[2023-04-12 05:47:24,621] [    INFO]\u001b[0m - tokenizer config file saved in ernie_ckpt\\tokenizer_config.json\u001b[0m\n",
      "\u001b[32m[2023-04-12 05:47:24,622] [    INFO]\u001b[0m - Special tokens file saved in ernie_ckpt\\special_tokens_map.json\u001b[0m\n"
     ]
    },
    {
     "name": "stdout",
     "output_type": "stream",
     "text": [
      "global step 810, epoch: 1, batch: 810, loss: 0.12912, auc: 0.91451, f1 score: 0.52214, speed: 0.04 step/s\n",
      "global step 820, epoch: 1, batch: 820, loss: 0.12358, auc: 0.91304, f1 score: 0.54497, speed: 0.20 step/s\n",
      "global step 830, epoch: 1, batch: 830, loss: 0.10983, auc: 0.91184, f1 score: 0.53950, speed: 0.19 step/s\n",
      "global step 840, epoch: 1, batch: 840, loss: 0.11660, auc: 0.91285, f1 score: 0.54247, speed: 0.19 step/s\n",
      "eval loss: 0.10312, auc: 0.91920, f1 score: 0.54415, precison: 0.53691, recall: 0.55159\n",
      "global step 850, epoch: 1, batch: 850, loss: 0.09201, auc: 0.91205, f1 score: 0.51907, speed: 0.04 step/s\n",
      "global step 860, epoch: 1, batch: 860, loss: 0.09198, auc: 0.91744, f1 score: 0.55817, speed: 0.21 step/s\n",
      "global step 870, epoch: 1, batch: 870, loss: 0.10571, auc: 0.91372, f1 score: 0.54093, speed: 0.20 step/s\n",
      "global step 880, epoch: 1, batch: 880, loss: 0.12481, auc: 0.91177, f1 score: 0.53493, speed: 0.21 step/s\n",
      "eval loss: 0.10153, auc: 0.92217, f1 score: 0.54553, precison: 0.53839, recall: 0.55285\n",
      "global step 890, epoch: 1, batch: 890, loss: 0.07571, auc: 0.92773, f1 score: 0.58113, speed: 0.04 step/s\n",
      "global step 900, epoch: 1, batch: 900, loss: 0.10939, auc: 0.92192, f1 score: 0.56053, speed: 0.20 step/s\n",
      "global step 910, epoch: 1, batch: 910, loss: 0.11411, auc: 0.91676, f1 score: 0.54987, speed: 0.20 step/s\n",
      "global step 920, epoch: 1, batch: 920, loss: 0.09899, auc: 0.91451, f1 score: 0.53766, speed: 0.20 step/s\n"
     ]
    },
    {
     "name": "stderr",
     "output_type": "stream",
     "text": [
      "\u001b[32m[2023-04-12 06:07:21,119] [    INFO]\u001b[0m - Configuration saved in ernie_ckpt\\config.json\u001b[0m\n"
     ]
    },
    {
     "name": "stdout",
     "output_type": "stream",
     "text": [
      "eval loss: 0.09956, auc: 0.92294, f1 score: 0.55625, precison: 0.59001, recall: 0.52615\n"
     ]
    },
    {
     "name": "stderr",
     "output_type": "stream",
     "text": [
      "\u001b[32m[2023-04-12 06:07:21,375] [    INFO]\u001b[0m - tokenizer config file saved in ernie_ckpt\\tokenizer_config.json\u001b[0m\n",
      "\u001b[32m[2023-04-12 06:07:21,375] [    INFO]\u001b[0m - Special tokens file saved in ernie_ckpt\\special_tokens_map.json\u001b[0m\n"
     ]
    },
    {
     "name": "stdout",
     "output_type": "stream",
     "text": [
      "global step 930, epoch: 1, batch: 930, loss: 0.10105, auc: 0.92418, f1 score: 0.54011, speed: 0.04 step/s\n",
      "global step 940, epoch: 1, batch: 940, loss: 0.12174, auc: 0.91602, f1 score: 0.53059, speed: 0.20 step/s\n",
      "global step 950, epoch: 1, batch: 950, loss: 0.13061, auc: 0.91176, f1 score: 0.53589, speed: 0.20 step/s\n",
      "global step 960, epoch: 1, batch: 960, loss: 0.09450, auc: 0.91346, f1 score: 0.54404, speed: 0.19 step/s\n",
      "eval loss: 0.10051, auc: 0.92005, f1 score: 0.55123, precison: 0.58132, recall: 0.52410\n",
      "global step 970, epoch: 1, batch: 970, loss: 0.09048, auc: 0.92384, f1 score: 0.56483, speed: 0.04 step/s\n",
      "global step 980, epoch: 1, batch: 980, loss: 0.07734, auc: 0.92457, f1 score: 0.57508, speed: 0.21 step/s\n",
      "global step 990, epoch: 1, batch: 990, loss: 0.09650, auc: 0.92265, f1 score: 0.55618, speed: 0.20 step/s\n",
      "global step 1000, epoch: 1, batch: 1000, loss: 0.11498, auc: 0.92056, f1 score: 0.55461, speed: 0.20 step/s\n"
     ]
    },
    {
     "name": "stderr",
     "output_type": "stream",
     "text": [
      "\u001b[32m[2023-04-12 06:20:34,350] [    INFO]\u001b[0m - Configuration saved in ernie_ckpt\\config.json\u001b[0m\n"
     ]
    },
    {
     "name": "stdout",
     "output_type": "stream",
     "text": [
      "eval loss: 0.09825, auc: 0.92894, f1 score: 0.56071, precison: 0.56036, recall: 0.56107\n"
     ]
    },
    {
     "name": "stderr",
     "output_type": "stream",
     "text": [
      "\u001b[32m[2023-04-12 06:20:34,610] [    INFO]\u001b[0m - tokenizer config file saved in ernie_ckpt\\tokenizer_config.json\u001b[0m\n",
      "\u001b[32m[2023-04-12 06:20:34,610] [    INFO]\u001b[0m - Special tokens file saved in ernie_ckpt\\special_tokens_map.json\u001b[0m\n"
     ]
    },
    {
     "name": "stdout",
     "output_type": "stream",
     "text": [
      "global step 1010, epoch: 1, batch: 1010, loss: 0.09759, auc: 0.91603, f1 score: 0.55448, speed: 0.04 step/s\n",
      "global step 1020, epoch: 1, batch: 1020, loss: 0.10435, auc: 0.91663, f1 score: 0.54324, speed: 0.21 step/s\n",
      "global step 1030, epoch: 1, batch: 1030, loss: 0.12457, auc: 0.90958, f1 score: 0.54367, speed: 0.20 step/s\n",
      "global step 1040, epoch: 1, batch: 1040, loss: 0.10095, auc: 0.91212, f1 score: 0.54001, speed: 0.20 step/s\n",
      "eval loss: 0.09782, auc: 0.93188, f1 score: 0.55972, precison: 0.54399, recall: 0.57639\n",
      "global step 1050, epoch: 1, batch: 1050, loss: 0.11658, auc: 0.92292, f1 score: 0.51415, speed: 0.04 step/s\n",
      "global step 1060, epoch: 1, batch: 1060, loss: 0.09979, auc: 0.92212, f1 score: 0.53220, speed: 0.20 step/s\n",
      "global step 1070, epoch: 1, batch: 1070, loss: 0.09564, auc: 0.92132, f1 score: 0.53344, speed: 0.21 step/s\n",
      "global step 1080, epoch: 1, batch: 1080, loss: 0.08332, auc: 0.92231, f1 score: 0.54528, speed: 0.21 step/s\n",
      "eval loss: 0.09822, auc: 0.92760, f1 score: 0.55907, precison: 0.54403, recall: 0.57497\n",
      "global step 1090, epoch: 1, batch: 1090, loss: 0.11964, auc: 0.92658, f1 score: 0.55526, speed: 0.04 step/s\n",
      "global step 1100, epoch: 1, batch: 1100, loss: 0.10051, auc: 0.93174, f1 score: 0.56790, speed: 0.20 step/s\n",
      "global step 1110, epoch: 1, batch: 1110, loss: 0.10696, auc: 0.92652, f1 score: 0.55019, speed: 0.22 step/s\n",
      "global step 1120, epoch: 1, batch: 1120, loss: 0.08868, auc: 0.92699, f1 score: 0.54979, speed: 0.21 step/s\n",
      "eval loss: 0.09753, auc: 0.93060, f1 score: 0.55946, precison: 0.54777, recall: 0.57165\n",
      "global step 1130, epoch: 1, batch: 1130, loss: 0.08553, auc: 0.92260, f1 score: 0.54886, speed: 0.04 step/s\n",
      "global step 1140, epoch: 1, batch: 1140, loss: 0.09645, auc: 0.92238, f1 score: 0.54558, speed: 0.19 step/s\n",
      "global step 1150, epoch: 1, batch: 1150, loss: 0.09189, auc: 0.92404, f1 score: 0.54076, speed: 0.22 step/s\n",
      "global step 1160, epoch: 1, batch: 1160, loss: 0.08503, auc: 0.92568, f1 score: 0.54733, speed: 0.21 step/s\n"
     ]
    },
    {
     "name": "stderr",
     "output_type": "stream",
     "text": [
      "\u001b[32m[2023-04-12 06:46:47,426] [    INFO]\u001b[0m - Configuration saved in ernie_ckpt\\config.json\u001b[0m\n"
     ]
    },
    {
     "name": "stdout",
     "output_type": "stream",
     "text": [
      "eval loss: 0.09718, auc: 0.92897, f1 score: 0.57003, precison: 0.56096, recall: 0.57940\n"
     ]
    },
    {
     "name": "stderr",
     "output_type": "stream",
     "text": [
      "\u001b[32m[2023-04-12 06:46:47,682] [    INFO]\u001b[0m - tokenizer config file saved in ernie_ckpt\\tokenizer_config.json\u001b[0m\n",
      "\u001b[32m[2023-04-12 06:46:47,682] [    INFO]\u001b[0m - Special tokens file saved in ernie_ckpt\\special_tokens_map.json\u001b[0m\n"
     ]
    },
    {
     "name": "stdout",
     "output_type": "stream",
     "text": [
      "global step 1170, epoch: 1, batch: 1170, loss: 0.08585, auc: 0.92246, f1 score: 0.50233, speed: 0.04 step/s\n",
      "global step 1180, epoch: 1, batch: 1180, loss: 0.09676, auc: 0.92275, f1 score: 0.50435, speed: 0.20 step/s\n",
      "global step 1190, epoch: 1, batch: 1190, loss: 0.10290, auc: 0.92324, f1 score: 0.52693, speed: 0.20 step/s\n",
      "global step 1200, epoch: 1, batch: 1200, loss: 0.09323, auc: 0.92207, f1 score: 0.52704, speed: 0.21 step/s\n",
      "eval loss: 0.09649, auc: 0.93422, f1 score: 0.56111, precison: 0.53875, recall: 0.58540\n",
      "global step 1210, epoch: 1, batch: 1210, loss: 0.09988, auc: 0.91218, f1 score: 0.51888, speed: 0.04 step/s\n",
      "global step 1220, epoch: 1, batch: 1220, loss: 0.12096, auc: 0.91361, f1 score: 0.53240, speed: 0.20 step/s\n",
      "global step 1230, epoch: 1, batch: 1230, loss: 0.09422, auc: 0.91686, f1 score: 0.54714, speed: 0.20 step/s\n",
      "global step 1240, epoch: 1, batch: 1240, loss: 0.11128, auc: 0.91855, f1 score: 0.54534, speed: 0.20 step/s\n",
      "eval loss: 0.09719, auc: 0.93396, f1 score: 0.55802, precison: 0.52423, recall: 0.59646\n",
      "global step 1250, epoch: 1, batch: 1250, loss: 0.08100, auc: 0.92932, f1 score: 0.61192, speed: 0.04 step/s\n",
      "global step 1260, epoch: 1, batch: 1260, loss: 0.08994, auc: 0.93236, f1 score: 0.58504, speed: 0.21 step/s\n",
      "global step 1270, epoch: 1, batch: 1270, loss: 0.09824, auc: 0.93127, f1 score: 0.57767, speed: 0.20 step/s\n",
      "global step 1280, epoch: 1, batch: 1280, loss: 0.10827, auc: 0.92800, f1 score: 0.56687, speed: 0.20 step/s\n",
      "eval loss: 0.09658, auc: 0.93413, f1 score: 0.56540, precison: 0.57410, recall: 0.55696\n",
      "global step 1290, epoch: 1, batch: 1290, loss: 0.09091, auc: 0.93550, f1 score: 0.58899, speed: 0.04 step/s\n",
      "global step 1300, epoch: 1, batch: 1300, loss: 0.11543, auc: 0.92667, f1 score: 0.58135, speed: 0.20 step/s\n",
      "global step 1310, epoch: 1, batch: 1310, loss: 0.12253, auc: 0.93178, f1 score: 0.58778, speed: 0.19 step/s\n",
      "global step 1320, epoch: 1, batch: 1320, loss: 0.09600, auc: 0.93080, f1 score: 0.57032, speed: 0.21 step/s\n"
     ]
    },
    {
     "name": "stderr",
     "output_type": "stream",
     "text": [
      "\u001b[32m[2023-04-12 07:13:12,350] [    INFO]\u001b[0m - Configuration saved in ernie_ckpt\\config.json\u001b[0m\n"
     ]
    },
    {
     "name": "stdout",
     "output_type": "stream",
     "text": [
      "eval loss: 0.09494, auc: 0.93370, f1 score: 0.57313, precison: 0.56283, recall: 0.58382\n"
     ]
    },
    {
     "name": "stderr",
     "output_type": "stream",
     "text": [
      "\u001b[32m[2023-04-12 07:13:12,600] [    INFO]\u001b[0m - tokenizer config file saved in ernie_ckpt\\tokenizer_config.json\u001b[0m\n",
      "\u001b[32m[2023-04-12 07:13:12,600] [    INFO]\u001b[0m - Special tokens file saved in ernie_ckpt\\special_tokens_map.json\u001b[0m\n"
     ]
    },
    {
     "name": "stdout",
     "output_type": "stream",
     "text": [
      "global step 1330, epoch: 1, batch: 1330, loss: 0.08702, auc: 0.93496, f1 score: 0.57069, speed: 0.04 step/s\n",
      "global step 1340, epoch: 1, batch: 1340, loss: 0.09839, auc: 0.92945, f1 score: 0.55731, speed: 0.20 step/s\n",
      "global step 1350, epoch: 1, batch: 1350, loss: 0.11350, auc: 0.93045, f1 score: 0.56474, speed: 0.21 step/s\n",
      "global step 1360, epoch: 1, batch: 1360, loss: 0.08309, auc: 0.93057, f1 score: 0.56912, speed: 0.19 step/s\n"
     ]
    },
    {
     "name": "stderr",
     "output_type": "stream",
     "text": [
      "\u001b[32m[2023-04-12 07:19:52,063] [    INFO]\u001b[0m - Configuration saved in ernie_ckpt\\config.json\u001b[0m\n"
     ]
    },
    {
     "name": "stdout",
     "output_type": "stream",
     "text": [
      "eval loss: 0.09471, auc: 0.93657, f1 score: 0.57378, precison: 0.58518, recall: 0.56281\n"
     ]
    },
    {
     "name": "stderr",
     "output_type": "stream",
     "text": [
      "\u001b[32m[2023-04-12 07:19:52,327] [    INFO]\u001b[0m - tokenizer config file saved in ernie_ckpt\\tokenizer_config.json\u001b[0m\n",
      "\u001b[32m[2023-04-12 07:19:52,327] [    INFO]\u001b[0m - Special tokens file saved in ernie_ckpt\\special_tokens_map.json\u001b[0m\n"
     ]
    },
    {
     "name": "stdout",
     "output_type": "stream",
     "text": [
      "global step 1370, epoch: 1, batch: 1370, loss: 0.08674, auc: 0.94403, f1 score: 0.58653, speed: 0.04 step/s\n",
      "global step 1380, epoch: 1, batch: 1380, loss: 0.10351, auc: 0.93745, f1 score: 0.58262, speed: 0.19 step/s\n",
      "global step 1390, epoch: 1, batch: 1390, loss: 0.10115, auc: 0.93633, f1 score: 0.56571, speed: 0.19 step/s\n",
      "global step 1400, epoch: 1, batch: 1400, loss: 0.09466, auc: 0.93534, f1 score: 0.56359, speed: 0.20 step/s\n",
      "eval loss: 0.09629, auc: 0.93408, f1 score: 0.55654, precison: 0.59779, recall: 0.52062\n",
      "global step 1410, epoch: 1, batch: 1410, loss: 0.09620, auc: 0.92421, f1 score: 0.52402, speed: 0.04 step/s\n",
      "global step 1420, epoch: 1, batch: 1420, loss: 0.11310, auc: 0.92946, f1 score: 0.55571, speed: 0.19 step/s\n",
      "global step 1430, epoch: 1, batch: 1430, loss: 0.10587, auc: 0.92834, f1 score: 0.54336, speed: 0.19 step/s\n",
      "global step 1440, epoch: 1, batch: 1440, loss: 0.09960, auc: 0.93037, f1 score: 0.54089, speed: 0.21 step/s\n",
      "eval loss: 0.09520, auc: 0.93733, f1 score: 0.56384, precison: 0.54995, recall: 0.57845\n",
      "global step 1450, epoch: 1, batch: 1450, loss: 0.10290, auc: 0.92892, f1 score: 0.52561, speed: 0.04 step/s\n",
      "global step 1460, epoch: 1, batch: 1460, loss: 0.09769, auc: 0.92914, f1 score: 0.55010, speed: 0.21 step/s\n",
      "global step 1470, epoch: 1, batch: 1470, loss: 0.09780, auc: 0.92612, f1 score: 0.55250, speed: 0.21 step/s\n",
      "global step 1480, epoch: 1, batch: 1480, loss: 0.08721, auc: 0.93064, f1 score: 0.55930, speed: 0.21 step/s\n",
      "eval loss: 0.09475, auc: 0.93613, f1 score: 0.56436, precison: 0.56450, recall: 0.56423\n",
      "global step 1490, epoch: 1, batch: 1490, loss: 0.10035, auc: 0.94588, f1 score: 0.58724, speed: 0.04 step/s\n",
      "global step 1500, epoch: 1, batch: 1500, loss: 0.09758, auc: 0.93936, f1 score: 0.56899, speed: 0.21 step/s\n",
      "global step 1510, epoch: 1, batch: 1510, loss: 0.07726, auc: 0.93564, f1 score: 0.56919, speed: 0.21 step/s\n",
      "global step 1520, epoch: 1, batch: 1520, loss: 0.10507, auc: 0.93468, f1 score: 0.55811, speed: 0.20 step/s\n",
      "eval loss: 0.09382, auc: 0.93901, f1 score: 0.56652, precison: 0.54567, recall: 0.58903\n",
      "global step 1530, epoch: 2, batch: 3, loss: 0.09781, auc: 0.93701, f1 score: 0.59601, speed: 0.04 step/s\n",
      "global step 1540, epoch: 2, batch: 13, loss: 0.08828, auc: 0.93690, f1 score: 0.58197, speed: 0.21 step/s\n",
      "global step 1550, epoch: 2, batch: 23, loss: 0.12809, auc: 0.94013, f1 score: 0.58712, speed: 0.20 step/s\n",
      "global step 1560, epoch: 2, batch: 33, loss: 0.10550, auc: 0.93845, f1 score: 0.58927, speed: 0.19 step/s\n"
     ]
    },
    {
     "name": "stderr",
     "output_type": "stream",
     "text": [
      "\u001b[32m[2023-04-12 07:52:43,949] [    INFO]\u001b[0m - Configuration saved in ernie_ckpt\\config.json\u001b[0m\n"
     ]
    },
    {
     "name": "stdout",
     "output_type": "stream",
     "text": [
      "eval loss: 0.09310, auc: 0.93707, f1 score: 0.57952, precison: 0.57090, recall: 0.58840\n"
     ]
    },
    {
     "name": "stderr",
     "output_type": "stream",
     "text": [
      "\u001b[32m[2023-04-12 07:52:44,244] [    INFO]\u001b[0m - tokenizer config file saved in ernie_ckpt\\tokenizer_config.json\u001b[0m\n",
      "\u001b[32m[2023-04-12 07:52:44,244] [    INFO]\u001b[0m - Special tokens file saved in ernie_ckpt\\special_tokens_map.json\u001b[0m\n"
     ]
    },
    {
     "name": "stdout",
     "output_type": "stream",
     "text": [
      "global step 1570, epoch: 2, batch: 43, loss: 0.06225, auc: 0.94547, f1 score: 0.59209, speed: 0.04 step/s\n",
      "global step 1580, epoch: 2, batch: 53, loss: 0.10056, auc: 0.93879, f1 score: 0.57898, speed: 0.21 step/s\n",
      "global step 1590, epoch: 2, batch: 63, loss: 0.10293, auc: 0.93847, f1 score: 0.57704, speed: 0.21 step/s\n",
      "global step 1600, epoch: 2, batch: 73, loss: 0.10698, auc: 0.93559, f1 score: 0.57353, speed: 0.20 step/s\n",
      "eval loss: 0.09474, auc: 0.93577, f1 score: 0.57291, precison: 0.56211, recall: 0.58414\n",
      "global step 1610, epoch: 2, batch: 83, loss: 0.06760, auc: 0.94171, f1 score: 0.62051, speed: 0.04 step/s\n",
      "global step 1620, epoch: 2, batch: 93, loss: 0.11621, auc: 0.93204, f1 score: 0.58317, speed: 0.20 step/s\n",
      "global step 1630, epoch: 2, batch: 103, loss: 0.07651, auc: 0.93546, f1 score: 0.58488, speed: 0.20 step/s\n",
      "global step 1640, epoch: 2, batch: 113, loss: 0.11059, auc: 0.93550, f1 score: 0.57461, speed: 0.20 step/s\n",
      "eval loss: 0.09286, auc: 0.93857, f1 score: 0.57846, precison: 0.57033, recall: 0.58682\n",
      "global step 1650, epoch: 2, batch: 123, loss: 0.09566, auc: 0.93198, f1 score: 0.58739, speed: 0.04 step/s\n",
      "global step 1660, epoch: 2, batch: 133, loss: 0.12231, auc: 0.93612, f1 score: 0.57362, speed: 0.20 step/s\n",
      "global step 1670, epoch: 2, batch: 143, loss: 0.09243, auc: 0.93580, f1 score: 0.56108, speed: 0.19 step/s\n",
      "global step 1680, epoch: 2, batch: 153, loss: 0.09973, auc: 0.93665, f1 score: 0.56105, speed: 0.20 step/s\n",
      "eval loss: 0.09400, auc: 0.93642, f1 score: 0.56874, precison: 0.55132, recall: 0.58730\n",
      "global step 1690, epoch: 2, batch: 163, loss: 0.11845, auc: 0.93041, f1 score: 0.56724, speed: 0.04 step/s\n",
      "global step 1700, epoch: 2, batch: 173, loss: 0.08246, auc: 0.93630, f1 score: 0.57915, speed: 0.20 step/s\n",
      "global step 1710, epoch: 2, batch: 183, loss: 0.09724, auc: 0.93930, f1 score: 0.58272, speed: 0.20 step/s\n",
      "global step 1720, epoch: 2, batch: 193, loss: 0.06807, auc: 0.94028, f1 score: 0.58149, speed: 0.21 step/s\n",
      "eval loss: 0.09296, auc: 0.93963, f1 score: 0.57206, precison: 0.56809, recall: 0.57608\n",
      "global step 1730, epoch: 2, batch: 203, loss: 0.08998, auc: 0.93278, f1 score: 0.55844, speed: 0.04 step/s\n",
      "global step 1740, epoch: 2, batch: 213, loss: 0.08840, auc: 0.93959, f1 score: 0.58399, speed: 0.21 step/s\n",
      "global step 1750, epoch: 2, batch: 223, loss: 0.10458, auc: 0.94017, f1 score: 0.59780, speed: 0.20 step/s\n",
      "global step 1760, epoch: 2, batch: 233, loss: 0.08168, auc: 0.93924, f1 score: 0.59567, speed: 0.19 step/s\n",
      "eval loss: 0.09192, auc: 0.93979, f1 score: 0.57858, precison: 0.58403, recall: 0.57323\n",
      "global step 1770, epoch: 2, batch: 243, loss: 0.06550, auc: 0.94469, f1 score: 0.60446, speed: 0.04 step/s\n",
      "global step 1780, epoch: 2, batch: 253, loss: 0.11583, auc: 0.94157, f1 score: 0.59517, speed: 0.21 step/s\n",
      "global step 1790, epoch: 2, batch: 263, loss: 0.10857, auc: 0.94090, f1 score: 0.57574, speed: 0.19 step/s\n",
      "global step 1800, epoch: 2, batch: 273, loss: 0.08257, auc: 0.94131, f1 score: 0.59117, speed: 0.19 step/s\n",
      "eval loss: 0.09203, auc: 0.94043, f1 score: 0.57632, precison: 0.57815, recall: 0.57450\n",
      "global step 1810, epoch: 2, batch: 283, loss: 0.07979, auc: 0.94436, f1 score: 0.58773, speed: 0.04 step/s\n",
      "global step 1820, epoch: 2, batch: 293, loss: 0.08168, auc: 0.94788, f1 score: 0.60429, speed: 0.21 step/s\n",
      "global step 1830, epoch: 2, batch: 303, loss: 0.09182, auc: 0.94422, f1 score: 0.59078, speed: 0.20 step/s\n",
      "global step 1840, epoch: 2, batch: 313, loss: 0.10469, auc: 0.94400, f1 score: 0.58685, speed: 0.20 step/s\n"
     ]
    },
    {
     "name": "stderr",
     "output_type": "stream",
     "text": [
      "\u001b[32m[2023-04-12 08:39:00,935] [    INFO]\u001b[0m - Configuration saved in ernie_ckpt\\config.json\u001b[0m\n"
     ]
    },
    {
     "name": "stdout",
     "output_type": "stream",
     "text": [
      "eval loss: 0.09131, auc: 0.94137, f1 score: 0.58084, precison: 0.56976, recall: 0.59235\n"
     ]
    },
    {
     "name": "stderr",
     "output_type": "stream",
     "text": [
      "\u001b[32m[2023-04-12 08:39:01,191] [    INFO]\u001b[0m - tokenizer config file saved in ernie_ckpt\\tokenizer_config.json\u001b[0m\n",
      "\u001b[32m[2023-04-12 08:39:01,193] [    INFO]\u001b[0m - Special tokens file saved in ernie_ckpt\\special_tokens_map.json\u001b[0m\n"
     ]
    },
    {
     "name": "stdout",
     "output_type": "stream",
     "text": [
      "global step 1850, epoch: 2, batch: 323, loss: 0.10214, auc: 0.94941, f1 score: 0.60825, speed: 0.04 step/s\n",
      "global step 1860, epoch: 2, batch: 333, loss: 0.07409, auc: 0.94609, f1 score: 0.60676, speed: 0.20 step/s\n",
      "global step 1870, epoch: 2, batch: 343, loss: 0.10827, auc: 0.94078, f1 score: 0.59545, speed: 0.20 step/s\n",
      "global step 1880, epoch: 2, batch: 353, loss: 0.08237, auc: 0.94018, f1 score: 0.59529, speed: 0.20 step/s\n",
      "eval loss: 0.09180, auc: 0.94263, f1 score: 0.57662, precison: 0.55559, recall: 0.59930\n",
      "global step 1890, epoch: 2, batch: 363, loss: 0.08560, auc: 0.94911, f1 score: 0.56944, speed: 0.04 step/s\n",
      "global step 1900, epoch: 2, batch: 373, loss: 0.09157, auc: 0.95162, f1 score: 0.58089, speed: 0.20 step/s\n",
      "global step 1910, epoch: 2, batch: 383, loss: 0.08739, auc: 0.94656, f1 score: 0.57607, speed: 0.20 step/s\n",
      "global step 1920, epoch: 2, batch: 393, loss: 0.07565, auc: 0.94598, f1 score: 0.57488, speed: 0.21 step/s\n",
      "eval loss: 0.09430, auc: 0.93853, f1 score: 0.56238, precison: 0.54508, recall: 0.58082\n",
      "global step 1930, epoch: 2, batch: 403, loss: 0.07709, auc: 0.93530, f1 score: 0.58312, speed: 0.04 step/s\n",
      "global step 1940, epoch: 2, batch: 413, loss: 0.08585, auc: 0.93854, f1 score: 0.58639, speed: 0.21 step/s\n",
      "global step 1950, epoch: 2, batch: 423, loss: 0.09431, auc: 0.93765, f1 score: 0.58239, speed: 0.20 step/s\n",
      "global step 1960, epoch: 2, batch: 433, loss: 0.06192, auc: 0.94350, f1 score: 0.59242, speed: 0.20 step/s\n"
     ]
    },
    {
     "name": "stderr",
     "output_type": "stream",
     "text": [
      "\u001b[32m[2023-04-12 08:58:52,205] [    INFO]\u001b[0m - Configuration saved in ernie_ckpt\\config.json\u001b[0m\n"
     ]
    },
    {
     "name": "stdout",
     "output_type": "stream",
     "text": [
      "eval loss: 0.09141, auc: 0.93988, f1 score: 0.58245, precison: 0.59418, recall: 0.57118\n"
     ]
    },
    {
     "name": "stderr",
     "output_type": "stream",
     "text": [
      "\u001b[32m[2023-04-12 08:58:52,459] [    INFO]\u001b[0m - tokenizer config file saved in ernie_ckpt\\tokenizer_config.json\u001b[0m\n",
      "\u001b[32m[2023-04-12 08:58:52,459] [    INFO]\u001b[0m - Special tokens file saved in ernie_ckpt\\special_tokens_map.json\u001b[0m\n"
     ]
    },
    {
     "name": "stdout",
     "output_type": "stream",
     "text": [
      "global step 1970, epoch: 2, batch: 443, loss: 0.08393, auc: 0.95248, f1 score: 0.58213, speed: 0.04 step/s\n",
      "global step 1980, epoch: 2, batch: 453, loss: 0.09207, auc: 0.94843, f1 score: 0.58156, speed: 0.20 step/s\n",
      "global step 1990, epoch: 2, batch: 463, loss: 0.09811, auc: 0.94598, f1 score: 0.57516, speed: 0.21 step/s\n",
      "global step 2000, epoch: 2, batch: 473, loss: 0.07811, auc: 0.94654, f1 score: 0.58580, speed: 0.20 step/s\n"
     ]
    },
    {
     "name": "stderr",
     "output_type": "stream",
     "text": [
      "\u001b[32m[2023-04-12 09:05:28,894] [    INFO]\u001b[0m - Configuration saved in ernie_ckpt\\config.json\u001b[0m\n"
     ]
    },
    {
     "name": "stdout",
     "output_type": "stream",
     "text": [
      "eval loss: 0.09098, auc: 0.94254, f1 score: 0.58405, precison: 0.61525, recall: 0.55585\n"
     ]
    },
    {
     "name": "stderr",
     "output_type": "stream",
     "text": [
      "\u001b[32m[2023-04-12 09:05:29,154] [    INFO]\u001b[0m - tokenizer config file saved in ernie_ckpt\\tokenizer_config.json\u001b[0m\n",
      "\u001b[32m[2023-04-12 09:05:29,154] [    INFO]\u001b[0m - Special tokens file saved in ernie_ckpt\\special_tokens_map.json\u001b[0m\n"
     ]
    },
    {
     "name": "stdout",
     "output_type": "stream",
     "text": [
      "global step 2010, epoch: 2, batch: 483, loss: 0.08613, auc: 0.94477, f1 score: 0.58422, speed: 0.04 step/s\n",
      "global step 2020, epoch: 2, batch: 493, loss: 0.11171, auc: 0.94420, f1 score: 0.59088, speed: 0.21 step/s\n",
      "global step 2030, epoch: 2, batch: 503, loss: 0.09961, auc: 0.94143, f1 score: 0.57949, speed: 0.21 step/s\n",
      "global step 2040, epoch: 2, batch: 513, loss: 0.08445, auc: 0.93962, f1 score: 0.57495, speed: 0.19 step/s\n",
      "eval loss: 0.09032, auc: 0.94305, f1 score: 0.58210, precison: 0.59209, recall: 0.57244\n",
      "global step 2050, epoch: 2, batch: 523, loss: 0.09584, auc: 0.94375, f1 score: 0.59975, speed: 0.04 step/s\n",
      "global step 2060, epoch: 2, batch: 533, loss: 0.08234, auc: 0.94561, f1 score: 0.59854, speed: 0.22 step/s\n",
      "global step 2070, epoch: 2, batch: 543, loss: 0.07023, auc: 0.94528, f1 score: 0.59619, speed: 0.21 step/s\n",
      "global step 2080, epoch: 2, batch: 553, loss: 0.08136, auc: 0.94292, f1 score: 0.59061, speed: 0.19 step/s\n",
      "eval loss: 0.09178, auc: 0.94107, f1 score: 0.58180, precison: 0.57626, recall: 0.58745\n",
      "global step 2090, epoch: 2, batch: 563, loss: 0.12359, auc: 0.93728, f1 score: 0.58556, speed: 0.04 step/s\n",
      "global step 2100, epoch: 2, batch: 573, loss: 0.10007, auc: 0.93967, f1 score: 0.57943, speed: 0.20 step/s\n",
      "global step 2110, epoch: 2, batch: 583, loss: 0.09975, auc: 0.94098, f1 score: 0.58413, speed: 0.21 step/s\n",
      "global step 2120, epoch: 2, batch: 593, loss: 0.09335, auc: 0.93972, f1 score: 0.58071, speed: 0.20 step/s\n"
     ]
    },
    {
     "name": "stderr",
     "output_type": "stream",
     "text": [
      "\u001b[32m[2023-04-12 09:25:14,678] [    INFO]\u001b[0m - Configuration saved in ernie_ckpt\\config.json\u001b[0m\n"
     ]
    },
    {
     "name": "stdout",
     "output_type": "stream",
     "text": [
      "eval loss: 0.08996, auc: 0.94339, f1 score: 0.58694, precison: 0.57639, recall: 0.59788\n"
     ]
    },
    {
     "name": "stderr",
     "output_type": "stream",
     "text": [
      "\u001b[32m[2023-04-12 09:25:14,934] [    INFO]\u001b[0m - tokenizer config file saved in ernie_ckpt\\tokenizer_config.json\u001b[0m\n",
      "\u001b[32m[2023-04-12 09:25:14,934] [    INFO]\u001b[0m - Special tokens file saved in ernie_ckpt\\special_tokens_map.json\u001b[0m\n"
     ]
    },
    {
     "name": "stdout",
     "output_type": "stream",
     "text": [
      "global step 2130, epoch: 2, batch: 603, loss: 0.09616, auc: 0.93947, f1 score: 0.57039, speed: 0.04 step/s\n",
      "global step 2140, epoch: 2, batch: 613, loss: 0.09680, auc: 0.93999, f1 score: 0.56048, speed: 0.20 step/s\n",
      "global step 2150, epoch: 2, batch: 623, loss: 0.09149, auc: 0.93804, f1 score: 0.56651, speed: 0.20 step/s\n",
      "global step 2160, epoch: 2, batch: 633, loss: 0.06196, auc: 0.94004, f1 score: 0.57566, speed: 0.19 step/s\n",
      "eval loss: 0.09158, auc: 0.94049, f1 score: 0.58031, precison: 0.57125, recall: 0.58967\n",
      "global step 2170, epoch: 2, batch: 643, loss: 0.08468, auc: 0.94721, f1 score: 0.57253, speed: 0.04 step/s\n",
      "global step 2180, epoch: 2, batch: 653, loss: 0.10565, auc: 0.94572, f1 score: 0.57487, speed: 0.21 step/s\n",
      "global step 2190, epoch: 2, batch: 663, loss: 0.07971, auc: 0.94393, f1 score: 0.57684, speed: 0.20 step/s\n",
      "global step 2200, epoch: 2, batch: 673, loss: 0.07287, auc: 0.94644, f1 score: 0.57649, speed: 0.21 step/s\n",
      "eval loss: 0.08963, auc: 0.94461, f1 score: 0.58417, precison: 0.57457, recall: 0.59409\n",
      "global step 2210, epoch: 2, batch: 683, loss: 0.06675, auc: 0.94763, f1 score: 0.63014, speed: 0.04 step/s\n",
      "global step 2220, epoch: 2, batch: 693, loss: 0.09653, auc: 0.94041, f1 score: 0.60651, speed: 0.20 step/s\n",
      "global step 2230, epoch: 2, batch: 703, loss: 0.10442, auc: 0.93875, f1 score: 0.58982, speed: 0.20 step/s\n",
      "global step 2240, epoch: 2, batch: 713, loss: 0.09238, auc: 0.94032, f1 score: 0.58199, speed: 0.20 step/s\n",
      "eval loss: 0.09015, auc: 0.94409, f1 score: 0.58575, precison: 0.58626, recall: 0.58524\n",
      "global step 2250, epoch: 2, batch: 723, loss: 0.10091, auc: 0.94763, f1 score: 0.58856, speed: 0.04 step/s\n",
      "global step 2260, epoch: 2, batch: 733, loss: 0.06232, auc: 0.94254, f1 score: 0.59794, speed: 0.21 step/s\n",
      "global step 2270, epoch: 2, batch: 743, loss: 0.09144, auc: 0.94540, f1 score: 0.59692, speed: 0.21 step/s\n",
      "global step 2280, epoch: 2, batch: 753, loss: 0.11036, auc: 0.94397, f1 score: 0.58938, speed: 0.19 step/s\n",
      "eval loss: 0.08999, auc: 0.94337, f1 score: 0.58535, precison: 0.57792, recall: 0.59298\n",
      "global step 2290, epoch: 2, batch: 763, loss: 0.09449, auc: 0.95309, f1 score: 0.61833, speed: 0.04 step/s\n",
      "global step 2300, epoch: 2, batch: 773, loss: 0.11189, auc: 0.95057, f1 score: 0.60714, speed: 0.19 step/s\n",
      "global step 2310, epoch: 2, batch: 783, loss: 0.10098, auc: 0.94919, f1 score: 0.60401, speed: 0.20 step/s\n",
      "global step 2320, epoch: 2, batch: 793, loss: 0.10753, auc: 0.94695, f1 score: 0.59544, speed: 0.20 step/s\n"
     ]
    },
    {
     "name": "stderr",
     "output_type": "stream",
     "text": [
      "\u001b[32m[2023-04-12 09:58:15,439] [    INFO]\u001b[0m - Configuration saved in ernie_ckpt\\config.json\u001b[0m\n"
     ]
    },
    {
     "name": "stdout",
     "output_type": "stream",
     "text": [
      "eval loss: 0.08924, auc: 0.94527, f1 score: 0.59000, precison: 0.59863, recall: 0.58161\n"
     ]
    },
    {
     "name": "stderr",
     "output_type": "stream",
     "text": [
      "\u001b[32m[2023-04-12 09:58:15,696] [    INFO]\u001b[0m - tokenizer config file saved in ernie_ckpt\\tokenizer_config.json\u001b[0m\n",
      "\u001b[32m[2023-04-12 09:58:15,697] [    INFO]\u001b[0m - Special tokens file saved in ernie_ckpt\\special_tokens_map.json\u001b[0m\n"
     ]
    },
    {
     "name": "stdout",
     "output_type": "stream",
     "text": [
      "global step 2330, epoch: 2, batch: 803, loss: 0.08127, auc: 0.94282, f1 score: 0.54667, speed: 0.04 step/s\n",
      "global step 2340, epoch: 2, batch: 813, loss: 0.06785, auc: 0.94499, f1 score: 0.55746, speed: 0.20 step/s\n",
      "global step 2350, epoch: 2, batch: 823, loss: 0.08890, auc: 0.94515, f1 score: 0.57046, speed: 0.20 step/s\n",
      "global step 2360, epoch: 2, batch: 833, loss: 0.10447, auc: 0.94349, f1 score: 0.57671, speed: 0.19 step/s\n",
      "eval loss: 0.09023, auc: 0.94514, f1 score: 0.58354, precison: 0.56273, recall: 0.60594\n",
      "global step 2370, epoch: 2, batch: 843, loss: 0.10271, auc: 0.94216, f1 score: 0.59894, speed: 0.04 step/s\n",
      "global step 2380, epoch: 2, batch: 853, loss: 0.10697, auc: 0.93789, f1 score: 0.56746, speed: 0.22 step/s\n",
      "global step 2390, epoch: 2, batch: 863, loss: 0.07342, auc: 0.94105, f1 score: 0.58437, speed: 0.20 step/s\n",
      "global step 2400, epoch: 2, batch: 873, loss: 0.08183, auc: 0.94403, f1 score: 0.58952, speed: 0.20 step/s\n",
      "eval loss: 0.08956, auc: 0.94423, f1 score: 0.58725, precison: 0.55252, recall: 0.62664\n",
      "global step 2410, epoch: 2, batch: 883, loss: 0.07436, auc: 0.94340, f1 score: 0.59558, speed: 0.04 step/s\n",
      "global step 2420, epoch: 2, batch: 893, loss: 0.10158, auc: 0.94457, f1 score: 0.57660, speed: 0.20 step/s\n",
      "global step 2430, epoch: 2, batch: 903, loss: 0.09374, auc: 0.94465, f1 score: 0.57118, speed: 0.21 step/s\n",
      "global step 2440, epoch: 2, batch: 913, loss: 0.09753, auc: 0.94382, f1 score: 0.57246, speed: 0.20 step/s\n",
      "eval loss: 0.08994, auc: 0.94499, f1 score: 0.58511, precison: 0.57301, recall: 0.59772\n",
      "global step 2450, epoch: 2, batch: 923, loss: 0.09323, auc: 0.94051, f1 score: 0.58262, speed: 0.04 step/s\n",
      "global step 2460, epoch: 2, batch: 933, loss: 0.09001, auc: 0.94651, f1 score: 0.59167, speed: 0.22 step/s\n",
      "global step 2470, epoch: 2, batch: 943, loss: 0.09705, auc: 0.94817, f1 score: 0.59587, speed: 0.19 step/s\n",
      "global step 2480, epoch: 2, batch: 953, loss: 0.08990, auc: 0.94791, f1 score: 0.59095, speed: 0.21 step/s\n",
      "eval loss: 0.08957, auc: 0.94489, f1 score: 0.58401, precison: 0.59418, recall: 0.57418\n",
      "global step 2490, epoch: 2, batch: 963, loss: 0.09190, auc: 0.95259, f1 score: 0.59918, speed: 0.04 step/s\n",
      "global step 2500, epoch: 2, batch: 973, loss: 0.09499, auc: 0.95458, f1 score: 0.59132, speed: 0.21 step/s\n",
      "global step 2510, epoch: 2, batch: 983, loss: 0.08827, auc: 0.95052, f1 score: 0.58942, speed: 0.20 step/s\n",
      "global step 2520, epoch: 2, batch: 993, loss: 0.06834, auc: 0.95298, f1 score: 0.59363, speed: 0.20 step/s\n",
      "eval loss: 0.08908, auc: 0.94421, f1 score: 0.58811, precison: 0.58331, recall: 0.59298\n",
      "global step 2530, epoch: 2, batch: 1003, loss: 0.06831, auc: 0.94054, f1 score: 0.62849, speed: 0.04 step/s\n",
      "global step 2540, epoch: 2, batch: 1013, loss: 0.07820, auc: 0.94328, f1 score: 0.59986, speed: 0.19 step/s\n",
      "global step 2550, epoch: 2, batch: 1023, loss: 0.11258, auc: 0.94369, f1 score: 0.60046, speed: 0.19 step/s\n",
      "global step 2560, epoch: 2, batch: 1033, loss: 0.08730, auc: 0.94388, f1 score: 0.59249, speed: 0.19 step/s\n",
      "eval loss: 0.08920, auc: 0.94574, f1 score: 0.58285, precison: 0.58897, recall: 0.57687\n",
      "global step 2570, epoch: 2, batch: 1043, loss: 0.07369, auc: 0.94719, f1 score: 0.59653, speed: 0.04 step/s\n",
      "global step 2580, epoch: 2, batch: 1053, loss: 0.08497, auc: 0.93418, f1 score: 0.58097, speed: 0.21 step/s\n",
      "global step 2590, epoch: 2, batch: 1063, loss: 0.08999, auc: 0.93995, f1 score: 0.59166, speed: 0.19 step/s\n",
      "global step 2600, epoch: 2, batch: 1073, loss: 0.07161, auc: 0.94223, f1 score: 0.58180, speed: 0.20 step/s\n",
      "eval loss: 0.09050, auc: 0.94385, f1 score: 0.58674, precison: 0.58619, recall: 0.58730\n",
      "global step 2610, epoch: 2, batch: 1083, loss: 0.09769, auc: 0.93780, f1 score: 0.58169, speed: 0.04 step/s\n",
      "global step 2620, epoch: 2, batch: 1093, loss: 0.09563, auc: 0.94471, f1 score: 0.58489, speed: 0.20 step/s\n",
      "global step 2630, epoch: 2, batch: 1103, loss: 0.09902, auc: 0.94238, f1 score: 0.57623, speed: 0.21 step/s\n",
      "global step 2640, epoch: 2, batch: 1113, loss: 0.07615, auc: 0.94557, f1 score: 0.59374, speed: 0.19 step/s\n",
      "eval loss: 0.08905, auc: 0.94654, f1 score: 0.58430, precison: 0.57003, recall: 0.59930\n",
      "global step 2650, epoch: 2, batch: 1123, loss: 0.10009, auc: 0.94677, f1 score: 0.59403, speed: 0.04 step/s\n",
      "global step 2660, epoch: 2, batch: 1133, loss: 0.09555, auc: 0.94263, f1 score: 0.58228, speed: 0.21 step/s\n",
      "global step 2670, epoch: 2, batch: 1143, loss: 0.09778, auc: 0.94411, f1 score: 0.58378, speed: 0.20 step/s\n",
      "global step 2680, epoch: 2, batch: 1153, loss: 0.09441, auc: 0.94608, f1 score: 0.58460, speed: 0.19 step/s\n"
     ]
    },
    {
     "name": "stderr",
     "output_type": "stream",
     "text": [
      "\u001b[32m[2023-04-12 10:57:54,198] [    INFO]\u001b[0m - Configuration saved in ernie_ckpt\\config.json\u001b[0m\n"
     ]
    },
    {
     "name": "stdout",
     "output_type": "stream",
     "text": [
      "eval loss: 0.08829, auc: 0.94631, f1 score: 0.59215, precison: 0.57181, recall: 0.61400\n"
     ]
    },
    {
     "name": "stderr",
     "output_type": "stream",
     "text": [
      "\u001b[32m[2023-04-12 10:57:54,452] [    INFO]\u001b[0m - tokenizer config file saved in ernie_ckpt\\tokenizer_config.json\u001b[0m\n",
      "\u001b[32m[2023-04-12 10:57:54,452] [    INFO]\u001b[0m - Special tokens file saved in ernie_ckpt\\special_tokens_map.json\u001b[0m\n"
     ]
    },
    {
     "name": "stdout",
     "output_type": "stream",
     "text": [
      "global step 2690, epoch: 2, batch: 1163, loss: 0.07980, auc: 0.95679, f1 score: 0.61628, speed: 0.04 step/s\n",
      "global step 2700, epoch: 2, batch: 1173, loss: 0.07563, auc: 0.94810, f1 score: 0.61831, speed: 0.20 step/s\n",
      "global step 2710, epoch: 2, batch: 1183, loss: 0.08541, auc: 0.94794, f1 score: 0.61405, speed: 0.20 step/s\n",
      "global step 2720, epoch: 2, batch: 1193, loss: 0.09756, auc: 0.94814, f1 score: 0.59830, speed: 0.20 step/s\n",
      "eval loss: 0.08924, auc: 0.94517, f1 score: 0.58805, precison: 0.59562, recall: 0.58066\n",
      "global step 2730, epoch: 2, batch: 1203, loss: 0.08417, auc: 0.95100, f1 score: 0.61799, speed: 0.04 step/s\n",
      "global step 2740, epoch: 2, batch: 1213, loss: 0.09157, auc: 0.94880, f1 score: 0.60311, speed: 0.19 step/s\n",
      "global step 2750, epoch: 2, batch: 1223, loss: 0.08446, auc: 0.94591, f1 score: 0.58560, speed: 0.21 step/s\n",
      "global step 2760, epoch: 2, batch: 1233, loss: 0.08985, auc: 0.94699, f1 score: 0.58697, speed: 0.20 step/s\n",
      "eval loss: 0.08866, auc: 0.94777, f1 score: 0.59112, precison: 0.58526, recall: 0.59709\n",
      "global step 2770, epoch: 2, batch: 1243, loss: 0.09212, auc: 0.94260, f1 score: 0.57985, speed: 0.04 step/s\n",
      "global step 2780, epoch: 2, batch: 1253, loss: 0.09795, auc: 0.94443, f1 score: 0.57714, speed: 0.20 step/s\n",
      "global step 2790, epoch: 2, batch: 1263, loss: 0.09728, auc: 0.94680, f1 score: 0.58183, speed: 0.20 step/s\n",
      "global step 2800, epoch: 2, batch: 1273, loss: 0.07223, auc: 0.94825, f1 score: 0.58437, speed: 0.19 step/s\n",
      "eval loss: 0.08813, auc: 0.94883, f1 score: 0.58825, precison: 0.55185, recall: 0.62980\n",
      "global step 2810, epoch: 2, batch: 1283, loss: 0.05079, auc: 0.95926, f1 score: 0.63810, speed: 0.04 step/s\n",
      "global step 2820, epoch: 2, batch: 1293, loss: 0.10167, auc: 0.95264, f1 score: 0.62034, speed: 0.20 step/s\n",
      "global step 2830, epoch: 2, batch: 1303, loss: 0.07954, auc: 0.95054, f1 score: 0.61014, speed: 0.20 step/s\n",
      "global step 2840, epoch: 2, batch: 1313, loss: 0.09167, auc: 0.94894, f1 score: 0.60348, speed: 0.21 step/s\n"
     ]
    },
    {
     "name": "stderr",
     "output_type": "stream",
     "text": [
      "\u001b[32m[2023-04-12 11:24:35,445] [    INFO]\u001b[0m - Configuration saved in ernie_ckpt\\config.json\u001b[0m\n"
     ]
    },
    {
     "name": "stdout",
     "output_type": "stream",
     "text": [
      "eval loss: 0.08753, auc: 0.94825, f1 score: 0.59729, precison: 0.58564, recall: 0.60942\n"
     ]
    },
    {
     "name": "stderr",
     "output_type": "stream",
     "text": [
      "\u001b[32m[2023-04-12 11:24:35,702] [    INFO]\u001b[0m - tokenizer config file saved in ernie_ckpt\\tokenizer_config.json\u001b[0m\n",
      "\u001b[32m[2023-04-12 11:24:35,703] [    INFO]\u001b[0m - Special tokens file saved in ernie_ckpt\\special_tokens_map.json\u001b[0m\n"
     ]
    },
    {
     "name": "stdout",
     "output_type": "stream",
     "text": [
      "global step 2850, epoch: 2, batch: 1323, loss: 0.08321, auc: 0.94847, f1 score: 0.59758, speed: 0.04 step/s\n",
      "global step 2860, epoch: 2, batch: 1333, loss: 0.08646, auc: 0.94186, f1 score: 0.57640, speed: 0.20 step/s\n",
      "global step 2870, epoch: 2, batch: 1343, loss: 0.08635, auc: 0.94562, f1 score: 0.58528, speed: 0.19 step/s\n",
      "global step 2880, epoch: 2, batch: 1353, loss: 0.08271, auc: 0.94731, f1 score: 0.58602, speed: 0.19 step/s\n",
      "eval loss: 0.08950, auc: 0.94661, f1 score: 0.57952, precison: 0.55386, recall: 0.60768\n",
      "global step 2890, epoch: 2, batch: 1363, loss: 0.08103, auc: 0.95099, f1 score: 0.59627, speed: 0.04 step/s\n",
      "global step 2900, epoch: 2, batch: 1373, loss: 0.08322, auc: 0.94896, f1 score: 0.57505, speed: 0.20 step/s\n",
      "global step 2910, epoch: 2, batch: 1383, loss: 0.09414, auc: 0.94504, f1 score: 0.58162, speed: 0.19 step/s\n",
      "global step 2920, epoch: 2, batch: 1393, loss: 0.09641, auc: 0.94356, f1 score: 0.57291, speed: 0.18 step/s\n",
      "eval loss: 0.08732, auc: 0.94893, f1 score: 0.59389, precison: 0.61997, recall: 0.56992\n",
      "global step 2930, epoch: 2, batch: 1403, loss: 0.08261, auc: 0.94152, f1 score: 0.58084, speed: 0.04 step/s\n",
      "global step 2940, epoch: 2, batch: 1413, loss: 0.11372, auc: 0.94281, f1 score: 0.57104, speed: 0.19 step/s\n",
      "global step 2950, epoch: 2, batch: 1423, loss: 0.12291, auc: 0.94335, f1 score: 0.58205, speed: 0.20 step/s\n",
      "global step 2960, epoch: 2, batch: 1433, loss: 0.08281, auc: 0.94092, f1 score: 0.58038, speed: 0.19 step/s\n",
      "eval loss: 0.08819, auc: 0.94843, f1 score: 0.59065, precison: 0.59117, recall: 0.59014\n",
      "global step 2970, epoch: 2, batch: 1443, loss: 0.08382, auc: 0.95019, f1 score: 0.61972, speed: 0.04 step/s\n",
      "global step 2980, epoch: 2, batch: 1453, loss: 0.07074, auc: 0.94958, f1 score: 0.61467, speed: 0.20 step/s\n",
      "global step 2990, epoch: 2, batch: 1463, loss: 0.11134, auc: 0.95059, f1 score: 0.60794, speed: 0.20 step/s\n",
      "global step 3000, epoch: 2, batch: 1473, loss: 0.11305, auc: 0.94925, f1 score: 0.59394, speed: 0.20 step/s\n",
      "eval loss: 0.08787, auc: 0.94839, f1 score: 0.58862, precison: 0.56552, recall: 0.61368\n",
      "global step 3010, epoch: 2, batch: 1483, loss: 0.08899, auc: 0.94584, f1 score: 0.58718, speed: 0.04 step/s\n",
      "global step 3020, epoch: 2, batch: 1493, loss: 0.09780, auc: 0.94634, f1 score: 0.58917, speed: 0.21 step/s\n",
      "global step 3030, epoch: 2, batch: 1503, loss: 0.08850, auc: 0.94250, f1 score: 0.58222, speed: 0.21 step/s\n",
      "global step 3040, epoch: 2, batch: 1513, loss: 0.08292, auc: 0.94365, f1 score: 0.58543, speed: 0.19 step/s\n",
      "eval loss: 0.08784, auc: 0.94721, f1 score: 0.59185, precison: 0.59977, recall: 0.58414\n",
      "global step 3050, epoch: 2, batch: 1523, loss: 0.09144, auc: 0.94262, f1 score: 0.58333, speed: 0.04 step/s\n",
      "global step 3060, epoch: 3, batch: 6, loss: 0.08435, auc: 0.94914, f1 score: 0.60630, speed: 0.23 step/s\n",
      "global step 3070, epoch: 3, batch: 16, loss: 0.08181, auc: 0.95083, f1 score: 0.60957, speed: 0.19 step/s\n",
      "global step 3080, epoch: 3, batch: 26, loss: 0.08226, auc: 0.95244, f1 score: 0.62458, speed: 0.20 step/s\n",
      "eval loss: 0.08761, auc: 0.94767, f1 score: 0.59468, precison: 0.58412, recall: 0.60562\n",
      "global step 3090, epoch: 3, batch: 36, loss: 0.09266, auc: 0.94506, f1 score: 0.60832, speed: 0.04 step/s\n",
      "global step 3100, epoch: 3, batch: 46, loss: 0.09076, auc: 0.95074, f1 score: 0.60882, speed: 0.21 step/s\n",
      "global step 3110, epoch: 3, batch: 56, loss: 0.07743, auc: 0.95349, f1 score: 0.60676, speed: 0.20 step/s\n",
      "global step 3120, epoch: 3, batch: 66, loss: 0.11566, auc: 0.95592, f1 score: 0.60581, speed: 0.21 step/s\n",
      "eval loss: 0.08982, auc: 0.94572, f1 score: 0.57020, precison: 0.52884, recall: 0.61858\n",
      "global step 3130, epoch: 3, batch: 76, loss: 0.07633, auc: 0.94878, f1 score: 0.60781, speed: 0.04 step/s\n",
      "global step 3140, epoch: 3, batch: 86, loss: 0.06570, auc: 0.94844, f1 score: 0.60727, speed: 0.20 step/s\n",
      "global step 3150, epoch: 3, batch: 96, loss: 0.08585, auc: 0.95237, f1 score: 0.61645, speed: 0.20 step/s\n",
      "global step 3160, epoch: 3, batch: 106, loss: 0.09247, auc: 0.95359, f1 score: 0.61727, speed: 0.19 step/s\n",
      "eval loss: 0.08800, auc: 0.94670, f1 score: 0.59262, precison: 0.58045, recall: 0.60531\n",
      "global step 3170, epoch: 3, batch: 116, loss: 0.09346, auc: 0.95423, f1 score: 0.58647, speed: 0.04 step/s\n",
      "global step 3180, epoch: 3, batch: 126, loss: 0.07749, auc: 0.95992, f1 score: 0.60468, speed: 0.20 step/s\n",
      "global step 3190, epoch: 3, batch: 136, loss: 0.08643, auc: 0.96026, f1 score: 0.60295, speed: 0.17 step/s\n",
      "global step 3200, epoch: 3, batch: 146, loss: 0.10391, auc: 0.95609, f1 score: 0.60158, speed: 0.18 step/s\n",
      "eval loss: 0.08778, auc: 0.94883, f1 score: 0.59114, precison: 0.57115, recall: 0.61258\n",
      "global step 3210, epoch: 3, batch: 156, loss: 0.08585, auc: 0.95490, f1 score: 0.63649, speed: 0.04 step/s\n",
      "global step 3220, epoch: 3, batch: 166, loss: 0.07795, auc: 0.95472, f1 score: 0.62243, speed: 0.19 step/s\n",
      "global step 3230, epoch: 3, batch: 176, loss: 0.07025, auc: 0.95414, f1 score: 0.62555, speed: 0.19 step/s\n",
      "global step 3240, epoch: 3, batch: 186, loss: 0.06967, auc: 0.95176, f1 score: 0.61979, speed: 0.19 step/s\n",
      "eval loss: 0.08930, auc: 0.94585, f1 score: 0.58680, precison: 0.55520, recall: 0.62222\n",
      "global step 3250, epoch: 3, batch: 196, loss: 0.08147, auc: 0.95573, f1 score: 0.60189, speed: 0.04 step/s\n",
      "global step 3260, epoch: 3, batch: 206, loss: 0.07090, auc: 0.95827, f1 score: 0.61917, speed: 0.19 step/s\n",
      "global step 3270, epoch: 3, batch: 216, loss: 0.08964, auc: 0.95820, f1 score: 0.62484, speed: 0.19 step/s\n",
      "global step 3280, epoch: 3, batch: 226, loss: 0.08132, auc: 0.95902, f1 score: 0.63291, speed: 0.18 step/s\n",
      "eval loss: 0.08834, auc: 0.94701, f1 score: 0.58952, precison: 0.56241, recall: 0.61937\n",
      "global step 3290, epoch: 3, batch: 236, loss: 0.06809, auc: 0.95055, f1 score: 0.59906, speed: 0.04 step/s\n",
      "global step 3300, epoch: 3, batch: 246, loss: 0.08106, auc: 0.95308, f1 score: 0.60356, speed: 0.19 step/s\n",
      "global step 3310, epoch: 3, batch: 256, loss: 0.09198, auc: 0.95628, f1 score: 0.61355, speed: 0.19 step/s\n",
      "global step 3320, epoch: 3, batch: 266, loss: 0.08999, auc: 0.95746, f1 score: 0.61746, speed: 0.20 step/s\n",
      "eval loss: 0.08898, auc: 0.94738, f1 score: 0.58227, precison: 0.57462, recall: 0.59014\n",
      "global step 3330, epoch: 3, batch: 276, loss: 0.10117, auc: 0.95263, f1 score: 0.58204, speed: 0.04 step/s\n",
      "global step 3340, epoch: 3, batch: 286, loss: 0.05961, auc: 0.95214, f1 score: 0.58361, speed: 0.20 step/s\n",
      "global step 3350, epoch: 3, batch: 296, loss: 0.09874, auc: 0.94749, f1 score: 0.57645, speed: 0.20 step/s\n",
      "global step 3360, epoch: 3, batch: 306, loss: 0.04562, auc: 0.95175, f1 score: 0.59023, speed: 0.19 step/s\n",
      "eval loss: 0.08798, auc: 0.94725, f1 score: 0.59169, precison: 0.56132, recall: 0.62553\n",
      "global step 3370, epoch: 3, batch: 316, loss: 0.07699, auc: 0.95763, f1 score: 0.62550, speed: 0.04 step/s\n",
      "global step 3380, epoch: 3, batch: 326, loss: 0.08814, auc: 0.95779, f1 score: 0.63418, speed: 0.20 step/s\n",
      "global step 3390, epoch: 3, batch: 336, loss: 0.07333, auc: 0.95546, f1 score: 0.62234, speed: 0.19 step/s\n",
      "global step 3400, epoch: 3, batch: 346, loss: 0.07705, auc: 0.95632, f1 score: 0.61697, speed: 0.19 step/s\n",
      "eval loss: 0.08706, auc: 0.94839, f1 score: 0.59407, precison: 0.60588, recall: 0.58271\n",
      "global step 3410, epoch: 3, batch: 356, loss: 0.08015, auc: 0.95647, f1 score: 0.63043, speed: 0.04 step/s\n",
      "global step 3420, epoch: 3, batch: 366, loss: 0.07865, auc: 0.95415, f1 score: 0.61770, speed: 0.21 step/s\n",
      "global step 3430, epoch: 3, batch: 376, loss: 0.08068, auc: 0.95683, f1 score: 0.63573, speed: 0.21 step/s\n",
      "global step 3440, epoch: 3, batch: 386, loss: 0.08206, auc: 0.95657, f1 score: 0.63551, speed: 0.20 step/s\n",
      "eval loss: 0.08749, auc: 0.94910, f1 score: 0.59308, precison: 0.58017, recall: 0.60657\n",
      "global step 3450, epoch: 3, batch: 396, loss: 0.07565, auc: 0.95890, f1 score: 0.65672, speed: 0.04 step/s\n",
      "global step 3460, epoch: 3, batch: 406, loss: 0.09196, auc: 0.95523, f1 score: 0.62188, speed: 0.19 step/s\n",
      "global step 3470, epoch: 3, batch: 416, loss: 0.07845, auc: 0.96031, f1 score: 0.63351, speed: 0.19 step/s\n",
      "global step 3480, epoch: 3, batch: 426, loss: 0.06558, auc: 0.96097, f1 score: 0.63723, speed: 0.18 step/s\n",
      "eval loss: 0.08732, auc: 0.94879, f1 score: 0.59480, precison: 0.60877, recall: 0.58145\n"
     ]
    },
    {
     "name": "stdout",
     "output_type": "stream",
     "text": [
      "global step 3490, epoch: 3, batch: 436, loss: 0.08854, auc: 0.95560, f1 score: 0.60908, speed: 0.04 step/s\n",
      "global step 3500, epoch: 3, batch: 446, loss: 0.07238, auc: 0.95941, f1 score: 0.62114, speed: 0.19 step/s\n",
      "global step 3510, epoch: 3, batch: 456, loss: 0.09210, auc: 0.95992, f1 score: 0.63348, speed: 0.20 step/s\n",
      "global step 3520, epoch: 3, batch: 466, loss: 0.09294, auc: 0.96052, f1 score: 0.62865, speed: 0.19 step/s\n",
      "eval loss: 0.08783, auc: 0.94898, f1 score: 0.59165, precison: 0.57531, recall: 0.60894\n",
      "global step 3530, epoch: 3, batch: 476, loss: 0.07298, auc: 0.95746, f1 score: 0.60500, speed: 0.04 step/s\n",
      "global step 3540, epoch: 3, batch: 486, loss: 0.07243, auc: 0.95918, f1 score: 0.61685, speed: 0.20 step/s\n",
      "global step 3550, epoch: 3, batch: 496, loss: 0.06268, auc: 0.96030, f1 score: 0.62958, speed: 0.19 step/s\n",
      "global step 3560, epoch: 3, batch: 506, loss: 0.08024, auc: 0.95728, f1 score: 0.61538, speed: 0.20 step/s\n",
      "eval loss: 0.08769, auc: 0.94866, f1 score: 0.59057, precison: 0.62729, recall: 0.55791\n",
      "global step 3570, epoch: 3, batch: 516, loss: 0.06679, auc: 0.96203, f1 score: 0.61911, speed: 0.04 step/s\n",
      "global step 3580, epoch: 3, batch: 526, loss: 0.07672, auc: 0.96370, f1 score: 0.62772, speed: 0.20 step/s\n",
      "global step 3590, epoch: 3, batch: 536, loss: 0.09390, auc: 0.95936, f1 score: 0.62220, speed: 0.20 step/s\n",
      "global step 3600, epoch: 3, batch: 546, loss: 0.06477, auc: 0.95884, f1 score: 0.62268, speed: 0.20 step/s\n",
      "eval loss: 0.08764, auc: 0.94897, f1 score: 0.58730, precison: 0.56729, recall: 0.60878\n",
      "global step 3610, epoch: 3, batch: 556, loss: 0.10104, auc: 0.95866, f1 score: 0.61087, speed: 0.04 step/s\n",
      "global step 3620, epoch: 3, batch: 566, loss: 0.09981, auc: 0.95533, f1 score: 0.61484, speed: 0.20 step/s\n",
      "global step 3630, epoch: 3, batch: 576, loss: 0.09382, auc: 0.95749, f1 score: 0.61972, speed: 0.20 step/s\n",
      "global step 3640, epoch: 3, batch: 586, loss: 0.08453, auc: 0.95953, f1 score: 0.63096, speed: 0.19 step/s\n"
     ]
    },
    {
     "name": "stderr",
     "output_type": "stream",
     "text": [
      "\u001b[32m[2023-04-12 13:39:20,330] [    INFO]\u001b[0m - Configuration saved in ernie_ckpt\\config.json\u001b[0m\n"
     ]
    },
    {
     "name": "stdout",
     "output_type": "stream",
     "text": [
      "eval loss: 0.08765, auc: 0.94825, f1 score: 0.59860, precison: 0.60060, recall: 0.59662\n"
     ]
    },
    {
     "name": "stderr",
     "output_type": "stream",
     "text": [
      "\u001b[32m[2023-04-12 13:39:20,642] [    INFO]\u001b[0m - tokenizer config file saved in ernie_ckpt\\tokenizer_config.json\u001b[0m\n",
      "\u001b[32m[2023-04-12 13:39:20,643] [    INFO]\u001b[0m - Special tokens file saved in ernie_ckpt\\special_tokens_map.json\u001b[0m\n"
     ]
    },
    {
     "name": "stdout",
     "output_type": "stream",
     "text": [
      "global step 3650, epoch: 3, batch: 596, loss: 0.11576, auc: 0.95642, f1 score: 0.58414, speed: 0.04 step/s\n",
      "global step 3660, epoch: 3, batch: 606, loss: 0.07407, auc: 0.95433, f1 score: 0.59831, speed: 0.20 step/s\n",
      "global step 3670, epoch: 3, batch: 616, loss: 0.08116, auc: 0.95876, f1 score: 0.60283, speed: 0.19 step/s\n",
      "global step 3680, epoch: 3, batch: 626, loss: 0.08656, auc: 0.95722, f1 score: 0.60549, speed: 0.19 step/s\n",
      "eval loss: 0.08735, auc: 0.94923, f1 score: 0.59086, precison: 0.58340, recall: 0.59851\n",
      "global step 3690, epoch: 3, batch: 636, loss: 0.11165, auc: 0.95018, f1 score: 0.59316, speed: 0.04 step/s\n",
      "global step 3700, epoch: 3, batch: 646, loss: 0.09730, auc: 0.94972, f1 score: 0.60281, speed: 0.20 step/s\n",
      "global step 3710, epoch: 3, batch: 656, loss: 0.08831, auc: 0.95703, f1 score: 0.61878, speed: 0.19 step/s\n",
      "global step 3720, epoch: 3, batch: 666, loss: 0.08551, auc: 0.95822, f1 score: 0.61857, speed: 0.20 step/s\n",
      "eval loss: 0.08720, auc: 0.95001, f1 score: 0.59389, precison: 0.61793, recall: 0.57165\n",
      "global step 3730, epoch: 3, batch: 676, loss: 0.07173, auc: 0.96422, f1 score: 0.63284, speed: 0.04 step/s\n",
      "global step 3740, epoch: 3, batch: 686, loss: 0.06876, auc: 0.95749, f1 score: 0.61164, speed: 0.20 step/s\n",
      "global step 3750, epoch: 3, batch: 696, loss: 0.08659, auc: 0.95876, f1 score: 0.61905, speed: 0.19 step/s\n",
      "global step 3760, epoch: 3, batch: 706, loss: 0.08174, auc: 0.95575, f1 score: 0.61925, speed: 0.18 step/s\n"
     ]
    },
    {
     "name": "stderr",
     "output_type": "stream",
     "text": [
      "\u001b[32m[2023-04-12 13:59:40,214] [    INFO]\u001b[0m - Configuration saved in ernie_ckpt\\config.json\u001b[0m\n"
     ]
    },
    {
     "name": "stdout",
     "output_type": "stream",
     "text": [
      "eval loss: 0.08646, auc: 0.95010, f1 score: 0.60042, precison: 0.59700, recall: 0.60389\n"
     ]
    },
    {
     "name": "stderr",
     "output_type": "stream",
     "text": [
      "\u001b[32m[2023-04-12 13:59:40,470] [    INFO]\u001b[0m - tokenizer config file saved in ernie_ckpt\\tokenizer_config.json\u001b[0m\n",
      "\u001b[32m[2023-04-12 13:59:40,471] [    INFO]\u001b[0m - Special tokens file saved in ernie_ckpt\\special_tokens_map.json\u001b[0m\n"
     ]
    },
    {
     "name": "stdout",
     "output_type": "stream",
     "text": [
      "global step 3770, epoch: 3, batch: 716, loss: 0.08350, auc: 0.95487, f1 score: 0.60288, speed: 0.04 step/s\n",
      "global step 3780, epoch: 3, batch: 726, loss: 0.08580, auc: 0.95257, f1 score: 0.58085, speed: 0.19 step/s\n",
      "global step 3790, epoch: 3, batch: 736, loss: 0.10118, auc: 0.95468, f1 score: 0.58839, speed: 0.19 step/s\n",
      "global step 3800, epoch: 3, batch: 746, loss: 0.08709, auc: 0.95638, f1 score: 0.60221, speed: 0.20 step/s\n",
      "eval loss: 0.08695, auc: 0.94919, f1 score: 0.59580, precison: 0.59126, recall: 0.60041\n",
      "global step 3810, epoch: 3, batch: 756, loss: 0.07949, auc: 0.96144, f1 score: 0.61118, speed: 0.04 step/s\n",
      "global step 3820, epoch: 3, batch: 766, loss: 0.07995, auc: 0.95642, f1 score: 0.61240, speed: 0.20 step/s\n",
      "global step 3830, epoch: 3, batch: 776, loss: 0.08999, auc: 0.95697, f1 score: 0.61432, speed: 0.20 step/s\n",
      "global step 3840, epoch: 3, batch: 786, loss: 0.06338, auc: 0.95651, f1 score: 0.61794, speed: 0.19 step/s\n",
      "eval loss: 0.08828, auc: 0.94813, f1 score: 0.58818, precison: 0.62172, recall: 0.55807\n",
      "global step 3850, epoch: 3, batch: 796, loss: 0.07904, auc: 0.95749, f1 score: 0.61808, speed: 0.04 step/s\n",
      "global step 3860, epoch: 3, batch: 806, loss: 0.09999, auc: 0.95350, f1 score: 0.60421, speed: 0.19 step/s\n",
      "global step 3870, epoch: 3, batch: 816, loss: 0.05449, auc: 0.95405, f1 score: 0.61068, speed: 0.19 step/s\n",
      "global step 3880, epoch: 3, batch: 826, loss: 0.09023, auc: 0.95178, f1 score: 0.61069, speed: 0.18 step/s\n",
      "eval loss: 0.08769, auc: 0.94853, f1 score: 0.59444, precison: 0.60126, recall: 0.58777\n",
      "global step 3890, epoch: 3, batch: 836, loss: 0.09060, auc: 0.96212, f1 score: 0.62609, speed: 0.04 step/s\n",
      "global step 3900, epoch: 3, batch: 846, loss: 0.09186, auc: 0.95888, f1 score: 0.61753, speed: 0.20 step/s\n",
      "global step 3910, epoch: 3, batch: 856, loss: 0.09333, auc: 0.95925, f1 score: 0.61520, speed: 0.19 step/s\n",
      "global step 3920, epoch: 3, batch: 866, loss: 0.08117, auc: 0.95786, f1 score: 0.61770, speed: 0.19 step/s\n",
      "eval loss: 0.08769, auc: 0.94876, f1 score: 0.59122, precison: 0.56857, recall: 0.61574\n",
      "global step 3930, epoch: 3, batch: 876, loss: 0.08724, auc: 0.95590, f1 score: 0.64106, speed: 0.04 step/s\n",
      "global step 3940, epoch: 3, batch: 886, loss: 0.08783, auc: 0.95240, f1 score: 0.61207, speed: 0.20 step/s\n",
      "global step 3950, epoch: 3, batch: 896, loss: 0.10286, auc: 0.95082, f1 score: 0.61328, speed: 0.20 step/s\n",
      "global step 3960, epoch: 3, batch: 906, loss: 0.09025, auc: 0.95247, f1 score: 0.61007, speed: 0.19 step/s\n",
      "eval loss: 0.08764, auc: 0.94958, f1 score: 0.58412, precison: 0.57731, recall: 0.59109\n",
      "global step 3970, epoch: 3, batch: 916, loss: 0.08273, auc: 0.96056, f1 score: 0.65073, speed: 0.04 step/s\n",
      "global step 3980, epoch: 3, batch: 926, loss: 0.06453, auc: 0.96379, f1 score: 0.64231, speed: 0.20 step/s\n",
      "global step 3990, epoch: 3, batch: 936, loss: 0.06943, auc: 0.96338, f1 score: 0.63329, speed: 0.19 step/s\n",
      "global step 4000, epoch: 3, batch: 946, loss: 0.08813, auc: 0.96081, f1 score: 0.62981, speed: 0.19 step/s\n",
      "eval loss: 0.08833, auc: 0.94741, f1 score: 0.59152, precison: 0.59994, recall: 0.58335\n",
      "global step 4010, epoch: 3, batch: 956, loss: 0.05251, auc: 0.95532, f1 score: 0.60796, speed: 0.04 step/s\n",
      "global step 4020, epoch: 3, batch: 966, loss: 0.07258, auc: 0.95708, f1 score: 0.61099, speed: 0.19 step/s\n",
      "global step 4030, epoch: 3, batch: 976, loss: 0.09126, auc: 0.95637, f1 score: 0.60181, speed: 0.19 step/s\n",
      "global step 4040, epoch: 3, batch: 986, loss: 0.11015, auc: 0.95474, f1 score: 0.59716, speed: 0.21 step/s\n",
      "eval loss: 0.08729, auc: 0.95009, f1 score: 0.59526, precison: 0.59082, recall: 0.59978\n",
      "global step 4050, epoch: 3, batch: 996, loss: 0.07883, auc: 0.96284, f1 score: 0.65990, speed: 0.04 step/s\n",
      "global step 4060, epoch: 3, batch: 1006, loss: 0.05631, auc: 0.96282, f1 score: 0.65441, speed: 0.20 step/s\n",
      "global step 4070, epoch: 3, batch: 1016, loss: 0.06858, auc: 0.96099, f1 score: 0.64114, speed: 0.20 step/s\n",
      "global step 4080, epoch: 3, batch: 1026, loss: 0.07360, auc: 0.96081, f1 score: 0.63794, speed: 0.20 step/s\n",
      "eval loss: 0.08717, auc: 0.95059, f1 score: 0.58839, precison: 0.55921, recall: 0.62079\n",
      "global step 4090, epoch: 3, batch: 1036, loss: 0.09394, auc: 0.95166, f1 score: 0.60097, speed: 0.04 step/s\n",
      "global step 4100, epoch: 3, batch: 1046, loss: 0.08969, auc: 0.95209, f1 score: 0.59692, speed: 0.20 step/s\n",
      "global step 4110, epoch: 3, batch: 1056, loss: 0.06629, auc: 0.95396, f1 score: 0.60263, speed: 0.20 step/s\n",
      "global step 4120, epoch: 3, batch: 1066, loss: 0.08145, auc: 0.95674, f1 score: 0.60401, speed: 0.19 step/s\n"
     ]
    },
    {
     "name": "stderr",
     "output_type": "stream",
     "text": [
      "\u001b[32m[2023-04-12 15:00:14,222] [    INFO]\u001b[0m - Configuration saved in ernie_ckpt\\config.json\u001b[0m\n"
     ]
    },
    {
     "name": "stdout",
     "output_type": "stream",
     "text": [
      "eval loss: 0.08658, auc: 0.95018, f1 score: 0.60052, precison: 0.60000, recall: 0.60104\n"
     ]
    },
    {
     "name": "stderr",
     "output_type": "stream",
     "text": [
      "\u001b[32m[2023-04-12 15:00:14,489] [    INFO]\u001b[0m - tokenizer config file saved in ernie_ckpt\\tokenizer_config.json\u001b[0m\n",
      "\u001b[32m[2023-04-12 15:00:14,490] [    INFO]\u001b[0m - Special tokens file saved in ernie_ckpt\\special_tokens_map.json\u001b[0m\n"
     ]
    },
    {
     "name": "stdout",
     "output_type": "stream",
     "text": [
      "global step 4130, epoch: 3, batch: 1076, loss: 0.06742, auc: 0.96113, f1 score: 0.64677, speed: 0.04 step/s\n",
      "global step 4140, epoch: 3, batch: 1086, loss: 0.08086, auc: 0.95886, f1 score: 0.64553, speed: 0.20 step/s\n",
      "global step 4150, epoch: 3, batch: 1096, loss: 0.08782, auc: 0.95716, f1 score: 0.63783, speed: 0.19 step/s\n",
      "global step 4160, epoch: 3, batch: 1106, loss: 0.07604, auc: 0.95989, f1 score: 0.63841, speed: 0.19 step/s\n",
      "eval loss: 0.08716, auc: 0.94975, f1 score: 0.59962, precison: 0.60346, recall: 0.59583\n",
      "global step 4170, epoch: 3, batch: 1116, loss: 0.11639, auc: 0.94325, f1 score: 0.59976, speed: 0.04 step/s\n",
      "global step 4180, epoch: 3, batch: 1126, loss: 0.07408, auc: 0.95113, f1 score: 0.61607, speed: 0.20 step/s\n",
      "global step 4190, epoch: 3, batch: 1136, loss: 0.06887, auc: 0.95283, f1 score: 0.60801, speed: 0.20 step/s\n",
      "global step 4200, epoch: 3, batch: 1146, loss: 0.09358, auc: 0.95400, f1 score: 0.61109, speed: 0.19 step/s\n"
     ]
    },
    {
     "name": "stderr",
     "output_type": "stream",
     "text": [
      "\u001b[32m[2023-04-12 15:13:35,869] [    INFO]\u001b[0m - Configuration saved in ernie_ckpt\\config.json\u001b[0m\n"
     ]
    },
    {
     "name": "stdout",
     "output_type": "stream",
     "text": [
      "eval loss: 0.08626, auc: 0.95013, f1 score: 0.60198, precison: 0.59397, recall: 0.61021\n"
     ]
    },
    {
     "name": "stderr",
     "output_type": "stream",
     "text": [
      "\u001b[32m[2023-04-12 15:13:36,132] [    INFO]\u001b[0m - tokenizer config file saved in ernie_ckpt\\tokenizer_config.json\u001b[0m\n",
      "\u001b[32m[2023-04-12 15:13:36,133] [    INFO]\u001b[0m - Special tokens file saved in ernie_ckpt\\special_tokens_map.json\u001b[0m\n"
     ]
    },
    {
     "name": "stdout",
     "output_type": "stream",
     "text": [
      "global step 4210, epoch: 3, batch: 1156, loss: 0.05826, auc: 0.95994, f1 score: 0.60305, speed: 0.04 step/s\n",
      "global step 4220, epoch: 3, batch: 1166, loss: 0.08247, auc: 0.95504, f1 score: 0.61051, speed: 0.20 step/s\n",
      "global step 4230, epoch: 3, batch: 1176, loss: 0.10534, auc: 0.95428, f1 score: 0.60680, speed: 0.18 step/s\n",
      "global step 4240, epoch: 3, batch: 1186, loss: 0.09170, auc: 0.95244, f1 score: 0.60911, speed: 0.20 step/s\n",
      "eval loss: 0.08653, auc: 0.95101, f1 score: 0.59860, precison: 0.59695, recall: 0.60025\n",
      "global step 4250, epoch: 3, batch: 1196, loss: 0.07618, auc: 0.95376, f1 score: 0.61684, speed: 0.04 step/s\n",
      "global step 4260, epoch: 3, batch: 1206, loss: 0.10578, auc: 0.95430, f1 score: 0.61697, speed: 0.20 step/s\n",
      "global step 4270, epoch: 3, batch: 1216, loss: 0.06829, auc: 0.95870, f1 score: 0.62794, speed: 0.21 step/s\n",
      "global step 4280, epoch: 3, batch: 1226, loss: 0.08505, auc: 0.95541, f1 score: 0.61619, speed: 0.19 step/s\n",
      "eval loss: 0.08622, auc: 0.95083, f1 score: 0.59552, precison: 0.56151, recall: 0.63391\n",
      "global step 4290, epoch: 3, batch: 1236, loss: 0.06670, auc: 0.96071, f1 score: 0.63107, speed: 0.04 step/s\n",
      "global step 4300, epoch: 3, batch: 1246, loss: 0.11807, auc: 0.95911, f1 score: 0.61054, speed: 0.19 step/s\n",
      "global step 4310, epoch: 3, batch: 1256, loss: 0.07921, auc: 0.96027, f1 score: 0.60847, speed: 0.20 step/s\n",
      "global step 4320, epoch: 3, batch: 1266, loss: 0.09909, auc: 0.95977, f1 score: 0.61848, speed: 0.19 step/s\n",
      "eval loss: 0.08713, auc: 0.94967, f1 score: 0.60020, precison: 0.58316, recall: 0.61827\n",
      "global step 4330, epoch: 3, batch: 1276, loss: 0.09887, auc: 0.95362, f1 score: 0.62593, speed: 0.04 step/s\n",
      "global step 4340, epoch: 3, batch: 1286, loss: 0.06998, auc: 0.95575, f1 score: 0.60967, speed: 0.19 step/s\n",
      "global step 4350, epoch: 3, batch: 1296, loss: 0.06485, auc: 0.95736, f1 score: 0.59946, speed: 0.20 step/s\n",
      "global step 4360, epoch: 3, batch: 1306, loss: 0.08167, auc: 0.95809, f1 score: 0.60309, speed: 0.20 step/s\n"
     ]
    },
    {
     "name": "stderr",
     "output_type": "stream",
     "text": [
      "\u001b[32m[2023-04-12 15:40:25,422] [    INFO]\u001b[0m - Configuration saved in ernie_ckpt\\config.json\u001b[0m\n"
     ]
    },
    {
     "name": "stdout",
     "output_type": "stream",
     "text": [
      "eval loss: 0.08618, auc: 0.95079, f1 score: 0.60440, precison: 0.58179, recall: 0.62885\n"
     ]
    },
    {
     "name": "stderr",
     "output_type": "stream",
     "text": [
      "\u001b[32m[2023-04-12 15:40:25,718] [    INFO]\u001b[0m - tokenizer config file saved in ernie_ckpt\\tokenizer_config.json\u001b[0m\n",
      "\u001b[32m[2023-04-12 15:40:25,719] [    INFO]\u001b[0m - Special tokens file saved in ernie_ckpt\\special_tokens_map.json\u001b[0m\n"
     ]
    },
    {
     "name": "stdout",
     "output_type": "stream",
     "text": [
      "global step 4370, epoch: 3, batch: 1316, loss: 0.09213, auc: 0.95466, f1 score: 0.62611, speed: 0.04 step/s\n",
      "global step 4380, epoch: 3, batch: 1326, loss: 0.06569, auc: 0.95779, f1 score: 0.63990, speed: 0.20 step/s\n",
      "global step 4390, epoch: 3, batch: 1336, loss: 0.07351, auc: 0.95351, f1 score: 0.62182, speed: 0.19 step/s\n",
      "global step 4400, epoch: 3, batch: 1346, loss: 0.09939, auc: 0.95482, f1 score: 0.61586, speed: 0.19 step/s\n",
      "eval loss: 0.08714, auc: 0.94954, f1 score: 0.59471, precison: 0.57302, recall: 0.61811\n",
      "global step 4410, epoch: 3, batch: 1356, loss: 0.07964, auc: 0.95101, f1 score: 0.59162, speed: 0.04 step/s\n",
      "global step 4420, epoch: 3, batch: 1366, loss: 0.07434, auc: 0.95848, f1 score: 0.63240, speed: 0.21 step/s\n",
      "global step 4430, epoch: 3, batch: 1376, loss: 0.08522, auc: 0.95784, f1 score: 0.63216, speed: 0.20 step/s\n",
      "global step 4440, epoch: 3, batch: 1386, loss: 0.07552, auc: 0.95866, f1 score: 0.63511, speed: 0.18 step/s\n",
      "eval loss: 0.08676, auc: 0.94986, f1 score: 0.59774, precison: 0.58664, recall: 0.60926\n",
      "global step 4450, epoch: 3, batch: 1396, loss: 0.06502, auc: 0.95961, f1 score: 0.64516, speed: 0.04 step/s\n",
      "global step 4460, epoch: 3, batch: 1406, loss: 0.09802, auc: 0.95591, f1 score: 0.63256, speed: 0.20 step/s\n",
      "global step 4470, epoch: 3, batch: 1416, loss: 0.07048, auc: 0.95467, f1 score: 0.63005, speed: 0.20 step/s\n",
      "global step 4480, epoch: 3, batch: 1426, loss: 0.09035, auc: 0.95525, f1 score: 0.63361, speed: 0.18 step/s\n",
      "eval loss: 0.08606, auc: 0.95051, f1 score: 0.60130, precison: 0.60476, recall: 0.59788\n",
      "global step 4490, epoch: 3, batch: 1436, loss: 0.06588, auc: 0.96333, f1 score: 0.66325, speed: 0.04 step/s\n",
      "global step 4500, epoch: 3, batch: 1446, loss: 0.08153, auc: 0.95378, f1 score: 0.62913, speed: 0.19 step/s\n",
      "global step 4510, epoch: 3, batch: 1456, loss: 0.09662, auc: 0.95534, f1 score: 0.62902, speed: 0.20 step/s\n",
      "global step 4520, epoch: 3, batch: 1466, loss: 0.08909, auc: 0.95595, f1 score: 0.61866, speed: 0.19 step/s\n",
      "eval loss: 0.08618, auc: 0.95122, f1 score: 0.59817, precison: 0.56637, recall: 0.63375\n",
      "global step 4530, epoch: 3, batch: 1476, loss: 0.10237, auc: 0.94442, f1 score: 0.58124, speed: 0.04 step/s\n",
      "global step 4540, epoch: 3, batch: 1486, loss: 0.08830, auc: 0.95219, f1 score: 0.59533, speed: 0.21 step/s\n",
      "global step 4550, epoch: 3, batch: 1496, loss: 0.08662, auc: 0.95175, f1 score: 0.58660, speed: 0.20 step/s\n",
      "global step 4560, epoch: 3, batch: 1506, loss: 0.08811, auc: 0.95383, f1 score: 0.60032, speed: 0.19 step/s\n",
      "eval loss: 0.08642, auc: 0.95048, f1 score: 0.59682, precison: 0.57249, recall: 0.62332\n",
      "global step 4570, epoch: 3, batch: 1516, loss: 0.06934, auc: 0.96874, f1 score: 0.64595, speed: 0.04 step/s\n",
      "global step 4580, epoch: 3, batch: 1526, loss: 0.07375, auc: 0.96201, f1 score: 0.64433, speed: 0.20 step/s\n"
     ]
    }
   ],
   "source": [
    "epochs = 3 # training times\n",
    "ckpt_dir = \"ernie_ckpt\" # Folder for saving model parameters during training\n",
    "\n",
    "global_step = 0  # Number of iterations\n",
    "tic_train = time.time()\n",
    "best_f1_score = 0\n",
    "\n",
    "# Model Training\n",
    "for epoch in range(1, epochs + 1):\n",
    "    for step, batch in enumerate(train_data_loader, start=1):\n",
    "        input_ids, token_type_ids, labels = batch['input_ids'], batch['token_type_ids'], batch['labels']\n",
    "\n",
    "        # Calculate model output, loss function value, classification probability value, accuracy, f1 score.\n",
    "        logits = model(input_ids, token_type_ids)\n",
    "        loss = criterion(logits, labels)\n",
    "        probs = F.sigmoid(logits)\n",
    "        metric.update(probs, labels)\n",
    "        auc, f1_score, _, _ = metric.accumulate()\n",
    "\n",
    "        # Print the loss function value, accuracy, f1 score, and computation speed for each 10 iterations.\n",
    "        global_step += 1\n",
    "        if global_step % 10 == 0:\n",
    "            print(\n",
    "                \"global step %d, epoch: %d, batch: %d, loss: %.5f, auc: %.5f, f1 score: %.5f, speed: %.2f step/s\"\n",
    "                % (global_step, epoch, step, loss, auc, f1_score,\n",
    "                    10 / (time.time() - tic_train)))\n",
    "            tic_train = time.time()\n",
    "        \n",
    "        # Reverse gradient passback with updated parameters.\n",
    "        loss.backward()\n",
    "        optimizer.step()\n",
    "        optimizer.clear_grad()\n",
    "        \n",
    "        # Every 40 iterations, evaluate the current trained model, save the current best model parameters and word list of the word splitter, etc.\n",
    "        if global_step % 40 == 0:\n",
    "            save_dir = ckpt_dir\n",
    "            if not os.path.exists(save_dir):\n",
    "                os.makedirs(save_dir)\n",
    "            eval_f1_score = evaluate(model, criterion, metric, test_data_loader, label_vocab, if_return_results=False)\n",
    "            if eval_f1_score > best_f1_score:\n",
    "                best_f1_score = eval_f1_score\n",
    "                model.save_pretrained(save_dir)\n",
    "                tokenizer.save_pretrained(save_dir)"
   ]
  },
  {
   "cell_type": "markdown",
   "metadata": {},
   "source": [
    "## Model Validation Performance Results"
   ]
  },
  {
   "cell_type": "code",
   "execution_count": 21,
   "metadata": {
    "colab": {
     "base_uri": "https://localhost:8080/"
    },
    "id": "MLbem2Gk6270",
    "outputId": "5415856c-c1b0-40b9-ac71-58cf781739b1"
   },
   "outputs": [
    {
     "name": "stdout",
     "output_type": "stream",
     "text": [
      "ERNIE 3.0 performance on GoEmotions micro-emotion 28 classification test set： eval loss: 0.08618, auc: 0.95079, f1 score: 0.60440, precison: 0.58179, recall: 0.62885\n"
     ]
    }
   ],
   "source": [
    "# Load the optimal parameters of the trained model.\n",
    "model.set_dict(paddle.load('ernie_ckpt/model_state.pdparams'))\n",
    "\n",
    "# Load the parameters of the previously trained model.\n",
    "# model.set_dict(paddle.load('/home/aistudio/work/model_state.pdparams'))\n",
    "\n",
    "# Model Validation.\n",
    "print(\"ERNIE 3.0 performance on GoEmotions micro-emotion 28 classification test set：\", end= \" \")\n",
    "results = evaluate(model, criterion, metric, test_data_loader, label_vocab)"
   ]
  },
  {
   "cell_type": "markdown",
   "metadata": {},
   "source": [
    "## 28 Multi-Label Groups of \"Micro\" Emotions Predicting Demo"
   ]
  },
  {
   "cell_type": "code",
   "execution_count": 22,
   "metadata": {
    "id": "KlKCxQYjPS3C"
   },
   "outputs": [],
   "source": [
    "# Define data loading and processing functions\n",
    "from paddlenlp.data import JiebaTokenizer, Pad, Stack, Tuple, Vocab\n",
    "def convert_example(example, tokenizer, max_seq_length=64, is_test=False):\n",
    "    qtconcat = example[\"text\"]\n",
    "    encoded_inputs = tokenizer(text=qtconcat, max_seq_len=max_seq_length)\n",
    "    input_ids = encoded_inputs[\"input_ids\"]\n",
    "    token_type_ids = encoded_inputs[\"token_type_ids\"]\n",
    "    if not is_test:\n",
    "        label = np.array([example[\"label\"]], dtype=\"int64\")\n",
    "        return input_ids, token_type_ids, label\n",
    "    else:\n",
    "        return input_ids, token_type_ids\n",
    "\n",
    "# Define the model prediction function\n",
    "def predict(model, data, tokenizer, label_vocab, batch_size=1, max_seq=64):\n",
    "    examples = []\n",
    "    # Process input data (the list form) into a format acceptable to the model\n",
    "    for text in data:\n",
    "        input_ids, segment_ids = convert_example(\n",
    "            text,\n",
    "            tokenizer,\n",
    "            max_seq_length=max_seq,\n",
    "            is_test=True)\n",
    "        examples.append((input_ids, segment_ids))\n",
    "\n",
    "    batchify_fn = lambda samples, fn=Tuple(\n",
    "        Pad(axis=0, pad_val=tokenizer.pad_token_id),  # input id\n",
    "        Pad(axis=0, pad_val=tokenizer.pad_token_id),  # segment id\n",
    "    ): fn(samples)\n",
    "\n",
    "    # Seperates data into some batches.\n",
    "    batches = []\n",
    "    one_batch = []\n",
    "    for example in examples:\n",
    "        one_batch.append(example)\n",
    "        if len(one_batch) == batch_size:\n",
    "            batches.append(one_batch)\n",
    "            one_batch = []\n",
    "    if one_batch:\n",
    "        # The last batch whose size is less than the config batch_size setting.\n",
    "        batches.append(one_batch)\n",
    "\n",
    "    results = []\n",
    "    model.eval()\n",
    "    for batch in batches:\n",
    "        input_ids, segment_ids = batchify_fn(batch)\n",
    "        input_ids = paddle.to_tensor(input_ids)\n",
    "        segment_ids = paddle.to_tensor(segment_ids)\n",
    "        logits = model(input_ids, segment_ids)\n",
    "        probs = F.sigmoid(logits)\n",
    "        probs = probs.tolist()\n",
    "        # The results were processed by selecting the sentiment categories with probability greater than 0.5\n",
    "        for prob in probs:\n",
    "            result = []\n",
    "            for c, pred in enumerate(prob):\n",
    "                if pred > 0.5:\n",
    "                    result.append(label_vocab[c])\n",
    "            results.append(','.join(result))\n",
    "    return results  # Return the predeicted results"
   ]
  },
  {
   "cell_type": "markdown",
   "metadata": {},
   "source": [
    "## Prediction Results"
   ]
  },
  {
   "cell_type": "code",
   "execution_count": 29,
   "metadata": {
    "colab": {
     "base_uri": "https://localhost:8080/"
    },
    "id": "3W2OfqsBRfB1",
    "outputId": "02108fee-776c-4de9-c907-9a077c33e4b1"
   },
   "outputs": [
    {
     "name": "stdout",
     "output_type": "stream",
     "text": [
      "Text: You do a great job! \t Labels: admiration\n",
      "Text: Lets have fun! \t Labels: joy\n",
      "Text: You shut your mouth \t Labels: anger\n",
      "Text: You are so annoyed \t Labels: anger\n",
      "Text: You are allowed to do this \t Labels: neutral\n",
      "Text: Are you feeling well? \t Labels: curiosity\n",
      "Text: This problem is so hard and I cannot solve this problem \t Labels: \n",
      "Text: Why would I do that? \t Labels: curiosity\n",
      "Text: I want this gift so much \t Labels: desire\n",
      "Text: I am very disappointed by everything you have done to me \t Labels: disappointment\n",
      "Text: You are not admitted to the college. \t Labels: \n",
      "Text: Thats absolutely disgusting. \t Labels: disgust\n",
      "Text: Thats so embarrassing. \t Labels: embarrassment\n",
      "Text: I am so excited \t Labels: excitement\n",
      "Text: I am so scared of skydiving \t Labels: fear\n",
      "Text: Thank you. \t Labels: gratitude\n",
      "Text: My grandpa passed away \t Labels: sadness\n",
      "Text: Happy Birthday \t Labels: \n",
      "Text: I love you so much \t Labels: love\n",
      "Text: I am so nervous. \t Labels: nervousness\n",
      "Text: It is just so so. \t Labels: neutral\n",
      "Text: Successful people only focus on giving their best effort. \t Labels: \n",
      "Text: I am so proud of you. \t Labels: admiration,pride\n",
      "Text: Thank you for letting me realizing this rule. \t Labels: gratitude\n",
      "Text: You are doing better than you think you are \t Labels: \n",
      "Text: I am guilty. \t Labels: remorse\n",
      "Text: I am so sad. \t Labels: sadness\n",
      "Text: I am so surprised that you made it. \t Labels: surprise\n"
     ]
    }
   ],
   "source": [
    "# Define the text data to be subjected to micro-sentiment analysis\n",
    "data = [\n",
    "    # 0 admiration\n",
    "    {\"text\": 'You do a great job!'},\n",
    "    # 1 amusement\n",
    "    {\"text\": 'Lets have fun!'},\n",
    "    # 2 anger\n",
    "    {\"text\":\"You shut your mouth\"},\n",
    "    # 3 annoyance\n",
    "    {\"text\": 'You are so annoyed'},\n",
    "    # 4 approval\n",
    "    {\"text\": 'You are allowed to do this'},\n",
    "    # 5 caring & # 7 Curiosity\n",
    "    {\"text\": 'Are you feeling well?'},\n",
    "    # 6 confusion\n",
    "    {\"text\": 'This problem is so hard and I cannot solve this problem'},\n",
    "    # 7 curiosity\n",
    "    {\"text\":'Why would I do that?'},\n",
    "    # 8 desire\n",
    "    {\"text\": 'I want this gift so much'},\n",
    "    # 9 disappointment\n",
    "    {\"text\": 'I am very disappointed by everything you have done to me'},\n",
    "    # 10 disapproval\n",
    "    {\"text\": 'You are not admitted to the college.'},\n",
    "    # 11 disgust\n",
    "    {\"text\": 'Thats absolutely disgusting.'},\n",
    "    # 12 embarrassment\n",
    "    {\"text\": 'Thats so embarrassing.'},\n",
    "    # 13 excitement\n",
    "    {\"text\": 'I am so excited'},\n",
    "    # 14 fear\n",
    "    {\"text\": 'I am so scared of skydiving'},\n",
    "    # 15 gratitude\n",
    "    {\"text\":\"Thank you.\"},\n",
    "    # 16 grief\n",
    "    {\"text\": 'My grandpa passed away'},\n",
    "    # 17 joy\n",
    "    {\"text\": 'Happy Birthday'},\n",
    "    # 18 love\n",
    "    {\"text\": 'I love you so much'},\n",
    "    # 19 nervousness\n",
    "    {\"text\": 'I am so nervous.'},\n",
    "    # 20 neutral\n",
    "    {\"text\": 'It is just so so.'},\n",
    "    # 21 optimism\n",
    "    {\"text\": 'Successful people only focus on giving their best effort.'},\n",
    "    # 22 pride\n",
    "    {\"text\": 'I am so proud of you.'},\n",
    "    # 23 realization\n",
    "    {\"text\": 'Thank you for letting me realizing this rule.'},\n",
    "    # 24 relief \n",
    "    {\"text\": 'You are doing better than you think you are'},\n",
    "    # 25 remorse\n",
    "    {\"text\": 'I am guilty.'},\n",
    "    # 26 sadness\n",
    "    {\"text\": 'I am so sad.'},\n",
    "    # 27 surprise\n",
    "    {\"text\": 'I am so surprised that you made it.'},\n",
    "    \n",
    "]\n",
    "\n",
    "# Model Prediction\n",
    "labels =  predict(model, data, tokenizer, label_vocab, batch_size=1)\n",
    "\n",
    "# Output of predicted results\n",
    "for idx, text in enumerate(data):\n",
    "    print('Text: {} \\t Labels: {}'.format(text['text'], labels[idx]))"
   ]
  },
  {
   "cell_type": "code",
   "execution_count": null,
   "metadata": {
    "id": "9DDfiSCsA2ur"
   },
   "outputs": [],
   "source": []
  }
 ],
 "metadata": {
  "accelerator": "GPU",
  "colab": {
   "machine_shape": "hm",
   "provenance": []
  },
  "gpuClass": "premium",
  "kernelspec": {
   "display_name": "Python [conda env:tensorflow] *",
   "language": "python",
   "name": "conda-env-tensorflow-py"
  },
  "language_info": {
   "codemirror_mode": {
    "name": "ipython",
    "version": 3
   },
   "file_extension": ".py",
   "mimetype": "text/x-python",
   "name": "python",
   "nbconvert_exporter": "python",
   "pygments_lexer": "ipython3",
   "version": "3.7.16"
  },
  "widgets": {
   "application/vnd.jupyter.widget-state+json": {
    "23288bf360984ed182be7d6d84841716": {
     "model_module": "@jupyter-widgets/base",
     "model_module_version": "1.2.0",
     "model_name": "LayoutModel",
     "state": {
      "_model_module": "@jupyter-widgets/base",
      "_model_module_version": "1.2.0",
      "_model_name": "LayoutModel",
      "_view_count": null,
      "_view_module": "@jupyter-widgets/base",
      "_view_module_version": "1.2.0",
      "_view_name": "LayoutView",
      "align_content": null,
      "align_items": null,
      "align_self": null,
      "border": null,
      "bottom": null,
      "display": null,
      "flex": null,
      "flex_flow": null,
      "grid_area": null,
      "grid_auto_columns": null,
      "grid_auto_flow": null,
      "grid_auto_rows": null,
      "grid_column": null,
      "grid_gap": null,
      "grid_row": null,
      "grid_template_areas": null,
      "grid_template_columns": null,
      "grid_template_rows": null,
      "height": null,
      "justify_content": null,
      "justify_items": null,
      "left": null,
      "margin": null,
      "max_height": null,
      "max_width": null,
      "min_height": null,
      "min_width": null,
      "object_fit": null,
      "object_position": null,
      "order": null,
      "overflow": null,
      "overflow_x": null,
      "overflow_y": null,
      "padding": null,
      "right": null,
      "top": null,
      "visibility": null,
      "width": null
     }
    },
    "290bc213ab9e48898ebbc8c4e31fe36e": {
     "model_module": "@jupyter-widgets/base",
     "model_module_version": "1.2.0",
     "model_name": "LayoutModel",
     "state": {
      "_model_module": "@jupyter-widgets/base",
      "_model_module_version": "1.2.0",
      "_model_name": "LayoutModel",
      "_view_count": null,
      "_view_module": "@jupyter-widgets/base",
      "_view_module_version": "1.2.0",
      "_view_name": "LayoutView",
      "align_content": null,
      "align_items": null,
      "align_self": null,
      "border": null,
      "bottom": null,
      "display": null,
      "flex": null,
      "flex_flow": null,
      "grid_area": null,
      "grid_auto_columns": null,
      "grid_auto_flow": null,
      "grid_auto_rows": null,
      "grid_column": null,
      "grid_gap": null,
      "grid_row": null,
      "grid_template_areas": null,
      "grid_template_columns": null,
      "grid_template_rows": null,
      "height": null,
      "justify_content": null,
      "justify_items": null,
      "left": null,
      "margin": null,
      "max_height": null,
      "max_width": null,
      "min_height": null,
      "min_width": null,
      "object_fit": null,
      "object_position": null,
      "order": null,
      "overflow": null,
      "overflow_x": null,
      "overflow_y": null,
      "padding": null,
      "right": null,
      "top": null,
      "visibility": null,
      "width": null
     }
    },
    "36f1a68b633d45c08eb1fc80d282838d": {
     "model_module": "@jupyter-widgets/base",
     "model_module_version": "1.2.0",
     "model_name": "LayoutModel",
     "state": {
      "_model_module": "@jupyter-widgets/base",
      "_model_module_version": "1.2.0",
      "_model_name": "LayoutModel",
      "_view_count": null,
      "_view_module": "@jupyter-widgets/base",
      "_view_module_version": "1.2.0",
      "_view_name": "LayoutView",
      "align_content": null,
      "align_items": null,
      "align_self": null,
      "border": null,
      "bottom": null,
      "display": null,
      "flex": null,
      "flex_flow": null,
      "grid_area": null,
      "grid_auto_columns": null,
      "grid_auto_flow": null,
      "grid_auto_rows": null,
      "grid_column": null,
      "grid_gap": null,
      "grid_row": null,
      "grid_template_areas": null,
      "grid_template_columns": null,
      "grid_template_rows": null,
      "height": null,
      "justify_content": null,
      "justify_items": null,
      "left": null,
      "margin": null,
      "max_height": null,
      "max_width": null,
      "min_height": null,
      "min_width": null,
      "object_fit": null,
      "object_position": null,
      "order": null,
      "overflow": null,
      "overflow_x": null,
      "overflow_y": null,
      "padding": null,
      "right": null,
      "top": null,
      "visibility": null,
      "width": null
     }
    },
    "3f2a18e109734e53bd330eceb3d79712": {
     "model_module": "@jupyter-widgets/base",
     "model_module_version": "1.2.0",
     "model_name": "LayoutModel",
     "state": {
      "_model_module": "@jupyter-widgets/base",
      "_model_module_version": "1.2.0",
      "_model_name": "LayoutModel",
      "_view_count": null,
      "_view_module": "@jupyter-widgets/base",
      "_view_module_version": "1.2.0",
      "_view_name": "LayoutView",
      "align_content": null,
      "align_items": null,
      "align_self": null,
      "border": null,
      "bottom": null,
      "display": null,
      "flex": null,
      "flex_flow": null,
      "grid_area": null,
      "grid_auto_columns": null,
      "grid_auto_flow": null,
      "grid_auto_rows": null,
      "grid_column": null,
      "grid_gap": null,
      "grid_row": null,
      "grid_template_areas": null,
      "grid_template_columns": null,
      "grid_template_rows": null,
      "height": null,
      "justify_content": null,
      "justify_items": null,
      "left": null,
      "margin": null,
      "max_height": null,
      "max_width": null,
      "min_height": null,
      "min_width": null,
      "object_fit": null,
      "object_position": null,
      "order": null,
      "overflow": null,
      "overflow_x": null,
      "overflow_y": null,
      "padding": null,
      "right": null,
      "top": null,
      "visibility": null,
      "width": null
     }
    },
    "5269406c713340ceb8f6bd40782769d7": {
     "model_module": "@jupyter-widgets/base",
     "model_module_version": "1.2.0",
     "model_name": "LayoutModel",
     "state": {
      "_model_module": "@jupyter-widgets/base",
      "_model_module_version": "1.2.0",
      "_model_name": "LayoutModel",
      "_view_count": null,
      "_view_module": "@jupyter-widgets/base",
      "_view_module_version": "1.2.0",
      "_view_name": "LayoutView",
      "align_content": null,
      "align_items": null,
      "align_self": null,
      "border": null,
      "bottom": null,
      "display": null,
      "flex": null,
      "flex_flow": null,
      "grid_area": null,
      "grid_auto_columns": null,
      "grid_auto_flow": null,
      "grid_auto_rows": null,
      "grid_column": null,
      "grid_gap": null,
      "grid_row": null,
      "grid_template_areas": null,
      "grid_template_columns": null,
      "grid_template_rows": null,
      "height": null,
      "justify_content": null,
      "justify_items": null,
      "left": null,
      "margin": null,
      "max_height": null,
      "max_width": null,
      "min_height": null,
      "min_width": null,
      "object_fit": null,
      "object_position": null,
      "order": null,
      "overflow": null,
      "overflow_x": null,
      "overflow_y": null,
      "padding": null,
      "right": null,
      "top": null,
      "visibility": null,
      "width": null
     }
    },
    "5a0a3265f4fc40acac71a85fc3a29c97": {
     "model_module": "@jupyter-widgets/controls",
     "model_module_version": "1.5.0",
     "model_name": "FloatProgressModel",
     "state": {
      "_dom_classes": [],
      "_model_module": "@jupyter-widgets/controls",
      "_model_module_version": "1.5.0",
      "_model_name": "FloatProgressModel",
      "_view_count": null,
      "_view_module": "@jupyter-widgets/controls",
      "_view_module_version": "1.5.0",
      "_view_name": "ProgressView",
      "bar_style": "success",
      "description": "",
      "description_tooltip": null,
      "layout": "IPY_MODEL_23288bf360984ed182be7d6d84841716",
      "max": 327709220,
      "min": 0,
      "orientation": "horizontal",
      "style": "IPY_MODEL_ce8f3f6b29f74c94aedc579412a4aa5e",
      "value": 327709220
     }
    },
    "5f302f73d14d4aa68d48a8d06c4d8717": {
     "model_module": "@jupyter-widgets/controls",
     "model_module_version": "1.5.0",
     "model_name": "HTMLModel",
     "state": {
      "_dom_classes": [],
      "_model_module": "@jupyter-widgets/controls",
      "_model_module_version": "1.5.0",
      "_model_name": "HTMLModel",
      "_view_count": null,
      "_view_module": "@jupyter-widgets/controls",
      "_view_module_version": "1.5.0",
      "_view_name": "HTMLView",
      "description": "",
      "description_tooltip": null,
      "layout": "IPY_MODEL_5269406c713340ceb8f6bd40782769d7",
      "placeholder": "​",
      "style": "IPY_MODEL_74a0ab1a08ee49cba9f797176a92b2f2",
      "value": " 313M/313M [00:19&lt;00:00, 30.8MB/s]"
     }
    },
    "62335350a40e41d1b1fe80e221baa984": {
     "model_module": "@jupyter-widgets/controls",
     "model_module_version": "1.5.0",
     "model_name": "ProgressStyleModel",
     "state": {
      "_model_module": "@jupyter-widgets/controls",
      "_model_module_version": "1.5.0",
      "_model_name": "ProgressStyleModel",
      "_view_count": null,
      "_view_module": "@jupyter-widgets/base",
      "_view_module_version": "1.2.0",
      "_view_name": "StyleView",
      "bar_color": null,
      "description_width": ""
     }
    },
    "6bcd679979a14b92ad7bd28b58ed883f": {
     "model_module": "@jupyter-widgets/controls",
     "model_module_version": "1.5.0",
     "model_name": "HBoxModel",
     "state": {
      "_dom_classes": [],
      "_model_module": "@jupyter-widgets/controls",
      "_model_module_version": "1.5.0",
      "_model_name": "HBoxModel",
      "_view_count": null,
      "_view_module": "@jupyter-widgets/controls",
      "_view_module_version": "1.5.0",
      "_view_name": "HBoxView",
      "box_style": "",
      "children": [
       "IPY_MODEL_ac8d5f80a0324c538908ab32974f9b6a",
       "IPY_MODEL_751c62037368473dac02b36dd1c0b05f",
       "IPY_MODEL_6e257f83475345ddbed64f81dccfb309"
      ],
      "layout": "IPY_MODEL_290bc213ab9e48898ebbc8c4e31fe36e"
     }
    },
    "6d0f814a0b03493abe1044ef14bf15dc": {
     "model_module": "@jupyter-widgets/controls",
     "model_module_version": "1.5.0",
     "model_name": "DescriptionStyleModel",
     "state": {
      "_model_module": "@jupyter-widgets/controls",
      "_model_module_version": "1.5.0",
      "_model_name": "DescriptionStyleModel",
      "_view_count": null,
      "_view_module": "@jupyter-widgets/base",
      "_view_module_version": "1.2.0",
      "_view_name": "StyleView",
      "description_width": ""
     }
    },
    "6e257f83475345ddbed64f81dccfb309": {
     "model_module": "@jupyter-widgets/controls",
     "model_module_version": "1.5.0",
     "model_name": "HTMLModel",
     "state": {
      "_dom_classes": [],
      "_model_module": "@jupyter-widgets/controls",
      "_model_module_version": "1.5.0",
      "_model_name": "HTMLModel",
      "_view_count": null,
      "_view_module": "@jupyter-widgets/controls",
      "_view_module_version": "1.5.0",
      "_view_name": "HTMLView",
      "description": "",
      "description_tooltip": null,
      "layout": "IPY_MODEL_ef7240d1bccd40ebbd05455bb4c994bf",
      "placeholder": "​",
      "style": "IPY_MODEL_d79c404107ff4d16a3945df9b74ec5d3",
      "value": " 182k/182k [00:00&lt;00:00, 490kB/s]"
     }
    },
    "74a0ab1a08ee49cba9f797176a92b2f2": {
     "model_module": "@jupyter-widgets/controls",
     "model_module_version": "1.5.0",
     "model_name": "DescriptionStyleModel",
     "state": {
      "_model_module": "@jupyter-widgets/controls",
      "_model_module_version": "1.5.0",
      "_model_name": "DescriptionStyleModel",
      "_view_count": null,
      "_view_module": "@jupyter-widgets/base",
      "_view_module_version": "1.2.0",
      "_view_name": "StyleView",
      "description_width": ""
     }
    },
    "751c62037368473dac02b36dd1c0b05f": {
     "model_module": "@jupyter-widgets/controls",
     "model_module_version": "1.5.0",
     "model_name": "FloatProgressModel",
     "state": {
      "_dom_classes": [],
      "_model_module": "@jupyter-widgets/controls",
      "_model_module_version": "1.5.0",
      "_model_name": "FloatProgressModel",
      "_view_count": null,
      "_view_module": "@jupyter-widgets/controls",
      "_view_module_version": "1.5.0",
      "_view_name": "ProgressView",
      "bar_style": "success",
      "description": "",
      "description_tooltip": null,
      "layout": "IPY_MODEL_36f1a68b633d45c08eb1fc80d282838d",
      "max": 186807,
      "min": 0,
      "orientation": "horizontal",
      "style": "IPY_MODEL_62335350a40e41d1b1fe80e221baa984",
      "value": 186807
     }
    },
    "8f0bb537306940a192c374f5458f3c99": {
     "model_module": "@jupyter-widgets/controls",
     "model_module_version": "1.5.0",
     "model_name": "HBoxModel",
     "state": {
      "_dom_classes": [],
      "_model_module": "@jupyter-widgets/controls",
      "_model_module_version": "1.5.0",
      "_model_name": "HBoxModel",
      "_view_count": null,
      "_view_module": "@jupyter-widgets/controls",
      "_view_module_version": "1.5.0",
      "_view_name": "HBoxView",
      "box_style": "",
      "children": [
       "IPY_MODEL_9d6f5d91a6c34eb2be6c43b9d77316c2",
       "IPY_MODEL_5a0a3265f4fc40acac71a85fc3a29c97",
       "IPY_MODEL_5f302f73d14d4aa68d48a8d06c4d8717"
      ],
      "layout": "IPY_MODEL_3f2a18e109734e53bd330eceb3d79712"
     }
    },
    "94803e83cafa4a50bb2d8a3fbaf73274": {
     "model_module": "@jupyter-widgets/base",
     "model_module_version": "1.2.0",
     "model_name": "LayoutModel",
     "state": {
      "_model_module": "@jupyter-widgets/base",
      "_model_module_version": "1.2.0",
      "_model_name": "LayoutModel",
      "_view_count": null,
      "_view_module": "@jupyter-widgets/base",
      "_view_module_version": "1.2.0",
      "_view_name": "LayoutView",
      "align_content": null,
      "align_items": null,
      "align_self": null,
      "border": null,
      "bottom": null,
      "display": null,
      "flex": null,
      "flex_flow": null,
      "grid_area": null,
      "grid_auto_columns": null,
      "grid_auto_flow": null,
      "grid_auto_rows": null,
      "grid_column": null,
      "grid_gap": null,
      "grid_row": null,
      "grid_template_areas": null,
      "grid_template_columns": null,
      "grid_template_rows": null,
      "height": null,
      "justify_content": null,
      "justify_items": null,
      "left": null,
      "margin": null,
      "max_height": null,
      "max_width": null,
      "min_height": null,
      "min_width": null,
      "object_fit": null,
      "object_position": null,
      "order": null,
      "overflow": null,
      "overflow_x": null,
      "overflow_y": null,
      "padding": null,
      "right": null,
      "top": null,
      "visibility": null,
      "width": null
     }
    },
    "9d6f5d91a6c34eb2be6c43b9d77316c2": {
     "model_module": "@jupyter-widgets/controls",
     "model_module_version": "1.5.0",
     "model_name": "HTMLModel",
     "state": {
      "_dom_classes": [],
      "_model_module": "@jupyter-widgets/controls",
      "_model_module_version": "1.5.0",
      "_model_name": "HTMLModel",
      "_view_count": null,
      "_view_module": "@jupyter-widgets/controls",
      "_view_module_version": "1.5.0",
      "_view_name": "HTMLView",
      "description": "",
      "description_tooltip": null,
      "layout": "IPY_MODEL_d0b878e93f3b4a2a9b3de57d15ab55e1",
      "placeholder": "​",
      "style": "IPY_MODEL_6d0f814a0b03493abe1044ef14bf15dc",
      "value": "100%"
     }
    },
    "ac8d5f80a0324c538908ab32974f9b6a": {
     "model_module": "@jupyter-widgets/controls",
     "model_module_version": "1.5.0",
     "model_name": "HTMLModel",
     "state": {
      "_dom_classes": [],
      "_model_module": "@jupyter-widgets/controls",
      "_model_module_version": "1.5.0",
      "_model_name": "HTMLModel",
      "_view_count": null,
      "_view_module": "@jupyter-widgets/controls",
      "_view_module_version": "1.5.0",
      "_view_name": "HTMLView",
      "description": "",
      "description_tooltip": null,
      "layout": "IPY_MODEL_94803e83cafa4a50bb2d8a3fbaf73274",
      "placeholder": "​",
      "style": "IPY_MODEL_faa019ca3caa4a4e809a1612319ac503",
      "value": "100%"
     }
    },
    "ce8f3f6b29f74c94aedc579412a4aa5e": {
     "model_module": "@jupyter-widgets/controls",
     "model_module_version": "1.5.0",
     "model_name": "ProgressStyleModel",
     "state": {
      "_model_module": "@jupyter-widgets/controls",
      "_model_module_version": "1.5.0",
      "_model_name": "ProgressStyleModel",
      "_view_count": null,
      "_view_module": "@jupyter-widgets/base",
      "_view_module_version": "1.2.0",
      "_view_name": "StyleView",
      "bar_color": null,
      "description_width": ""
     }
    },
    "d0b878e93f3b4a2a9b3de57d15ab55e1": {
     "model_module": "@jupyter-widgets/base",
     "model_module_version": "1.2.0",
     "model_name": "LayoutModel",
     "state": {
      "_model_module": "@jupyter-widgets/base",
      "_model_module_version": "1.2.0",
      "_model_name": "LayoutModel",
      "_view_count": null,
      "_view_module": "@jupyter-widgets/base",
      "_view_module_version": "1.2.0",
      "_view_name": "LayoutView",
      "align_content": null,
      "align_items": null,
      "align_self": null,
      "border": null,
      "bottom": null,
      "display": null,
      "flex": null,
      "flex_flow": null,
      "grid_area": null,
      "grid_auto_columns": null,
      "grid_auto_flow": null,
      "grid_auto_rows": null,
      "grid_column": null,
      "grid_gap": null,
      "grid_row": null,
      "grid_template_areas": null,
      "grid_template_columns": null,
      "grid_template_rows": null,
      "height": null,
      "justify_content": null,
      "justify_items": null,
      "left": null,
      "margin": null,
      "max_height": null,
      "max_width": null,
      "min_height": null,
      "min_width": null,
      "object_fit": null,
      "object_position": null,
      "order": null,
      "overflow": null,
      "overflow_x": null,
      "overflow_y": null,
      "padding": null,
      "right": null,
      "top": null,
      "visibility": null,
      "width": null
     }
    },
    "d79c404107ff4d16a3945df9b74ec5d3": {
     "model_module": "@jupyter-widgets/controls",
     "model_module_version": "1.5.0",
     "model_name": "DescriptionStyleModel",
     "state": {
      "_model_module": "@jupyter-widgets/controls",
      "_model_module_version": "1.5.0",
      "_model_name": "DescriptionStyleModel",
      "_view_count": null,
      "_view_module": "@jupyter-widgets/base",
      "_view_module_version": "1.2.0",
      "_view_name": "StyleView",
      "description_width": ""
     }
    },
    "ef7240d1bccd40ebbd05455bb4c994bf": {
     "model_module": "@jupyter-widgets/base",
     "model_module_version": "1.2.0",
     "model_name": "LayoutModel",
     "state": {
      "_model_module": "@jupyter-widgets/base",
      "_model_module_version": "1.2.0",
      "_model_name": "LayoutModel",
      "_view_count": null,
      "_view_module": "@jupyter-widgets/base",
      "_view_module_version": "1.2.0",
      "_view_name": "LayoutView",
      "align_content": null,
      "align_items": null,
      "align_self": null,
      "border": null,
      "bottom": null,
      "display": null,
      "flex": null,
      "flex_flow": null,
      "grid_area": null,
      "grid_auto_columns": null,
      "grid_auto_flow": null,
      "grid_auto_rows": null,
      "grid_column": null,
      "grid_gap": null,
      "grid_row": null,
      "grid_template_areas": null,
      "grid_template_columns": null,
      "grid_template_rows": null,
      "height": null,
      "justify_content": null,
      "justify_items": null,
      "left": null,
      "margin": null,
      "max_height": null,
      "max_width": null,
      "min_height": null,
      "min_width": null,
      "object_fit": null,
      "object_position": null,
      "order": null,
      "overflow": null,
      "overflow_x": null,
      "overflow_y": null,
      "padding": null,
      "right": null,
      "top": null,
      "visibility": null,
      "width": null
     }
    },
    "faa019ca3caa4a4e809a1612319ac503": {
     "model_module": "@jupyter-widgets/controls",
     "model_module_version": "1.5.0",
     "model_name": "DescriptionStyleModel",
     "state": {
      "_model_module": "@jupyter-widgets/controls",
      "_model_module_version": "1.5.0",
      "_model_name": "DescriptionStyleModel",
      "_view_count": null,
      "_view_module": "@jupyter-widgets/base",
      "_view_module_version": "1.2.0",
      "_view_name": "StyleView",
      "description_width": ""
     }
    }
   }
  }
 },
 "nbformat": 4,
 "nbformat_minor": 1
}
